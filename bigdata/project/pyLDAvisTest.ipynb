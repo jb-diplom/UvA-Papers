{
 "cells": [
  {
   "cell_type": "markdown",
   "metadata": {
    "toc": true
   },
   "source": [
    "<h1>Table of Contents<span class=\"tocSkip\"></span></h1>\n",
    "<div class=\"toc\"><ul class=\"toc-item\"><li><span><a href=\"#Test-of-pyLDAvis-Widget\" data-toc-modified-id=\"Test-of-pyLDAvis-Widget-1\"><span class=\"toc-item-num\">1&nbsp;&nbsp;</span>Test of pyLDAvis Widget</a></span><ul class=\"toc-item\"><li><span><a href=\"#Do-Imports\" data-toc-modified-id=\"Do-Imports-1.1\"><span class=\"toc-item-num\">1.1&nbsp;&nbsp;</span>Do Imports</a></span></li><li><span><a href=\"#Test-the-widget\" data-toc-modified-id=\"Test-the-widget-1.2\"><span class=\"toc-item-num\">1.2&nbsp;&nbsp;</span>Test the widget</a></span></li></ul></li></ul></div>"
   ]
  },
  {
   "cell_type": "markdown",
   "metadata": {},
   "source": [
    "# Test of pyLDAvis Widget"
   ]
  },
  {
   "cell_type": "markdown",
   "metadata": {},
   "source": [
    "## Do Imports"
   ]
  },
  {
   "cell_type": "code",
   "execution_count": null,
   "metadata": {
    "scrolled": true
   },
   "outputs": [],
   "source": [
    "%load_ext autoreload\n",
    "%autoreload\n",
    "%aimport Gensim.gensim_test\n",
    "import importlib\n",
    "importlib.reload(Gensim.gensim_test)\n",
    "from Gensim.gensim_test import deriveSoftCosineSimilarityMatrix,test3DPlotOfCosineSimilarity ,showPyLDAvis, saveDFPickle"
   ]
  },
  {
   "cell_type": "code",
   "execution_count": null,
   "metadata": {
    "scrolled": true
   },
   "outputs": [],
   "source": [
    "%aimport reader\n",
    "from reader import loadAllFeedsFromFile\n",
    "%aimport topicmap\n",
    "from topicmap import smallDict"
   ]
  },
  {
   "cell_type": "markdown",
   "metadata": {},
   "source": [
    "## Test the widget"
   ]
  },
  {
   "cell_type": "code",
   "execution_count": null,
   "metadata": {
    "scrolled": true
   },
   "outputs": [],
   "source": [
    "allDict=loadAllFeedsFromFile()\n",
    "showPyLDAvis(smallDict(allDict,10), False, 30)"
   ]
  },
  {
   "cell_type": "code",
   "execution_count": null,
   "metadata": {
    "scrolled": true
   },
   "outputs": [],
   "source": [
    "#importlib.import_module(\"samples.seabornScatterPlots\") # TODO move to base directory, not samples\n",
    "%aimport samples.seabornScatterPlots \n",
    "rom samples.seabornScatterPlots import displayTopics,displayAuthors,displayTags"
   ]
  },
  {
   "cell_type": "code",
   "execution_count": null,
   "metadata": {
    "scrolled": true
   },
   "outputs": [],
   "source": [
    "displayAuthors(dict=allDict)"
   ]
  },
  {
   "cell_type": "code",
   "execution_count": null,
   "metadata": {
    "scrolled": true
   },
   "outputs": [],
   "source": [
    "from ipywidgets import interact, interactive, fixed, interact_manual\n",
    "import ipywidgets as widgets"
   ]
  },
  {
   "cell_type": "code",
   "execution_count": null,
   "metadata": {
    "scrolled": true
   },
   "outputs": [],
   "source": [
    "def f(x):\n",
    "    return x*3\n",
    "interact(f, x=10);"
   ]
  },
  {
   "cell_type": "code",
   "execution_count": null,
   "metadata": {
    "scrolled": true
   },
   "outputs": [],
   "source": [
    "import ipywidgets as widgets\n",
    "import numpy as np\n",
    "import ipyvolume as ipv\n",
    "from bokeh.models import ColumnDataSource, HoverTool\n",
    "from bokeh.plotting import figure\n",
    "import pythreejs\n"
   ]
  },
  {
   "cell_type": "code",
   "execution_count": 8,
   "metadata": {
    "scrolled": false
   },
   "outputs": [
    {
     "data": {
      "application/vnd.jupyter.widget-view+json": {
       "model_id": "e27eb21a995540e4a6540a713cc81dab",
       "version_major": 2,
       "version_minor": 0
      },
      "text/plain": [
       "VBox(children=(FloatSlider(value=2.0, continuous_update=False, description='a:', max=4.0, min=1.0, step=0.01),…"
      ]
     },
     "metadata": {},
     "output_type": "display_data"
    }
   ],
   "source": [
    "import plotly.graph_objs as go\n",
    "import numpy as np\n",
    "#from ipywidgets import interact, interactive\n",
    "from ipywidgets import widgets\n",
    "from IPython.display import display\n",
    "\n",
    "aSlider = widgets.FloatSlider(\n",
    "    value=2.0,\n",
    "    min=1.0,\n",
    "    max=4.0,\n",
    "    step=0.01,\n",
    "    description='a:',\n",
    "    continuous_update=False\n",
    ")\n",
    "\n",
    "bSlider = widgets.FloatSlider(\n",
    "    value=1.0,\n",
    "    min=0.0,\n",
    "    max=10.0,\n",
    "    step=0.01,\n",
    "    description='b:',\n",
    "    continuous_update=True\n",
    ")\n",
    "\n",
    "colorDropdown = widgets.Dropdown(\n",
    "    description='Color:',\n",
    "    value='blue',\n",
    "    options=['red', 'blue', 'green']\n",
    ")\n",
    "\n",
    "fig = go.FigureWidget()\n",
    "#fig.show()\n",
    "scattf = fig.add_scatter()\n",
    "scatt = scattf.data[-1]\n",
    "\n",
    "xs=np.linspace(0, 6, 100)\n",
    "\n",
    "def response(change):\n",
    "    with fig.batch_update():\n",
    "        fig.data[0].x=xs\n",
    "        fig.data[0].y=np.sin(aSlider.value*xs-bSlider.value)\n",
    "        fig.data[0].line.color=colorDropdown.value\n",
    "        fig.layout.xaxis.title = 'whatever'\n",
    "\n",
    "aSlider.observe(response, names=\"value\")\n",
    "bSlider.observe(response, names=\"value\")\n",
    "colorDropdown.observe(response, names=\"value\")\n",
    "\n",
    "response(\"doesn't matter what I send here, just triggering\") # MUST be before widgets.VBox - if response(x) is last, NOTHING is drawn! \n",
    "\n",
    "#widgets.HBox([aSlider,bSlider,colorDropdown])\n",
    "widgets.VBox([aSlider,\n",
    "              bSlider,\n",
    "              colorDropdown,fig])"
   ]
  },
  {
   "cell_type": "code",
   "execution_count": null,
   "metadata": {
    "scrolled": true
   },
   "outputs": [],
   "source": [
    "import seaborn as sns\n",
    "sns.choose_cubehelix_palette()\n"
   ]
  },
  {
   "cell_type": "code",
   "execution_count": 15,
   "metadata": {},
   "outputs": [
    {
     "data": {
      "text/html": [
       "\n",
       "\n",
       "<style>\n",
       "\n",
       "    .legend-box {\n",
       "      cursor: pointer;\n",
       "    }\n",
       "    \n",
       "</style>\n",
       "\n",
       "<div id=\"fig_el517622469228268249665290758\"></div>\n",
       "<script>\n",
       "function mpld3_load_lib(url, callback){\n",
       "  var s = document.createElement('script');\n",
       "  s.src = url;\n",
       "  s.async = true;\n",
       "  s.onreadystatechange = s.onload = callback;\n",
       "  s.onerror = function(){console.warn(\"failed to load library \" + url);};\n",
       "  document.getElementsByTagName(\"head\")[0].appendChild(s);\n",
       "}\n",
       "\n",
       "if(typeof(mpld3) !== \"undefined\" && mpld3._mpld3IsLoaded){\n",
       "   // already loaded: just create the figure\n",
       "   !function(mpld3){\n",
       "       \n",
       "    mpld3.register_plugin(\"interactive_legend\", InteractiveLegend);\n",
       "    InteractiveLegend.prototype = Object.create(mpld3.Plugin.prototype);\n",
       "    InteractiveLegend.prototype.constructor = InteractiveLegend;\n",
       "    InteractiveLegend.prototype.requiredProps = [\"element_ids\", \"labels\"];\n",
       "    InteractiveLegend.prototype.defaultProps = {\"ax\":null,\n",
       "                                                \"alpha_unsel\":0.2,\n",
       "                                                \"alpha_over\":1.0,\n",
       "                                                \"start_visible\":true}\n",
       "    function InteractiveLegend(fig, props){\n",
       "        mpld3.Plugin.call(this, fig, props);\n",
       "    };\n",
       "\n",
       "    InteractiveLegend.prototype.draw = function(){\n",
       "        var alpha_unsel = this.props.alpha_unsel;\n",
       "        var alpha_over = this.props.alpha_over;\n",
       "\n",
       "        var legendItems = new Array();\n",
       "        for(var i=0; i<this.props.labels.length; i++){\n",
       "            var obj = {};\n",
       "            obj.label = this.props.labels[i];\n",
       "\n",
       "            var element_id = this.props.element_ids[i];\n",
       "            mpld3_elements = [];\n",
       "            for(var j=0; j<element_id.length; j++){\n",
       "                var mpld3_element = mpld3.get_element(element_id[j], this.fig);\n",
       "\n",
       "                // mpld3_element might be null in case of Line2D instances\n",
       "                // for we pass the id for both the line and the markers. Either\n",
       "                // one might not exist on the D3 side\n",
       "                if(mpld3_element){\n",
       "                    mpld3_elements.push(mpld3_element);\n",
       "                }\n",
       "            }\n",
       "\n",
       "            obj.mpld3_elements = mpld3_elements;\n",
       "            obj.visible = this.props.start_visible[i]; // should become be setable from python side\n",
       "            legendItems.push(obj);\n",
       "            set_alphas(obj, false);\n",
       "        }\n",
       "\n",
       "        // determine the axes with which this legend is associated\n",
       "        var ax = this.props.ax\n",
       "        if(!ax){\n",
       "            ax = this.fig.axes[0];\n",
       "        } else{\n",
       "            ax = mpld3.get_element(ax, this.fig);\n",
       "        }\n",
       "\n",
       "        // add a legend group to the canvas of the figure\n",
       "        var legend = this.fig.canvas.append(\"svg:g\")\n",
       "                               .attr(\"class\", \"legend\");\n",
       "\n",
       "        // add the rectangles\n",
       "        legend.selectAll(\"rect\")\n",
       "                .data(legendItems)\n",
       "                .enter().append(\"rect\")\n",
       "                .attr(\"height\", 10)\n",
       "                .attr(\"width\", 25)\n",
       "                .attr(\"x\", ax.width + ax.position[0] + 25)\n",
       "                .attr(\"y\",function(d,i) {\n",
       "                           return ax.position[1] + i * 25 + 10;})\n",
       "                .attr(\"stroke\", get_color)\n",
       "                .attr(\"class\", \"legend-box\")\n",
       "                .style(\"fill\", function(d, i) {\n",
       "                           return d.visible ? get_color(d) : \"white\";})\n",
       "                .on(\"click\", click).on('mouseover', over).on('mouseout', out);\n",
       "\n",
       "        // add the labels\n",
       "        legend.selectAll(\"text\")\n",
       "              .data(legendItems)\n",
       "              .enter().append(\"text\")\n",
       "              .attr(\"x\", function (d) {\n",
       "                           return ax.width + ax.position[0] + 25 + 40;})\n",
       "              .attr(\"y\", function(d,i) {\n",
       "                           return ax.position[1] + i * 25 + 10 + 10 - 1;})\n",
       "              .text(function(d) { return d.label });\n",
       "\n",
       "\n",
       "        // specify the action on click\n",
       "        function click(d,i){\n",
       "            d.visible = !d.visible;\n",
       "            d3.select(this)\n",
       "              .style(\"fill\",function(d, i) {\n",
       "                return d.visible ? get_color(d) : \"white\";\n",
       "              })\n",
       "            set_alphas(d, false);\n",
       "\n",
       "        };\n",
       "\n",
       "        // specify the action on legend overlay \n",
       "        function over(d,i){\n",
       "             set_alphas(d, true);\n",
       "        };\n",
       "\n",
       "        // specify the action on legend overlay \n",
       "        function out(d,i){\n",
       "             set_alphas(d, false);\n",
       "        };\n",
       "\n",
       "        // helper function for setting alphas\n",
       "        function set_alphas(d, is_over){\n",
       "            for(var i=0; i<d.mpld3_elements.length; i++){\n",
       "                var type = d.mpld3_elements[i].constructor.name;\n",
       "\n",
       "                if(type ==\"mpld3_Line\"){\n",
       "                    var current_alpha = d.mpld3_elements[i].props.alpha;\n",
       "                    var current_alpha_unsel = current_alpha * alpha_unsel;\n",
       "                    var current_alpha_over = current_alpha * alpha_over;\n",
       "                    d3.select(d.mpld3_elements[i].path[0][0])\n",
       "                        .style(\"stroke-opacity\", is_over ? current_alpha_over :\n",
       "                                                (d.visible ? current_alpha : current_alpha_unsel))\n",
       "                        .style(\"stroke-width\", is_over ? \n",
       "                                alpha_over * d.mpld3_elements[i].props.edgewidth : d.mpld3_elements[i].props.edgewidth);\n",
       "                } else if((type==\"mpld3_PathCollection\")||\n",
       "                         (type==\"mpld3_Markers\")){\n",
       "                    var current_alpha = d.mpld3_elements[i].props.alphas[0];\n",
       "                    var current_alpha_unsel = current_alpha * alpha_unsel;\n",
       "                    var current_alpha_over = current_alpha * alpha_over;\n",
       "                    d3.selectAll(d.mpld3_elements[i].pathsobj[0])\n",
       "                        .style(\"stroke-opacity\", is_over ? current_alpha_over :\n",
       "                                                (d.visible ? current_alpha : current_alpha_unsel))\n",
       "                        .style(\"fill-opacity\", is_over ? current_alpha_over :\n",
       "                                                (d.visible ? current_alpha : current_alpha_unsel));\n",
       "                } else{\n",
       "                    console.log(type + \" not yet supported\");\n",
       "                }\n",
       "            }\n",
       "        };\n",
       "\n",
       "\n",
       "        // helper function for determining the color of the rectangles\n",
       "        function get_color(d){\n",
       "            var type = d.mpld3_elements[0].constructor.name;\n",
       "            var color = \"black\";\n",
       "            if(type ==\"mpld3_Line\"){\n",
       "                color = d.mpld3_elements[0].props.edgecolor;\n",
       "            } else if((type==\"mpld3_PathCollection\")||\n",
       "                      (type==\"mpld3_Markers\")){\n",
       "                color = d.mpld3_elements[0].props.facecolors[0];\n",
       "            } else{\n",
       "                console.log(type + \" not yet supported\");\n",
       "            }\n",
       "            return color;\n",
       "        };\n",
       "    };\n",
       "    \n",
       "       mpld3.draw_figure(\"fig_el517622469228268249665290758\", {\"width\": 432.0, \"height\": 288.0, \"axes\": [{\"bbox\": [0.125, 0.125, 0.775, 0.755], \"xlim\": [-0.5, 10.5], \"ylim\": [-1.0605177709681404, 0.5327507417004015], \"xdomain\": [-0.5, 10.5], \"ydomain\": [-1.0605177709681404, 0.5327507417004015], \"xscale\": \"linear\", \"yscale\": \"linear\", \"axes\": [{\"position\": \"bottom\", \"nticks\": 8, \"tickvalues\": null, \"tickformat\": null, \"scale\": \"linear\", \"fontsize\": 10.0, \"grid\": {\"gridOn\": false}, \"visible\": true}, {\"position\": \"left\", \"nticks\": 10, \"tickvalues\": null, \"tickformat\": null, \"scale\": \"linear\", \"fontsize\": 10.0, \"grid\": {\"gridOn\": false}, \"visible\": true}], \"axesbg\": \"#FFFFFF\", \"axesbgalpha\": null, \"zoomable\": true, \"id\": \"el51762247037475528\", \"lines\": [{\"data\": \"data01\", \"xindex\": 0, \"yindex\": 1, \"coordinates\": \"data\", \"id\": \"el51762246914916488\", \"color\": \"#1F77B4\", \"linewidth\": 4.0, \"dasharray\": \"none\", \"alpha\": 0.2, \"zorder\": 2, \"drawstyle\": \"default\"}, {\"data\": \"data01\", \"xindex\": 0, \"yindex\": 2, \"coordinates\": \"data\", \"id\": \"el51762246924793224\", \"color\": \"#FF7F0E\", \"linewidth\": 4.0, \"dasharray\": \"none\", \"alpha\": 0.2, \"zorder\": 2, \"drawstyle\": \"default\"}, {\"data\": \"data01\", \"xindex\": 0, \"yindex\": 3, \"coordinates\": \"data\", \"id\": \"el51762246924792456\", \"color\": \"#2CA02C\", \"linewidth\": 4.0, \"dasharray\": \"none\", \"alpha\": 0.2, \"zorder\": 2, \"drawstyle\": \"default\"}, {\"data\": \"data01\", \"xindex\": 0, \"yindex\": 4, \"coordinates\": \"data\", \"id\": \"el51762246924792712\", \"color\": \"#D62728\", \"linewidth\": 4.0, \"dasharray\": \"none\", \"alpha\": 0.2, \"zorder\": 2, \"drawstyle\": \"default\"}, {\"data\": \"data01\", \"xindex\": 0, \"yindex\": 5, \"coordinates\": \"data\", \"id\": \"el51762246953687496\", \"color\": \"#9467BD\", \"linewidth\": 4.0, \"dasharray\": \"none\", \"alpha\": 0.2, \"zorder\": 2, \"drawstyle\": \"default\"}], \"paths\": [], \"markers\": [], \"texts\": [], \"collections\": [], \"images\": [], \"sharex\": [], \"sharey\": []}], \"data\": {\"data01\": [[0.0, -0.0487405961462611, -0.031241663542541466, -0.042438126006289795, -0.00408264884661873, 0.006949433317740828], [0.10101010101010101, -0.09870348830383589, -0.006774585217360983, -0.04054703181057287, 0.030461831978958107, 0.034260303500095735], [0.20202020202020202, -0.1000640636308867, 0.02002355591661931, -0.07509180836247856, 0.0636670403867717, -0.012287724469195321], [0.30303030303030304, -0.07845893712807027, 0.04112352312851661, -0.039617800527049975, 0.03644120455113197, -0.033351097924889446], [0.40404040404040403, -0.06656288917502677, 0.03090619981379376, 0.009950826262845713, -0.003993483756714607, -0.0802184047616811], [0.5050505050505051, -0.03623600579067505, 0.009400994553090018, -0.021913894086251322, 0.02495306266362088, -0.06618294915543775], [0.6060606060606061, -0.08447961388225289, 0.03328709628072546, -0.03484332897762553, 0.030258403460239097, -0.04541071980152632], [0.7070707070707071, -0.05874059557452096, -0.00589430696225407, -0.07681675362446362, 0.05787187776603292, -0.07695263017883283], [0.8080808080808081, -0.029327178772141034, -0.014605840387996028, -0.11787521647680915, 0.025416873648906026, -0.08650040212056002], [0.9090909090909091, -0.04146949283849294, 0.029779245438989813, -0.07814678738651229, 0.017001763799405725, -0.10415576941165958], [1.0101010101010102, -0.0681956088294878, 0.0292920245652375, -0.10169117768960376, -0.006679085493242906, -0.12394711814869572], [1.1111111111111112, -0.022667424206929424, 0.03421432503970742, -0.08386672269146686, -0.04375342862380026, -0.14999810207759454], [1.2121212121212122, -0.0009309613295899882, 0.00463611496262754, -0.11865027579859122, -0.08723147346308728, -0.18933093238438348], [1.3131313131313131, 0.04513640493555041, 0.007621721700316003, -0.08604394657227941, -0.07647494847801813, -0.20722142029607304], [1.4141414141414141, 0.07588291520602108, 0.037980411421973545, -0.08816781132648473, -0.09497149656560151, -0.24353686021224155], [1.5151515151515151, 0.10178384316621894, 0.02971364267265841, -0.1268841772847778, -0.1136452672352895, -0.2487796382467274], [1.6161616161616161, 0.14762472050878708, 0.05124606349977073, -0.1206385689036264, -0.10706998310786134, -0.2796551091495478], [1.7171717171717171, 0.13561007306448883, 0.02334073864721112, -0.15611881835955763, -0.08150647389886317, -0.23228872314372734], [1.8181818181818181, 0.12284473108182527, -0.020421646427367716, -0.16093421393406862, -0.0918120565529819, -0.18787107571659353], [1.9191919191919191, 0.11650922079403828, -0.011891721732331375, -0.1731485529750734, -0.11801952434312815, -0.18603733993555308], [2.0202020202020203, 0.0682854691214765, -0.03096164787770945, -0.14959437858696345, -0.094227007640722, -0.20007425331952924], [2.121212121212121, 0.05286911603969674, -0.03147673824744626, -0.1746074209121779, -0.1202972096109308, -0.16976557887436328], [2.2222222222222223, 0.06213042876112486, -0.05805740341073937, -0.17363785317406139, -0.10420824082842861, -0.21934517538976647], [2.323232323232323, 0.08957834307980989, -0.0787814119262828, -0.16846880637601844, -0.11716542599011105, -0.23367415503651887], [2.4242424242424243, 0.06323387689429699, -0.07597095871154406, -0.14851121175691614, -0.1459723760580838, -0.24433335541768944], [2.525252525252525, 0.10612901724945359, -0.10583396157852148, -0.18443089670649765, -0.11307463455599594, -0.2563914041932738], [2.6262626262626263, 0.1516354946063542, -0.11954484636664785, -0.17897950925277614, -0.15657707861453618, -0.2924244337090655], [2.727272727272727, 0.18153880517396476, -0.15147300644330694, -0.13907922313167462, -0.19931472555195012, -0.2954445025216428], [2.8282828282828283, 0.19641301349003817, -0.1867297759226039, -0.1273296981408893, -0.22733243399860684, -0.29028551002184794], [2.929292929292929, 0.16370120136820115, -0.19354675566553606, -0.11246594361690929, -0.2674647973749876, -0.3396013448940037], [3.0303030303030303, 0.18521417310454702, -0.20406464126016913, -0.1308367056218607, -0.23558191833755743, -0.30891461880411986], [3.131313131313131, 0.19441671282126458, -0.1841246749237157, -0.13527051003151658, -0.2550784818223117, -0.3517692761899115], [3.2323232323232323, 0.15431343877185302, -0.13505321174662613, -0.1302538024666722, -0.23994671763851494, -0.3837751485126222], [3.3333333333333335, 0.16888645716333184, -0.13561672964260515, -0.09974567476672429, -0.21305777571677925, -0.3736297689841714], [3.4343434343434343, 0.16548913546344418, -0.16647315625481576, -0.07417014107615723, -0.2220366865698671, -0.3346840808658744], [3.5353535353535355, 0.13816375611491005, -0.13036083954763505, -0.05858686221984591, -0.1988689720108289, -0.3229827658107436], [3.6363636363636362, 0.15079121567867587, -0.08165139079802375, -0.03356738285156495, -0.22859858553893359, -0.29728313558270714], [3.7373737373737375, 0.16405730654303177, -0.08287327551628357, -0.08348988796068291, -0.18821908345547506, -0.3397783558655597], [3.8383838383838382, 0.12622854560273492, -0.038928890996511895, -0.08659387318249527, -0.19712966504348312, -0.37128641541004803], [3.9393939393939394, 0.09314366522590706, -0.07765036048425088, -0.056820782036758485, -0.22573824126581926, -0.3784539261978509], [4.040404040404041, 0.10897314595947738, -0.1272900544400517, -0.035552885945266136, -0.22877475385731913, -0.39481167470068196], [4.141414141414141, 0.06701898534912992, -0.12567442649764587, -0.01703516513981075, -0.2019319222591282, -0.4144613596644156], [4.242424242424242, 0.09041237009168639, -0.13503746265856403, -0.03803908661122257, -0.18045550207704308, -0.45412476269862495], [4.343434343434343, 0.07626820666417305, -0.13941448854555796, -0.053656837138526224, -0.21040847110100777, -0.47948141696400554], [4.444444444444445, 0.09173242852635802, -0.1263825351593963, -0.09789689924835474, -0.21644294346888238, -0.5203838125932517], [4.545454545454545, 0.11536342658198218, -0.10616007880379705, -0.08054643862083544, -0.2318032236835285, -0.5119782357463816], [4.646464646464646, 0.10178232671790209, -0.12666394582939347, -0.10925491408116127, -0.19243344048677724, -0.5062647721946922], [4.747474747474747, 0.14787532519905328, -0.1719973374585209, -0.08765431845860142, -0.15752720890351418, -0.54218228928979], [4.848484848484849, 0.11812665142291706, -0.1660717993950468, -0.04324551366395536, -0.18939674445340945, -0.5094575463234177], [4.94949494949495, 0.15466523181260383, -0.15536078805862938, -0.05915807544618652, -0.22722280302592512, -0.5104910789311976], [5.05050505050505, 0.19842989576196848, -0.1968507497660476, -0.016876370047405144, -0.19159989262968008, -0.5318669632800009], [5.151515151515151, 0.19584435586964066, -0.20529042880066287, -0.06483682417789088, -0.21297391811548422, -0.5648241905334943], [5.252525252525253, 0.14629964569152765, -0.1561238409469898, -0.07196278948218451, -0.25226968089142077, -0.5886080178259377], [5.353535353535354, 0.12208981055473048, -0.19970336024201976, -0.031600205947954, -0.23585020796541944, -0.6171412180154995], [5.454545454545454, 0.12658321593295932, -0.23341283880452068, -0.07993584991208626, -0.19739264572448184, -0.6545898544281903], [5.555555555555555, 0.12359519221385798, -0.2510282858000518, -0.07092322896535874, -0.18576527940120413, -0.6084904194976725], [5.656565656565657, 0.09166574911327113, -0.2754334644889531, -0.0740585882872953, -0.1532537736583884, -0.6550560322242602], [5.757575757575758, 0.0802631649960858, -0.26754323459215246, -0.11902874735360663, -0.1455907856510254, -0.6295594865772611], [5.858585858585858, 0.034741169262920896, -0.23680518268929765, -0.14861626389604568, -0.1331917515467989, -0.6688904733778109], [5.959595959595959, 0.0215333797647219, -0.19883252181316252, -0.12244959181844806, -0.13102800968537445, -0.6766506651237523], [6.0606060606060606, -0.01934298997865057, -0.24753613605425973, -0.14546340089683835, -0.14252551919242434, -0.6495180335529975], [6.161616161616162, -0.016468537466486556, -0.28907807276010056, -0.10625872609407389, -0.1833771850451022, -0.6040723750042796], [6.262626262626262, 0.019925834519212315, -0.27176606563351147, -0.0639812935275545, -0.13764083622978762, -0.6339045879513697], [6.363636363636363, 0.030033294610033692, -0.24043000948934096, -0.05871021963432795, -0.14680504205671685, -0.6793382605380005], [6.4646464646464645, 0.03079496151754181, -0.2885707309525191, -0.07374711920041502, -0.1779065647197355, -0.6784896618363211], [6.565656565656566, 0.025256322135064894, -0.27644123143083377, -0.11329741030801838, -0.21379465125769567, -0.6492195081908102], [6.666666666666667, 0.011609123737725106, -0.31702452974382506, -0.1549235129591793, -0.20178634059921016, -0.6151244026874606], [6.767676767676767, 0.033590728712683454, -0.30533259434288973, -0.11872731876249987, -0.1663369029521144, -0.5782328908022697], [6.8686868686868685, 0.031338500330143286, -0.32439841800913, -0.1160616370405284, -0.19922862783886608, -0.6175731201295896], [6.96969696969697, 0.06443027495889662, -0.35033629267538574, -0.0979475229353962, -0.19146380000596175, -0.6512204595370894], [7.070707070707071, 0.10434940325869882, -0.3511287893503818, -0.06899792804596538, -0.18004252427061188, -0.6947572344634665], [7.171717171717171, 0.13306189792485165, -0.3096878507289058, -0.08396354656453531, -0.18654427909720414, -0.6639693608095241], [7.2727272727272725, 0.15031774949980833, -0.289346597736165, -0.08096432821621122, -0.23050121370099666, -0.6944829179929921], [7.373737373737374, 0.1688313647100748, -0.251892962268834, -0.11982615811440986, -0.21165345269672298, -0.7328580513972908], [7.474747474747475, 0.1512779811629256, -0.20760691272240303, -0.11995722389236636, -0.18940000041975416, -0.696769689558772], [7.575757575757575, 0.19308147850402207, -0.23775026494997614, -0.15226040669788027, -0.16949503238226213, -0.6919351329728931], [7.6767676767676765, 0.20264187259888763, -0.27335181170971995, -0.11861385444680633, -0.19581008887419882, -0.6973034134515622], [7.777777777777778, 0.2217056765608309, -0.2458233325915836, -0.13144255137047406, -0.21555066679416723, -0.7250059354478837], [7.878787878787879, 0.235634657757298, -0.24038099707557195, -0.09609203238947989, -0.25305451156578584, -0.7319473002173215], [7.979797979797979, 0.23846001368263214, -0.21014388711488377, -0.14533069895629924, -0.2227716891223588, -0.7476911807749639], [8.080808080808081, 0.24616753544259856, -0.22936211116182753, -0.18442601220910404, -0.18862987389680924, -0.7758662786164225], [8.181818181818182, 0.28501965592694994, -0.2430393926998675, -0.15468689610191907, -0.1821932091965201, -0.7957221565667113], [8.282828282828282, 0.3181095618192361, -0.24813276518416555, -0.1241938129580005, -0.1862679340129183, -0.7471016283561381], [8.383838383838384, 0.29403931771116076, -0.23129365649547265, -0.1053081204627801, -0.18753655365175326, -0.7780599449950982], [8.484848484848484, 0.2549832283770301, -0.21607243087761788, -0.10947981658978193, -0.16111001069281933, -0.7834014933122376], [8.585858585858587, 0.25002614339584756, -0.19418100543882436, -0.10320869843490721, -0.11764471814688353, -0.7709075979000521], [8.686868686868687, 0.29853471782002344, -0.1853646736209325, -0.08179509965096178, -0.09883495185679556, -0.7927066397256828], [8.787878787878787, 0.28155251982886903, -0.18599569566236948, -0.0644871645465569, -0.1422022743535909, -0.8165295371214181], [8.88888888888889, 0.28759436327559956, -0.20380675734785156, -0.04480818219336288, -0.12873018532069191, -0.8470403985095057], [8.98989898989899, 0.3337802954336685, -0.249048524787494, -0.03793680039622511, -0.1430597090301577, -0.8768333208375713], [9.09090909090909, 0.3747910813880749, -0.28204243924659034, 0.009833039436707408, -0.10241414290662453, -0.8862502830813058], [9.191919191919192, 0.4189785530618635, -0.23502371518537923, 0.036993659644177446, -0.0961004510613305, -0.9304198789605655], [9.292929292929292, 0.4477339369985046, -0.25025068158886876, 0.06793463176710608, -0.12408291437527497, -0.9327473581393992], [9.393939393939394, 0.4603294456700132, -0.2591657682379229, 0.08671754187592905, -0.12831416434346216, -0.9449181612568028], [9.494949494949495, 0.42356875055425336, -0.21763844633264848, 0.052575733907958264, -0.11825143579772912, -0.9240441696127701], [9.595959595959595, 0.3767075066612029, -0.18637519673559527, 0.08752220110584064, -0.10659418989489329, -0.9369248027585939], [9.696969696969697, 0.36716872148926255, -0.23426402663928264, 0.12084450992818019, -0.09640392095046438, -0.9377956446601511], [9.797979797979798, 0.3339415563303384, -0.24010318250594817, 0.10020678538319583, -0.06188713093463201, -0.9391605858074179], [9.8989898989899, 0.3614784842072367, -0.23357859072618684, 0.05728679649888932, -0.05319138684940729, -0.9880964749377521], [10.0, 0.38197289720208594, -0.276825715678541, 0.08693833283624394, -0.08928547686312036, -0.9674318025556293]]}, \"id\": \"el51762246922826824\", \"plugins\": [{\"type\": \"reset\"}, {\"type\": \"zoom\", \"button\": true, \"enabled\": false}, {\"type\": \"boxzoom\", \"button\": true, \"enabled\": false}, {\"type\": \"interactive_legend\", \"element_ids\": [[\"el51762246914916488\", \"el51762246914916488pts\"], [\"el51762246924793224\", \"el51762246924793224pts\"], [\"el51762246924792456\", \"el51762246924792456pts\"], [\"el51762246924792712\", \"el51762246924792712pts\"], [\"el51762246953687496\", \"el51762246953687496pts\"]], \"labels\": [\"a\", \"b\", \"c\", \"d\", \"e\"], \"ax\": null, \"alpha_unsel\": 0.2, \"alpha_over\": 1.0, \"start_visible\": [true, true, true, true, true]}]});\n",
       "   }(mpld3);\n",
       "}else if(typeof define === \"function\" && define.amd){\n",
       "   // require.js is available: use it to load d3/mpld3\n",
       "   require.config({paths: {d3: \"https://mpld3.github.io/js/d3.v3.min\"}});\n",
       "   require([\"d3\"], function(d3){\n",
       "      window.d3 = d3;\n",
       "      mpld3_load_lib(\"https://mpld3.github.io/js/mpld3.v0.3.js\", function(){\n",
       "         \n",
       "    mpld3.register_plugin(\"interactive_legend\", InteractiveLegend);\n",
       "    InteractiveLegend.prototype = Object.create(mpld3.Plugin.prototype);\n",
       "    InteractiveLegend.prototype.constructor = InteractiveLegend;\n",
       "    InteractiveLegend.prototype.requiredProps = [\"element_ids\", \"labels\"];\n",
       "    InteractiveLegend.prototype.defaultProps = {\"ax\":null,\n",
       "                                                \"alpha_unsel\":0.2,\n",
       "                                                \"alpha_over\":1.0,\n",
       "                                                \"start_visible\":true}\n",
       "    function InteractiveLegend(fig, props){\n",
       "        mpld3.Plugin.call(this, fig, props);\n",
       "    };\n",
       "\n",
       "    InteractiveLegend.prototype.draw = function(){\n",
       "        var alpha_unsel = this.props.alpha_unsel;\n",
       "        var alpha_over = this.props.alpha_over;\n",
       "\n",
       "        var legendItems = new Array();\n",
       "        for(var i=0; i<this.props.labels.length; i++){\n",
       "            var obj = {};\n",
       "            obj.label = this.props.labels[i];\n",
       "\n",
       "            var element_id = this.props.element_ids[i];\n",
       "            mpld3_elements = [];\n",
       "            for(var j=0; j<element_id.length; j++){\n",
       "                var mpld3_element = mpld3.get_element(element_id[j], this.fig);\n",
       "\n",
       "                // mpld3_element might be null in case of Line2D instances\n",
       "                // for we pass the id for both the line and the markers. Either\n",
       "                // one might not exist on the D3 side\n",
       "                if(mpld3_element){\n",
       "                    mpld3_elements.push(mpld3_element);\n",
       "                }\n",
       "            }\n",
       "\n",
       "            obj.mpld3_elements = mpld3_elements;\n",
       "            obj.visible = this.props.start_visible[i]; // should become be setable from python side\n",
       "            legendItems.push(obj);\n",
       "            set_alphas(obj, false);\n",
       "        }\n",
       "\n",
       "        // determine the axes with which this legend is associated\n",
       "        var ax = this.props.ax\n",
       "        if(!ax){\n",
       "            ax = this.fig.axes[0];\n",
       "        } else{\n",
       "            ax = mpld3.get_element(ax, this.fig);\n",
       "        }\n",
       "\n",
       "        // add a legend group to the canvas of the figure\n",
       "        var legend = this.fig.canvas.append(\"svg:g\")\n",
       "                               .attr(\"class\", \"legend\");\n",
       "\n",
       "        // add the rectangles\n",
       "        legend.selectAll(\"rect\")\n",
       "                .data(legendItems)\n",
       "                .enter().append(\"rect\")\n",
       "                .attr(\"height\", 10)\n",
       "                .attr(\"width\", 25)\n",
       "                .attr(\"x\", ax.width + ax.position[0] + 25)\n",
       "                .attr(\"y\",function(d,i) {\n",
       "                           return ax.position[1] + i * 25 + 10;})\n",
       "                .attr(\"stroke\", get_color)\n",
       "                .attr(\"class\", \"legend-box\")\n",
       "                .style(\"fill\", function(d, i) {\n",
       "                           return d.visible ? get_color(d) : \"white\";})\n",
       "                .on(\"click\", click).on('mouseover', over).on('mouseout', out);\n",
       "\n",
       "        // add the labels\n",
       "        legend.selectAll(\"text\")\n",
       "              .data(legendItems)\n",
       "              .enter().append(\"text\")\n",
       "              .attr(\"x\", function (d) {\n",
       "                           return ax.width + ax.position[0] + 25 + 40;})\n",
       "              .attr(\"y\", function(d,i) {\n",
       "                           return ax.position[1] + i * 25 + 10 + 10 - 1;})\n",
       "              .text(function(d) { return d.label });\n",
       "\n",
       "\n",
       "        // specify the action on click\n",
       "        function click(d,i){\n",
       "            d.visible = !d.visible;\n",
       "            d3.select(this)\n",
       "              .style(\"fill\",function(d, i) {\n",
       "                return d.visible ? get_color(d) : \"white\";\n",
       "              })\n",
       "            set_alphas(d, false);\n",
       "\n",
       "        };\n",
       "\n",
       "        // specify the action on legend overlay \n",
       "        function over(d,i){\n",
       "             set_alphas(d, true);\n",
       "        };\n",
       "\n",
       "        // specify the action on legend overlay \n",
       "        function out(d,i){\n",
       "             set_alphas(d, false);\n",
       "        };\n",
       "\n",
       "        // helper function for setting alphas\n",
       "        function set_alphas(d, is_over){\n",
       "            for(var i=0; i<d.mpld3_elements.length; i++){\n",
       "                var type = d.mpld3_elements[i].constructor.name;\n",
       "\n",
       "                if(type ==\"mpld3_Line\"){\n",
       "                    var current_alpha = d.mpld3_elements[i].props.alpha;\n",
       "                    var current_alpha_unsel = current_alpha * alpha_unsel;\n",
       "                    var current_alpha_over = current_alpha * alpha_over;\n",
       "                    d3.select(d.mpld3_elements[i].path[0][0])\n",
       "                        .style(\"stroke-opacity\", is_over ? current_alpha_over :\n",
       "                                                (d.visible ? current_alpha : current_alpha_unsel))\n",
       "                        .style(\"stroke-width\", is_over ? \n",
       "                                alpha_over * d.mpld3_elements[i].props.edgewidth : d.mpld3_elements[i].props.edgewidth);\n",
       "                } else if((type==\"mpld3_PathCollection\")||\n",
       "                         (type==\"mpld3_Markers\")){\n",
       "                    var current_alpha = d.mpld3_elements[i].props.alphas[0];\n",
       "                    var current_alpha_unsel = current_alpha * alpha_unsel;\n",
       "                    var current_alpha_over = current_alpha * alpha_over;\n",
       "                    d3.selectAll(d.mpld3_elements[i].pathsobj[0])\n",
       "                        .style(\"stroke-opacity\", is_over ? current_alpha_over :\n",
       "                                                (d.visible ? current_alpha : current_alpha_unsel))\n",
       "                        .style(\"fill-opacity\", is_over ? current_alpha_over :\n",
       "                                                (d.visible ? current_alpha : current_alpha_unsel));\n",
       "                } else{\n",
       "                    console.log(type + \" not yet supported\");\n",
       "                }\n",
       "            }\n",
       "        };\n",
       "\n",
       "\n",
       "        // helper function for determining the color of the rectangles\n",
       "        function get_color(d){\n",
       "            var type = d.mpld3_elements[0].constructor.name;\n",
       "            var color = \"black\";\n",
       "            if(type ==\"mpld3_Line\"){\n",
       "                color = d.mpld3_elements[0].props.edgecolor;\n",
       "            } else if((type==\"mpld3_PathCollection\")||\n",
       "                      (type==\"mpld3_Markers\")){\n",
       "                color = d.mpld3_elements[0].props.facecolors[0];\n",
       "            } else{\n",
       "                console.log(type + \" not yet supported\");\n",
       "            }\n",
       "            return color;\n",
       "        };\n",
       "    };\n",
       "    \n",
       "         mpld3.draw_figure(\"fig_el517622469228268249665290758\", {\"width\": 432.0, \"height\": 288.0, \"axes\": [{\"bbox\": [0.125, 0.125, 0.775, 0.755], \"xlim\": [-0.5, 10.5], \"ylim\": [-1.0605177709681404, 0.5327507417004015], \"xdomain\": [-0.5, 10.5], \"ydomain\": [-1.0605177709681404, 0.5327507417004015], \"xscale\": \"linear\", \"yscale\": \"linear\", \"axes\": [{\"position\": \"bottom\", \"nticks\": 8, \"tickvalues\": null, \"tickformat\": null, \"scale\": \"linear\", \"fontsize\": 10.0, \"grid\": {\"gridOn\": false}, \"visible\": true}, {\"position\": \"left\", \"nticks\": 10, \"tickvalues\": null, \"tickformat\": null, \"scale\": \"linear\", \"fontsize\": 10.0, \"grid\": {\"gridOn\": false}, \"visible\": true}], \"axesbg\": \"#FFFFFF\", \"axesbgalpha\": null, \"zoomable\": true, \"id\": \"el51762247037475528\", \"lines\": [{\"data\": \"data01\", \"xindex\": 0, \"yindex\": 1, \"coordinates\": \"data\", \"id\": \"el51762246914916488\", \"color\": \"#1F77B4\", \"linewidth\": 4.0, \"dasharray\": \"none\", \"alpha\": 0.2, \"zorder\": 2, \"drawstyle\": \"default\"}, {\"data\": \"data01\", \"xindex\": 0, \"yindex\": 2, \"coordinates\": \"data\", \"id\": \"el51762246924793224\", \"color\": \"#FF7F0E\", \"linewidth\": 4.0, \"dasharray\": \"none\", \"alpha\": 0.2, \"zorder\": 2, \"drawstyle\": \"default\"}, {\"data\": \"data01\", \"xindex\": 0, \"yindex\": 3, \"coordinates\": \"data\", \"id\": \"el51762246924792456\", \"color\": \"#2CA02C\", \"linewidth\": 4.0, \"dasharray\": \"none\", \"alpha\": 0.2, \"zorder\": 2, \"drawstyle\": \"default\"}, {\"data\": \"data01\", \"xindex\": 0, \"yindex\": 4, \"coordinates\": \"data\", \"id\": \"el51762246924792712\", \"color\": \"#D62728\", \"linewidth\": 4.0, \"dasharray\": \"none\", \"alpha\": 0.2, \"zorder\": 2, \"drawstyle\": \"default\"}, {\"data\": \"data01\", \"xindex\": 0, \"yindex\": 5, \"coordinates\": \"data\", \"id\": \"el51762246953687496\", \"color\": \"#9467BD\", \"linewidth\": 4.0, \"dasharray\": \"none\", \"alpha\": 0.2, \"zorder\": 2, \"drawstyle\": \"default\"}], \"paths\": [], \"markers\": [], \"texts\": [], \"collections\": [], \"images\": [], \"sharex\": [], \"sharey\": []}], \"data\": {\"data01\": [[0.0, -0.0487405961462611, -0.031241663542541466, -0.042438126006289795, -0.00408264884661873, 0.006949433317740828], [0.10101010101010101, -0.09870348830383589, -0.006774585217360983, -0.04054703181057287, 0.030461831978958107, 0.034260303500095735], [0.20202020202020202, -0.1000640636308867, 0.02002355591661931, -0.07509180836247856, 0.0636670403867717, -0.012287724469195321], [0.30303030303030304, -0.07845893712807027, 0.04112352312851661, -0.039617800527049975, 0.03644120455113197, -0.033351097924889446], [0.40404040404040403, -0.06656288917502677, 0.03090619981379376, 0.009950826262845713, -0.003993483756714607, -0.0802184047616811], [0.5050505050505051, -0.03623600579067505, 0.009400994553090018, -0.021913894086251322, 0.02495306266362088, -0.06618294915543775], [0.6060606060606061, -0.08447961388225289, 0.03328709628072546, -0.03484332897762553, 0.030258403460239097, -0.04541071980152632], [0.7070707070707071, -0.05874059557452096, -0.00589430696225407, -0.07681675362446362, 0.05787187776603292, -0.07695263017883283], [0.8080808080808081, -0.029327178772141034, -0.014605840387996028, -0.11787521647680915, 0.025416873648906026, -0.08650040212056002], [0.9090909090909091, -0.04146949283849294, 0.029779245438989813, -0.07814678738651229, 0.017001763799405725, -0.10415576941165958], [1.0101010101010102, -0.0681956088294878, 0.0292920245652375, -0.10169117768960376, -0.006679085493242906, -0.12394711814869572], [1.1111111111111112, -0.022667424206929424, 0.03421432503970742, -0.08386672269146686, -0.04375342862380026, -0.14999810207759454], [1.2121212121212122, -0.0009309613295899882, 0.00463611496262754, -0.11865027579859122, -0.08723147346308728, -0.18933093238438348], [1.3131313131313131, 0.04513640493555041, 0.007621721700316003, -0.08604394657227941, -0.07647494847801813, -0.20722142029607304], [1.4141414141414141, 0.07588291520602108, 0.037980411421973545, -0.08816781132648473, -0.09497149656560151, -0.24353686021224155], [1.5151515151515151, 0.10178384316621894, 0.02971364267265841, -0.1268841772847778, -0.1136452672352895, -0.2487796382467274], [1.6161616161616161, 0.14762472050878708, 0.05124606349977073, -0.1206385689036264, -0.10706998310786134, -0.2796551091495478], [1.7171717171717171, 0.13561007306448883, 0.02334073864721112, -0.15611881835955763, -0.08150647389886317, -0.23228872314372734], [1.8181818181818181, 0.12284473108182527, -0.020421646427367716, -0.16093421393406862, -0.0918120565529819, -0.18787107571659353], [1.9191919191919191, 0.11650922079403828, -0.011891721732331375, -0.1731485529750734, -0.11801952434312815, -0.18603733993555308], [2.0202020202020203, 0.0682854691214765, -0.03096164787770945, -0.14959437858696345, -0.094227007640722, -0.20007425331952924], [2.121212121212121, 0.05286911603969674, -0.03147673824744626, -0.1746074209121779, -0.1202972096109308, -0.16976557887436328], [2.2222222222222223, 0.06213042876112486, -0.05805740341073937, -0.17363785317406139, -0.10420824082842861, -0.21934517538976647], [2.323232323232323, 0.08957834307980989, -0.0787814119262828, -0.16846880637601844, -0.11716542599011105, -0.23367415503651887], [2.4242424242424243, 0.06323387689429699, -0.07597095871154406, -0.14851121175691614, -0.1459723760580838, -0.24433335541768944], [2.525252525252525, 0.10612901724945359, -0.10583396157852148, -0.18443089670649765, -0.11307463455599594, -0.2563914041932738], [2.6262626262626263, 0.1516354946063542, -0.11954484636664785, -0.17897950925277614, -0.15657707861453618, -0.2924244337090655], [2.727272727272727, 0.18153880517396476, -0.15147300644330694, -0.13907922313167462, -0.19931472555195012, -0.2954445025216428], [2.8282828282828283, 0.19641301349003817, -0.1867297759226039, -0.1273296981408893, -0.22733243399860684, -0.29028551002184794], [2.929292929292929, 0.16370120136820115, -0.19354675566553606, -0.11246594361690929, -0.2674647973749876, -0.3396013448940037], [3.0303030303030303, 0.18521417310454702, -0.20406464126016913, -0.1308367056218607, -0.23558191833755743, -0.30891461880411986], [3.131313131313131, 0.19441671282126458, -0.1841246749237157, -0.13527051003151658, -0.2550784818223117, -0.3517692761899115], [3.2323232323232323, 0.15431343877185302, -0.13505321174662613, -0.1302538024666722, -0.23994671763851494, -0.3837751485126222], [3.3333333333333335, 0.16888645716333184, -0.13561672964260515, -0.09974567476672429, -0.21305777571677925, -0.3736297689841714], [3.4343434343434343, 0.16548913546344418, -0.16647315625481576, -0.07417014107615723, -0.2220366865698671, -0.3346840808658744], [3.5353535353535355, 0.13816375611491005, -0.13036083954763505, -0.05858686221984591, -0.1988689720108289, -0.3229827658107436], [3.6363636363636362, 0.15079121567867587, -0.08165139079802375, -0.03356738285156495, -0.22859858553893359, -0.29728313558270714], [3.7373737373737375, 0.16405730654303177, -0.08287327551628357, -0.08348988796068291, -0.18821908345547506, -0.3397783558655597], [3.8383838383838382, 0.12622854560273492, -0.038928890996511895, -0.08659387318249527, -0.19712966504348312, -0.37128641541004803], [3.9393939393939394, 0.09314366522590706, -0.07765036048425088, -0.056820782036758485, -0.22573824126581926, -0.3784539261978509], [4.040404040404041, 0.10897314595947738, -0.1272900544400517, -0.035552885945266136, -0.22877475385731913, -0.39481167470068196], [4.141414141414141, 0.06701898534912992, -0.12567442649764587, -0.01703516513981075, -0.2019319222591282, -0.4144613596644156], [4.242424242424242, 0.09041237009168639, -0.13503746265856403, -0.03803908661122257, -0.18045550207704308, -0.45412476269862495], [4.343434343434343, 0.07626820666417305, -0.13941448854555796, -0.053656837138526224, -0.21040847110100777, -0.47948141696400554], [4.444444444444445, 0.09173242852635802, -0.1263825351593963, -0.09789689924835474, -0.21644294346888238, -0.5203838125932517], [4.545454545454545, 0.11536342658198218, -0.10616007880379705, -0.08054643862083544, -0.2318032236835285, -0.5119782357463816], [4.646464646464646, 0.10178232671790209, -0.12666394582939347, -0.10925491408116127, -0.19243344048677724, -0.5062647721946922], [4.747474747474747, 0.14787532519905328, -0.1719973374585209, -0.08765431845860142, -0.15752720890351418, -0.54218228928979], [4.848484848484849, 0.11812665142291706, -0.1660717993950468, -0.04324551366395536, -0.18939674445340945, -0.5094575463234177], [4.94949494949495, 0.15466523181260383, -0.15536078805862938, -0.05915807544618652, -0.22722280302592512, -0.5104910789311976], [5.05050505050505, 0.19842989576196848, -0.1968507497660476, -0.016876370047405144, -0.19159989262968008, -0.5318669632800009], [5.151515151515151, 0.19584435586964066, -0.20529042880066287, -0.06483682417789088, -0.21297391811548422, -0.5648241905334943], [5.252525252525253, 0.14629964569152765, -0.1561238409469898, -0.07196278948218451, -0.25226968089142077, -0.5886080178259377], [5.353535353535354, 0.12208981055473048, -0.19970336024201976, -0.031600205947954, -0.23585020796541944, -0.6171412180154995], [5.454545454545454, 0.12658321593295932, -0.23341283880452068, -0.07993584991208626, -0.19739264572448184, -0.6545898544281903], [5.555555555555555, 0.12359519221385798, -0.2510282858000518, -0.07092322896535874, -0.18576527940120413, -0.6084904194976725], [5.656565656565657, 0.09166574911327113, -0.2754334644889531, -0.0740585882872953, -0.1532537736583884, -0.6550560322242602], [5.757575757575758, 0.0802631649960858, -0.26754323459215246, -0.11902874735360663, -0.1455907856510254, -0.6295594865772611], [5.858585858585858, 0.034741169262920896, -0.23680518268929765, -0.14861626389604568, -0.1331917515467989, -0.6688904733778109], [5.959595959595959, 0.0215333797647219, -0.19883252181316252, -0.12244959181844806, -0.13102800968537445, -0.6766506651237523], [6.0606060606060606, -0.01934298997865057, -0.24753613605425973, -0.14546340089683835, -0.14252551919242434, -0.6495180335529975], [6.161616161616162, -0.016468537466486556, -0.28907807276010056, -0.10625872609407389, -0.1833771850451022, -0.6040723750042796], [6.262626262626262, 0.019925834519212315, -0.27176606563351147, -0.0639812935275545, -0.13764083622978762, -0.6339045879513697], [6.363636363636363, 0.030033294610033692, -0.24043000948934096, -0.05871021963432795, -0.14680504205671685, -0.6793382605380005], [6.4646464646464645, 0.03079496151754181, -0.2885707309525191, -0.07374711920041502, -0.1779065647197355, -0.6784896618363211], [6.565656565656566, 0.025256322135064894, -0.27644123143083377, -0.11329741030801838, -0.21379465125769567, -0.6492195081908102], [6.666666666666667, 0.011609123737725106, -0.31702452974382506, -0.1549235129591793, -0.20178634059921016, -0.6151244026874606], [6.767676767676767, 0.033590728712683454, -0.30533259434288973, -0.11872731876249987, -0.1663369029521144, -0.5782328908022697], [6.8686868686868685, 0.031338500330143286, -0.32439841800913, -0.1160616370405284, -0.19922862783886608, -0.6175731201295896], [6.96969696969697, 0.06443027495889662, -0.35033629267538574, -0.0979475229353962, -0.19146380000596175, -0.6512204595370894], [7.070707070707071, 0.10434940325869882, -0.3511287893503818, -0.06899792804596538, -0.18004252427061188, -0.6947572344634665], [7.171717171717171, 0.13306189792485165, -0.3096878507289058, -0.08396354656453531, -0.18654427909720414, -0.6639693608095241], [7.2727272727272725, 0.15031774949980833, -0.289346597736165, -0.08096432821621122, -0.23050121370099666, -0.6944829179929921], [7.373737373737374, 0.1688313647100748, -0.251892962268834, -0.11982615811440986, -0.21165345269672298, -0.7328580513972908], [7.474747474747475, 0.1512779811629256, -0.20760691272240303, -0.11995722389236636, -0.18940000041975416, -0.696769689558772], [7.575757575757575, 0.19308147850402207, -0.23775026494997614, -0.15226040669788027, -0.16949503238226213, -0.6919351329728931], [7.6767676767676765, 0.20264187259888763, -0.27335181170971995, -0.11861385444680633, -0.19581008887419882, -0.6973034134515622], [7.777777777777778, 0.2217056765608309, -0.2458233325915836, -0.13144255137047406, -0.21555066679416723, -0.7250059354478837], [7.878787878787879, 0.235634657757298, -0.24038099707557195, -0.09609203238947989, -0.25305451156578584, -0.7319473002173215], [7.979797979797979, 0.23846001368263214, -0.21014388711488377, -0.14533069895629924, -0.2227716891223588, -0.7476911807749639], [8.080808080808081, 0.24616753544259856, -0.22936211116182753, -0.18442601220910404, -0.18862987389680924, -0.7758662786164225], [8.181818181818182, 0.28501965592694994, -0.2430393926998675, -0.15468689610191907, -0.1821932091965201, -0.7957221565667113], [8.282828282828282, 0.3181095618192361, -0.24813276518416555, -0.1241938129580005, -0.1862679340129183, -0.7471016283561381], [8.383838383838384, 0.29403931771116076, -0.23129365649547265, -0.1053081204627801, -0.18753655365175326, -0.7780599449950982], [8.484848484848484, 0.2549832283770301, -0.21607243087761788, -0.10947981658978193, -0.16111001069281933, -0.7834014933122376], [8.585858585858587, 0.25002614339584756, -0.19418100543882436, -0.10320869843490721, -0.11764471814688353, -0.7709075979000521], [8.686868686868687, 0.29853471782002344, -0.1853646736209325, -0.08179509965096178, -0.09883495185679556, -0.7927066397256828], [8.787878787878787, 0.28155251982886903, -0.18599569566236948, -0.0644871645465569, -0.1422022743535909, -0.8165295371214181], [8.88888888888889, 0.28759436327559956, -0.20380675734785156, -0.04480818219336288, -0.12873018532069191, -0.8470403985095057], [8.98989898989899, 0.3337802954336685, -0.249048524787494, -0.03793680039622511, -0.1430597090301577, -0.8768333208375713], [9.09090909090909, 0.3747910813880749, -0.28204243924659034, 0.009833039436707408, -0.10241414290662453, -0.8862502830813058], [9.191919191919192, 0.4189785530618635, -0.23502371518537923, 0.036993659644177446, -0.0961004510613305, -0.9304198789605655], [9.292929292929292, 0.4477339369985046, -0.25025068158886876, 0.06793463176710608, -0.12408291437527497, -0.9327473581393992], [9.393939393939394, 0.4603294456700132, -0.2591657682379229, 0.08671754187592905, -0.12831416434346216, -0.9449181612568028], [9.494949494949495, 0.42356875055425336, -0.21763844633264848, 0.052575733907958264, -0.11825143579772912, -0.9240441696127701], [9.595959595959595, 0.3767075066612029, -0.18637519673559527, 0.08752220110584064, -0.10659418989489329, -0.9369248027585939], [9.696969696969697, 0.36716872148926255, -0.23426402663928264, 0.12084450992818019, -0.09640392095046438, -0.9377956446601511], [9.797979797979798, 0.3339415563303384, -0.24010318250594817, 0.10020678538319583, -0.06188713093463201, -0.9391605858074179], [9.8989898989899, 0.3614784842072367, -0.23357859072618684, 0.05728679649888932, -0.05319138684940729, -0.9880964749377521], [10.0, 0.38197289720208594, -0.276825715678541, 0.08693833283624394, -0.08928547686312036, -0.9674318025556293]]}, \"id\": \"el51762246922826824\", \"plugins\": [{\"type\": \"reset\"}, {\"type\": \"zoom\", \"button\": true, \"enabled\": false}, {\"type\": \"boxzoom\", \"button\": true, \"enabled\": false}, {\"type\": \"interactive_legend\", \"element_ids\": [[\"el51762246914916488\", \"el51762246914916488pts\"], [\"el51762246924793224\", \"el51762246924793224pts\"], [\"el51762246924792456\", \"el51762246924792456pts\"], [\"el51762246924792712\", \"el51762246924792712pts\"], [\"el51762246953687496\", \"el51762246953687496pts\"]], \"labels\": [\"a\", \"b\", \"c\", \"d\", \"e\"], \"ax\": null, \"alpha_unsel\": 0.2, \"alpha_over\": 1.0, \"start_visible\": [true, true, true, true, true]}]});\n",
       "      });\n",
       "    });\n",
       "}else{\n",
       "    // require.js not available: dynamically load d3 & mpld3\n",
       "    mpld3_load_lib(\"https://mpld3.github.io/js/d3.v3.min.js\", function(){\n",
       "         mpld3_load_lib(\"https://mpld3.github.io/js/mpld3.v0.3.js\", function(){\n",
       "                 \n",
       "    mpld3.register_plugin(\"interactive_legend\", InteractiveLegend);\n",
       "    InteractiveLegend.prototype = Object.create(mpld3.Plugin.prototype);\n",
       "    InteractiveLegend.prototype.constructor = InteractiveLegend;\n",
       "    InteractiveLegend.prototype.requiredProps = [\"element_ids\", \"labels\"];\n",
       "    InteractiveLegend.prototype.defaultProps = {\"ax\":null,\n",
       "                                                \"alpha_unsel\":0.2,\n",
       "                                                \"alpha_over\":1.0,\n",
       "                                                \"start_visible\":true}\n",
       "    function InteractiveLegend(fig, props){\n",
       "        mpld3.Plugin.call(this, fig, props);\n",
       "    };\n",
       "\n",
       "    InteractiveLegend.prototype.draw = function(){\n",
       "        var alpha_unsel = this.props.alpha_unsel;\n",
       "        var alpha_over = this.props.alpha_over;\n",
       "\n",
       "        var legendItems = new Array();\n",
       "        for(var i=0; i<this.props.labels.length; i++){\n",
       "            var obj = {};\n",
       "            obj.label = this.props.labels[i];\n",
       "\n",
       "            var element_id = this.props.element_ids[i];\n",
       "            mpld3_elements = [];\n",
       "            for(var j=0; j<element_id.length; j++){\n",
       "                var mpld3_element = mpld3.get_element(element_id[j], this.fig);\n",
       "\n",
       "                // mpld3_element might be null in case of Line2D instances\n",
       "                // for we pass the id for both the line and the markers. Either\n",
       "                // one might not exist on the D3 side\n",
       "                if(mpld3_element){\n",
       "                    mpld3_elements.push(mpld3_element);\n",
       "                }\n",
       "            }\n",
       "\n",
       "            obj.mpld3_elements = mpld3_elements;\n",
       "            obj.visible = this.props.start_visible[i]; // should become be setable from python side\n",
       "            legendItems.push(obj);\n",
       "            set_alphas(obj, false);\n",
       "        }\n",
       "\n",
       "        // determine the axes with which this legend is associated\n",
       "        var ax = this.props.ax\n",
       "        if(!ax){\n",
       "            ax = this.fig.axes[0];\n",
       "        } else{\n",
       "            ax = mpld3.get_element(ax, this.fig);\n",
       "        }\n",
       "\n",
       "        // add a legend group to the canvas of the figure\n",
       "        var legend = this.fig.canvas.append(\"svg:g\")\n",
       "                               .attr(\"class\", \"legend\");\n",
       "\n",
       "        // add the rectangles\n",
       "        legend.selectAll(\"rect\")\n",
       "                .data(legendItems)\n",
       "                .enter().append(\"rect\")\n",
       "                .attr(\"height\", 10)\n",
       "                .attr(\"width\", 25)\n",
       "                .attr(\"x\", ax.width + ax.position[0] + 25)\n",
       "                .attr(\"y\",function(d,i) {\n",
       "                           return ax.position[1] + i * 25 + 10;})\n",
       "                .attr(\"stroke\", get_color)\n",
       "                .attr(\"class\", \"legend-box\")\n",
       "                .style(\"fill\", function(d, i) {\n",
       "                           return d.visible ? get_color(d) : \"white\";})\n",
       "                .on(\"click\", click).on('mouseover', over).on('mouseout', out);\n",
       "\n",
       "        // add the labels\n",
       "        legend.selectAll(\"text\")\n",
       "              .data(legendItems)\n",
       "              .enter().append(\"text\")\n",
       "              .attr(\"x\", function (d) {\n",
       "                           return ax.width + ax.position[0] + 25 + 40;})\n",
       "              .attr(\"y\", function(d,i) {\n",
       "                           return ax.position[1] + i * 25 + 10 + 10 - 1;})\n",
       "              .text(function(d) { return d.label });\n",
       "\n",
       "\n",
       "        // specify the action on click\n",
       "        function click(d,i){\n",
       "            d.visible = !d.visible;\n",
       "            d3.select(this)\n",
       "              .style(\"fill\",function(d, i) {\n",
       "                return d.visible ? get_color(d) : \"white\";\n",
       "              })\n",
       "            set_alphas(d, false);\n",
       "\n",
       "        };\n",
       "\n",
       "        // specify the action on legend overlay \n",
       "        function over(d,i){\n",
       "             set_alphas(d, true);\n",
       "        };\n",
       "\n",
       "        // specify the action on legend overlay \n",
       "        function out(d,i){\n",
       "             set_alphas(d, false);\n",
       "        };\n",
       "\n",
       "        // helper function for setting alphas\n",
       "        function set_alphas(d, is_over){\n",
       "            for(var i=0; i<d.mpld3_elements.length; i++){\n",
       "                var type = d.mpld3_elements[i].constructor.name;\n",
       "\n",
       "                if(type ==\"mpld3_Line\"){\n",
       "                    var current_alpha = d.mpld3_elements[i].props.alpha;\n",
       "                    var current_alpha_unsel = current_alpha * alpha_unsel;\n",
       "                    var current_alpha_over = current_alpha * alpha_over;\n",
       "                    d3.select(d.mpld3_elements[i].path[0][0])\n",
       "                        .style(\"stroke-opacity\", is_over ? current_alpha_over :\n",
       "                                                (d.visible ? current_alpha : current_alpha_unsel))\n",
       "                        .style(\"stroke-width\", is_over ? \n",
       "                                alpha_over * d.mpld3_elements[i].props.edgewidth : d.mpld3_elements[i].props.edgewidth);\n",
       "                } else if((type==\"mpld3_PathCollection\")||\n",
       "                         (type==\"mpld3_Markers\")){\n",
       "                    var current_alpha = d.mpld3_elements[i].props.alphas[0];\n",
       "                    var current_alpha_unsel = current_alpha * alpha_unsel;\n",
       "                    var current_alpha_over = current_alpha * alpha_over;\n",
       "                    d3.selectAll(d.mpld3_elements[i].pathsobj[0])\n",
       "                        .style(\"stroke-opacity\", is_over ? current_alpha_over :\n",
       "                                                (d.visible ? current_alpha : current_alpha_unsel))\n",
       "                        .style(\"fill-opacity\", is_over ? current_alpha_over :\n",
       "                                                (d.visible ? current_alpha : current_alpha_unsel));\n",
       "                } else{\n",
       "                    console.log(type + \" not yet supported\");\n",
       "                }\n",
       "            }\n",
       "        };\n",
       "\n",
       "\n",
       "        // helper function for determining the color of the rectangles\n",
       "        function get_color(d){\n",
       "            var type = d.mpld3_elements[0].constructor.name;\n",
       "            var color = \"black\";\n",
       "            if(type ==\"mpld3_Line\"){\n",
       "                color = d.mpld3_elements[0].props.edgecolor;\n",
       "            } else if((type==\"mpld3_PathCollection\")||\n",
       "                      (type==\"mpld3_Markers\")){\n",
       "                color = d.mpld3_elements[0].props.facecolors[0];\n",
       "            } else{\n",
       "                console.log(type + \" not yet supported\");\n",
       "            }\n",
       "            return color;\n",
       "        };\n",
       "    };\n",
       "    \n",
       "                 mpld3.draw_figure(\"fig_el517622469228268249665290758\", {\"width\": 432.0, \"height\": 288.0, \"axes\": [{\"bbox\": [0.125, 0.125, 0.775, 0.755], \"xlim\": [-0.5, 10.5], \"ylim\": [-1.0605177709681404, 0.5327507417004015], \"xdomain\": [-0.5, 10.5], \"ydomain\": [-1.0605177709681404, 0.5327507417004015], \"xscale\": \"linear\", \"yscale\": \"linear\", \"axes\": [{\"position\": \"bottom\", \"nticks\": 8, \"tickvalues\": null, \"tickformat\": null, \"scale\": \"linear\", \"fontsize\": 10.0, \"grid\": {\"gridOn\": false}, \"visible\": true}, {\"position\": \"left\", \"nticks\": 10, \"tickvalues\": null, \"tickformat\": null, \"scale\": \"linear\", \"fontsize\": 10.0, \"grid\": {\"gridOn\": false}, \"visible\": true}], \"axesbg\": \"#FFFFFF\", \"axesbgalpha\": null, \"zoomable\": true, \"id\": \"el51762247037475528\", \"lines\": [{\"data\": \"data01\", \"xindex\": 0, \"yindex\": 1, \"coordinates\": \"data\", \"id\": \"el51762246914916488\", \"color\": \"#1F77B4\", \"linewidth\": 4.0, \"dasharray\": \"none\", \"alpha\": 0.2, \"zorder\": 2, \"drawstyle\": \"default\"}, {\"data\": \"data01\", \"xindex\": 0, \"yindex\": 2, \"coordinates\": \"data\", \"id\": \"el51762246924793224\", \"color\": \"#FF7F0E\", \"linewidth\": 4.0, \"dasharray\": \"none\", \"alpha\": 0.2, \"zorder\": 2, \"drawstyle\": \"default\"}, {\"data\": \"data01\", \"xindex\": 0, \"yindex\": 3, \"coordinates\": \"data\", \"id\": \"el51762246924792456\", \"color\": \"#2CA02C\", \"linewidth\": 4.0, \"dasharray\": \"none\", \"alpha\": 0.2, \"zorder\": 2, \"drawstyle\": \"default\"}, {\"data\": \"data01\", \"xindex\": 0, \"yindex\": 4, \"coordinates\": \"data\", \"id\": \"el51762246924792712\", \"color\": \"#D62728\", \"linewidth\": 4.0, \"dasharray\": \"none\", \"alpha\": 0.2, \"zorder\": 2, \"drawstyle\": \"default\"}, {\"data\": \"data01\", \"xindex\": 0, \"yindex\": 5, \"coordinates\": \"data\", \"id\": \"el51762246953687496\", \"color\": \"#9467BD\", \"linewidth\": 4.0, \"dasharray\": \"none\", \"alpha\": 0.2, \"zorder\": 2, \"drawstyle\": \"default\"}], \"paths\": [], \"markers\": [], \"texts\": [], \"collections\": [], \"images\": [], \"sharex\": [], \"sharey\": []}], \"data\": {\"data01\": [[0.0, -0.0487405961462611, -0.031241663542541466, -0.042438126006289795, -0.00408264884661873, 0.006949433317740828], [0.10101010101010101, -0.09870348830383589, -0.006774585217360983, -0.04054703181057287, 0.030461831978958107, 0.034260303500095735], [0.20202020202020202, -0.1000640636308867, 0.02002355591661931, -0.07509180836247856, 0.0636670403867717, -0.012287724469195321], [0.30303030303030304, -0.07845893712807027, 0.04112352312851661, -0.039617800527049975, 0.03644120455113197, -0.033351097924889446], [0.40404040404040403, -0.06656288917502677, 0.03090619981379376, 0.009950826262845713, -0.003993483756714607, -0.0802184047616811], [0.5050505050505051, -0.03623600579067505, 0.009400994553090018, -0.021913894086251322, 0.02495306266362088, -0.06618294915543775], [0.6060606060606061, -0.08447961388225289, 0.03328709628072546, -0.03484332897762553, 0.030258403460239097, -0.04541071980152632], [0.7070707070707071, -0.05874059557452096, -0.00589430696225407, -0.07681675362446362, 0.05787187776603292, -0.07695263017883283], [0.8080808080808081, -0.029327178772141034, -0.014605840387996028, -0.11787521647680915, 0.025416873648906026, -0.08650040212056002], [0.9090909090909091, -0.04146949283849294, 0.029779245438989813, -0.07814678738651229, 0.017001763799405725, -0.10415576941165958], [1.0101010101010102, -0.0681956088294878, 0.0292920245652375, -0.10169117768960376, -0.006679085493242906, -0.12394711814869572], [1.1111111111111112, -0.022667424206929424, 0.03421432503970742, -0.08386672269146686, -0.04375342862380026, -0.14999810207759454], [1.2121212121212122, -0.0009309613295899882, 0.00463611496262754, -0.11865027579859122, -0.08723147346308728, -0.18933093238438348], [1.3131313131313131, 0.04513640493555041, 0.007621721700316003, -0.08604394657227941, -0.07647494847801813, -0.20722142029607304], [1.4141414141414141, 0.07588291520602108, 0.037980411421973545, -0.08816781132648473, -0.09497149656560151, -0.24353686021224155], [1.5151515151515151, 0.10178384316621894, 0.02971364267265841, -0.1268841772847778, -0.1136452672352895, -0.2487796382467274], [1.6161616161616161, 0.14762472050878708, 0.05124606349977073, -0.1206385689036264, -0.10706998310786134, -0.2796551091495478], [1.7171717171717171, 0.13561007306448883, 0.02334073864721112, -0.15611881835955763, -0.08150647389886317, -0.23228872314372734], [1.8181818181818181, 0.12284473108182527, -0.020421646427367716, -0.16093421393406862, -0.0918120565529819, -0.18787107571659353], [1.9191919191919191, 0.11650922079403828, -0.011891721732331375, -0.1731485529750734, -0.11801952434312815, -0.18603733993555308], [2.0202020202020203, 0.0682854691214765, -0.03096164787770945, -0.14959437858696345, -0.094227007640722, -0.20007425331952924], [2.121212121212121, 0.05286911603969674, -0.03147673824744626, -0.1746074209121779, -0.1202972096109308, -0.16976557887436328], [2.2222222222222223, 0.06213042876112486, -0.05805740341073937, -0.17363785317406139, -0.10420824082842861, -0.21934517538976647], [2.323232323232323, 0.08957834307980989, -0.0787814119262828, -0.16846880637601844, -0.11716542599011105, -0.23367415503651887], [2.4242424242424243, 0.06323387689429699, -0.07597095871154406, -0.14851121175691614, -0.1459723760580838, -0.24433335541768944], [2.525252525252525, 0.10612901724945359, -0.10583396157852148, -0.18443089670649765, -0.11307463455599594, -0.2563914041932738], [2.6262626262626263, 0.1516354946063542, -0.11954484636664785, -0.17897950925277614, -0.15657707861453618, -0.2924244337090655], [2.727272727272727, 0.18153880517396476, -0.15147300644330694, -0.13907922313167462, -0.19931472555195012, -0.2954445025216428], [2.8282828282828283, 0.19641301349003817, -0.1867297759226039, -0.1273296981408893, -0.22733243399860684, -0.29028551002184794], [2.929292929292929, 0.16370120136820115, -0.19354675566553606, -0.11246594361690929, -0.2674647973749876, -0.3396013448940037], [3.0303030303030303, 0.18521417310454702, -0.20406464126016913, -0.1308367056218607, -0.23558191833755743, -0.30891461880411986], [3.131313131313131, 0.19441671282126458, -0.1841246749237157, -0.13527051003151658, -0.2550784818223117, -0.3517692761899115], [3.2323232323232323, 0.15431343877185302, -0.13505321174662613, -0.1302538024666722, -0.23994671763851494, -0.3837751485126222], [3.3333333333333335, 0.16888645716333184, -0.13561672964260515, -0.09974567476672429, -0.21305777571677925, -0.3736297689841714], [3.4343434343434343, 0.16548913546344418, -0.16647315625481576, -0.07417014107615723, -0.2220366865698671, -0.3346840808658744], [3.5353535353535355, 0.13816375611491005, -0.13036083954763505, -0.05858686221984591, -0.1988689720108289, -0.3229827658107436], [3.6363636363636362, 0.15079121567867587, -0.08165139079802375, -0.03356738285156495, -0.22859858553893359, -0.29728313558270714], [3.7373737373737375, 0.16405730654303177, -0.08287327551628357, -0.08348988796068291, -0.18821908345547506, -0.3397783558655597], [3.8383838383838382, 0.12622854560273492, -0.038928890996511895, -0.08659387318249527, -0.19712966504348312, -0.37128641541004803], [3.9393939393939394, 0.09314366522590706, -0.07765036048425088, -0.056820782036758485, -0.22573824126581926, -0.3784539261978509], [4.040404040404041, 0.10897314595947738, -0.1272900544400517, -0.035552885945266136, -0.22877475385731913, -0.39481167470068196], [4.141414141414141, 0.06701898534912992, -0.12567442649764587, -0.01703516513981075, -0.2019319222591282, -0.4144613596644156], [4.242424242424242, 0.09041237009168639, -0.13503746265856403, -0.03803908661122257, -0.18045550207704308, -0.45412476269862495], [4.343434343434343, 0.07626820666417305, -0.13941448854555796, -0.053656837138526224, -0.21040847110100777, -0.47948141696400554], [4.444444444444445, 0.09173242852635802, -0.1263825351593963, -0.09789689924835474, -0.21644294346888238, -0.5203838125932517], [4.545454545454545, 0.11536342658198218, -0.10616007880379705, -0.08054643862083544, -0.2318032236835285, -0.5119782357463816], [4.646464646464646, 0.10178232671790209, -0.12666394582939347, -0.10925491408116127, -0.19243344048677724, -0.5062647721946922], [4.747474747474747, 0.14787532519905328, -0.1719973374585209, -0.08765431845860142, -0.15752720890351418, -0.54218228928979], [4.848484848484849, 0.11812665142291706, -0.1660717993950468, -0.04324551366395536, -0.18939674445340945, -0.5094575463234177], [4.94949494949495, 0.15466523181260383, -0.15536078805862938, -0.05915807544618652, -0.22722280302592512, -0.5104910789311976], [5.05050505050505, 0.19842989576196848, -0.1968507497660476, -0.016876370047405144, -0.19159989262968008, -0.5318669632800009], [5.151515151515151, 0.19584435586964066, -0.20529042880066287, -0.06483682417789088, -0.21297391811548422, -0.5648241905334943], [5.252525252525253, 0.14629964569152765, -0.1561238409469898, -0.07196278948218451, -0.25226968089142077, -0.5886080178259377], [5.353535353535354, 0.12208981055473048, -0.19970336024201976, -0.031600205947954, -0.23585020796541944, -0.6171412180154995], [5.454545454545454, 0.12658321593295932, -0.23341283880452068, -0.07993584991208626, -0.19739264572448184, -0.6545898544281903], [5.555555555555555, 0.12359519221385798, -0.2510282858000518, -0.07092322896535874, -0.18576527940120413, -0.6084904194976725], [5.656565656565657, 0.09166574911327113, -0.2754334644889531, -0.0740585882872953, -0.1532537736583884, -0.6550560322242602], [5.757575757575758, 0.0802631649960858, -0.26754323459215246, -0.11902874735360663, -0.1455907856510254, -0.6295594865772611], [5.858585858585858, 0.034741169262920896, -0.23680518268929765, -0.14861626389604568, -0.1331917515467989, -0.6688904733778109], [5.959595959595959, 0.0215333797647219, -0.19883252181316252, -0.12244959181844806, -0.13102800968537445, -0.6766506651237523], [6.0606060606060606, -0.01934298997865057, -0.24753613605425973, -0.14546340089683835, -0.14252551919242434, -0.6495180335529975], [6.161616161616162, -0.016468537466486556, -0.28907807276010056, -0.10625872609407389, -0.1833771850451022, -0.6040723750042796], [6.262626262626262, 0.019925834519212315, -0.27176606563351147, -0.0639812935275545, -0.13764083622978762, -0.6339045879513697], [6.363636363636363, 0.030033294610033692, -0.24043000948934096, -0.05871021963432795, -0.14680504205671685, -0.6793382605380005], [6.4646464646464645, 0.03079496151754181, -0.2885707309525191, -0.07374711920041502, -0.1779065647197355, -0.6784896618363211], [6.565656565656566, 0.025256322135064894, -0.27644123143083377, -0.11329741030801838, -0.21379465125769567, -0.6492195081908102], [6.666666666666667, 0.011609123737725106, -0.31702452974382506, -0.1549235129591793, -0.20178634059921016, -0.6151244026874606], [6.767676767676767, 0.033590728712683454, -0.30533259434288973, -0.11872731876249987, -0.1663369029521144, -0.5782328908022697], [6.8686868686868685, 0.031338500330143286, -0.32439841800913, -0.1160616370405284, -0.19922862783886608, -0.6175731201295896], [6.96969696969697, 0.06443027495889662, -0.35033629267538574, -0.0979475229353962, -0.19146380000596175, -0.6512204595370894], [7.070707070707071, 0.10434940325869882, -0.3511287893503818, -0.06899792804596538, -0.18004252427061188, -0.6947572344634665], [7.171717171717171, 0.13306189792485165, -0.3096878507289058, -0.08396354656453531, -0.18654427909720414, -0.6639693608095241], [7.2727272727272725, 0.15031774949980833, -0.289346597736165, -0.08096432821621122, -0.23050121370099666, -0.6944829179929921], [7.373737373737374, 0.1688313647100748, -0.251892962268834, -0.11982615811440986, -0.21165345269672298, -0.7328580513972908], [7.474747474747475, 0.1512779811629256, -0.20760691272240303, -0.11995722389236636, -0.18940000041975416, -0.696769689558772], [7.575757575757575, 0.19308147850402207, -0.23775026494997614, -0.15226040669788027, -0.16949503238226213, -0.6919351329728931], [7.6767676767676765, 0.20264187259888763, -0.27335181170971995, -0.11861385444680633, -0.19581008887419882, -0.6973034134515622], [7.777777777777778, 0.2217056765608309, -0.2458233325915836, -0.13144255137047406, -0.21555066679416723, -0.7250059354478837], [7.878787878787879, 0.235634657757298, -0.24038099707557195, -0.09609203238947989, -0.25305451156578584, -0.7319473002173215], [7.979797979797979, 0.23846001368263214, -0.21014388711488377, -0.14533069895629924, -0.2227716891223588, -0.7476911807749639], [8.080808080808081, 0.24616753544259856, -0.22936211116182753, -0.18442601220910404, -0.18862987389680924, -0.7758662786164225], [8.181818181818182, 0.28501965592694994, -0.2430393926998675, -0.15468689610191907, -0.1821932091965201, -0.7957221565667113], [8.282828282828282, 0.3181095618192361, -0.24813276518416555, -0.1241938129580005, -0.1862679340129183, -0.7471016283561381], [8.383838383838384, 0.29403931771116076, -0.23129365649547265, -0.1053081204627801, -0.18753655365175326, -0.7780599449950982], [8.484848484848484, 0.2549832283770301, -0.21607243087761788, -0.10947981658978193, -0.16111001069281933, -0.7834014933122376], [8.585858585858587, 0.25002614339584756, -0.19418100543882436, -0.10320869843490721, -0.11764471814688353, -0.7709075979000521], [8.686868686868687, 0.29853471782002344, -0.1853646736209325, -0.08179509965096178, -0.09883495185679556, -0.7927066397256828], [8.787878787878787, 0.28155251982886903, -0.18599569566236948, -0.0644871645465569, -0.1422022743535909, -0.8165295371214181], [8.88888888888889, 0.28759436327559956, -0.20380675734785156, -0.04480818219336288, -0.12873018532069191, -0.8470403985095057], [8.98989898989899, 0.3337802954336685, -0.249048524787494, -0.03793680039622511, -0.1430597090301577, -0.8768333208375713], [9.09090909090909, 0.3747910813880749, -0.28204243924659034, 0.009833039436707408, -0.10241414290662453, -0.8862502830813058], [9.191919191919192, 0.4189785530618635, -0.23502371518537923, 0.036993659644177446, -0.0961004510613305, -0.9304198789605655], [9.292929292929292, 0.4477339369985046, -0.25025068158886876, 0.06793463176710608, -0.12408291437527497, -0.9327473581393992], [9.393939393939394, 0.4603294456700132, -0.2591657682379229, 0.08671754187592905, -0.12831416434346216, -0.9449181612568028], [9.494949494949495, 0.42356875055425336, -0.21763844633264848, 0.052575733907958264, -0.11825143579772912, -0.9240441696127701], [9.595959595959595, 0.3767075066612029, -0.18637519673559527, 0.08752220110584064, -0.10659418989489329, -0.9369248027585939], [9.696969696969697, 0.36716872148926255, -0.23426402663928264, 0.12084450992818019, -0.09640392095046438, -0.9377956446601511], [9.797979797979798, 0.3339415563303384, -0.24010318250594817, 0.10020678538319583, -0.06188713093463201, -0.9391605858074179], [9.8989898989899, 0.3614784842072367, -0.23357859072618684, 0.05728679649888932, -0.05319138684940729, -0.9880964749377521], [10.0, 0.38197289720208594, -0.276825715678541, 0.08693833283624394, -0.08928547686312036, -0.9674318025556293]]}, \"id\": \"el51762246922826824\", \"plugins\": [{\"type\": \"reset\"}, {\"type\": \"zoom\", \"button\": true, \"enabled\": false}, {\"type\": \"boxzoom\", \"button\": true, \"enabled\": false}, {\"type\": \"interactive_legend\", \"element_ids\": [[\"el51762246914916488\", \"el51762246914916488pts\"], [\"el51762246924793224\", \"el51762246924793224pts\"], [\"el51762246924792456\", \"el51762246924792456pts\"], [\"el51762246924792712\", \"el51762246924792712pts\"], [\"el51762246953687496\", \"el51762246953687496pts\"]], \"labels\": [\"a\", \"b\", \"c\", \"d\", \"e\"], \"ax\": null, \"alpha_unsel\": 0.2, \"alpha_over\": 1.0, \"start_visible\": [true, true, true, true, true]}]});\n",
       "            })\n",
       "         });\n",
       "}\n",
       "</script>"
      ],
      "text/plain": [
       "<IPython.core.display.HTML object>"
      ]
     },
     "execution_count": 15,
     "metadata": {},
     "output_type": "execute_result"
    }
   ],
   "source": [
    "import mpld3\n",
    "from mpld3 import plugins\n",
    "from mpld3.utils import get_id\n",
    "import numpy as np\n",
    "import collections\n",
    "import matplotlib.pyplot as plt\n",
    "\n",
    "N_paths = 5\n",
    "N_steps = 100\n",
    "\n",
    "x = np.linspace(0, 10, 100)\n",
    "y = 0.1 * (np.random.random((N_paths, N_steps)) - 0.5)\n",
    "y = y.cumsum(1)\n",
    "\n",
    "fig, ax = plt.subplots()\n",
    "labels = [\"a\", \"b\", \"c\", \"d\", \"e\"]\n",
    "line_collections = ax.plot(x, y.T, lw=4, alpha=0.2)\n",
    "interactive_legend = plugins.InteractiveLegendPlugin(line_collections, labels)\n",
    "plugins.connect(fig, interactive_legend)\n",
    "\n",
    "mpld3.display()\n"
   ]
  },
  {
   "cell_type": "code",
   "execution_count": 14,
   "metadata": {
    "scrolled": true
   },
   "outputs": [
    {
     "ename": "SyntaxError",
     "evalue": "invalid syntax (<ipython-input-14-8db3252829fb>, line 38)",
     "output_type": "error",
     "traceback": [
      "\u001b[1;36m  File \u001b[1;32m\"<ipython-input-14-8db3252829fb>\"\u001b[1;36m, line \u001b[1;32m38\u001b[0m\n\u001b[1;33m    We can link multiple elements to a single legend item\u001b[0m\n\u001b[1;37m         ^\u001b[0m\n\u001b[1;31mSyntaxError\u001b[0m\u001b[1;31m:\u001b[0m invalid syntax\n"
     ]
    }
   ],
   "source": [
    "\n"
   ]
  },
  {
   "cell_type": "code",
   "execution_count": null,
   "metadata": {},
   "outputs": [],
   "source": [
    "import matplotlib.pyplot as plt, mpld3\n",
    "#mpld3.enable_notebook(True)\n",
    "import json\n",
    "import numpy as np\n",
    "import pyLDAvis\n",
    "# TODO for readme \n",
    "# conda install -c conda-forge pyldavis\n",
    "from bokeh.io import  show, output_notebook, output_file\n",
    "from IPython.display import display, IFrame\n",
    "\n",
    "def load_R_model(filename):\n",
    "    with open(filename, 'r') as j:\n",
    "        data_input = json.load(j)\n",
    "    data = {'topic_term_dists': data_input['phi'], \n",
    "            'doc_topic_dists': data_input['theta'],\n",
    "            'doc_lengths': data_input['doc.length'],\n",
    "            'vocab': data_input['vocab'],\n",
    "            'term_frequency': data_input['term.frequency']}\n",
    "    return data\n",
    "\n",
    "f=output_file(\"pyDAVis.html\")\n",
    "output_notebook() # TODO for use in notebook\n",
    "pyLDAvis.enable_notebook(True)\n",
    "movies_model_data = load_R_model('topicmaps/data/movie_reviews_input.json')\n",
    "\n",
    "movies_vis_data = pyLDAvis.prepare(**movies_model_data)\n",
    "#p=pyLDAvis.display(movies_vis_data) # should use this in notebook\n",
    "viz=pyLDAvis.display(movies_vis_data, template_type='general')\n",
    "\n",
    "#p=pyLDAvis.show(movies_vis_data)\n",
    "from IPython.core.display import HTML\n",
    "print (\"Viz: \", viz)\n",
    "#IFrame(f, 500, 600)\n",
    "#display(HTML(viz))"
   ]
  },
  {
   "cell_type": "code",
   "execution_count": null,
   "metadata": {},
   "outputs": [],
   "source": [
    " from IPython.core.display import HTML\n",
    "from IPython.display import display, IFrame\n",
    "display(viz)"
   ]
  },
  {
   "cell_type": "code",
   "execution_count": 10,
   "metadata": {},
   "outputs": [
    {
     "data": {
      "text/html": [
       "\n",
       "    <div class=\"bk-root\">\n",
       "        <a href=\"https://bokeh.org\" target=\"_blank\" class=\"bk-logo bk-logo-small bk-logo-notebook\"></a>\n",
       "        <span id=\"1004\">Loading BokehJS ...</span>\n",
       "    </div>"
      ]
     },
     "metadata": {},
     "output_type": "display_data"
    },
    {
     "data": {
      "application/javascript": [
       "\n",
       "(function(root) {\n",
       "  function now() {\n",
       "    return new Date();\n",
       "  }\n",
       "\n",
       "  var force = true;\n",
       "\n",
       "  if (typeof root._bokeh_onload_callbacks === \"undefined\" || force === true) {\n",
       "    root._bokeh_onload_callbacks = [];\n",
       "    root._bokeh_is_loading = undefined;\n",
       "  }\n",
       "\n",
       "  var JS_MIME_TYPE = 'application/javascript';\n",
       "  var HTML_MIME_TYPE = 'text/html';\n",
       "  var EXEC_MIME_TYPE = 'application/vnd.bokehjs_exec.v0+json';\n",
       "  var CLASS_NAME = 'output_bokeh rendered_html';\n",
       "\n",
       "  /**\n",
       "   * Render data to the DOM node\n",
       "   */\n",
       "  function render(props, node) {\n",
       "    var script = document.createElement(\"script\");\n",
       "    node.appendChild(script);\n",
       "  }\n",
       "\n",
       "  /**\n",
       "   * Handle when an output is cleared or removed\n",
       "   */\n",
       "  function handleClearOutput(event, handle) {\n",
       "    var cell = handle.cell;\n",
       "\n",
       "    var id = cell.output_area._bokeh_element_id;\n",
       "    var server_id = cell.output_area._bokeh_server_id;\n",
       "    // Clean up Bokeh references\n",
       "    if (id != null && id in Bokeh.index) {\n",
       "      Bokeh.index[id].model.document.clear();\n",
       "      delete Bokeh.index[id];\n",
       "    }\n",
       "\n",
       "    if (server_id !== undefined) {\n",
       "      // Clean up Bokeh references\n",
       "      var cmd = \"from bokeh.io.state import curstate; print(curstate().uuid_to_server['\" + server_id + \"'].get_sessions()[0].document.roots[0]._id)\";\n",
       "      cell.notebook.kernel.execute(cmd, {\n",
       "        iopub: {\n",
       "          output: function(msg) {\n",
       "            var id = msg.content.text.trim();\n",
       "            if (id in Bokeh.index) {\n",
       "              Bokeh.index[id].model.document.clear();\n",
       "              delete Bokeh.index[id];\n",
       "            }\n",
       "          }\n",
       "        }\n",
       "      });\n",
       "      // Destroy server and session\n",
       "      var cmd = \"import bokeh.io.notebook as ion; ion.destroy_server('\" + server_id + \"')\";\n",
       "      cell.notebook.kernel.execute(cmd);\n",
       "    }\n",
       "  }\n",
       "\n",
       "  /**\n",
       "   * Handle when a new output is added\n",
       "   */\n",
       "  function handleAddOutput(event, handle) {\n",
       "    var output_area = handle.output_area;\n",
       "    var output = handle.output;\n",
       "\n",
       "    // limit handleAddOutput to display_data with EXEC_MIME_TYPE content only\n",
       "    if ((output.output_type != \"display_data\") || (!output.data.hasOwnProperty(EXEC_MIME_TYPE))) {\n",
       "      return\n",
       "    }\n",
       "\n",
       "    var toinsert = output_area.element.find(\".\" + CLASS_NAME.split(' ')[0]);\n",
       "\n",
       "    if (output.metadata[EXEC_MIME_TYPE][\"id\"] !== undefined) {\n",
       "      toinsert[toinsert.length - 1].firstChild.textContent = output.data[JS_MIME_TYPE];\n",
       "      // store reference to embed id on output_area\n",
       "      output_area._bokeh_element_id = output.metadata[EXEC_MIME_TYPE][\"id\"];\n",
       "    }\n",
       "    if (output.metadata[EXEC_MIME_TYPE][\"server_id\"] !== undefined) {\n",
       "      var bk_div = document.createElement(\"div\");\n",
       "      bk_div.innerHTML = output.data[HTML_MIME_TYPE];\n",
       "      var script_attrs = bk_div.children[0].attributes;\n",
       "      for (var i = 0; i < script_attrs.length; i++) {\n",
       "        toinsert[toinsert.length - 1].firstChild.setAttribute(script_attrs[i].name, script_attrs[i].value);\n",
       "        toinsert[toinsert.length - 1].firstChild.textContent = bk_div.children[0].textContent\n",
       "      }\n",
       "      // store reference to server id on output_area\n",
       "      output_area._bokeh_server_id = output.metadata[EXEC_MIME_TYPE][\"server_id\"];\n",
       "    }\n",
       "  }\n",
       "\n",
       "  function register_renderer(events, OutputArea) {\n",
       "\n",
       "    function append_mime(data, metadata, element) {\n",
       "      // create a DOM node to render to\n",
       "      var toinsert = this.create_output_subarea(\n",
       "        metadata,\n",
       "        CLASS_NAME,\n",
       "        EXEC_MIME_TYPE\n",
       "      );\n",
       "      this.keyboard_manager.register_events(toinsert);\n",
       "      // Render to node\n",
       "      var props = {data: data, metadata: metadata[EXEC_MIME_TYPE]};\n",
       "      render(props, toinsert[toinsert.length - 1]);\n",
       "      element.append(toinsert);\n",
       "      return toinsert\n",
       "    }\n",
       "\n",
       "    /* Handle when an output is cleared or removed */\n",
       "    events.on('clear_output.CodeCell', handleClearOutput);\n",
       "    events.on('delete.Cell', handleClearOutput);\n",
       "\n",
       "    /* Handle when a new output is added */\n",
       "    events.on('output_added.OutputArea', handleAddOutput);\n",
       "\n",
       "    /**\n",
       "     * Register the mime type and append_mime function with output_area\n",
       "     */\n",
       "    OutputArea.prototype.register_mime_type(EXEC_MIME_TYPE, append_mime, {\n",
       "      /* Is output safe? */\n",
       "      safe: true,\n",
       "      /* Index of renderer in `output_area.display_order` */\n",
       "      index: 0\n",
       "    });\n",
       "  }\n",
       "\n",
       "  // register the mime type if in Jupyter Notebook environment and previously unregistered\n",
       "  if (root.Jupyter !== undefined) {\n",
       "    var events = require('base/js/events');\n",
       "    var OutputArea = require('notebook/js/outputarea').OutputArea;\n",
       "\n",
       "    if (OutputArea.prototype.mime_types().indexOf(EXEC_MIME_TYPE) == -1) {\n",
       "      register_renderer(events, OutputArea);\n",
       "    }\n",
       "  }\n",
       "\n",
       "  \n",
       "  if (typeof (root._bokeh_timeout) === \"undefined\" || force === true) {\n",
       "    root._bokeh_timeout = Date.now() + 5000;\n",
       "    root._bokeh_failed_load = false;\n",
       "  }\n",
       "\n",
       "  var NB_LOAD_WARNING = {'data': {'text/html':\n",
       "     \"<div style='background-color: #fdd'>\\n\"+\n",
       "     \"<p>\\n\"+\n",
       "     \"BokehJS does not appear to have successfully loaded. If loading BokehJS from CDN, this \\n\"+\n",
       "     \"may be due to a slow or bad network connection. Possible fixes:\\n\"+\n",
       "     \"</p>\\n\"+\n",
       "     \"<ul>\\n\"+\n",
       "     \"<li>re-rerun `output_notebook()` to attempt to load from CDN again, or</li>\\n\"+\n",
       "     \"<li>use INLINE resources instead, as so:</li>\\n\"+\n",
       "     \"</ul>\\n\"+\n",
       "     \"<code>\\n\"+\n",
       "     \"from bokeh.resources import INLINE\\n\"+\n",
       "     \"output_notebook(resources=INLINE)\\n\"+\n",
       "     \"</code>\\n\"+\n",
       "     \"</div>\"}};\n",
       "\n",
       "  function display_loaded() {\n",
       "    var el = document.getElementById(\"1004\");\n",
       "    if (el != null) {\n",
       "      el.textContent = \"BokehJS is loading...\";\n",
       "    }\n",
       "    if (root.Bokeh !== undefined) {\n",
       "      if (el != null) {\n",
       "        el.textContent = \"BokehJS \" + root.Bokeh.version + \" successfully loaded.\";\n",
       "      }\n",
       "    } else if (Date.now() < root._bokeh_timeout) {\n",
       "      setTimeout(display_loaded, 100)\n",
       "    }\n",
       "  }\n",
       "\n",
       "\n",
       "  function run_callbacks() {\n",
       "    try {\n",
       "      root._bokeh_onload_callbacks.forEach(function(callback) {\n",
       "        if (callback != null)\n",
       "          callback();\n",
       "      });\n",
       "    } finally {\n",
       "      delete root._bokeh_onload_callbacks\n",
       "    }\n",
       "    console.debug(\"Bokeh: all callbacks have finished\");\n",
       "  }\n",
       "\n",
       "  function load_libs(css_urls, js_urls, callback) {\n",
       "    if (css_urls == null) css_urls = [];\n",
       "    if (js_urls == null) js_urls = [];\n",
       "\n",
       "    root._bokeh_onload_callbacks.push(callback);\n",
       "    if (root._bokeh_is_loading > 0) {\n",
       "      console.debug(\"Bokeh: BokehJS is being loaded, scheduling callback at\", now());\n",
       "      return null;\n",
       "    }\n",
       "    if (js_urls == null || js_urls.length === 0) {\n",
       "      run_callbacks();\n",
       "      return null;\n",
       "    }\n",
       "    console.debug(\"Bokeh: BokehJS not loaded, scheduling load and callback at\", now());\n",
       "    root._bokeh_is_loading = css_urls.length + js_urls.length;\n",
       "\n",
       "    function on_load() {\n",
       "      root._bokeh_is_loading--;\n",
       "      if (root._bokeh_is_loading === 0) {\n",
       "        console.debug(\"Bokeh: all BokehJS libraries/stylesheets loaded\");\n",
       "        run_callbacks()\n",
       "      }\n",
       "    }\n",
       "\n",
       "    function on_error() {\n",
       "      console.error(\"failed to load \" + url);\n",
       "    }\n",
       "\n",
       "    for (var i = 0; i < css_urls.length; i++) {\n",
       "      var url = css_urls[i];\n",
       "      const element = document.createElement(\"link\");\n",
       "      element.onload = on_load;\n",
       "      element.onerror = on_error;\n",
       "      element.rel = \"stylesheet\";\n",
       "      element.type = \"text/css\";\n",
       "      element.href = url;\n",
       "      console.debug(\"Bokeh: injecting link tag for BokehJS stylesheet: \", url);\n",
       "      document.body.appendChild(element);\n",
       "    }\n",
       "\n",
       "    const hashes = {\"https://cdn.bokeh.org/bokeh/release/bokeh-2.0.2.min.js\": \"ufR9RFnRs6lniiaFvtJziE0YeidtAgBRH6ux2oUItHw5WTvE1zuk9uzhUU/FJXDp\", \"https://cdn.bokeh.org/bokeh/release/bokeh-widgets-2.0.2.min.js\": \"8QM/PGWBT+IssZuRcDcjzwIh1mkOmJSoNMmyYDZbCfXJg3Ap1lEvdVgFuSAwhb/J\", \"https://cdn.bokeh.org/bokeh/release/bokeh-tables-2.0.2.min.js\": \"Jm8cH3Rg0P6UeZhVY5cLy1WzKajUT9KImCY+76hEqrcJt59/d8GPvFHjCkYgnSIn\", \"https://cdn.bokeh.org/bokeh/release/bokeh-gl-2.0.2.min.js\": \"Ozhzj+SI7ywm74aOI/UajcWz+C0NjsPunEVyVIrxzYkB+jA+2tUw8x5xJCbVtK5I\"};\n",
       "\n",
       "    for (var i = 0; i < js_urls.length; i++) {\n",
       "      var url = js_urls[i];\n",
       "      var element = document.createElement('script');\n",
       "      element.onload = on_load;\n",
       "      element.onerror = on_error;\n",
       "      element.async = false;\n",
       "      element.src = url;\n",
       "      if (url in hashes) {\n",
       "        element.crossOrigin = \"anonymous\";\n",
       "        element.integrity = \"sha384-\" + hashes[url];\n",
       "      }\n",
       "      console.debug(\"Bokeh: injecting script tag for BokehJS library: \", url);\n",
       "      document.head.appendChild(element);\n",
       "    }\n",
       "  };\n",
       "\n",
       "  function inject_raw_css(css) {\n",
       "    const element = document.createElement(\"style\");\n",
       "    element.appendChild(document.createTextNode(css));\n",
       "    document.body.appendChild(element);\n",
       "  }\n",
       "\n",
       "  \n",
       "  var js_urls = [\"https://cdn.bokeh.org/bokeh/release/bokeh-2.0.2.min.js\", \"https://cdn.bokeh.org/bokeh/release/bokeh-widgets-2.0.2.min.js\", \"https://cdn.bokeh.org/bokeh/release/bokeh-tables-2.0.2.min.js\", \"https://cdn.bokeh.org/bokeh/release/bokeh-gl-2.0.2.min.js\"];\n",
       "  var css_urls = [];\n",
       "  \n",
       "\n",
       "  var inline_js = [\n",
       "    function(Bokeh) {\n",
       "      Bokeh.set_log_level(\"info\");\n",
       "    },\n",
       "    function(Bokeh) {\n",
       "    \n",
       "    \n",
       "    }\n",
       "  ];\n",
       "\n",
       "  function run_inline_js() {\n",
       "    \n",
       "    if (root.Bokeh !== undefined || force === true) {\n",
       "      \n",
       "    for (var i = 0; i < inline_js.length; i++) {\n",
       "      inline_js[i].call(root, root.Bokeh);\n",
       "    }\n",
       "    if (force === true) {\n",
       "        display_loaded();\n",
       "      }} else if (Date.now() < root._bokeh_timeout) {\n",
       "      setTimeout(run_inline_js, 100);\n",
       "    } else if (!root._bokeh_failed_load) {\n",
       "      console.log(\"Bokeh: BokehJS failed to load within specified timeout.\");\n",
       "      root._bokeh_failed_load = true;\n",
       "    } else if (force !== true) {\n",
       "      var cell = $(document.getElementById(\"1004\")).parents('.cell').data().cell;\n",
       "      cell.output_area.append_execute_result(NB_LOAD_WARNING)\n",
       "    }\n",
       "\n",
       "  }\n",
       "\n",
       "  if (root._bokeh_is_loading === 0) {\n",
       "    console.debug(\"Bokeh: BokehJS loaded, going straight to plotting\");\n",
       "    run_inline_js();\n",
       "  } else {\n",
       "    load_libs(css_urls, js_urls, function() {\n",
       "      console.debug(\"Bokeh: BokehJS plotting callback run at\", now());\n",
       "      run_inline_js();\n",
       "    });\n",
       "  }\n",
       "}(window));"
      ],
      "application/vnd.bokehjs_load.v0+json": "\n(function(root) {\n  function now() {\n    return new Date();\n  }\n\n  var force = true;\n\n  if (typeof root._bokeh_onload_callbacks === \"undefined\" || force === true) {\n    root._bokeh_onload_callbacks = [];\n    root._bokeh_is_loading = undefined;\n  }\n\n  \n\n  \n  if (typeof (root._bokeh_timeout) === \"undefined\" || force === true) {\n    root._bokeh_timeout = Date.now() + 5000;\n    root._bokeh_failed_load = false;\n  }\n\n  var NB_LOAD_WARNING = {'data': {'text/html':\n     \"<div style='background-color: #fdd'>\\n\"+\n     \"<p>\\n\"+\n     \"BokehJS does not appear to have successfully loaded. If loading BokehJS from CDN, this \\n\"+\n     \"may be due to a slow or bad network connection. Possible fixes:\\n\"+\n     \"</p>\\n\"+\n     \"<ul>\\n\"+\n     \"<li>re-rerun `output_notebook()` to attempt to load from CDN again, or</li>\\n\"+\n     \"<li>use INLINE resources instead, as so:</li>\\n\"+\n     \"</ul>\\n\"+\n     \"<code>\\n\"+\n     \"from bokeh.resources import INLINE\\n\"+\n     \"output_notebook(resources=INLINE)\\n\"+\n     \"</code>\\n\"+\n     \"</div>\"}};\n\n  function display_loaded() {\n    var el = document.getElementById(\"1004\");\n    if (el != null) {\n      el.textContent = \"BokehJS is loading...\";\n    }\n    if (root.Bokeh !== undefined) {\n      if (el != null) {\n        el.textContent = \"BokehJS \" + root.Bokeh.version + \" successfully loaded.\";\n      }\n    } else if (Date.now() < root._bokeh_timeout) {\n      setTimeout(display_loaded, 100)\n    }\n  }\n\n\n  function run_callbacks() {\n    try {\n      root._bokeh_onload_callbacks.forEach(function(callback) {\n        if (callback != null)\n          callback();\n      });\n    } finally {\n      delete root._bokeh_onload_callbacks\n    }\n    console.debug(\"Bokeh: all callbacks have finished\");\n  }\n\n  function load_libs(css_urls, js_urls, callback) {\n    if (css_urls == null) css_urls = [];\n    if (js_urls == null) js_urls = [];\n\n    root._bokeh_onload_callbacks.push(callback);\n    if (root._bokeh_is_loading > 0) {\n      console.debug(\"Bokeh: BokehJS is being loaded, scheduling callback at\", now());\n      return null;\n    }\n    if (js_urls == null || js_urls.length === 0) {\n      run_callbacks();\n      return null;\n    }\n    console.debug(\"Bokeh: BokehJS not loaded, scheduling load and callback at\", now());\n    root._bokeh_is_loading = css_urls.length + js_urls.length;\n\n    function on_load() {\n      root._bokeh_is_loading--;\n      if (root._bokeh_is_loading === 0) {\n        console.debug(\"Bokeh: all BokehJS libraries/stylesheets loaded\");\n        run_callbacks()\n      }\n    }\n\n    function on_error() {\n      console.error(\"failed to load \" + url);\n    }\n\n    for (var i = 0; i < css_urls.length; i++) {\n      var url = css_urls[i];\n      const element = document.createElement(\"link\");\n      element.onload = on_load;\n      element.onerror = on_error;\n      element.rel = \"stylesheet\";\n      element.type = \"text/css\";\n      element.href = url;\n      console.debug(\"Bokeh: injecting link tag for BokehJS stylesheet: \", url);\n      document.body.appendChild(element);\n    }\n\n    const hashes = {\"https://cdn.bokeh.org/bokeh/release/bokeh-2.0.2.min.js\": \"ufR9RFnRs6lniiaFvtJziE0YeidtAgBRH6ux2oUItHw5WTvE1zuk9uzhUU/FJXDp\", \"https://cdn.bokeh.org/bokeh/release/bokeh-widgets-2.0.2.min.js\": \"8QM/PGWBT+IssZuRcDcjzwIh1mkOmJSoNMmyYDZbCfXJg3Ap1lEvdVgFuSAwhb/J\", \"https://cdn.bokeh.org/bokeh/release/bokeh-tables-2.0.2.min.js\": \"Jm8cH3Rg0P6UeZhVY5cLy1WzKajUT9KImCY+76hEqrcJt59/d8GPvFHjCkYgnSIn\", \"https://cdn.bokeh.org/bokeh/release/bokeh-gl-2.0.2.min.js\": \"Ozhzj+SI7ywm74aOI/UajcWz+C0NjsPunEVyVIrxzYkB+jA+2tUw8x5xJCbVtK5I\"};\n\n    for (var i = 0; i < js_urls.length; i++) {\n      var url = js_urls[i];\n      var element = document.createElement('script');\n      element.onload = on_load;\n      element.onerror = on_error;\n      element.async = false;\n      element.src = url;\n      if (url in hashes) {\n        element.crossOrigin = \"anonymous\";\n        element.integrity = \"sha384-\" + hashes[url];\n      }\n      console.debug(\"Bokeh: injecting script tag for BokehJS library: \", url);\n      document.head.appendChild(element);\n    }\n  };\n\n  function inject_raw_css(css) {\n    const element = document.createElement(\"style\");\n    element.appendChild(document.createTextNode(css));\n    document.body.appendChild(element);\n  }\n\n  \n  var js_urls = [\"https://cdn.bokeh.org/bokeh/release/bokeh-2.0.2.min.js\", \"https://cdn.bokeh.org/bokeh/release/bokeh-widgets-2.0.2.min.js\", \"https://cdn.bokeh.org/bokeh/release/bokeh-tables-2.0.2.min.js\", \"https://cdn.bokeh.org/bokeh/release/bokeh-gl-2.0.2.min.js\"];\n  var css_urls = [];\n  \n\n  var inline_js = [\n    function(Bokeh) {\n      Bokeh.set_log_level(\"info\");\n    },\n    function(Bokeh) {\n    \n    \n    }\n  ];\n\n  function run_inline_js() {\n    \n    if (root.Bokeh !== undefined || force === true) {\n      \n    for (var i = 0; i < inline_js.length; i++) {\n      inline_js[i].call(root, root.Bokeh);\n    }\n    if (force === true) {\n        display_loaded();\n      }} else if (Date.now() < root._bokeh_timeout) {\n      setTimeout(run_inline_js, 100);\n    } else if (!root._bokeh_failed_load) {\n      console.log(\"Bokeh: BokehJS failed to load within specified timeout.\");\n      root._bokeh_failed_load = true;\n    } else if (force !== true) {\n      var cell = $(document.getElementById(\"1004\")).parents('.cell').data().cell;\n      cell.output_area.append_execute_result(NB_LOAD_WARNING)\n    }\n\n  }\n\n  if (root._bokeh_is_loading === 0) {\n    console.debug(\"Bokeh: BokehJS loaded, going straight to plotting\");\n    run_inline_js();\n  } else {\n    load_libs(css_urls, js_urls, function() {\n      console.debug(\"Bokeh: BokehJS plotting callback run at\", now());\n      run_inline_js();\n    });\n  }\n}(window));"
     },
     "metadata": {},
     "output_type": "display_data"
    },
    {
     "data": {
      "text/html": [
       "\n",
       "<link rel=\"stylesheet\" type=\"text/css\" href=\"https://cdn.rawgit.com/bmabey/pyLDAvis/files/ldavis.v1.0.0.css\">\n",
       "\n",
       "\n",
       "<div id=\"ldavis_el517622470062544082976420566\"></div>\n",
       "<script type=\"text/javascript\">\n",
       "\n",
       "var ldavis_el517622470062544082976420566_data = {\"mdsDat\": {\"x\": [-0.045050043081944914, 0.00706246253357094, -0.07095073901597573, -0.16214597732416253, 0.052723429552872236, 0.26109374707176386, -0.09880276069863339, 0.10611533980732002, 0.13358488271014926, -0.17788516772845947, 0.16081575059452508, 0.19681622777074054, -0.16581269886834704, 0.08265893067047533, 0.02478163611950003, -0.04656711367272756, -0.09911756051614112, -0.10568345871447338, 0.01005429245706935, -0.06369117966712073], \"y\": [-0.2694202047147363, -0.052900347747219946, -0.31644845258578613, 0.007312910779602283, 0.05957960553745816, 0.02207227862581558, 0.0119526076161504, 0.04898923384928836, -0.02979066874584725, 0.05804113778988225, -0.005733830736750291, 0.06866362713745422, 0.12633509923014613, -0.026149056597906062, -0.01754494775003278, 0.01403379187210248, 0.15125684718813032, 0.050054739069113986, 0.0893590584299783, 0.010336571753156155], \"topics\": [1, 2, 3, 4, 5, 6, 7, 8, 9, 10, 11, 12, 13, 14, 15, 16, 17, 18, 19, 20], \"cluster\": [1, 1, 1, 1, 1, 1, 1, 1, 1, 1, 1, 1, 1, 1, 1, 1, 1, 1, 1, 1], \"Freq\": [53.76068106965404, 7.259355540713209, 5.255363765905493, 3.465402133035367, 3.0626949145579516, 2.541895782039824, 2.491748724090263, 2.4204843551687834, 2.172923606155046, 2.081216588594323, 1.930721022281169, 1.8076545770028893, 1.7650105939585916, 1.6877694710511653, 1.6594044172118638, 1.480146641528301, 1.407835670527523, 1.3612117657796665, 1.3465670324697245, 1.0419123282748097]}, \"tinfo\": {\"Term\": [\"movie\", \"film\", \"good\", \"character\", \"story\", \"bad\", \"films\", \"life\", \"time\", \"plot\", \"characters\", \"love\", \"scenes\", \"dont\", \"action\", \"great\", \"scene\", \"movies\", \"hes\", \"people\", \"big\", \"high\", \"funny\", \"comedy\", \"show\", \"things\", \"john\", \"back\", \"man\", \"thing\", \"makes\", \"played\", \"actors\", \"hard\", \"times\", \"shows\", \"main\", \"idea\", \"finally\", \"direction\", \"late\", \"interest\", \"talent\", \"surprise\", \"easily\", \"change\", \"begin\", \"viewers\", \"similar\", \"follow\", \"filled\", \"add\", \"doubt\", \"move\", \"brought\", \"talented\", \"biggest\", \"showing\", \"depth\", \"constantly\", \"film\", \"making\", \"ending\", \"found\", \"long\", \"top\", \"play\", \"problem\", \"level\", \"attempt\", \"director\", \"work\", \"works\", \"entire\", \"including\", \"lead\", \"character\", \"characters\", \"great\", \"rest\", \"performances\", \"end\", \"time\", \"completely\", \"make\", \"part\", \"scenes\", \"audience\", \"years\", \"fact\", \"interesting\", \"films\", \"screen\", \"doesnt\", \"real\", \"good\", \"made\", \"people\", \"back\", \"movie\", \"story\", \"scene\", \"role\", \"man\", \"plot\", \"dont\", \"movies\", \"life\", \"eager\", \"involvement\", \"amidst\", \"rings\", \"bold\", \"treasure\", \"landscape\", \"alternative\", \"subtitles\", \"respects\", \"affecting\", \"insanity\", \"grip\", \"symbolism\", \"symbolic\", \"shortcomings\", \"thematic\", \"loneliness\", \"compassion\", \"realities\", \"controversy\", \"conveys\", \"eternity\", \"inherently\", \"ideals\", \"ensure\", \"rural\", \"sewell\", \"commands\", \"temper\", \"mentality\", \"vignettes\", \"embodies\", \"transforms\", \"jordan\", \"religious\", \"describes\", \"sympathy\", \"passion\", \"religion\", \"demeanor\", \"themes\", \"heartfelt\", \"crafted\", \"images\", \"culture\", \"fascinating\", \"revelation\", \"views\", \"philosophy\", \"society\", \"social\", \"conventional\", \"christ\", \"dark\", \"carefully\", \"fable\", \"visual\", \"pain\", \"city\", \"world\", \"message\", \"emotions\", \"soul\", \"power\", \"angels\", \"creates\", \"art\", \"god\", \"life\", \"journey\", \"visually\", \"effective\", \"visuals\", \"human\", \"sense\", \"death\", \"young\", \"white\", \"true\", \"story\", \"reality\", \"mr\", \"emotional\", \"tale\", \"man\", \"place\", \"experience\", \"american\", \"camera\", \"scene\", \"seagal\", \"crawford\", \"groan\", \"wisecracks\", \"pissed\", \"quasi\", \"bats\", \"slam\", \"caligula\", \"diedre\", \"russ\", \"har\", \"moron\", \"russells\", \"malicious\", \"whip\", \"segal\", \"cheezy\", \"cindy\", \"beans\", \"blissfully\", \"succession\", \"bra\", \"pic\", \"oops\", \"babes\", \"icky\", \"popped\", \"stupidest\", \"scummy\", \"posturing\", \"consecutive\", \"gadget\", \"lambert\", \"idiotic\", \"huh\", \"stupidity\", \"kinda\", \"sucks\", \"shit\", \"claw\", \"highlander\", \"wow\", \"bad\", \"hed\", \"idiot\", \"stupid\", \"worst\", \"lame\", \"dumb\", \"bunch\", \"turkey\", \"movie\", \"im\", \"bean\", \"crap\", \"guy\", \"rent\", \"ass\", \"youre\", \"skip\", \"wasnt\", \"dont\", \"thing\", \"theyre\", \"guys\", \"movies\", \"good\", \"guess\", \"hell\", \"waste\", \"id\", \"flick\", \"supposed\", \"minutes\", \"funny\", \"didnt\", \"pretty\", \"plot\", \"hes\", \"review\", \"big\", \"time\", \"acting\", \"people\", \"doesnt\", \"scene\", \"isnt\", \"fun\", \"make\", \"guido\", \"simons\", \"shakespeares\", \"benigni\", \"hush\", \"beatrice\", \"stephens\", \"flanders\", \"bancroft\", \"hilary\", \"pfeiffer\", \"chocolat\", \"rowlands\", \"bubby\", \"merton\", \"onegin\", \"yang\", \"quilt\", \"millie\", \"polish\", \"claires\", \"alessa\", \"rampling\", \"roberto\", \"aberdeen\", \"gavins\", \"finns\", \"andreas\", \"branaghs\", \"parrot\", \"paltrow\", \"paulie\", \"nello\", \"familys\", \"gwyneth\", \"estella\", \"finn\", \"irresistible\", \"shakespeare\", \"marie\", \"birch\", \"sliding\", \"marry\", \"hamlet\", \"emily\", \"families\", \"grandfather\", \"family\", \"romantic\", \"married\", \"marriage\", \"husband\", \"mother\", \"helen\", \"kate\", \"simon\", \"son\", \"parents\", \"anna\", \"sister\", \"father\", \"love\", \"daughter\", \"elizabeth\", \"woman\", \"life\", \"sweet\", \"children\", \"home\", \"romance\", \"relationship\", \"wife\", \"comedy\", \"child\", \"beautiful\", \"town\", \"man\", \"year\", \"day\", \"finds\", \"young\", \"story\", \"house\", \"jackal\", \"ordell\", \"heist\", \"brenner\", \"jeopardy\", \"tarantinos\", \"mamet\", \"reservoir\", \"rhames\", \"ronin\", \"bail\", \"ving\", \"tibbs\", \"negotiator\", \"capone\", \"mortensen\", \"kersey\", \"motta\", \"palminteri\", \"liotta\", \"elmore\", \"ordells\", \"frankenheimer\", \"brasco\", \"wiseguy\", \"scarface\", \"archer\", \"marshals\", \"mamets\", \"autistic\", \"eastwood\", \"parole\", \"tarantino\", \"fugitive\", \"crime\", \"reindeer\", \"gangster\", \"pulp\", \"quentin\", \"cops\", \"payback\", \"mob\", \"libby\", \"criminal\", \"cop\", \"judd\", \"niro\", \"grier\", \"fbi\", \"carter\", \"karen\", \"police\", \"brown\", \"thriller\", \"partner\", \"gibson\", \"murder\", \"prison\", \"jackson\", \"willis\", \"action\", \"de\", \"killer\", \"agent\", \"jackie\", \"tough\", \"fiction\", \"bruce\", \"lee\", \"jack\", \"violence\", \"car\", \"kill\", \"plot\", \"role\", \"fi\", \"sci\", \"mars\", \"existenz\", \"insurrection\", \"genetically\", \"baku\", \"picard\", \"mib\", \"laurence\", \"psychlos\", \"psychlo\", \"ripley\", \"martians\", \"alien\", \"genetic\", \"terl\", \"helgenberger\", \"zemeckis\", \"marg\", \"weller\", \"doogie\", \"andromeda\", \"joss\", \"lazard\", \"supernova\", \"arroway\", \"borg\", \"intergalactic\", \"ironside\", \"mst3k\", \"sil\", \"aliens\", \"data\", \"trek\", \"starship\", \"science\", \"robocop\", \"futuristic\", \"evolution\", \"troopers\", \"virus\", \"species\", \"horizon\", \"planet\", \"verhoeven\", \"space\", \"matrix\", \"virtual\", \"contact\", \"earth\", \"fiction\", \"computer\", \"ellie\", \"technology\", \"effects\", \"mission\", \"star\", \"special\", \"humans\", \"human\", \"series\", \"crew\", \"action\", \"future\", \"world\", \"film\", \"films\", \"carrey\", \"trumans\", \"ventura\", \"deuce\", \"krippendorfs\", \"beavis\", \"christof\", \"fart\", \"burbank\", \"sims\", \"krippendorf\", \"macdonald\", \"wayans\", \"bilko\", \"mitch\", \"hawtrey\", \"shandling\", \"woodys\", \"degeneres\", \"mcdonald\", \"garth\", \"grammer\", \"corky\", \"spade\", \"seahaven\", \"hulot\", \"als\", \"hattie\", \"fingernail\", \"bigalow\", \"truman\", \"flubber\", \"gags\", \"darryl\", \"allen\", \"jokes\", \"carreys\", \"tribe\", \"woody\", \"ace\", \"laughs\", \"spice\", \"spoof\", \"funny\", \"comedy\", \"joke\", \"celebrity\", \"humor\", \"jim\", \"hilarious\", \"unfunny\", \"greg\", \"deniro\", \"kenneth\", \"laugh\", \"show\", \"laughing\", \"brothers\", \"stiller\", \"comedies\", \"carry\", \"comic\", \"funniest\", \"girls\", \"movie\", \"hes\", \"2\", \"tv\", \"amusing\", \"williams\", \"big\", \"television\", \"mr\", \"series\", \"holocaust\", \"sweetback\", \"nazis\", \"africans\", \"arab\", \"peebles\", \"dalai\", \"lama\", \"kurtz\", \"malick\", \"fuentes\", \"lumumba\", \"soviet\", \"mandingo\", \"ambassador\", \"skinhead\", \"camps\", \"terrorism\", \"geronimo\", \"571\", \"dereks\", \"hubbard\", \"kwai\", \"zwick\", \"postal\", \"pupil\", \"armies\", \"costners\", \"waterworld\", \"beaumarchais\", \"soldiers\", \"siege\", \"nazi\", \"war\", \"slavery\", \"spielberg\", \"soldier\", \"amistad\", \"schindlers\", \"spielbergs\", \"col\", \"civil\", \"derek\", \"terrorists\", \"army\", \"slave\", \"political\", \"colonel\", \"military\", \"battle\", \"racism\", \"men\", \"warrior\", \"nuclear\", \"president\", \"braveheart\", \"private\", \"ryan\", \"american\", \"united\", \"historical\", \"leader\", \"history\", \"states\", \"epic\", \"black\", \"saving\", \"captured\", \"kings\", \"country\", \"forces\", \"government\", \"america\", \"action\", \"white\", \"fight\", \"hero\", \"phantom\", \"shrek\", \"obi\", \"antz\", \"darth\", \"anakin\", \"qui\", \"gon\", \"vader\", \"taran\", \"kenobi\", \"donkey\", \"mulan\", \"animators\", \"anastasia\", \"dalmatians\", \"pokemon\", \"naboo\", \"farquaad\", \"wen\", \"tatooine\", \"mulans\", \"amidala\", \"hercules\", \"chickens\", \"apprentice\", \"maul\", \"horned\", \"mushu\", \"ariel\", \"disney\", \"animation\", \"tarzan\", \"disneys\", \"jar\", \"jedi\", \"cauldron\", \"animated\", \"lucas\", \"wan\", \"menace\", \"moses\", \"skywalker\", \"wars\", \"mermaid\", \"chicken\", \"pig\", \"voiced\", \"babe\", \"bugs\", \"princess\", \"voice\", \"toys\", \"toy\", \"fairy\", \"star\", \"adults\", \"story\", \"king\", \"computer\", \"kids\", \"family\", \"children\", \"special\", \"young\", \"effects\", \"original\", \"evil\", \"farrellys\", \"jawbreaker\", \"farrelly\", \"suzie\", \"biggs\", \"varsity\", \"zellweger\", \"josie\", \"darren\", \"stiles\", \"heckerling\", \"levy\", \"jimmie\", \"der\", \"sams\", \"quarterback\", \"osmosis\", \"mcnaughton\", \"prank\", \"lombardo\", \"beek\", \"ramis\", \"cheerleader\", \"bianca\", \"romy\", \"football\", \"winkler\", \"muresan\", \"fern\", \"bacons\", \"kaplan\", \"denise\", \"pleasantville\", \"chad\", \"dillon\", \"richards\", \"pie\", \"kissed\", \"coach\", \"perry\", \"counselor\", \"mpaa\", \"school\", \"bacon\", \"murray\", \"irene\", \"sam\", \"loser\", \"max\", \"schools\", \"high\", \"student\", \"teacher\", \"sex\", \"matt\", \"chris\", \"amy\", \"comedy\", \"bill\", \"teen\", \"gay\", \"things\", \"wild\", \"mary\", \"funny\", \"girl\", \"girls\", \"kevin\", \"van\", \"friends\", \"girlfriend\", \"american\", \"shes\", \"white\", \"role\", \"vampire\", \"disc\", \"besson\", \"werewolf\", \"vampires\", \"exorcist\", \"argento\", \"spawn\", \"audio\", \"jovovich\", \"supergirl\", \"ichabod\", \"argentos\", \"valek\", \"horseman\", \"deliverance\", \"valjean\", \"miserables\", \"boorman\", \"superheroes\", \"entrapment\", \"lestat\", \"javert\", \"cosette\", \"milla\", \"danvers\", \"tenebrae\", \"zardoz\", \"nikita\", \"slayer\", \"bram\", \"fright\", \"dvd\", \"bessons\", \"sleepy\", \"blair\", \"witch\", \"dracula\", \"ghosts\", \"carpenter\", \"hollow\", \"crow\", \"carpenters\", \"haunted\", \"blade\", \"haunting\", \"horror\", \"edition\", \"halloween\", \"woods\", \"scare\", \"scary\", \"theatrical\", \"version\", \"book\", \"house\", \"video\", \"footage\", \"effects\", \"original\", \"special\", \"blood\", \"film\", \"comic\", \"films\", \"release\", \"evil\", \"john\", \"production\", \"godzilla\", \"volcano\", \"asteroid\", \"leder\", \"leoni\", \"patlabor\", \"eruption\", \"levinson\", \"comet\", \"poseidon\", \"hogarth\", \"tatopoulos\", \"cargo\", \"ari\", \"tidal\", \"squid\", \"tremors\", \"driller\", \"poachers\", \"tanker\", \"harlin\", \"raptors\", \"enola\", \"shackleton\", \"tornadoes\", \"osnard\", \"mir\", \"godzillas\", \"pitillo\", \"devlin\", \"sphere\", \"anaconda\", \"dinosaurs\", \"lizard\", \"dantes\", \"apes\", \"leo\", \"mummy\", \"ship\", \"jaws\", \"fraser\", \"armageddon\", \"gorilla\", \"jurassic\", \"passengers\", \"disaster\", \"shark\", \"twister\", \"broderick\", \"monster\", \"ocean\", \"snake\", \"ape\", \"rising\", \"boat\", \"deep\", \"giant\", \"effects\", \"impact\", \"island\", \"creature\", \"crew\", \"harry\", \"summer\", \"joe\", \"special\", \"water\", \"action\", \"adventure\", \"team\", \"york\", \"park\", \"big\", \"space\", \"human\", \"54\", \"lucy\", \"ned\", \"eszterhas\", \"garofalo\", \"swingers\", \"weddings\", \"nomi\", \"syd\", \"smithee\", \"kermit\", \"pimps\", \"rubell\", \"maclachlan\", \"pimp\", \"thompsons\", \"bateman\", \"gonzo\", \"ronna\", \"strawberry\", \"hrundi\", \"officially\", \"sweethearts\", \"beals\", \"carlos\", \"curdled\", \"lesbianism\", \"rhys\", \"featherstone\", \"maxwell\", \"disco\", \"phillippe\", \"roberts\", \"luis\", \"notting\", \"julia\", \"modine\", \"lynch\", \"porn\", \"banderas\", \"trainspotting\", \"drugs\", \"las\", \"shane\", \"vegas\", \"boyle\", \"wedding\", \"robbie\", \"ricky\", \"singer\", \"drug\", \"party\", \"sex\", \"blonde\", \"barrymore\", \"joe\", \"sandler\", \"writer\", \"mike\", \"studio\", \"comedy\", \"kelly\", \"dance\", \"romantic\", \"hotel\", \"hollywood\", \"friends\", \"york\", \"funny\", \"hes\", \"big\", \"shes\", \"hong\", \"damme\", \"fu\", \"kung\", \"chan\", \"chans\", \"wcw\", \"fei\", \"gordie\", \"liu\", \"creaky\", \"gotcha\", \"musketeer\", \"tsui\", \"moreau\", \"dammes\", \"yeoh\", \"yun\", \"bischoff\", \"condor\", \"titus\", \"jeans\", \"shanghai\", \"barb\", \"crouching\", \"dartagnan\", \"rourke\", \"kip\", \"yuen\", \"wrestler\", \"arts\", \"li\", \"kong\", \"martial\", \"memphis\", \"wrestling\", \"chinese\", \"musketeers\", \"jet\", \"rumble\", \"jackie\", \"chow\", \"claude\", \"drunken\", \"bond\", \"squad\", \"wong\", \"van\", \"action\", \"fight\", \"knock\", \"master\", \"stunts\", \"woo\", \"king\", \"sequences\", \"rush\", \"plot\", \"films\", \"scenes\", \"lee\", \"video\", \"american\", \"hour\", \"movies\", \"prinze\", \"smiths\", \"craven\", \"freddie\", \"chucky\", \"faculty\", \"gale\", \"tomb\", \"weathers\", \"raider\", \"karla\", \"freddy\", \"pinkett\", \"williamsons\", \"sidneys\", \"loveless\", \"whodunit\", \"kruger\", \"prescott\", \"tingle\", \"stalker\", \"witt\", \"bahamas\", \"devon\", \"mewes\", \"morgue\", \"sawa\", \"hewitt\", \"sagemiller\", \"jjaks\", \"artemus\", \"jb\", \"falk\", \"scream\", \"stab\", \"slasher\", \"lara\", \"marty\", \"williamson\", \"julie\", \"urban\", \"smith\", \"jay\", \"dewey\", \"killer\", \"destination\", \"horror\", \"silent\", \"wes\", \"legend\", \"summer\", \"west\", \"sequel\", \"league\", \"sidney\", \"bob\", \"wild\", \"kevin\", \"teen\", \"2\", \"jennifer\", \"college\", \"3\", \"genre\", \"death\", \"movies\", \"movie\", \"back\", \"final\", \"series\", \"flynt\", \"dicaprio\", \"hedwig\", \"zane\", \"violin\", \"flynts\", \"elvis\", \"fantasia\", \"scarlett\", \"cal\", \"booker\", \"stephane\", \"elwood\", \"slade\", \"althea\", \"montreal\", \"zoolander\", \"evita\", \"orchestra\", \"moulin\", \"juan\", \"mack\", \"forman\", \"harmon\", \"furtwangler\", \"bowie\", \"heyst\", \"hockley\", \"mariah\", \"milos\", \"dewitt\", \"eva\", \"grease\", \"joblo\", \"redford\", \"whisperer\", \"gattaca\", \"wheres\", \"7\", \"10\", \"homer\", \"musicals\", \"winslet\", \"titanic\", \"8\", \"jerome\", \"critique\", \"inch\", \"songs\", \"annie\", \"musical\", \"rock\", \"band\", \"october\", \"rose\", \"gloria\", \"music\", \"larry\", \"5\", \"9\", \"cameron\", \"heaven\", \"horse\", \"love\", \"6\", \"jack\", \"vincent\", \"story\", \"born\", \"song\", \"chris\", \"show\", \"great\", \"people\", \"john\", \"set\", \"melvin\", \"bulworth\", \"beatty\", \"metro\", \"ramsey\", \"giles\", \"fidelity\", \"granger\", \"grangers\", \"cisco\", \"mona\", \"carla\", \"frears\", \"nathan\", \"dirk\", \"compulsive\", \"bulworths\", \"altmans\", \"motss\", \"plates\", \"mississippi\", \"wonderland\", \"brean\", \"deedles\", \"melvins\", \"nikki\", \"toback\", \"rosalba\", \"rains\", \"magruder\", \"bowfinger\", \"atlantis\", \"zach\", \"altman\", \"cynthia\", \"brooks\", \"boogie\", \"murphy\", \"roper\", \"cusack\", \"bobby\", \"malkovich\", \"downey\", \"lane\", \"rick\", \"susan\", \"nights\", \"anderson\", \"reese\", \"eddie\", \"campaign\", \"gauge\", \"margaret\", \"daisy\", \"dog\", \"jack\", \"carol\", \"political\", \"john\", \"funny\", \"hes\", \"comedy\", \"cast\", \"james\", \"robert\", \"writer\", \"deep\", \"fun\", \"theron\", \"leila\", \"advocate\", \"jakob\", \"lambeau\", \"milton\", \"rudy\", \"stellan\", \"lawyers\", \"powell\", \"boone\", \"carlito\", \"pollock\", \"reza\", \"lomax\", \"mojo\", \"bulow\", \"patchs\", \"skarsgard\", \"skarsg\", \"caulder\", \"courtroom\", \"corleone\", \"thai\", \"rimbaud\", \"zeros\", \"suzanne\", \"rudys\", \"tswsm\", \"claiborne\", \"hammers\", \"charlize\", \"patch\", \"austin\", \"legal\", \"forlani\", \"frequency\", \"whale\", \"clinic\", \"patients\", \"pitt\", \"sant\", \"lawyer\", \"humbert\", \"adams\", \"hunting\", \"devils\", \"powers\", \"williams\", \"hopkins\", \"damon\", \"dr\", \"alice\", \"medical\", \"court\", \"myers\", \"case\", \"evil\", \"robin\", \"sean\", \"good\", \"death\", \"affleck\", \"bill\", \"character\", \"wife\", \"scene\", \"young\", \"hes\", \"relationship\", \"joe\", \"love\", \"schumacher\", \"lebowski\", \"8mm\", \"nicolas\", \"palmetto\", \"coens\", \"maximus\", \"valentine\", \"commodus\", \"jericho\", \"tunney\", \"silverstone\", \"schrader\", \"batgirl\", \"gotham\", \"joaquin\", \"cavemans\", \"deceiver\", \"franciss\", \"666\", \"lebowskis\", \"rhea\", \"schumachers\", \"romulus\", \"macpherson\", \"wayland\", \"odette\", \"respectability\", \"akiva\", \"snuff\", \"welles\", \"arnold\", \"ivy\", \"gladiator\", \"coen\", \"phoenix\", \"schwarzenegger\", \"batman\", \"poison\", \"connor\", \"alicia\", \"devil\", \"joel\", \"stigmata\", \"cage\", \"robin\", \"harry\", \"gabriel\", \"clooney\", \"dude\", \"freeze\", \"noir\", \"harrys\", \"george\", \"mr\", \"wife\", \"action\", \"money\", \"hes\", \"big\", \"evil\", \"plot\", \"series\", \"girl\", \"daughter\", \"days\", \"kill\", \"nbsp\", \"sixth\", \"mulder\", \"osment\", \"rounders\", \"scully\", \"sethe\", \"haley\", \"placid\", \"shyamalan\", \"gillian\", \"mommas\", \"momma\", \"lucinda\", \"grinch\", \"carly\", \"cyborsuit\", \"glenda\", \"cy\", \"snowman\", \"francie\", \"croc\", \"morrisons\", \"jarmusch\", \"lemmons\", \"stargher\", \"carls\", \"maddy\", \"webb\", \"matilda\", \"matthau\", \"owens\", \"ephron\", \"files\", \"butcher\", \"duchovny\", \"glen\", \"cole\", \"briggs\", \"poker\", \"meg\", \"malcolm\", \"hanks\", \"lemmon\", \"thornton\", \"ghost\", \"christmas\", \"ryan\", \"betty\", \"tom\", \"beloved\", \"oscar\", \"series\", \"boy\", \"television\", \"sense\", \"movie\", \"show\", \"dog\", \"bob\", \"willis\", \"mike\", \"fbi\", \"fans\", \"big\"], \"Freq\": [5510.0, 8913.0, 2399.0, 1922.0, 2130.0, 1386.0, 2104.0, 1565.0, 2403.0, 1492.0, 1943.0, 1100.0, 1271.0, 1203.0, 1150.0, 1145.0, 1388.0, 1427.0, 1143.0, 1423.0, 1055.0, 617.0, 826.0, 824.0, 712.0, 850.0, 772.0, 1055.0, 1322.0, 805.0, 990.7174234626916, 789.1858132841809, 724.336532781196, 586.6565218671628, 567.7005783355233, 431.01824865999737, 398.0947677892513, 385.12491168865495, 349.2083871023844, 282.36374412238484, 237.46808838954874, 231.48200095850385, 222.50286981193653, 209.53301371133952, 208.53533247283204, 207.53765123432458, 188.58170770268242, 186.58634522566743, 185.58866398715995, 184.59098274865278, 178.60489531760788, 176.6095328405929, 173.61648912507047, 171.6211266480555, 156.65590807044327, 153.6628643549211, 148.6744581623837, 146.67909568536874, 142.6883707313388, 141.69068949283132, 8655.902378915594, 598.628696729255, 421.04143627492255, 396.0994053122369, 821.1116129164196, 388.11795540417654, 446.9811484761183, 392.1086803582082, 268.3962067832804, 261.41243811372806, 1147.3533779083643, 991.7151047011989, 355.1944745334304, 402.085492743283, 326.2617186167132, 249.44026325163824, 1831.7627075244895, 1850.7186510561319, 1103.4554034140363, 423.0367987519399, 423.0367987519399, 1002.6895983247808, 2198.9094032952407, 430.02056742149017, 1510.5093487250838, 683.4316020023896, 1178.281496302096, 831.0884253014946, 910.902924382093, 755.2646511749276, 602.6194216832837, 1746.9598022513549, 655.4965273241794, 1102.4577221755262, 829.0930628244801, 1872.6676383032961, 939.8356802988104, 1184.2675837331392, 915.891330574629, 3529.8161754642088, 1552.4119607423975, 1111.4368533220938, 758.2576948904492, 990.7174234626916, 1054.5690227271693, 875.9840810343297, 916.8890118131361, 776.2159571835845, 38.72325877408008, 26.814516967597218, 25.822121817056967, 24.829726666516752, 23.837331515976494, 22.84493636543628, 22.84493636543628, 19.867750913815556, 19.867750913815556, 19.867750913815556, 18.8753557632753, 18.8753557632753, 18.8753557632753, 18.8753557632753, 17.882960612735086, 17.882960612735086, 16.890565462194832, 16.890565462194832, 15.898170311654617, 15.898170311654617, 15.898170311654617, 15.898170311654617, 15.898170311654617, 15.898170311654617, 15.898170311654617, 14.905775161114363, 14.905775161114363, 14.905775161114363, 14.905775161114363, 14.905775161114363, 14.905775161114363, 14.905775161114363, 14.905775161114363, 14.905775161114363, 29.791702419217945, 62.54074238704563, 27.806912118137433, 41.70044422570068, 54.601581182724, 44.67762967732145, 24.829726666516752, 76.4342744946092, 23.837331515976494, 42.69283937624094, 99.25936295703467, 83.38104054839059, 77.42666964514945, 35.74607332245935, 33.76128302137888, 30.78409756975816, 107.19852416135629, 80.40385509677022, 41.70044422570068, 28.79930726867769, 179.64337015079371, 37.73086362353982, 28.79930726867769, 113.15289506459783, 65.5179278386664, 225.2935470756446, 404.91706932342834, 106.20612901081606, 69.48750844082743, 65.5179278386664, 130.02361262378176, 62.54074238704563, 69.48750844082743, 114.14529021513808, 119.10726596783935, 456.52161715151914, 62.54074238704563, 56.5863714838045, 102.23654840865542, 55.593976333264244, 143.91714473134533, 165.7498380432305, 148.87912048404658, 165.7498380432305, 107.19852416135629, 123.07684657000037, 265.98174824779426, 87.35062115055159, 105.2137338602758, 93.30499205379313, 88.34301630109185, 160.78786229052926, 122.08445141946011, 81.39625024731008, 89.33541145163211, 83.38104054839059, 85.3658308494711, 64.35588574531059, 30.70316173207537, 14.866585725846889, 12.887013725068341, 11.89722772467907, 11.89722772467907, 41.590807736357284, 10.907441724289797, 10.907441724289797, 10.907441724289797, 9.917655723900523, 9.917655723900523, 9.917655723900523, 8.927869723511252, 8.927869723511252, 8.927869723511252, 8.927869723511252, 8.927869723511252, 29.71337573168589, 7.938083723121978, 7.938083723121978, 7.938083723121978, 7.938083723121978, 7.938083723121978, 7.938083723121978, 7.938083723121978, 7.938083723121978, 6.948297722732705, 6.948297722732705, 6.948297722732705, 6.948297722732705, 6.948297722732705, 28.723589731296705, 17.835943727014705, 39.611235735578624, 24.764445729739617, 33.67251973324293, 32.68273373285374, 25.75423173012889, 22.78487372896107, 13.876799725457614, 13.876799725457614, 24.764445729739617, 682.9721359886072, 26.744017730518163, 21.795087728571797, 151.45705377956648, 177.19148978968764, 74.25374574920332, 98.0086097585458, 105.92689776165987, 30.70316173207537, 1698.4925723879994, 277.15987582900414, 18.825729727403978, 58.4171697429749, 263.3028718235543, 53.46823974102839, 61.38652774414274, 153.43662578034514, 32.68273373285374, 120.77368776749911, 327.63896184885664, 243.50715181576888, 148.48769577839863, 114.83497176516342, 323.67981784730046, 433.5460638905079, 94.04946575698878, 106.91668376204935, 69.30481574725681, 78.21288975076034, 81.1822477519282, 105.92689776165987, 150.4672677791773, 167.2936297857949, 138.5898357745059, 129.68176177100264, 205.89528380097664, 178.18127579007682, 95.03925175737797, 150.4672677791773, 201.93613979941932, 128.69197577061317, 161.3549137834592, 150.4672677791773, 136.61026377372752, 119.78390176710992, 108.89625576282772, 111.86561376399557, 30.56695694908925, 27.610771557494477, 26.625376426962887, 22.683795904836714, 17.756820252178837, 15.786029991115695, 14.800634860584124, 14.800634860584124, 13.815239730052571, 13.815239730052571, 13.815239730052571, 13.815239730052571, 11.84444946898943, 11.84444946898943, 11.84444946898943, 11.84444946898943, 10.859054338457858, 10.859054338457858, 10.859054338457858, 10.859054338457858, 10.859054338457858, 10.859054338457858, 9.873659207926305, 9.873659207926305, 9.873659207926305, 9.873659207926305, 9.873659207926305, 9.873659207926305, 9.873659207926305, 9.873659207926305, 39.43551312387338, 34.50853747121542, 20.71300564377353, 20.71300564377353, 27.610771557494477, 18.74221538271039, 28.596166688026067, 21.698400774305124, 57.17262547344143, 31.55235207962084, 23.669191035368307, 19.727610513241945, 48.3040692986573, 22.683795904836714, 31.55235207962084, 37.46472286281019, 21.698400774305124, 296.62364219261127, 137.97502617702995, 97.57382582523569, 61.114205995567794, 125.16488948011965, 192.1717583562657, 48.3040692986573, 54.21644008184685, 67.02657677875715, 139.94581643809312, 106.4423820000198, 40.42090825440478, 74.90973782300968, 170.4930654845717, 309.43377888952324, 121.22330895799328, 54.21644008184685, 148.81437261287724, 283.8135054957012, 71.9535524314149, 94.6176404336411, 135.01884078543517, 69.98276217035192, 92.64685017257793, 107.4277771305514, 124.17949434958805, 73.92434269247809, 79.83671347566745, 84.76368912832538, 112.35475278320916, 88.70526965045157, 82.79289886726221, 70.9681573008835, 80.82210860619904, 92.64685017257793, 68.99736703982033, 45.272913060331874, 35.43525268216323, 31.500188530895844, 28.548890417445303, 27.56512437962829, 25.597592303994592, 22.64629419054405, 21.662528152727205, 19.694996077093506, 18.71123003927666, 18.71123003927666, 17.727464001459815, 15.759931925826068, 15.759931925826068, 14.776165888009205, 13.792399850192355, 12.808633812375492, 12.808633812375492, 12.808633812375492, 12.808633812375492, 12.808633812375492, 12.808633812375492, 12.808633812375492, 12.808633812375492, 11.824867774558646, 11.824867774558646, 11.824867774558646, 11.824867774558646, 11.824867774558646, 11.824867774558646, 32.48395456871269, 24.613826266177746, 84.6235545730061, 50.19174324941611, 168.2436677874393, 19.694996077093506, 60.029403627584756, 84.6235545730061, 35.43525268216323, 74.78589419483765, 26.58135834181144, 59.045637589767914, 29.532656455262153, 67.89953193011954, 138.7306866529334, 38.38655079561378, 46.25667909814872, 30.516422493079, 66.9157658923027, 86.5910866486398, 36.41901871998008, 126.92549419913105, 73.80212815702079, 127.90926023694792, 70.85083004357008, 54.12680740068351, 117.08783382096242, 90.52615079990737, 64.94823381666899, 72.81836211920377, 272.52286779602616, 94.46121495117475, 99.380045140259, 72.81836211920377, 91.50991683772422, 62.980701741035304, 86.5910866486398, 59.045637589767914, 66.9157658923027, 65.93199985448585, 65.93199985448585, 65.93199985448585, 63.96446777885215, 69.86706400575324, 63.96446777885215, 142.25213158991372, 141.27121770500204, 142.25213158991372, 33.37069036470045, 28.46612094014129, 23.561551515582135, 22.580637630670328, 21.599723745758524, 20.61880986084672, 20.61880986084672, 17.67606820611117, 16.695154321199368, 59.855365257319846, 13.752412666463846, 360.0150140403394, 12.771498781552015, 12.771498781552015, 11.790584896640198, 11.790584896640198, 10.809671011728366, 10.809671011728366, 9.828757126816534, 9.828757126816534, 9.828757126816534, 9.828757126816534, 9.828757126816534, 8.847843241904702, 8.847843241904702, 8.847843241904702, 8.847843241904702, 8.847843241904702, 8.847843241904702, 206.01153410918303, 33.37069036470045, 138.3284760502662, 72.60724576117356, 202.08787856953498, 39.25617367417141, 30.427948709964898, 20.61880986084672, 75.54998741590911, 64.759934681879, 82.41638461029187, 43.179829213818756, 161.8704092881498, 43.179829213818756, 165.79406482779783, 65.7408485667908, 36.31343201943599, 70.64541799134996, 158.92766763341479, 140.29030382009037, 133.42390662570708, 37.2943459043478, 51.027140293113334, 191.29782583550528, 90.26369568958658, 188.3550841807689, 136.3666482804426, 63.7790207969672, 102.03466230852851, 111.84380115764681, 68.68359022152634, 104.97740396326405, 61.817193027143446, 72.60724576117356, 85.35912626502743, 65.7408485667908, 100.99210275532126, 30.409386793535823, 24.527493796720407, 23.547178297251147, 20.606231798843503, 18.645600799904987, 17.665285300435727, 17.665285300435727, 16.684969800966467, 16.684969800966467, 16.684969800966467, 16.684969800966467, 15.704654301497207, 15.704654301497207, 14.724338802027948, 14.724338802027948, 13.744023302558828, 13.744023302558828, 12.763707803089526, 12.763707803089526, 12.763707803089526, 11.78339230362028, 11.78339230362028, 11.78339230362028, 10.803076804151035, 10.803076804151035, 10.803076804151035, 10.803076804151035, 10.803076804151035, 10.803076804151035, 122.55904374364457, 42.1731727871668, 81.38579276593649, 17.665285300435727, 102.95273375425978, 200.9842837011838, 22.566862797781887, 39.23222628875902, 88.24800126222117, 29.429071294066567, 134.32282973727553, 56.877905279205415, 30.409386793535823, 327.4449831327154, 307.83867314333156, 80.40547726646722, 29.429071294066567, 156.8700862250678, 82.3661082654056, 88.24800126222117, 48.055065783982215, 34.33064879141286, 24.527493796720407, 32.37001779247434, 81.38579276593649, 146.08661573090583, 50.99601228238999, 69.62200677230551, 33.350333291943606, 41.19285728769754, 49.03538128345147, 70.60232227177477, 37.2715952898205, 58.83853627814393, 156.8700862250678, 89.22831676169028, 62.75979827602084, 58.83853627814393, 44.13380378610532, 49.03538128345147, 69.62200677230551, 49.03538128345147, 51.97632778185912, 50.99601228238999, 27.459471458853468, 26.479476046331932, 25.499480633810393, 20.599503571202707, 18.63951274615963, 18.63951274615963, 17.659517333638092, 17.659517333638092, 17.659517333638092, 16.679521921116557, 16.679521921116557, 16.679521921116557, 15.699526508595019, 15.699526508595019, 14.719531096073483, 14.719531096073483, 13.739535683551944, 13.739535683551944, 13.739535683551944, 12.759540271030406, 12.759540271030406, 12.759540271030406, 12.759540271030406, 12.759540271030406, 11.779544858508869, 11.779544858508869, 10.799549445987333, 10.799549445987333, 10.799549445987333, 10.799549445987333, 83.31920997258109, 25.499480633810393, 34.31943934650423, 294.9982190772333, 26.479476046331932, 77.43923749745187, 49.01937053432729, 28.439466871375004, 31.379453108939618, 27.459471458853468, 22.559494396245782, 36.279430171547304, 44.1193934717196, 29.41946228389654, 89.19918244771031, 43.139398059198065, 87.23919162266724, 31.379453108939618, 58.81932465954266, 105.85910446057645, 25.499480633810393, 181.31875122473468, 33.339443933982686, 45.09938888424114, 59.7993200720642, 31.379453108939618, 72.53926043484418, 78.4192329099734, 140.1589438988296, 47.059379709284215, 38.23942099659038, 54.89934300945651, 70.5792696098011, 49.999365946848826, 45.09938888424114, 88.21918703518878, 48.03937512180575, 37.259425584068836, 35.299434759025765, 49.999365946848826, 42.159402646676526, 45.09938888424114, 46.079384296762676, 66.65928795971496, 43.139398059198065, 43.139398059198065, 42.159402646676526, 86.08885817314521, 57.72511258099334, 41.09808930283527, 39.14196891716965, 37.18584853150404, 34.251667953005494, 32.29554756733989, 29.361366988841343, 25.449126217510116, 25.449126217510116, 22.51494563901158, 21.536885446178772, 77.28631643764983, 20.558825253345965, 20.558825253345965, 19.58076506051316, 19.58076506051316, 19.58076506051316, 17.624644674847545, 17.624644674847545, 16.646584482014735, 16.646584482014735, 15.668524289181812, 15.668524289181812, 15.668524289181812, 13.712403903516195, 12.73434371068339, 12.73434371068339, 12.73434371068339, 12.73434371068339, 208.34638227724807, 132.0576872362875, 103.6939416441361, 62.615413545157494, 54.7909320024948, 72.39601547348568, 40.120029110002456, 155.5311318642763, 89.02303875164375, 40.120029110002456, 87.06691836597803, 23.493005831844506, 28.38330679600854, 132.0576872362875, 31.317487374507078, 44.032269881333804, 47.94451065266503, 44.032269881333804, 56.74705238816053, 58.70317277382614, 57.72511258099334, 115.43066395813001, 39.14196891716965, 56.74705238816053, 38.16390872433684, 115.43066395813001, 45.98839026699942, 125.21126588645772, 60.65929315949176, 60.65929315949176, 63.5934737379903, 70.43989508782006, 58.70317277382614, 66.52765431648872, 66.52765431648872, 64.57153393082311, 64.57153393082311, 55.76899219532772, 32.25786986977738, 30.30403159783445, 28.350193325891635, 23.465597646034308, 23.465597646034308, 22.488678510062844, 19.557921102148562, 18.581001966177098, 18.581001966177098, 17.604082830205634, 17.604082830205634, 16.627163694234167, 16.627163694234167, 15.650244558262704, 15.650244558262704, 14.673325422291239, 14.673325422291239, 14.673325422291239, 13.696406286319773, 13.696406286319773, 13.696406286319773, 13.696406286319773, 12.719487150348309, 12.719487150348309, 11.742568014376843, 68.40387790072124, 10.765648878405424, 10.765648878405424, 10.765648878405424, 9.78872974243397, 9.78872974243397, 39.096303821577635, 24.442516782005775, 23.465597646034308, 42.02706122949192, 41.05014209352045, 52.77317172517792, 20.534840238119912, 42.02706122949192, 24.442516782005775, 19.557921102148562, 18.581001966177098, 241.31856496766895, 44.95781863740631, 43.003980365463384, 31.280950733805913, 98.68837111583633, 40.0732229575491, 75.24231185252138, 20.534840238119912, 210.05715261658162, 60.588524812949636, 56.68084826906377, 143.6266513705236, 43.98089950143484, 69.38079703669271, 36.165546413663236, 111.38831988346524, 52.77317172517792, 48.865495181292175, 41.05014209352045, 85.01150321223592, 51.796252589206446, 42.02706122949192, 67.42695876474978, 56.68084826906377, 48.865495181292175, 49.84241431726364, 45.93473777337778, 50.819333453235096, 44.95781863740631, 49.84241431726364, 44.95781863740631, 43.003980365463384, 42.02706122949192, 119.98998746932514, 40.00966741986447, 31.231339609557832, 27.329860582754797, 89.75352501160249, 23.42838155595187, 20.50227228584962, 72.196869390989, 19.52690252914894, 17.576163015747372, 17.576163015747372, 15.625423502345908, 14.650053745645122, 14.650053745645122, 13.674683988944443, 13.674683988944443, 12.69931423224366, 12.69931423224366, 12.69931423224366, 11.723944475542979, 11.723944475542979, 10.748574718842194, 9.773204962141453, 9.773204962141453, 9.773204962141453, 8.797835205440709, 8.797835205440709, 8.797835205440709, 7.822465448739967, 7.822465448739967, 7.822465448739967, 20.50227228584962, 72.196869390989, 16.600793259046693, 36.108188393061546, 76.09834841779202, 81.95056695799653, 19.52690252914894, 38.05892790646301, 41.96040693326604, 53.66484401367493, 40.98503717656526, 21.477642042550404, 38.05892790646301, 64.39391133738314, 49.7633649868719, 182.41365189817327, 24.403751312652656, 38.05892790646301, 50.738734743572685, 36.108188393061546, 75.12297866109125, 37.08355814976233, 95.60574355180688, 86.82741574150025, 90.72889476830318, 77.07371817449271, 43.91114644666751, 102.43333184871206, 104.38407136211363, 92.67963428170464, 56.590953283777175, 169.73384506106356, 54.640213770375716, 60.49243231058011, 44.88651620336818, 43.91114644666751, 42.93577668996672, 40.98503717656526, 125.64669601828572, 32.15667262845902, 21.44427411504142, 21.44427411504142, 16.57500206348792, 11.705730011934516, 10.731875601623818, 10.731875601623818, 37.99979909032312, 9.758021191313118, 9.758021191313118, 8.784166781002428, 8.784166781002428, 8.784166781002428, 8.784166781002428, 8.784166781002428, 8.784166781002428, 8.784166781002428, 7.8103123706917374, 7.8103123706917374, 7.8103123706917374, 6.836457960381047, 6.836457960381047, 6.836457960381047, 6.836457960381047, 6.836457960381047, 6.836457960381047, 6.836457960381047, 6.836457960381047, 6.836457960381047, 22.41812852535212, 36.05209026970182, 25.33969175628422, 15.60114765317722, 26.313546166594822, 71.11084904088662, 33.13052703876972, 22.41812852535212, 175.31327094413055, 30.208963807837623, 18.52271088410932, 48.71219760374072, 24.365837345973517, 37.99979909032312, 18.52271088410932, 77.92782991306142, 26.313546166594822, 25.33969175628422, 33.13052703876972, 62.346159348090424, 37.99979909032312, 42.869071141876624, 35.07823585939112, 45.790634372808725, 42.869071141876624, 102.27419017082853, 73.05855786150802, 170.44399889257755, 60.39845052746902, 52.60761524498353, 41.895216731565924, 64.29386816871182, 52.60761524498353, 71.11084904088662, 67.21543139964383, 84.74481078523634, 52.60761524498353, 77.92782991306142, 40.92136232125522, 52.60761524498353, 46.764488783119425, 41.895216731565924, 55.52917847591562, 42.869071141876624, 40.92136232125522, 54.514698251845665, 43.81027695998018, 30.18646804306052, 26.293951209654967, 26.293951209654967, 19.48204675119513, 17.535788334492306, 17.535788334492306, 15.589529917789484, 15.589529917789484, 15.589529917789484, 14.61640070943812, 14.61640070943812, 13.64327150108666, 13.64327150108666, 12.670142292735296, 12.670142292735296, 11.697013084383837, 11.697013084383837, 10.723883876032474, 10.723883876032474, 10.723883876032474, 10.723883876032474, 9.75075466768111, 9.75075466768111, 8.777625459329661, 8.777625459329661, 8.777625459329661, 8.777625459329661, 7.804496250978258, 44.783406168331645, 24.347692792952145, 71.05789479381951, 24.347692792952145, 15.589529917789484, 87.60109133579337, 14.61640070943812, 42.83714775162882, 52.56843983514285, 33.1058556681148, 14.61640070943812, 55.48782746019703, 45.75653537668301, 24.347692792952145, 63.272861127008326, 21.428305167897957, 83.70857450238773, 23.374563584600683, 24.347692792952145, 55.48782746019703, 75.92354083557653, 66.19224875206251, 109.00993391952454, 30.18646804306052, 29.213338834709155, 73.00415321052235, 32.13272645976334, 63.272861127008326, 41.86401854327736, 44.783406168331645, 85.65483291909055, 35.05211408481753, 37.97150170987181, 46.72966458503437, 33.1058556681148, 45.75653537668301, 41.86401854327736, 37.97150170987181, 38.944630918223176, 38.944630918223176, 35.05211408481753, 34.078984876466166, 107.92389764774086, 69.03940921403824, 56.40195047308507, 53.48561384055741, 115.70079533448086, 29.182808569493496, 28.210696358650974, 24.322247515280697, 17.517462039382846, 17.517462039382846, 16.545349828540324, 15.573237617697707, 15.573237617697707, 15.573237617697707, 14.601125406855184, 14.601125406855184, 12.656900985170045, 12.656900985170045, 12.656900985170045, 12.656900985170045, 12.656900985170045, 11.68478877432752, 11.68478877432752, 11.68478877432752, 10.712676563485, 10.712676563485, 10.712676563485, 10.712676563485, 10.712676563485, 10.712676563485, 81.67686795499142, 44.736603942974334, 85.5653167983617, 78.76053132246375, 24.322247515280697, 51.54138941887228, 82.64898016583403, 17.517462039382846, 38.90393067791901, 25.29435972612331, 166.25063029829408, 22.378023093595647, 30.154920780336024, 41.82026731044667, 82.64898016583403, 29.182808569493496, 33.07125741286368, 97.23066332847208, 264.43396359339187, 110.84023428026778, 36.95970625623396, 60.29039931645526, 35.98759404539135, 40.84815509960415, 51.54138941887228, 55.42983826224246, 37.93181846707648, 72.92785805740844, 72.92785805740844, 60.29039931645526, 41.82026731044667, 41.82026731044667, 43.76449173213181, 38.90393067791901, 39.876042888761624, 44.71497576097883, 40.82840681174123, 37.913480099813015, 37.913480099813015, 24.310488777481304, 17.50899311631549, 17.50899311631549, 16.537350879006116, 15.56570864169665, 15.56570864169665, 14.594066404387274, 12.650781929768433, 11.679139692459056, 11.679139692459056, 11.679139692459056, 11.679139692459056, 10.707497455149682, 9.735855217840214, 9.735855217840214, 9.735855217840214, 9.735855217840214, 9.735855217840214, 8.76421298053084, 8.76421298053084, 8.76421298053084, 8.76421298053084, 8.76421298053084, 29.168699964028363, 7.792570743221436, 7.792570743221436, 7.792570743221436, 7.792570743221436, 7.792570743221436, 228.35535861245683, 35.97019562519417, 71.92095840564225, 17.50899311631549, 22.367204302862554, 49.57318694752589, 77.75081182949869, 67.06274721909519, 114.67321684725597, 62.20453603254813, 14.594066404387274, 121.47471250842186, 34.02691115057542, 172.9717510858203, 49.57318694752589, 32.08362667595658, 50.54482918483526, 105.92843671147149, 61.23289379523876, 69.97767393102342, 33.055268913265955, 32.08362667595658, 58.31796708331054, 69.00603169371404, 78.72245406680806, 53.45975589676348, 93.29708762644897, 43.74333352366945, 48.60154471021651, 54.43139813407295, 51.516471422144726, 56.3746826086917, 58.31796708331054, 65.11946274447635, 43.74333352366945, 41.80004904905061, 40.82840681174123, 61.038211459204845, 40.69859799295127, 29.075961726520614, 24.233196615507836, 21.32753754890017, 16.484772437887397, 16.484772437887397, 15.516219415684922, 15.516219415684922, 14.547666393482368, 14.547666393482368, 14.547666393482368, 12.610560349077257, 11.642007326874701, 11.642007326874701, 10.673454304672147, 10.673454304672147, 10.673454304672147, 10.673454304672147, 9.704901282469592, 9.704901282469592, 9.704901282469592, 8.736348260267036, 8.736348260267036, 7.767795238064466, 7.767795238064466, 7.767795238064466, 7.767795238064466, 7.767795238064466, 7.767795238064466, 7.767795238064466, 16.484772437887397, 25.201749637710392, 24.233196615507836, 19.390431504495062, 19.390431504495062, 34.88727985973594, 25.201749637710392, 83.31493096986337, 279.93119447698143, 23.26464359330528, 17.453325460089953, 23.26464359330528, 82.3463779476613, 81.37782492545843, 16.484772437887397, 41.66715101515375, 20.358984526697615, 66.8495295924201, 44.57281008176142, 77.50361283664822, 74.59795377004053, 55.22689332598952, 31.013067770925723, 41.66715101515375, 27.1388556821155, 116.24573372474991, 40.69859799295127, 58.132552392597184, 36.82438590414105, 48.447022170571636, 31.98162079312828, 35.8558328819385, 99.78033234730664, 33.91872683753339, 50.38412821497675, 31.98162079312828, 71.69229470343286, 33.91872683753339, 35.8558328819385, 38.761491948546166, 43.60425705955886, 41.66715101515375, 35.8558328819385, 33.91872683753339, 33.91872683753339, 48.36702750537841, 46.43311996817818, 37.730536050776976, 28.060998364775703, 20.325368215974727, 20.325368215974727, 20.325368215974727, 17.424506910174273, 17.424506910174273, 14.523645604373897, 13.556691835773824, 12.589738067173673, 12.589738067173673, 11.62278429857352, 11.62278429857352, 11.62278429857352, 11.62278429857352, 11.62278429857352, 10.655830529973372, 10.655830529973372, 9.688876761373297, 9.688876761373297, 9.688876761373297, 9.688876761373297, 9.688876761373297, 9.688876761373297, 9.688876761373297, 8.721922992773147, 8.721922992773147, 8.721922992773147, 30.96185967057608, 8.721922992773147, 8.721922992773147, 27.094044596175554, 20.325368215974727, 59.97047272857991, 53.201796348379006, 101.54948477838578, 13.556691835773824, 44.499212430977884, 42.56530489377766, 29.994905901976004, 15.490599372974048, 22.25927575317495, 33.86272097637646, 29.994905901976004, 59.003518959979836, 48.36702750537841, 29.02795213337585, 64.80524157158058, 30.96185967057608, 16.4575531415742, 19.358414447374575, 17.424506910174273, 53.201796348379006, 52.234842579778935, 22.25927575317495, 37.730536050776976, 70.60696418318135, 64.80524157158058, 70.60696418318135, 49.33398127397856, 43.53225866237773, 32.89576720777638, 29.994905901976004, 29.02795213337585, 28.060998364775703, 28.060998364775703, 29.965340958862885, 28.033339607550012, 28.033339607550012, 25.135337580580668, 23.203336229267727, 21.271334877954857, 19.339333526641987, 17.407332175329117, 17.407332175329117, 16.441331499672646, 15.47533082401625, 15.47533082401625, 15.47533082401625, 15.47533082401625, 14.509330148359776, 12.577328797046908, 11.611328121390436, 11.611328121390436, 10.645327445734038, 10.645327445734038, 10.645327445734038, 60.877362579869015, 9.679326770077568, 9.679326770077568, 9.679326770077568, 9.679326770077568, 9.679326770077568, 9.679326770077568, 8.713326094421095, 8.713326094421095, 8.713326094421095, 24.169336904924197, 62.809363931181956, 60.877362579869015, 28.99934028320641, 16.441331499672646, 24.169336904924197, 26.101338256237067, 14.509330148359776, 30.931341634519278, 38.65934703977083, 14.509330148359776, 68.60536798512058, 14.509330148359776, 46.38735244502238, 44.45535109370952, 23.203336229267727, 58.94536122855615, 87.92538149824942, 39.6253477154273, 36.727345688457966, 70.53736933643344, 31.897342310175755, 29.965340958862885, 33.829343661488615, 32.863342985832226, 68.60536798512058, 65.70736595815123, 44.45535109370952, 37.69334636411443, 92.75538487653178, 55.08135852593041, 32.863342985832226, 38.65934703977083, 62.809363931181956, 47.35335312067886, 54.11535785027393, 47.35335312067886, 49.28535447199173, 38.65934703977083, 35.761345012801485, 32.863342985832226, 47.335481297404144, 45.404209110647535, 41.5416647371344, 28.988395523216504, 27.0571233364599, 26.09148724308163, 24.160215056325026, 17.400762402676946, 17.400762402676946, 16.43512630929861, 16.43512630929861, 14.503854122542004, 13.538218029163739, 12.572581935785399, 11.606945842407134, 11.606945842407134, 10.641309749028869, 9.67567365565053, 9.67567365565053, 8.710037562272264, 8.710037562272264, 8.710037562272264, 7.7444014688939244, 7.7444014688939244, 7.7444014688939244, 7.7444014688939244, 7.7444014688939244, 7.7444014688939244, 7.7444014688939244, 28.022759429838235, 42.50730083051266, 80.16710847226628, 19.33203458943355, 26.09148724308163, 26.09148724308163, 24.160215056325026, 51.198025670917346, 153.55545156901695, 22.228942869568424, 27.0571233364599, 32.85093989672971, 53.12929785767395, 47.335481297404144, 19.33203458943355, 63.75129488483524, 108.17055518023678, 75.33892800537457, 28.022759429838235, 38.64475645699945, 45.404209110647535, 26.09148724308163, 37.67912036362119, 23.19457896294669, 51.198025670917346, 57.95747832456543, 48.30111739078248, 46.36984520402587, 38.64475645699945, 43.472936923891, 42.50730083051266, 34.78221208348632, 38.64475645699945, 34.78221208348632, 32.85093989672971, 31.88530380335137, 30.91966770997311, 29.954031616594772, 55.4923533020892, 48.79730895333663, 30.625045721008192, 20.104261744397, 20.104261744397, 18.191391930467688, 16.278522116538376, 15.322087209573745, 15.322087209573745, 14.365652302609117, 13.409217395644433, 12.452782488679805, 12.452782488679805, 12.452782488679805, 10.539912674750493, 9.583477767785807, 9.583477767785807, 9.583477767785807, 9.583477767785807, 8.627042860821179, 8.627042860821179, 7.6706079538564955, 6.714173046891868, 6.714173046891868, 6.714173046891868, 6.714173046891868, 6.714173046891868, 6.714173046891868, 23.930001372255624, 22.017131558326312, 20.104261744397, 18.191391930467688, 17.23495702350306, 66.01313727870023, 21.060696651361685, 29.66861081404356, 20.104261744397, 35.4072202558315, 11.49634758171512, 27.755741000114252, 36.36365516279613, 25.842871186184937, 50.710178767265944, 18.191391930467688, 19.147826837432373, 40.18939479065475, 43.058699511548696, 60.27452783691257, 22.973566465290997, 56.44878820905382, 27.755741000114252, 48.79730895333663, 56.44878820905382, 46.88443913940732, 33.494350441902185, 42.102264604584065, 59.318092929948044, 38.27652497672544, 30.625045721008192, 27.755741000114252, 25.842871186184937, 24.88643627922031, 23.930001372255624, 25.842871186184937, 27.755741000114252], \"Total\": [5510.0, 8913.0, 2399.0, 1922.0, 2130.0, 1386.0, 2104.0, 1565.0, 2403.0, 1492.0, 1943.0, 1100.0, 1271.0, 1203.0, 1150.0, 1145.0, 1388.0, 1427.0, 1143.0, 1423.0, 1055.0, 617.0, 826.0, 824.0, 712.0, 850.0, 772.0, 1055.0, 1322.0, 805.0, 991.0881681173981, 789.5565579388874, 724.7072774359025, 587.0272665218694, 568.0713229902299, 431.3889933147033, 398.46551244395727, 385.4956563433609, 349.57913175709035, 282.7344887770908, 237.83883304425476, 231.85274561320986, 222.87361446664255, 209.90375836604554, 208.90607712753805, 207.9083958890306, 188.95245235738844, 186.95708988037345, 185.95940864186596, 184.9617274033588, 178.9756399723139, 176.9802774952989, 173.9872337797765, 171.99187130276152, 157.0266527251493, 154.03360900962713, 149.04520281708972, 147.04984034007475, 143.05911538604482, 142.06143414753734, 8913.258241410316, 600.9361917903955, 422.3975760601601, 397.45554509747444, 831.0937385524064, 390.4418246797555, 451.2555802420784, 395.39889937823534, 269.7400806463378, 262.7552949792766, 1178.8933843588568, 1021.5125670317207, 358.4801459000646, 407.4182131506901, 329.56322067933354, 250.77664399972255, 1922.3775550237115, 1943.9755576596463, 1145.4739280234521, 430.2615797383194, 430.3543094604275, 1059.406789027477, 2403.167282290421, 439.2993860796996, 1636.4068049360126, 712.196208709904, 1271.5861360418864, 880.9278235714103, 973.1687683072878, 803.0567549005856, 636.6428903512253, 2104.6499890316454, 702.5988732907139, 1263.007230972916, 917.0834843935753, 2399.3007159915205, 1080.0381454205296, 1423.82074996479, 1055.6564082935286, 5510.877723855725, 2130.776270825439, 1388.8132160220925, 868.4432992235371, 1322.1623621680678, 1492.223111826668, 1203.973991817885, 1427.1980373804747, 1565.3993737718865, 39.09410915054546, 27.185367344062595, 26.192972193522344, 25.20057704298213, 24.20818189244187, 23.215786741901656, 23.215786741901656, 20.238601290280933, 20.238601290280933, 20.238601290280933, 19.24620613974068, 19.24620613974068, 19.24620613974068, 19.24620613974068, 18.253810989200463, 18.253810989200463, 17.26141583866021, 17.26141583866021, 16.269020688119994, 16.269020688119994, 16.269020688119994, 16.269020688119994, 16.269020688119994, 16.269020688119994, 16.269020688119994, 15.276625537579742, 15.276625537579742, 15.276625537579742, 15.276625537579742, 15.276625537579742, 15.276625537579742, 15.276625537579742, 15.276625537579742, 15.276625537579742, 31.142548208204857, 67.78844154701471, 29.14471626320294, 44.988968177183175, 59.90012858294903, 48.95305783913122, 26.16913006518468, 88.59543905415525, 25.188497391911113, 47.92190093925334, 123.02544937680737, 103.14198729547284, 95.29305857987121, 40.10764865295462, 37.95787302570287, 34.11113333781823, 147.6417745264682, 109.14200182531005, 49.94142290470092, 32.085084357071274, 308.4297169364211, 44.96392249628989, 32.104338223641534, 179.04815095427938, 89.77487150670129, 445.0784134596656, 985.7186529301465, 176.41929330789907, 100.78647721102433, 93.82385289334101, 235.4680899782155, 88.21591473722971, 102.69800292006117, 211.9191697858008, 227.44679140633193, 1565.3993737718865, 92.66635499991544, 80.90157158444921, 196.38943520482312, 81.47847173725386, 424.31817884365654, 550.4084891342045, 461.66419823271104, 735.2657983627821, 304.71972989355976, 406.8312412575558, 2130.776270825439, 200.5774254675391, 324.07329972429915, 238.23350705792643, 214.79151050641744, 1322.1623621680678, 612.2035094186855, 235.23536982189466, 554.27355928405, 330.72704877354937, 1388.8132160220925, 64.72678830477898, 31.074064291543767, 15.237488285315287, 13.257916284536739, 12.268130284147468, 12.268130284147468, 42.95939153433316, 11.278344283758194, 11.278344283758194, 11.278344283758194, 10.288558283368921, 10.288558283368921, 10.288558283368921, 9.29877228297965, 9.29877228297965, 9.29877228297965, 9.29877228297965, 9.29877228297965, 31.05123205975442, 8.308986282590375, 8.308986282590375, 8.308986282590375, 8.308986282590375, 8.308986282590375, 8.308986282590375, 8.308986282590375, 8.308986282590375, 7.319200282201103, 7.319200282201103, 7.319200282201103, 7.319200282201103, 7.319200282201103, 31.079282591845576, 19.19924143702334, 43.94118268622587, 27.106138550271154, 38.01300289487229, 36.93415704455778, 29.040061001525505, 26.06660296160118, 15.219344522235422, 15.223072041626756, 29.99166825005653, 1386.4288318334268, 33.006879687422256, 26.070568073384596, 250.645062669558, 306.1915730685491, 110.37507607465257, 153.7779887423452, 173.14244330112885, 40.05319543811102, 5510.877723855725, 628.377495771017, 22.18438991442756, 92.6396584082443, 637.9097397138055, 83.74502742556491, 100.62525300333066, 330.73620911442737, 44.91199301123308, 286.7276307740787, 1203.973991817885, 805.5725916549449, 411.98464349200435, 285.77680809513254, 1427.1980373804747, 2399.3007159915205, 225.08492999808502, 276.7149050133341, 142.3388788220403, 176.2740610208753, 193.74431123758146, 321.7731210105454, 642.37091290102, 826.3142997560265, 572.773585230272, 525.7618153197441, 1492.223111826668, 1143.4281768961584, 292.10034521861155, 1055.6400413309939, 2403.167282290421, 692.7527780868036, 1423.82074996479, 1263.007230972916, 1388.8132160220925, 866.0614471041682, 578.0037538883677, 1636.4068049360126, 30.937947325954802, 27.98176193436003, 26.99636680382844, 23.054786281702267, 18.12781062904439, 16.15702036798125, 15.171625237449675, 15.171625237449675, 14.186230106918122, 14.186230106918122, 14.186230106918122, 14.186230106918122, 12.21543984585498, 12.21543984585498, 12.21543984585498, 12.21543984585498, 11.230044715323409, 11.230044715323409, 11.230044715323409, 11.230044715323409, 11.230044715323409, 11.230044715323409, 10.244649584791857, 10.244649584791857, 10.244649584791857, 10.244649584791857, 10.244649584791857, 10.244649584791857, 10.244649584791857, 10.244649584791857, 41.77403557637265, 36.84015884701945, 22.059365777339828, 22.06776205845594, 29.949294009993743, 20.087060169886637, 31.864065345026507, 24.01267562578949, 70.33621973156166, 36.911748649023764, 26.981127910641586, 22.05472127577314, 61.29477047604687, 25.96044534830992, 38.73409877719037, 47.81252562475047, 25.038749152338504, 622.8634889447387, 250.90318029625598, 163.24513391308415, 92.2494460391807, 230.11084328052172, 402.2452342970625, 70.09239460236893, 81.81112401405414, 113.50098109526161, 312.9875118437353, 219.87320479617503, 57.66261619045436, 136.13928374883093, 442.331925855511, 1100.8162083003147, 301.4820110953348, 97.69028119589287, 522.7677253428628, 1565.3993737718865, 164.30994848685012, 282.3200646699822, 548.2067905254058, 182.2541189278891, 355.33889793420406, 559.6179373895359, 824.9639522396966, 245.23953988479946, 299.35398060630644, 382.48198845294365, 1322.1623621680678, 751.4881638217556, 674.4888446305673, 334.944291929354, 735.2657983627821, 2130.776270825439, 370.3988744434565, 45.64393601905172, 35.80627564088308, 31.87121148961569, 28.919913376165148, 27.936147338348135, 25.968615262714437, 23.017317149263896, 22.03355111144705, 20.06601903581335, 19.082252997996505, 19.082252997996505, 18.09848696017966, 16.130954884545922, 16.130954884545922, 15.147188846729051, 14.163422808912202, 13.179656771095338, 13.179656771095338, 13.179656771095338, 13.179656771095338, 13.179656771095338, 13.179656771095338, 13.179656771095338, 13.179656771095338, 12.195890733278492, 12.195890733278492, 12.195890733278492, 12.195890733278492, 12.195890733278492, 12.195890733278492, 33.83497293995408, 25.941284131862243, 93.75274040688856, 55.46370353158677, 204.58222162315136, 21.03165512919165, 70.09443880829619, 105.92133151022682, 40.6659737984721, 96.69032840024958, 29.945425016053697, 74.1949164392527, 33.7714944883825, 87.09368898664896, 197.94771225029135, 45.641895931195386, 57.448607130784374, 35.745656638345864, 93.15829252407735, 137.59009613459457, 45.76917282526718, 238.30980235398474, 122.03456884450985, 259.7662494654395, 115.81920616748009, 79.96416454714233, 246.57226838695038, 176.9943252290741, 109.4560617743665, 132.1033152019786, 1150.9242259410191, 239.5131512841223, 265.0797702268272, 166.2585397155348, 262.0067173691636, 127.12408525181296, 253.17250735094606, 156.84445758740102, 242.69183605425036, 270.58438407877736, 299.6700138496832, 317.4374356127748, 282.2319256132284, 1492.223111826668, 868.4432992235371, 142.62321159169164, 141.64229770677997, 143.60127178452447, 33.7417703664784, 28.83720094191924, 23.932631517360083, 22.951717632448275, 21.970803747536472, 20.98988986262467, 20.98988986262467, 18.04714820788912, 17.066234322977316, 61.21021129691466, 14.123492668241791, 370.2358825866015, 13.142578783329961, 13.142578783329961, 12.161664898418143, 12.161664898418143, 11.180751013506312, 11.180751013506312, 10.19983712859448, 10.19983712859448, 10.19983712859448, 10.19983712859448, 10.19983712859448, 9.218923243682648, 9.218923243682648, 9.218923243682648, 9.218923243682648, 9.218923243682648, 9.218923243682648, 222.00226980484473, 35.721342367256945, 152.53082941991497, 79.81675971475168, 231.0281102762019, 42.57768007040813, 32.749768225144344, 21.969885275146204, 85.6810646004193, 75.8242490029251, 100.56501202582326, 51.40671594696351, 232.603329923536, 53.28220129911078, 260.6857744171759, 89.4518271566385, 44.62367322553584, 103.93997886387439, 293.2466220632506, 253.17250735094606, 266.6507227041369, 47.35348991138085, 77.869242991449, 636.8087985810063, 209.19087551440617, 746.6615998827423, 565.2023111023362, 134.75018161471843, 424.31817884365654, 536.8825278272756, 204.55970046756633, 1150.9242259410191, 244.5951667036338, 985.7186529301465, 8913.258241410316, 2104.6499890316454, 101.36319472480804, 30.78047876302262, 24.898585766207205, 23.918270266737945, 20.9773237683303, 19.016692769391785, 18.036377269922525, 18.036377269922525, 17.056061770453265, 17.056061770453265, 17.056061770453265, 17.056061770453265, 16.075746270984013, 16.075746270984013, 15.095430771514746, 15.095430771514746, 14.115115272045626, 14.115115272045626, 13.134799772576324, 13.134799772576324, 13.134799772576324, 12.154484273107078, 12.154484273107078, 12.154484273107078, 11.174168773637833, 11.174168773637833, 11.174168773637833, 11.174168773637833, 11.174168773637833, 11.174168773637833, 129.6443115992675, 44.47626610796649, 98.2601272517981, 19.017291154834354, 129.2635379249409, 268.75503686881166, 24.893376861036256, 47.41871754957473, 128.79164039194117, 35.60293799158039, 221.81854997130662, 83.11729390776763, 38.626191713817356, 826.3142997560265, 824.9639522396966, 148.61889345446212, 38.539799819462175, 404.8557325440082, 177.78792554284902, 197.74814573018585, 86.86431099415978, 53.08130840360039, 31.882354435759513, 50.420764277832774, 239.8908016566647, 712.825681415524, 112.89135706496347, 215.37255216502322, 55.13026784516134, 86.70293952588716, 129.22097233353614, 384.2830090287368, 72.93376067271576, 246.25190239523667, 5510.877723855725, 1143.4281768961584, 425.66982500432783, 341.10898201753565, 134.2962072212648, 212.11738671952506, 1055.6400413309939, 212.58025600267254, 324.07329972429915, 536.8825278272756, 27.83056983007922, 26.850574417557684, 25.870579005036145, 20.97060194242846, 19.010611117385384, 19.010611117385384, 18.030615704863845, 18.030615704863845, 18.030615704863845, 17.05062029234231, 17.05062029234231, 17.05062029234231, 16.070624879820777, 16.070624879820777, 15.090629467299236, 15.090629467299236, 14.110634054777696, 14.110634054777696, 14.110634054777696, 13.130638642256159, 13.130638642256159, 13.130638642256159, 13.130638642256159, 13.130638642256159, 12.150643229734621, 12.150643229734621, 11.170647817213085, 11.170647817213085, 11.170647817213085, 11.170647817213085, 89.57864380618284, 26.862974155576385, 37.65989571889782, 364.1478679656599, 28.811205416496165, 93.39743601268562, 57.290414292269766, 31.73212847353283, 35.6650475581331, 30.752133061011296, 24.909187890890838, 42.4965979427303, 55.22623308853871, 34.7228338650308, 135.51488067296194, 57.148067584038124, 151.12376088334412, 40.729682626732625, 97.36325386375444, 226.60968930992144, 30.79803830684381, 519.5940406834354, 45.429420673231526, 71.70539718210686, 109.85086653702729, 42.5451102099464, 159.04226688461645, 200.8986315662839, 554.27355928405, 85.88537744113002, 60.25390047445274, 125.36408548294078, 213.3028441166075, 110.05656933069352, 97.92391220682894, 513.9576629282856, 116.69601942005947, 62.55293387230675, 56.23826780426133, 167.9078651772144, 100.27650077156616, 144.46157858540647, 169.1179035756985, 1150.9242259410191, 304.71972989355976, 318.3285949184136, 246.30056547886673, 86.45999524876473, 58.096249656612876, 41.469226378454806, 39.513105992789185, 37.55698560712358, 34.62280502862503, 32.666684642959424, 29.73250406446087, 25.820263293129642, 25.820263293129642, 22.886082714631105, 21.908022521798298, 78.62909575057876, 20.92996232896549, 20.92996232896549, 19.951902136132684, 19.951902136132684, 19.951902136132684, 17.99578175046707, 17.99578175046707, 17.01772155763426, 17.01772155763426, 16.039661364801344, 16.039661364801344, 16.039661364801344, 14.083540979135721, 13.105480786302916, 13.105480786302916, 13.105480786302916, 13.105480786302916, 218.5680268521602, 139.41259298145934, 109.86108277369429, 65.92268526471007, 58.10481073284983, 77.67172197366433, 42.475956486702465, 175.39334769838413, 101.07597809073842, 44.40047592298894, 104.19052840087052, 24.820577814428685, 30.714434696671145, 176.53570488340003, 34.60801207518082, 54.09357841192432, 61.199135263196425, 56.96802606082355, 80.86388298494653, 88.5151701336598, 87.44892548843917, 270.6485314726176, 53.44591185381733, 102.29725999686211, 53.30717507142407, 746.6615998827423, 83.71450545855528, 2130.776270825439, 221.01572868785695, 266.6507227041369, 337.5674294316349, 622.8634889447387, 282.3200646699822, 565.2023111023362, 735.2657983627821, 636.8087985810063, 696.2096219540191, 409.1863148207331, 32.62902976653414, 30.675191494591203, 28.72135322264839, 23.836757542791062, 23.836757542791062, 22.8598384068196, 19.929080998905317, 18.952161862933853, 18.952161862933853, 17.97524272696239, 17.97524272696239, 16.99832359099092, 16.99832359099092, 16.02140445501946, 16.02140445501946, 15.044485319047993, 15.044485319047993, 15.044485319047993, 14.067566183076528, 14.067566183076528, 14.067566183076528, 14.067566183076528, 13.090647047105064, 13.090647047105064, 12.113727911133598, 70.71926221916311, 11.136808775162178, 11.136808775162178, 11.136808775162178, 10.159889639190725, 10.159889639190725, 41.41517253895577, 25.79744271657939, 24.808399780100473, 45.34096278098417, 45.320548993385515, 59.96912768589629, 21.871636228254964, 48.283069770517805, 26.77366750380561, 20.909994883817145, 19.93307574784568, 391.0887336254266, 55.882389344465054, 53.134835660501324, 37.46342876377797, 160.04199625850745, 52.235753948784975, 127.38956055916462, 22.852550113166792, 617.5059661439609, 109.86522884602819, 106.41867479638942, 467.66378191467504, 90.54610522532013, 214.55638448726813, 69.88501039331655, 824.9639522396966, 168.6279454714263, 147.3853518081245, 103.79763401760535, 850.8237113777305, 231.26258925878898, 133.46072517235703, 826.3142997560265, 426.4039859246828, 246.25190239523667, 300.3204788945069, 232.19260558375314, 420.91886531492224, 209.85713696066907, 554.27355928405, 401.1412262633845, 304.71972989355976, 868.4432992235371, 120.3611783536673, 40.38085830420665, 31.6025304939, 27.701051467096967, 91.11450189633393, 23.79957244029404, 20.87346317019179, 73.54837577480039, 19.89809341349111, 17.947353900089542, 17.947353900089542, 15.996614386688076, 15.02124462998729, 15.02124462998729, 14.04587487328661, 14.04587487328661, 13.070505116585828, 13.070505116585828, 13.070505116585828, 12.095135359885147, 12.095135359885147, 11.119765603184362, 10.14439584648362, 10.14439584648362, 10.14439584648362, 9.169026089782877, 9.169026089782877, 9.169026089782877, 8.193656333082135, 8.193656333082135, 8.193656333082135, 21.851523363024615, 79.51030473981145, 17.961770143778136, 41.33887661595429, 95.03646547221526, 104.81593897019941, 21.85872441242959, 46.081598046522394, 52.151784756856415, 68.97568444796427, 52.140158712427414, 24.788936898054196, 52.32365089836849, 102.91202627619612, 74.00490036385209, 460.1648046034596, 30.643303353991783, 59.85963049178604, 92.29808892287951, 56.115806421946395, 171.74124656358265, 60.227048546762354, 287.9554519732492, 339.4505819584181, 370.3988744434565, 316.9538110086193, 102.26778498995434, 636.8087985810063, 696.2096219540191, 565.2023111023362, 194.1100619269938, 8913.258241410316, 384.2830090287368, 2104.6499890316454, 216.32494099549376, 409.1863148207331, 772.9006710602146, 297.4677600099966, 126.98647023175825, 32.527893819728995, 21.81549530631139, 21.81549530631139, 16.94622325475789, 12.076951203204485, 11.103096792893787, 11.103096792893787, 39.3366563749714, 10.129242382583087, 10.129242382583087, 9.155387972272397, 9.155387972272397, 9.155387972272397, 9.155387972272397, 9.155387972272397, 9.155387972272397, 9.155387972272397, 8.181533561961706, 8.181533561961706, 8.181533561961706, 7.207679151651016, 7.207679151651016, 7.207679151651016, 7.207679151651016, 7.207679151651016, 7.207679151651016, 7.207679151651016, 7.207679151651016, 7.207679151651016, 23.76934512914363, 39.34879197022411, 27.67559287028288, 16.950429037280017, 29.610876627967023, 85.17491293181612, 38.346066432134705, 25.705686349149754, 241.36128406450368, 36.48341253953347, 21.791934102348616, 68.03936232665266, 30.605419694240446, 52.20121955599197, 22.730190564873382, 134.9921124014279, 36.54402676850408, 35.43936255025979, 50.11244981810451, 115.93559950898035, 61.02844570101665, 73.7698125183791, 56.966781292983214, 84.73745904929532, 77.92193959903561, 281.33693766613067, 172.9748022797378, 636.8087985810063, 132.4741444955326, 127.55540600307998, 85.26254680237444, 204.55970046756633, 148.95755511504046, 310.94391082963125, 286.2493790341107, 565.2023111023362, 181.13542847591214, 1150.9242259410191, 108.98756352819282, 288.60130358374056, 254.19987542610292, 144.2441170902258, 1055.6400413309939, 260.6857744171759, 424.31817884365654, 54.885933947154825, 44.18151265528934, 30.55770373836968, 26.665186904964127, 26.665186904964127, 19.85328244650429, 17.907024029801466, 17.907024029801466, 15.960765613098639, 15.960765613098639, 15.960765613098639, 14.987636404747274, 14.987636404747274, 14.014507196395815, 14.014507196395815, 13.04137798804445, 13.04137798804445, 12.068248779692992, 12.068248779692992, 11.095119571341629, 11.095119571341629, 11.095119571341629, 11.095119571341629, 10.121990362990264, 10.121990362990264, 9.148861154638816, 9.148861154638816, 9.148861154638816, 9.148861154638816, 8.175731946287412, 47.09014865444349, 25.70432361879287, 78.31549275384667, 26.686460563895018, 16.917200520063293, 109.52157798319696, 15.967631817268812, 56.96898417586654, 73.26316566176888, 42.28560768579881, 15.977422405136547, 80.3778981806282, 63.65903658885036, 29.612752997768833, 98.84737836666444, 25.691982677914964, 157.84520749278954, 29.648395506811, 31.593612961540522, 107.03941036657665, 172.22481910423113, 178.67624039917376, 467.66378191467504, 51.323711638080624, 49.12900994913135, 286.2493790341107, 63.874058138088195, 298.0392889716232, 119.70851983196401, 152.39485642765726, 824.9639522396966, 83.9597492754509, 107.17918909867115, 250.90318029625598, 82.26832246687975, 529.7177992541555, 420.91886531492224, 254.19987542610292, 826.3142997560265, 1143.4281768961584, 1055.6400413309939, 401.1412262633845, 108.29515368300018, 69.41066524929757, 56.77320650834441, 53.85686987581675, 117.05744650027175, 29.55406460475283, 28.58195239391031, 24.693503550540033, 17.88871807464218, 17.88871807464218, 16.91660586379966, 15.944493652957037, 15.944493652957037, 15.944493652957037, 14.972381442114514, 14.972381442114514, 13.028157020429376, 13.028157020429376, 13.028157020429376, 13.028157020429376, 13.028157020429376, 12.05604480958685, 12.05604480958685, 12.05604480958685, 11.08393259874433, 11.08393259874433, 11.08393259874433, 11.08393259874433, 11.08393259874433, 11.08393259874433, 86.94127864649387, 47.04496602263877, 92.757759488318, 85.99175524537382, 25.673498963061572, 58.89641412368392, 102.7507691141067, 18.855671843242312, 46.092167585353174, 28.634973762550477, 262.0067173691636, 25.742322844377394, 37.40234385727619, 59.06471975141828, 147.6731004628307, 38.53319575132008, 47.06475863702497, 232.19260558375314, 1150.9242259410191, 318.3285949184136, 59.05665939288152, 132.5626669199584, 59.13241669737534, 74.79943471224077, 221.01572868785695, 289.6822709190783, 98.12274539240157, 1492.223111826668, 2104.6499890316454, 1271.5861360418864, 242.69183605425036, 316.9538110086193, 554.27355928405, 352.15707841112936, 1427.1980373804747, 45.08624119570882, 41.19967224647122, 38.284745534543006, 38.284745534543006, 24.681754212211303, 17.88025855104549, 17.88025855104549, 16.908616313736115, 15.936974076426644, 15.936974076426644, 14.965331839117267, 13.022047364498427, 12.05040512718905, 12.05040512718905, 12.05040512718905, 12.05040512718905, 11.078762889879675, 10.107120652570208, 10.107120652570208, 10.107120652570208, 10.107120652570208, 10.107120652570208, 9.135478415260833, 9.135478415260833, 9.135478415260833, 9.135478415260833, 9.135478415260833, 30.513094607109768, 8.16383617795143, 8.16383617795143, 8.16383617795143, 8.16383617795143, 8.16383617795143, 257.12548150619796, 39.29275917337474, 82.17721697984716, 18.845894644423787, 24.70600181322627, 57.79176346155052, 100.69075795119228, 88.27431081517013, 191.49891001229759, 92.71810516716657, 16.92532266416035, 265.0797702268272, 51.3419902863368, 460.1648046034596, 90.4242321071727, 49.102035142225795, 94.88367659434576, 310.94391082963125, 143.84341283978918, 198.71224867911977, 60.054884664209, 57.00220045590124, 165.82125460766804, 231.26258925878898, 300.3204788945069, 147.3853518081245, 425.66982500432783, 103.94634505254302, 129.26361546207747, 216.7648388355521, 262.5332039487108, 461.66419823271104, 1427.1980373804747, 5510.877723855725, 1055.6564082935286, 377.94319866003474, 536.8825278272756, 61.40953867823698, 41.0699252119834, 29.44728894555275, 24.60452383453997, 21.698864767932307, 16.856099656919532, 16.856099656919532, 15.887546634717054, 15.887546634717054, 14.9189936125145, 14.9189936125145, 14.9189936125145, 12.98188756810939, 12.013334545906833, 12.013334545906833, 11.044781523704279, 11.044781523704279, 11.044781523704279, 11.044781523704279, 10.076228501501724, 10.076228501501724, 10.076228501501724, 9.107675479299168, 9.107675479299168, 8.139122457096597, 8.139122457096597, 8.139122457096597, 8.139122457096597, 8.139122457096597, 8.139122457096597, 8.139122457096597, 17.828211867762086, 28.477190418897965, 27.5738818357078, 21.700888607535045, 21.732548984590338, 41.140179988635815, 29.53222085829963, 112.16288324312876, 437.84909508256203, 27.499973514963184, 19.76834896533321, 27.605551414498372, 126.73176825624884, 134.11353546331978, 18.788101008232417, 59.87831195554739, 24.646207016221254, 119.00394660409702, 69.95080090864285, 152.19106795740944, 185.19162551425833, 117.33154172910449, 48.97126341597893, 79.21563494355357, 40.176666132728414, 473.5913590746707, 80.40600316124333, 148.84642596525512, 72.79987696414801, 125.89317646283317, 61.96682711770286, 81.47788262872604, 1100.8162083003147, 72.20194111984944, 270.58438407877736, 71.45376001830313, 2130.776270825439, 102.23676638422326, 131.96520809607594, 214.55638448726813, 712.825681415524, 1145.4739280234521, 1423.82074996479, 772.9006710602146, 607.6315551465448, 48.73838670948259, 46.80447917228236, 38.10189525488116, 28.432357568879887, 20.69672742007891, 20.69672742007891, 20.69672742007891, 17.795866114278457, 17.795866114278457, 14.895004808478078, 13.928051039878005, 12.961097271277854, 12.961097271277854, 11.994143502677701, 11.994143502677701, 11.994143502677701, 11.994143502677701, 11.994143502677701, 11.027189734077552, 11.027189734077552, 10.060235965477478, 10.060235965477478, 10.060235965477478, 10.060235965477478, 10.060235965477478, 10.060235965477478, 10.060235965477478, 9.093282196877327, 9.093282196877327, 9.093282196877327, 32.314132759592084, 9.093282196877327, 9.093282196877327, 29.404894303968728, 22.650565692021825, 77.97574844586372, 68.16551749160537, 150.81953981376626, 14.900163250720556, 60.555299539642164, 57.630143851035584, 38.16349479199634, 17.8173668522045, 29.405073840873428, 51.77412643775371, 43.98093468293329, 113.01604023443876, 88.91525035912211, 44.05309837705184, 140.70310710680525, 52.20319288554553, 19.821956061200794, 26.613786671977575, 22.69138864941415, 243.85181457052084, 270.58438407877736, 39.338834347817524, 151.12376088334412, 772.9006710602146, 826.3142997560265, 1143.4281768961584, 824.9639522396966, 763.8723894232719, 424.69155489679287, 288.2306174234458, 298.0392889716232, 281.33693766613067, 578.0037538883677, 30.33671922482594, 28.404717873513068, 28.404717873513068, 25.506715846543724, 23.574714495230783, 21.642713143917913, 19.710711792605043, 17.778710441292173, 17.778710441292173, 16.812709765635702, 15.846709089979305, 15.846709089979305, 15.846709089979305, 15.846709089979305, 14.88070841432283, 12.948707063009962, 11.98270638735349, 11.98270638735349, 11.016705711697092, 11.016705711697092, 11.016705711697092, 63.20037849566301, 10.050705036040622, 10.050705036040622, 10.050705036040622, 10.050705036040622, 10.050705036040622, 10.050705036040622, 9.08470436038415, 9.08470436038415, 9.08470436038415, 25.516084927587997, 68.10827415296097, 70.18154086219839, 32.296985641486245, 17.810391004143177, 27.48070140845187, 30.36813416344289, 15.853837622674236, 38.14627382034677, 50.790278712693265, 15.861023913792073, 109.6856841074878, 15.878389652830304, 71.16592612169275, 70.69950711544668, 30.326030916282825, 114.18920761243032, 212.11738671952506, 68.41812099779786, 68.06875883074939, 232.7129709347034, 56.77162115306985, 50.88822012672686, 72.46148225460145, 71.22714839606226, 416.2734751076446, 409.1863148207331, 201.08062334722354, 125.10740961102108, 2399.3007159915205, 461.66419823271104, 83.85316428815683, 168.6279454714263, 1922.3775550237115, 559.6179373895359, 1388.8132160220925, 735.2657983627821, 1143.4281768961584, 355.33889793420406, 286.2493790341107, 1100.8162083003147, 47.706866855012755, 45.77559466825615, 41.91305029474301, 29.359781080825123, 27.428508894068518, 26.46287280069025, 24.531600613933644, 17.772147960285565, 17.772147960285565, 16.80651186690723, 16.80651186690723, 14.87523968015062, 13.909603586772356, 12.943967493394016, 11.978331400015751, 11.978331400015751, 11.012695306637486, 10.047059213259146, 10.047059213259146, 9.081423119880881, 9.081423119880881, 9.081423119880881, 8.115787026502542, 8.115787026502542, 8.115787026502542, 8.115787026502542, 8.115787026502542, 8.115787026502542, 8.115787026502542, 29.37220518027968, 44.82815329523566, 89.42311641826547, 20.693206147431443, 28.399978845095347, 28.442444801468795, 26.46360196524653, 58.497913231250884, 191.12870538284685, 25.556513818771734, 32.33008639141472, 40.99546335281357, 72.04497885061767, 66.9886404381514, 22.609079213649824, 100.860511405675, 201.08062334722354, 148.95755511504046, 38.230943092438245, 63.5555639488236, 83.97382209789008, 35.366723637994376, 65.81669693514874, 32.330654213351515, 220.87925537012012, 324.07329972429915, 559.6179373895359, 1150.9242259410191, 504.9618437350882, 1143.4281768961584, 1055.6400413309939, 409.1863148207331, 1492.223111826668, 536.8825278272756, 426.4039859246828, 301.4820110953348, 344.87766764976425, 282.2319256132284, 55.86392288342609, 49.168878534673524, 30.99661530234508, 20.47583132573389, 20.47583132573389, 18.562961511804577, 16.650091697875265, 15.693656790910635, 15.693656790910635, 14.737221883946008, 13.780786976981323, 12.824352070016696, 12.824352070016696, 12.824352070016696, 10.911482256087384, 9.955047349122697, 9.955047349122697, 9.955047349122697, 9.955047349122697, 8.99861244215807, 8.99861244215807, 8.042177535193385, 7.085742628228758, 7.085742628228758, 7.085742628228758, 7.085742628228758, 7.085742628228758, 7.085742628228758, 25.29135695398179, 23.354701815319647, 21.45582673825543, 19.539880647776034, 18.583445740811406, 75.1908788894662, 23.38724556150285, 33.96144239325742, 23.406588733648256, 47.48912890732283, 12.848232662521253, 38.83965025828907, 55.38882499391818, 36.1565216745201, 91.15408358433305, 23.39773035480522, 25.44005253338767, 77.01302147621405, 91.48668109303226, 200.8986315662839, 40.30571710125493, 254.74169417604043, 60.893823086800566, 248.56948536489074, 536.8825278272756, 346.5856576292589, 212.58025600267254, 550.4084891342045, 5510.877723855725, 712.825681415524, 243.85181457052084, 165.82125460766804, 132.1033152019786, 119.70851983196401, 93.15829252407735, 240.4894583704731, 1055.6400413309939], \"Category\": [\"Default\", \"Default\", \"Default\", \"Default\", \"Default\", \"Default\", \"Default\", \"Default\", \"Default\", \"Default\", \"Default\", \"Default\", \"Default\", \"Default\", \"Default\", \"Default\", \"Default\", \"Default\", \"Default\", \"Default\", \"Default\", \"Default\", \"Default\", \"Default\", \"Default\", \"Default\", \"Default\", \"Default\", \"Default\", \"Default\", \"Topic1\", \"Topic1\", \"Topic1\", \"Topic1\", \"Topic1\", \"Topic1\", \"Topic1\", \"Topic1\", \"Topic1\", \"Topic1\", \"Topic1\", \"Topic1\", \"Topic1\", \"Topic1\", \"Topic1\", \"Topic1\", \"Topic1\", \"Topic1\", \"Topic1\", \"Topic1\", \"Topic1\", \"Topic1\", \"Topic1\", \"Topic1\", \"Topic1\", \"Topic1\", \"Topic1\", \"Topic1\", \"Topic1\", \"Topic1\", \"Topic1\", \"Topic1\", \"Topic1\", \"Topic1\", \"Topic1\", \"Topic1\", \"Topic1\", \"Topic1\", \"Topic1\", \"Topic1\", \"Topic1\", \"Topic1\", \"Topic1\", \"Topic1\", \"Topic1\", \"Topic1\", \"Topic1\", \"Topic1\", \"Topic1\", \"Topic1\", \"Topic1\", \"Topic1\", \"Topic1\", \"Topic1\", \"Topic1\", \"Topic1\", \"Topic1\", \"Topic1\", \"Topic1\", \"Topic1\", \"Topic1\", \"Topic1\", \"Topic1\", \"Topic1\", \"Topic1\", \"Topic1\", \"Topic1\", \"Topic1\", \"Topic1\", \"Topic1\", \"Topic1\", \"Topic1\", \"Topic1\", \"Topic1\", \"Topic1\", \"Topic1\", \"Topic1\", \"Topic1\", \"Topic2\", \"Topic2\", \"Topic2\", \"Topic2\", \"Topic2\", \"Topic2\", \"Topic2\", \"Topic2\", \"Topic2\", \"Topic2\", \"Topic2\", \"Topic2\", \"Topic2\", \"Topic2\", \"Topic2\", \"Topic2\", \"Topic2\", \"Topic2\", \"Topic2\", \"Topic2\", \"Topic2\", \"Topic2\", \"Topic2\", \"Topic2\", \"Topic2\", \"Topic2\", \"Topic2\", \"Topic2\", \"Topic2\", \"Topic2\", \"Topic2\", \"Topic2\", \"Topic2\", \"Topic2\", \"Topic2\", \"Topic2\", \"Topic2\", \"Topic2\", \"Topic2\", \"Topic2\", \"Topic2\", \"Topic2\", \"Topic2\", \"Topic2\", \"Topic2\", \"Topic2\", \"Topic2\", \"Topic2\", \"Topic2\", \"Topic2\", \"Topic2\", \"Topic2\", \"Topic2\", \"Topic2\", \"Topic2\", \"Topic2\", \"Topic2\", \"Topic2\", \"Topic2\", \"Topic2\", \"Topic2\", \"Topic2\", \"Topic2\", \"Topic2\", \"Topic2\", \"Topic2\", \"Topic2\", \"Topic2\", \"Topic2\", \"Topic2\", \"Topic2\", \"Topic2\", \"Topic2\", \"Topic2\", \"Topic2\", \"Topic2\", \"Topic2\", \"Topic2\", \"Topic2\", \"Topic2\", \"Topic2\", \"Topic2\", \"Topic2\", \"Topic2\", \"Topic2\", \"Topic2\", \"Topic2\", \"Topic2\", \"Topic2\", \"Topic2\", \"Topic2\", \"Topic3\", \"Topic3\", \"Topic3\", \"Topic3\", \"Topic3\", \"Topic3\", \"Topic3\", \"Topic3\", \"Topic3\", \"Topic3\", \"Topic3\", \"Topic3\", \"Topic3\", \"Topic3\", \"Topic3\", \"Topic3\", \"Topic3\", \"Topic3\", \"Topic3\", \"Topic3\", \"Topic3\", \"Topic3\", \"Topic3\", \"Topic3\", \"Topic3\", \"Topic3\", \"Topic3\", \"Topic3\", \"Topic3\", \"Topic3\", \"Topic3\", \"Topic3\", \"Topic3\", \"Topic3\", \"Topic3\", \"Topic3\", \"Topic3\", \"Topic3\", \"Topic3\", \"Topic3\", \"Topic3\", \"Topic3\", \"Topic3\", \"Topic3\", \"Topic3\", \"Topic3\", \"Topic3\", \"Topic3\", \"Topic3\", \"Topic3\", \"Topic3\", \"Topic3\", \"Topic3\", \"Topic3\", \"Topic3\", \"Topic3\", \"Topic3\", \"Topic3\", \"Topic3\", \"Topic3\", \"Topic3\", \"Topic3\", \"Topic3\", \"Topic3\", \"Topic3\", \"Topic3\", \"Topic3\", \"Topic3\", \"Topic3\", \"Topic3\", \"Topic3\", \"Topic3\", \"Topic3\", \"Topic3\", \"Topic3\", \"Topic3\", \"Topic3\", \"Topic3\", \"Topic3\", \"Topic3\", \"Topic3\", \"Topic3\", \"Topic3\", \"Topic3\", \"Topic3\", \"Topic3\", \"Topic3\", \"Topic3\", \"Topic3\", \"Topic3\", \"Topic4\", \"Topic4\", \"Topic4\", \"Topic4\", \"Topic4\", \"Topic4\", \"Topic4\", \"Topic4\", \"Topic4\", \"Topic4\", \"Topic4\", \"Topic4\", \"Topic4\", \"Topic4\", \"Topic4\", \"Topic4\", \"Topic4\", \"Topic4\", \"Topic4\", \"Topic4\", \"Topic4\", \"Topic4\", \"Topic4\", \"Topic4\", \"Topic4\", \"Topic4\", \"Topic4\", \"Topic4\", \"Topic4\", \"Topic4\", \"Topic4\", \"Topic4\", \"Topic4\", \"Topic4\", \"Topic4\", \"Topic4\", \"Topic4\", \"Topic4\", \"Topic4\", \"Topic4\", \"Topic4\", \"Topic4\", \"Topic4\", \"Topic4\", \"Topic4\", \"Topic4\", \"Topic4\", \"Topic4\", \"Topic4\", \"Topic4\", \"Topic4\", \"Topic4\", \"Topic4\", \"Topic4\", \"Topic4\", \"Topic4\", \"Topic4\", \"Topic4\", \"Topic4\", \"Topic4\", \"Topic4\", \"Topic4\", \"Topic4\", \"Topic4\", \"Topic4\", \"Topic4\", \"Topic4\", \"Topic4\", \"Topic4\", \"Topic4\", \"Topic4\", \"Topic4\", \"Topic4\", \"Topic4\", \"Topic4\", \"Topic4\", \"Topic4\", \"Topic4\", \"Topic4\", \"Topic4\", \"Topic4\", \"Topic4\", \"Topic4\", \"Topic5\", \"Topic5\", \"Topic5\", \"Topic5\", \"Topic5\", \"Topic5\", \"Topic5\", \"Topic5\", \"Topic5\", \"Topic5\", \"Topic5\", \"Topic5\", \"Topic5\", \"Topic5\", \"Topic5\", \"Topic5\", \"Topic5\", \"Topic5\", \"Topic5\", \"Topic5\", \"Topic5\", \"Topic5\", \"Topic5\", \"Topic5\", \"Topic5\", \"Topic5\", \"Topic5\", \"Topic5\", \"Topic5\", \"Topic5\", \"Topic5\", \"Topic5\", \"Topic5\", \"Topic5\", \"Topic5\", \"Topic5\", \"Topic5\", \"Topic5\", \"Topic5\", \"Topic5\", \"Topic5\", \"Topic5\", \"Topic5\", \"Topic5\", \"Topic5\", \"Topic5\", \"Topic5\", \"Topic5\", \"Topic5\", \"Topic5\", \"Topic5\", \"Topic5\", \"Topic5\", \"Topic5\", \"Topic5\", \"Topic5\", \"Topic5\", \"Topic5\", \"Topic5\", \"Topic5\", \"Topic5\", \"Topic5\", \"Topic5\", \"Topic5\", \"Topic5\", \"Topic5\", \"Topic5\", \"Topic5\", \"Topic5\", \"Topic5\", \"Topic5\", \"Topic5\", \"Topic5\", \"Topic5\", \"Topic5\", \"Topic6\", \"Topic6\", \"Topic6\", \"Topic6\", \"Topic6\", \"Topic6\", \"Topic6\", \"Topic6\", \"Topic6\", \"Topic6\", \"Topic6\", \"Topic6\", \"Topic6\", \"Topic6\", \"Topic6\", \"Topic6\", \"Topic6\", \"Topic6\", \"Topic6\", \"Topic6\", \"Topic6\", \"Topic6\", \"Topic6\", \"Topic6\", \"Topic6\", \"Topic6\", \"Topic6\", \"Topic6\", \"Topic6\", \"Topic6\", \"Topic6\", \"Topic6\", \"Topic6\", \"Topic6\", \"Topic6\", \"Topic6\", \"Topic6\", \"Topic6\", \"Topic6\", \"Topic6\", \"Topic6\", \"Topic6\", \"Topic6\", \"Topic6\", \"Topic6\", \"Topic6\", \"Topic6\", \"Topic6\", \"Topic6\", \"Topic6\", \"Topic6\", \"Topic6\", \"Topic6\", \"Topic6\", \"Topic6\", \"Topic6\", \"Topic6\", \"Topic6\", \"Topic6\", \"Topic6\", \"Topic6\", \"Topic6\", \"Topic6\", \"Topic6\", \"Topic6\", \"Topic6\", \"Topic6\", \"Topic6\", \"Topic7\", \"Topic7\", \"Topic7\", \"Topic7\", \"Topic7\", \"Topic7\", \"Topic7\", \"Topic7\", \"Topic7\", \"Topic7\", \"Topic7\", \"Topic7\", \"Topic7\", \"Topic7\", \"Topic7\", \"Topic7\", \"Topic7\", \"Topic7\", \"Topic7\", \"Topic7\", \"Topic7\", \"Topic7\", \"Topic7\", \"Topic7\", \"Topic7\", \"Topic7\", \"Topic7\", \"Topic7\", \"Topic7\", \"Topic7\", \"Topic7\", \"Topic7\", \"Topic7\", \"Topic7\", \"Topic7\", \"Topic7\", \"Topic7\", \"Topic7\", \"Topic7\", \"Topic7\", \"Topic7\", \"Topic7\", \"Topic7\", \"Topic7\", \"Topic7\", \"Topic7\", \"Topic7\", \"Topic7\", \"Topic7\", \"Topic7\", \"Topic7\", \"Topic7\", \"Topic7\", \"Topic7\", \"Topic7\", \"Topic7\", \"Topic7\", \"Topic7\", \"Topic7\", \"Topic7\", \"Topic7\", \"Topic7\", \"Topic7\", \"Topic7\", \"Topic7\", \"Topic7\", \"Topic7\", \"Topic7\", \"Topic7\", \"Topic7\", \"Topic7\", \"Topic7\", \"Topic7\", \"Topic7\", \"Topic8\", \"Topic8\", \"Topic8\", \"Topic8\", \"Topic8\", \"Topic8\", \"Topic8\", \"Topic8\", \"Topic8\", \"Topic8\", \"Topic8\", \"Topic8\", \"Topic8\", \"Topic8\", \"Topic8\", \"Topic8\", \"Topic8\", \"Topic8\", \"Topic8\", \"Topic8\", \"Topic8\", \"Topic8\", \"Topic8\", \"Topic8\", \"Topic8\", \"Topic8\", \"Topic8\", \"Topic8\", \"Topic8\", \"Topic8\", \"Topic8\", \"Topic8\", \"Topic8\", \"Topic8\", \"Topic8\", \"Topic8\", \"Topic8\", \"Topic8\", \"Topic8\", \"Topic8\", \"Topic8\", \"Topic8\", \"Topic8\", \"Topic8\", \"Topic8\", \"Topic8\", \"Topic8\", \"Topic8\", \"Topic8\", \"Topic8\", \"Topic8\", \"Topic8\", \"Topic8\", \"Topic8\", \"Topic8\", \"Topic8\", \"Topic8\", \"Topic8\", \"Topic8\", \"Topic8\", \"Topic8\", \"Topic8\", \"Topic8\", \"Topic8\", \"Topic8\", \"Topic8\", \"Topic8\", \"Topic8\", \"Topic8\", \"Topic8\", \"Topic8\", \"Topic8\", \"Topic8\", \"Topic8\", \"Topic8\", \"Topic8\", \"Topic8\", \"Topic9\", \"Topic9\", \"Topic9\", \"Topic9\", \"Topic9\", \"Topic9\", \"Topic9\", \"Topic9\", \"Topic9\", \"Topic9\", \"Topic9\", \"Topic9\", \"Topic9\", \"Topic9\", \"Topic9\", \"Topic9\", \"Topic9\", \"Topic9\", \"Topic9\", \"Topic9\", \"Topic9\", \"Topic9\", \"Topic9\", \"Topic9\", \"Topic9\", \"Topic9\", \"Topic9\", \"Topic9\", \"Topic9\", \"Topic9\", \"Topic9\", \"Topic9\", \"Topic9\", \"Topic9\", \"Topic9\", \"Topic9\", \"Topic9\", \"Topic9\", \"Topic9\", \"Topic9\", \"Topic9\", \"Topic9\", \"Topic9\", \"Topic9\", \"Topic9\", \"Topic9\", \"Topic9\", \"Topic9\", \"Topic9\", \"Topic9\", \"Topic9\", \"Topic9\", \"Topic9\", \"Topic9\", \"Topic9\", \"Topic9\", \"Topic9\", \"Topic9\", \"Topic9\", \"Topic9\", \"Topic9\", \"Topic9\", \"Topic9\", \"Topic9\", \"Topic9\", \"Topic9\", \"Topic9\", \"Topic9\", \"Topic10\", \"Topic10\", \"Topic10\", \"Topic10\", \"Topic10\", \"Topic10\", \"Topic10\", \"Topic10\", \"Topic10\", \"Topic10\", \"Topic10\", \"Topic10\", \"Topic10\", \"Topic10\", \"Topic10\", \"Topic10\", \"Topic10\", \"Topic10\", \"Topic10\", \"Topic10\", \"Topic10\", \"Topic10\", \"Topic10\", \"Topic10\", \"Topic10\", \"Topic10\", \"Topic10\", \"Topic10\", \"Topic10\", \"Topic10\", \"Topic10\", \"Topic10\", \"Topic10\", \"Topic10\", \"Topic10\", \"Topic10\", \"Topic10\", \"Topic10\", \"Topic10\", \"Topic10\", \"Topic10\", \"Topic10\", \"Topic10\", \"Topic10\", \"Topic10\", \"Topic10\", \"Topic10\", \"Topic10\", \"Topic10\", \"Topic10\", \"Topic10\", \"Topic10\", \"Topic10\", \"Topic10\", \"Topic10\", \"Topic10\", \"Topic10\", \"Topic10\", \"Topic10\", \"Topic10\", \"Topic10\", \"Topic10\", \"Topic10\", \"Topic10\", \"Topic10\", \"Topic10\", \"Topic10\", \"Topic10\", \"Topic10\", \"Topic10\", \"Topic10\", \"Topic10\", \"Topic10\", \"Topic10\", \"Topic10\", \"Topic11\", \"Topic11\", \"Topic11\", \"Topic11\", \"Topic11\", \"Topic11\", \"Topic11\", \"Topic11\", \"Topic11\", \"Topic11\", \"Topic11\", \"Topic11\", \"Topic11\", \"Topic11\", \"Topic11\", \"Topic11\", \"Topic11\", \"Topic11\", \"Topic11\", \"Topic11\", \"Topic11\", \"Topic11\", \"Topic11\", \"Topic11\", \"Topic11\", \"Topic11\", \"Topic11\", \"Topic11\", \"Topic11\", \"Topic11\", \"Topic11\", \"Topic11\", \"Topic11\", \"Topic11\", \"Topic11\", \"Topic11\", \"Topic11\", \"Topic11\", \"Topic11\", \"Topic11\", \"Topic11\", \"Topic11\", \"Topic11\", \"Topic11\", \"Topic11\", \"Topic11\", \"Topic11\", \"Topic11\", \"Topic11\", \"Topic11\", \"Topic11\", \"Topic11\", \"Topic11\", \"Topic11\", \"Topic11\", \"Topic11\", \"Topic11\", \"Topic11\", \"Topic11\", \"Topic11\", \"Topic11\", \"Topic11\", \"Topic11\", \"Topic11\", \"Topic11\", \"Topic11\", \"Topic11\", \"Topic11\", \"Topic11\", \"Topic12\", \"Topic12\", \"Topic12\", \"Topic12\", \"Topic12\", \"Topic12\", \"Topic12\", \"Topic12\", \"Topic12\", \"Topic12\", \"Topic12\", \"Topic12\", \"Topic12\", \"Topic12\", \"Topic12\", \"Topic12\", \"Topic12\", \"Topic12\", \"Topic12\", \"Topic12\", \"Topic12\", \"Topic12\", \"Topic12\", \"Topic12\", \"Topic12\", \"Topic12\", \"Topic12\", \"Topic12\", \"Topic12\", \"Topic12\", \"Topic12\", \"Topic12\", \"Topic12\", \"Topic12\", \"Topic12\", \"Topic12\", \"Topic12\", \"Topic12\", \"Topic12\", \"Topic12\", \"Topic12\", \"Topic12\", \"Topic12\", \"Topic12\", \"Topic12\", \"Topic12\", \"Topic12\", \"Topic12\", \"Topic12\", \"Topic12\", \"Topic12\", \"Topic12\", \"Topic12\", \"Topic12\", \"Topic12\", \"Topic12\", \"Topic12\", \"Topic12\", \"Topic12\", \"Topic12\", \"Topic12\", \"Topic12\", \"Topic12\", \"Topic12\", \"Topic12\", \"Topic12\", \"Topic12\", \"Topic12\", \"Topic12\", \"Topic12\", \"Topic12\", \"Topic12\", \"Topic12\", \"Topic12\", \"Topic12\", \"Topic13\", \"Topic13\", \"Topic13\", \"Topic13\", \"Topic13\", \"Topic13\", \"Topic13\", \"Topic13\", \"Topic13\", \"Topic13\", \"Topic13\", \"Topic13\", \"Topic13\", \"Topic13\", \"Topic13\", \"Topic13\", \"Topic13\", \"Topic13\", \"Topic13\", \"Topic13\", \"Topic13\", \"Topic13\", \"Topic13\", \"Topic13\", \"Topic13\", \"Topic13\", \"Topic13\", \"Topic13\", \"Topic13\", \"Topic13\", \"Topic13\", \"Topic13\", \"Topic13\", \"Topic13\", \"Topic13\", \"Topic13\", \"Topic13\", \"Topic13\", \"Topic13\", \"Topic13\", \"Topic13\", \"Topic13\", \"Topic13\", \"Topic13\", \"Topic13\", \"Topic13\", \"Topic13\", \"Topic13\", \"Topic13\", \"Topic13\", \"Topic13\", \"Topic13\", \"Topic13\", \"Topic13\", \"Topic13\", \"Topic13\", \"Topic13\", \"Topic13\", \"Topic13\", \"Topic13\", \"Topic13\", \"Topic13\", \"Topic13\", \"Topic13\", \"Topic13\", \"Topic13\", \"Topic13\", \"Topic13\", \"Topic13\", \"Topic13\", \"Topic13\", \"Topic13\", \"Topic14\", \"Topic14\", \"Topic14\", \"Topic14\", \"Topic14\", \"Topic14\", \"Topic14\", \"Topic14\", \"Topic14\", \"Topic14\", \"Topic14\", \"Topic14\", \"Topic14\", \"Topic14\", \"Topic14\", \"Topic14\", \"Topic14\", \"Topic14\", \"Topic14\", \"Topic14\", \"Topic14\", \"Topic14\", \"Topic14\", \"Topic14\", \"Topic14\", \"Topic14\", \"Topic14\", \"Topic14\", \"Topic14\", \"Topic14\", \"Topic14\", \"Topic14\", \"Topic14\", \"Topic14\", \"Topic14\", \"Topic14\", \"Topic14\", \"Topic14\", \"Topic14\", \"Topic14\", \"Topic14\", \"Topic14\", \"Topic14\", \"Topic14\", \"Topic14\", \"Topic14\", \"Topic14\", \"Topic14\", \"Topic14\", \"Topic14\", \"Topic14\", \"Topic14\", \"Topic14\", \"Topic14\", \"Topic14\", \"Topic14\", \"Topic14\", \"Topic14\", \"Topic14\", \"Topic14\", \"Topic14\", \"Topic14\", \"Topic14\", \"Topic14\", \"Topic14\", \"Topic15\", \"Topic15\", \"Topic15\", \"Topic15\", \"Topic15\", \"Topic15\", \"Topic15\", \"Topic15\", \"Topic15\", \"Topic15\", \"Topic15\", \"Topic15\", \"Topic15\", \"Topic15\", \"Topic15\", \"Topic15\", \"Topic15\", \"Topic15\", \"Topic15\", \"Topic15\", \"Topic15\", \"Topic15\", \"Topic15\", \"Topic15\", \"Topic15\", \"Topic15\", \"Topic15\", \"Topic15\", \"Topic15\", \"Topic15\", \"Topic15\", \"Topic15\", \"Topic15\", \"Topic15\", \"Topic15\", \"Topic15\", \"Topic15\", \"Topic15\", \"Topic15\", \"Topic15\", \"Topic15\", \"Topic15\", \"Topic15\", \"Topic15\", \"Topic15\", \"Topic15\", \"Topic15\", \"Topic15\", \"Topic15\", \"Topic15\", \"Topic15\", \"Topic15\", \"Topic15\", \"Topic15\", \"Topic15\", \"Topic15\", \"Topic15\", \"Topic15\", \"Topic15\", \"Topic15\", \"Topic15\", \"Topic15\", \"Topic15\", \"Topic15\", \"Topic15\", \"Topic15\", \"Topic15\", \"Topic15\", \"Topic15\", \"Topic15\", \"Topic16\", \"Topic16\", \"Topic16\", \"Topic16\", \"Topic16\", \"Topic16\", \"Topic16\", \"Topic16\", \"Topic16\", \"Topic16\", \"Topic16\", \"Topic16\", \"Topic16\", \"Topic16\", \"Topic16\", \"Topic16\", \"Topic16\", \"Topic16\", \"Topic16\", \"Topic16\", \"Topic16\", \"Topic16\", \"Topic16\", \"Topic16\", \"Topic16\", \"Topic16\", \"Topic16\", \"Topic16\", \"Topic16\", \"Topic16\", \"Topic16\", \"Topic16\", \"Topic16\", \"Topic16\", \"Topic16\", \"Topic16\", \"Topic16\", \"Topic16\", \"Topic16\", \"Topic16\", \"Topic16\", \"Topic16\", \"Topic16\", \"Topic16\", \"Topic16\", \"Topic16\", \"Topic16\", \"Topic16\", \"Topic16\", \"Topic16\", \"Topic16\", \"Topic16\", \"Topic16\", \"Topic16\", \"Topic16\", \"Topic16\", \"Topic16\", \"Topic16\", \"Topic16\", \"Topic16\", \"Topic16\", \"Topic16\", \"Topic16\", \"Topic16\", \"Topic16\", \"Topic16\", \"Topic16\", \"Topic16\", \"Topic16\", \"Topic16\", \"Topic16\", \"Topic16\", \"Topic16\", \"Topic16\", \"Topic16\", \"Topic16\", \"Topic17\", \"Topic17\", \"Topic17\", \"Topic17\", \"Topic17\", \"Topic17\", \"Topic17\", \"Topic17\", \"Topic17\", \"Topic17\", \"Topic17\", \"Topic17\", \"Topic17\", \"Topic17\", \"Topic17\", \"Topic17\", \"Topic17\", \"Topic17\", \"Topic17\", \"Topic17\", \"Topic17\", \"Topic17\", \"Topic17\", \"Topic17\", \"Topic17\", \"Topic17\", \"Topic17\", \"Topic17\", \"Topic17\", \"Topic17\", \"Topic17\", \"Topic17\", \"Topic17\", \"Topic17\", \"Topic17\", \"Topic17\", \"Topic17\", \"Topic17\", \"Topic17\", \"Topic17\", \"Topic17\", \"Topic17\", \"Topic17\", \"Topic17\", \"Topic17\", \"Topic17\", \"Topic17\", \"Topic17\", \"Topic17\", \"Topic17\", \"Topic17\", \"Topic17\", \"Topic17\", \"Topic17\", \"Topic17\", \"Topic17\", \"Topic17\", \"Topic17\", \"Topic17\", \"Topic17\", \"Topic17\", \"Topic17\", \"Topic17\", \"Topic17\", \"Topic17\", \"Topic17\", \"Topic17\", \"Topic17\", \"Topic18\", \"Topic18\", \"Topic18\", \"Topic18\", \"Topic18\", \"Topic18\", \"Topic18\", \"Topic18\", \"Topic18\", \"Topic18\", \"Topic18\", \"Topic18\", \"Topic18\", \"Topic18\", \"Topic18\", \"Topic18\", \"Topic18\", \"Topic18\", \"Topic18\", \"Topic18\", \"Topic18\", \"Topic18\", \"Topic18\", \"Topic18\", \"Topic18\", \"Topic18\", \"Topic18\", \"Topic18\", \"Topic18\", \"Topic18\", \"Topic18\", \"Topic18\", \"Topic18\", \"Topic18\", \"Topic18\", \"Topic18\", \"Topic18\", \"Topic18\", \"Topic18\", \"Topic18\", \"Topic18\", \"Topic18\", \"Topic18\", \"Topic18\", \"Topic18\", \"Topic18\", \"Topic18\", \"Topic18\", \"Topic18\", \"Topic18\", \"Topic18\", \"Topic18\", \"Topic18\", \"Topic18\", \"Topic18\", \"Topic18\", \"Topic18\", \"Topic18\", \"Topic18\", \"Topic18\", \"Topic18\", \"Topic18\", \"Topic18\", \"Topic18\", \"Topic18\", \"Topic18\", \"Topic18\", \"Topic18\", \"Topic18\", \"Topic18\", \"Topic18\", \"Topic18\", \"Topic19\", \"Topic19\", \"Topic19\", \"Topic19\", \"Topic19\", \"Topic19\", \"Topic19\", \"Topic19\", \"Topic19\", \"Topic19\", \"Topic19\", \"Topic19\", \"Topic19\", \"Topic19\", \"Topic19\", \"Topic19\", \"Topic19\", \"Topic19\", \"Topic19\", \"Topic19\", \"Topic19\", \"Topic19\", \"Topic19\", \"Topic19\", \"Topic19\", \"Topic19\", \"Topic19\", \"Topic19\", \"Topic19\", \"Topic19\", \"Topic19\", \"Topic19\", \"Topic19\", \"Topic19\", \"Topic19\", \"Topic19\", \"Topic19\", \"Topic19\", \"Topic19\", \"Topic19\", \"Topic19\", \"Topic19\", \"Topic19\", \"Topic19\", \"Topic19\", \"Topic19\", \"Topic19\", \"Topic19\", \"Topic19\", \"Topic19\", \"Topic19\", \"Topic19\", \"Topic19\", \"Topic19\", \"Topic19\", \"Topic19\", \"Topic19\", \"Topic19\", \"Topic19\", \"Topic19\", \"Topic19\", \"Topic19\", \"Topic19\", \"Topic19\", \"Topic19\", \"Topic19\", \"Topic19\", \"Topic20\", \"Topic20\", \"Topic20\", \"Topic20\", \"Topic20\", \"Topic20\", \"Topic20\", \"Topic20\", \"Topic20\", \"Topic20\", \"Topic20\", \"Topic20\", \"Topic20\", \"Topic20\", \"Topic20\", \"Topic20\", \"Topic20\", \"Topic20\", \"Topic20\", \"Topic20\", \"Topic20\", \"Topic20\", \"Topic20\", \"Topic20\", \"Topic20\", \"Topic20\", \"Topic20\", \"Topic20\", \"Topic20\", \"Topic20\", \"Topic20\", \"Topic20\", \"Topic20\", \"Topic20\", \"Topic20\", \"Topic20\", \"Topic20\", \"Topic20\", \"Topic20\", \"Topic20\", \"Topic20\", \"Topic20\", \"Topic20\", \"Topic20\", \"Topic20\", \"Topic20\", \"Topic20\", \"Topic20\", \"Topic20\", \"Topic20\", \"Topic20\", \"Topic20\", \"Topic20\", \"Topic20\", \"Topic20\", \"Topic20\", \"Topic20\", \"Topic20\", \"Topic20\", \"Topic20\", \"Topic20\", \"Topic20\", \"Topic20\", \"Topic20\", \"Topic20\"], \"logprob\": [30.0, 29.0, 28.0, 27.0, 26.0, 25.0, 24.0, 23.0, 22.0, 21.0, 20.0, 19.0, 18.0, 17.0, 16.0, 15.0, 14.0, 13.0, 12.0, 11.0, 10.0, 9.0, 8.0, 7.0, 6.0, 5.0, 4.0, 3.0, 2.0, 1.0, -5.6926, -5.92, -6.0057, -6.2165, -6.2494, -6.5248, -6.6043, -6.6374, -6.7353, -6.9478, -7.121, -7.1465, -7.186, -7.2461, -7.2509, -7.2557, -7.3515, -7.3621, -7.3675, -7.3728, -7.4058, -7.417, -7.4341, -7.4457, -7.5369, -7.5562, -7.5892, -7.6027, -7.6303, -7.6373, -3.525, -6.1963, -6.5483, -6.6093, -5.8803, -6.6297, -6.4885, -6.6194, -6.9985, -7.0249, -5.5458, -5.6915, -6.7183, -6.5943, -6.8033, -7.0718, -5.078, -5.0677, -5.5848, -6.5435, -6.5435, -5.6805, -4.8953, -6.5272, -5.2708, -6.0639, -5.5192, -5.8682, -5.7765, -5.9639, -6.1897, -5.1254, -6.1056, -5.5857, -5.8707, -5.0559, -5.7453, -5.5141, -5.7711, -4.422, -5.2434, -5.5776, -5.96, -5.6926, -5.6301, -5.8156, -5.77, -5.9366, -6.9323, -7.2998, -7.3375, -7.3767, -7.4175, -7.46, -7.46, -7.5996, -7.5996, -7.5996, -7.6509, -7.6509, -7.6509, -7.6509, -7.7049, -7.7049, -7.762, -7.762, -7.8225, -7.8225, -7.8225, -7.8225, -7.8225, -7.8225, -7.8225, -7.887, -7.887, -7.887, -7.887, -7.887, -7.887, -7.887, -7.887, -7.887, -7.1945, -6.4529, -7.2634, -6.8582, -6.5887, -6.7893, -7.3767, -6.2523, -7.4175, -6.8347, -5.991, -6.1653, -6.2394, -7.0123, -7.0694, -7.1617, -5.9141, -6.2017, -6.8582, -7.2284, -5.3978, -6.9583, -7.2284, -5.86, -6.4064, -5.1713, -4.5851, -5.9234, -6.3476, -6.4064, -5.721, -6.4529, -6.3476, -5.8513, -5.8087, -4.4651, -6.4529, -6.553, -5.9614, -6.5707, -5.6195, -5.4783, -5.5856, -5.4783, -5.9141, -5.7759, -5.0053, -6.1188, -5.9327, -6.0529, -6.1075, -5.5086, -5.784, -6.1894, -6.0963, -6.1653, -6.1418, -6.1013, -6.8413, -7.5666, -7.7095, -7.7894, -7.7894, -6.5378, -7.8762, -7.8762, -7.8762, -7.9714, -7.9714, -7.9714, -8.0765, -8.0765, -8.0765, -8.0765, -8.0765, -6.8741, -8.194, -8.194, -8.194, -8.194, -8.194, -8.194, -8.194, -8.194, -8.3272, -8.3272, -8.3272, -8.3272, -8.3272, -6.908, -7.3845, -6.5866, -7.0563, -6.749, -6.7788, -7.0171, -7.1396, -7.6355, -7.6355, -7.0563, -3.7392, -6.9794, -7.184, -5.2454, -5.0885, -5.9582, -5.6806, -5.6029, -6.8413, -2.8282, -4.6411, -7.3305, -6.1981, -4.6924, -6.2866, -6.1485, -5.2324, -6.7788, -5.4718, -4.4738, -4.7705, -5.2652, -5.5222, -4.4859, -4.1937, -5.7219, -5.5936, -6.0272, -5.9063, -5.869, -5.6029, -5.2519, -5.1459, -5.3342, -5.4006, -4.9383, -5.0829, -5.7114, -5.2519, -4.9577, -5.4083, -5.1821, -5.2519, -5.3486, -5.48, -5.5753, -5.5484, -6.4294, -6.5311, -6.5674, -6.7276, -6.9725, -7.0901, -7.1546, -7.1546, -7.2235, -7.2235, -7.2235, -7.2235, -7.3774, -7.3774, -7.3774, -7.3774, -7.4643, -7.4643, -7.4643, -7.4643, -7.4643, -7.4643, -7.5594, -7.5594, -7.5594, -7.5594, -7.5594, -7.5594, -7.5594, -7.5594, -6.1746, -6.3081, -6.8185, -6.8185, -6.5311, -6.9185, -6.496, -6.772, -5.8032, -6.3976, -6.6851, -6.8673, -5.9718, -6.7276, -6.3976, -6.2259, -6.772, -4.1568, -4.9222, -5.2687, -5.7365, -5.0196, -4.5909, -5.9718, -5.8563, -5.6442, -4.908, -5.1817, -6.1499, -5.533, -4.7106, -4.1145, -5.0516, -5.8563, -4.8466, -4.201, -5.5733, -5.2994, -4.9439, -5.601, -5.3205, -5.1725, -5.0275, -5.5462, -5.4693, -5.4094, -5.1276, -5.364, -5.4329, -5.587, -5.457, -5.3205, -5.6152, -5.913, -6.158, -6.2757, -6.3741, -6.4092, -6.4832, -6.6057, -6.6502, -6.7454, -6.7966, -6.7966, -6.8506, -6.9683, -6.9683, -7.0327, -7.1016, -7.1756, -7.1756, -7.1756, -7.1756, -7.1756, -7.1756, -7.1756, -7.1756, -7.2555, -7.2555, -7.2555, -7.2555, -7.2555, -7.2555, -6.245, -6.5224, -5.2875, -5.8099, -4.6003, -6.7454, -5.6309, -5.2875, -6.158, -5.4111, -6.4455, -5.6474, -6.3402, -5.5077, -4.7932, -6.078, -5.8915, -6.3075, -5.5223, -5.2645, -6.1306, -4.8821, -5.4244, -4.8744, -5.4652, -5.7344, -4.9628, -5.2201, -5.5521, -5.4378, -4.118, -5.1775, -5.1268, -5.4378, -5.2093, -5.5829, -5.2645, -5.6474, -5.5223, -5.5371, -5.5371, -5.5371, -5.5674, -5.4791, -5.5674, -4.5818, -4.5887, -4.5818, -6.0317, -6.1906, -6.3797, -6.4223, -6.4667, -6.5131, -6.5131, -6.6671, -6.7242, -5.4474, -6.9181, -3.6532, -6.9921, -6.9921, -7.0721, -7.0721, -7.1589, -7.1589, -7.254, -7.254, -7.254, -7.254, -7.254, -7.3592, -7.3592, -7.3592, -7.3592, -7.3592, -7.3592, -4.2114, -6.0317, -4.6097, -5.2543, -4.2307, -5.8692, -6.124, -6.5131, -5.2146, -5.3687, -5.1276, -5.774, -4.4526, -5.774, -4.4286, -5.3536, -5.9472, -5.2817, -4.4709, -4.5956, -4.6458, -5.9205, -5.607, -4.2855, -5.0366, -4.301, -4.624, -5.3839, -4.914, -4.8223, -5.3098, -4.8856, -5.4152, -5.2543, -5.0925, -5.3536, -4.9044, -6.1047, -6.3196, -6.3604, -6.4938, -6.5938, -6.6478, -6.6478, -6.7049, -6.7049, -6.7049, -6.7049, -6.7655, -6.7655, -6.8299, -6.8299, -6.8988, -6.8988, -6.9728, -6.9728, -6.9728, -7.0527, -7.0527, -7.0527, -7.1396, -7.1396, -7.1396, -7.1396, -7.1396, -7.1396, -4.7108, -5.7776, -5.1202, -6.6478, -4.8852, -4.2162, -6.4029, -5.8499, -5.0393, -6.1374, -4.6192, -5.4785, -6.1047, -3.7281, -3.7899, -5.1323, -6.1374, -4.464, -5.1083, -5.0393, -5.6471, -5.9834, -6.3196, -6.0422, -5.1202, -4.5352, -5.5877, -5.2763, -6.0124, -5.8012, -5.6269, -5.2624, -5.9012, -5.4446, -4.464, -5.0282, -5.3801, -5.4446, -5.7322, -5.6269, -5.2763, -5.6269, -5.5686, -5.5877, -6.1777, -6.214, -6.2518, -6.4651, -6.5651, -6.5651, -6.6191, -6.6191, -6.6191, -6.6762, -6.6762, -6.6762, -6.7368, -6.7368, -6.8012, -6.8012, -6.8701, -6.8701, -6.8701, -6.9441, -6.9441, -6.9441, -6.9441, -6.9441, -7.024, -7.024, -7.1109, -7.1109, -7.1109, -7.1109, -5.0677, -6.2518, -5.9547, -3.8034, -6.214, -5.1409, -5.5982, -6.1426, -6.0443, -6.1777, -6.3743, -5.8992, -5.7035, -6.1088, -4.9995, -5.726, -5.0218, -6.0443, -5.4159, -4.8283, -6.2518, -4.2902, -5.9837, -5.6815, -5.3994, -6.0443, -5.2063, -5.1283, -4.5476, -5.639, -5.8465, -5.4849, -5.2337, -5.5784, -5.6815, -5.0106, -5.6184, -5.8725, -5.9265, -5.5784, -5.749, -5.6815, -5.66, -5.2908, -5.726, -5.726, -5.749, -4.9271, -5.3268, -5.6666, -5.7153, -5.7666, -5.8488, -5.9076, -6.0028, -6.1458, -6.1458, -6.2683, -6.3127, -5.035, -6.3592, -6.3592, -6.408, -6.408, -6.408, -6.5132, -6.5132, -6.5703, -6.5703, -6.6309, -6.6309, -6.6309, -6.7642, -6.8382, -6.8382, -6.8382, -6.8382, -4.0433, -4.4993, -4.7411, -5.2455, -5.379, -5.1004, -5.6906, -4.3357, -4.8936, -5.6906, -4.9158, -6.2258, -6.0367, -4.4993, -5.9383, -5.5976, -5.5125, -5.5976, -5.3439, -5.31, -5.3268, -4.6338, -5.7153, -5.3439, -5.7406, -4.6338, -5.5541, -4.5525, -5.2772, -5.2772, -5.23, -5.1278, -5.31, -5.1849, -5.1849, -5.2147, -5.2147, -5.3613, -5.8656, -5.9281, -5.9948, -6.1839, -6.1839, -6.2264, -6.366, -6.4173, -6.4173, -6.4713, -6.4713, -6.5284, -6.5284, -6.5889, -6.5889, -6.6534, -6.6534, -6.6534, -6.7223, -6.7223, -6.7223, -6.7223, -6.7963, -6.7963, -6.8762, -5.114, -6.963, -6.963, -6.963, -7.0582, -7.0582, -5.6734, -6.1431, -6.1839, -5.6011, -5.6246, -5.3734, -6.3173, -5.6011, -6.1431, -6.366, -6.4173, -3.8533, -5.5337, -5.5781, -5.8964, -4.7474, -5.6487, -5.0187, -6.3173, -3.992, -5.2353, -5.302, -4.3722, -5.5556, -5.0998, -5.7513, -4.6264, -5.3734, -5.4503, -5.6246, -4.8966, -5.3921, -5.6011, -5.1284, -5.302, -5.4503, -5.4305, -5.5122, -5.4111, -5.5337, -5.4305, -5.5337, -5.5781, -5.6011, -4.4769, -5.5752, -5.8229, -5.9564, -4.7673, -6.1104, -6.2438, -4.9849, -6.2925, -6.3978, -6.3978, -6.5154, -6.5799, -6.5799, -6.6488, -6.6488, -6.7228, -6.7228, -6.7228, -6.8027, -6.8027, -6.8896, -6.9847, -6.9847, -6.9847, -7.0898, -7.0898, -7.0898, -7.2073, -7.2073, -7.2073, -6.2438, -4.9849, -6.4549, -5.6778, -4.9323, -4.8582, -6.2925, -5.6252, -5.5276, -5.2816, -5.5511, -6.1973, -5.6252, -5.0993, -5.3571, -4.0581, -6.0696, -5.6252, -5.3376, -5.6778, -4.9452, -5.6512, -4.7041, -4.8004, -4.7565, -4.9196, -5.4822, -4.6351, -4.6163, -4.7352, -5.2285, -4.1301, -5.2636, -5.1618, -5.4602, -5.4822, -5.5046, -5.5511, -4.365, -5.7279, -6.133, -6.133, -6.3906, -6.7384, -6.8253, -6.8253, -5.5609, -6.9204, -6.9204, -7.0255, -7.0255, -7.0255, -7.0255, -7.0255, -7.0255, -7.0255, -7.143, -7.143, -7.143, -7.2762, -7.2762, -7.2762, -7.2762, -7.2762, -7.2762, -7.2762, -7.2762, -7.2762, -6.0886, -5.6135, -5.9661, -6.4511, -5.9284, -4.9342, -5.698, -6.0886, -4.0319, -5.7903, -6.2795, -5.3125, -6.0053, -5.5609, -6.2795, -4.8427, -5.9284, -5.9661, -5.698, -5.0658, -5.5609, -5.4403, -5.6409, -5.3744, -5.4403, -4.5708, -4.9072, -4.0601, -5.0975, -5.2356, -5.4633, -5.035, -5.2356, -4.9342, -4.9906, -4.7588, -5.2356, -4.8427, -5.4868, -5.2356, -5.3533, -5.4633, -5.1816, -5.4403, -5.4868, -5.1761, -5.3947, -5.7672, -5.9053, -5.9053, -6.2051, -6.3104, -6.3104, -6.428, -6.428, -6.428, -6.4925, -6.4925, -6.5614, -6.5614, -6.6354, -6.6354, -6.7153, -6.7153, -6.8021, -6.8021, -6.8021, -6.8021, -6.8973, -6.8973, -7.0024, -7.0024, -7.0024, -7.0024, -7.1199, -5.3728, -5.9822, -4.9111, -5.9822, -6.428, -4.7018, -6.4925, -5.4172, -5.2125, -5.6749, -6.4925, -5.1584, -5.3513, -5.9822, -5.0271, -6.1099, -4.7473, -6.023, -5.9822, -5.1584, -4.8449, -4.982, -4.4832, -5.7672, -5.8, -4.8841, -5.7047, -5.0271, -5.4402, -5.3728, -4.7243, -5.6178, -5.5378, -5.3302, -5.6749, -5.3513, -5.4402, -5.5378, -5.5125, -5.5125, -5.6178, -5.6459, -4.4484, -4.8952, -5.0973, -5.1504, -4.3788, -5.7563, -5.7901, -5.9385, -6.2667, -6.2667, -6.3237, -6.3843, -6.3843, -6.3843, -6.4488, -6.4488, -6.5916, -6.5916, -6.5916, -6.5916, -6.5916, -6.6716, -6.6716, -6.6716, -6.7584, -6.7584, -6.7584, -6.7584, -6.7584, -6.7584, -4.7271, -5.3291, -4.6806, -4.7634, -5.9385, -5.1875, -4.7152, -6.2667, -5.4688, -5.8993, -4.0164, -6.0218, -5.7235, -5.3965, -4.7152, -5.7563, -5.6312, -4.5528, -3.5523, -4.4218, -5.52, -5.0307, -5.5467, -5.42, -5.1875, -5.1147, -5.4941, -4.8404, -4.8404, -5.0307, -5.3965, -5.3965, -5.351, -5.4688, -5.4441, -5.3126, -5.4035, -5.4776, -5.4776, -5.922, -6.2502, -6.2502, -6.3073, -6.3678, -6.3678, -6.4323, -6.5752, -6.6551, -6.6551, -6.6551, -6.6551, -6.742, -6.8371, -6.8371, -6.8371, -6.8371, -6.8371, -6.9422, -6.9422, -6.9422, -6.9422, -6.9422, -5.7398, -7.0597, -7.0597, -7.0597, -7.0597, -7.0597, -3.682, -5.5302, -4.8373, -6.2502, -6.0053, -5.2095, -4.7594, -4.9073, -4.3708, -4.9825, -6.4323, -4.3132, -5.5858, -3.9598, -5.2095, -5.6446, -5.19, -4.4501, -4.9982, -4.8647, -5.6147, -5.6446, -5.047, -4.8787, -4.747, -5.134, -4.5771, -5.3346, -5.2292, -5.116, -5.171, -5.0809, -5.047, -4.9367, -5.3346, -5.38, -5.4035, -4.8871, -5.2924, -5.6287, -5.8109, -5.9386, -6.1961, -6.1961, -6.2567, -6.2567, -6.3212, -6.3212, -6.3212, -6.464, -6.544, -6.544, -6.6308, -6.6308, -6.6308, -6.6308, -6.726, -6.726, -6.726, -6.8311, -6.8311, -6.9486, -6.9486, -6.9486, -6.9486, -6.9486, -6.9486, -6.9486, -6.1961, -5.7717, -5.8109, -6.0338, -6.0338, -5.4465, -5.7717, -4.576, -3.364, -5.8516, -6.1391, -5.8516, -4.5876, -4.5995, -6.1961, -5.2689, -5.9851, -4.7961, -5.2015, -4.6483, -4.6865, -4.9871, -5.5642, -5.2689, -5.6976, -4.2429, -5.2924, -4.9359, -5.3924, -5.1181, -5.5334, -5.4191, -4.3956, -5.4746, -5.0789, -5.5334, -4.7262, -5.4746, -5.4191, -5.3412, -5.2234, -5.2689, -5.4191, -5.4746, -5.4746, -5.0697, -5.1105, -5.318, -5.6141, -5.9366, -5.9366, -5.9366, -6.0906, -6.0906, -6.2727, -6.3416, -6.4156, -6.4156, -6.4955, -6.4955, -6.4955, -6.4955, -6.4955, -6.5824, -6.5824, -6.6775, -6.6775, -6.6775, -6.6775, -6.6775, -6.6775, -6.6775, -6.7827, -6.7827, -6.7827, -5.5157, -6.7827, -6.7827, -5.6492, -5.9366, -4.8546, -4.9744, -4.328, -6.3416, -5.153, -5.1975, -5.5475, -6.2083, -5.8457, -5.4262, -5.5475, -4.8709, -5.0697, -5.5802, -4.7771, -5.5157, -6.1477, -5.9854, -6.0906, -4.9744, -4.9927, -5.8457, -5.318, -4.6914, -4.7771, -4.6914, -5.0499, -5.175, -5.4552, -5.5475, -5.5802, -5.6141, -5.6141, -5.5148, -5.5814, -5.5814, -5.6905, -5.7705, -5.8575, -5.9527, -6.0579, -6.0579, -6.115, -6.1756, -6.1756, -6.1756, -6.1756, -6.24, -6.3829, -6.4628, -6.4628, -6.5497, -6.5497, -6.5497, -4.806, -6.6448, -6.6448, -6.6448, -6.6448, -6.6448, -6.6448, -6.75, -6.75, -6.75, -5.7297, -4.7747, -4.806, -5.5475, -6.115, -5.7297, -5.6528, -6.24, -5.483, -5.26, -6.24, -4.6864, -6.24, -5.0778, -5.1203, -5.7705, -4.8382, -4.4383, -5.2353, -5.3113, -4.6587, -5.4523, -5.5148, -5.3935, -5.4225, -4.6864, -4.7296, -5.1203, -5.2853, -4.3849, -4.906, -5.4225, -5.26, -4.7747, -5.0572, -4.9237, -5.0572, -5.0172, -5.26, -5.338, -5.4225, -5.0467, -5.0884, -5.1773, -5.5371, -5.6061, -5.6424, -5.7193, -6.0475, -6.0475, -6.1046, -6.1046, -6.2296, -6.2985, -6.3725, -6.4524, -6.4524, -6.5393, -6.6344, -6.6344, -6.7395, -6.7395, -6.7395, -6.857, -6.857, -6.857, -6.857, -6.857, -6.857, -6.857, -5.571, -5.1543, -4.5199, -5.9422, -5.6424, -5.6424, -5.7193, -4.9683, -3.8699, -5.8026, -5.6061, -5.412, -4.9313, -5.0467, -5.9422, -4.749, -4.2203, -4.582, -5.571, -5.2496, -5.0884, -5.6424, -5.2749, -5.7601, -4.9683, -4.8443, -5.0265, -5.0674, -5.2496, -5.1319, -5.1543, -5.3549, -5.2496, -5.3549, -5.412, -5.4419, -5.4726, -5.5043, -4.6313, -4.7598, -5.2257, -5.6466, -5.6466, -5.7466, -5.8577, -5.9182, -5.9182, -5.9827, -6.0516, -6.1256, -6.1256, -6.1256, -6.2923, -6.3875, -6.3875, -6.3875, -6.3875, -6.4926, -6.4926, -6.6101, -6.7433, -6.7433, -6.7433, -6.7433, -6.7433, -6.7433, -5.4724, -5.5557, -5.6466, -5.7466, -5.8006, -4.4576, -5.6001, -5.2574, -5.6466, -5.0806, -6.2055, -5.3241, -5.0539, -5.3955, -4.7214, -5.7466, -5.6953, -4.9539, -4.8849, -4.5486, -5.5132, -4.6142, -5.3241, -4.7598, -4.6142, -4.7998, -5.1361, -4.9074, -4.5646, -5.0027, -5.2257, -5.3241, -5.3955, -5.4332, -5.4724, -5.3955, -5.3241], \"loglift\": [30.0, 29.0, 28.0, 27.0, 26.0, 25.0, 24.0, 23.0, 22.0, 21.0, 20.0, 19.0, 18.0, 17.0, 16.0, 15.0, 14.0, 13.0, 12.0, 11.0, 10.0, 9.0, 8.0, 7.0, 6.0, 5.0, 4.0, 3.0, 2.0, 1.0, 0.6203, 0.6202, 0.6201, 0.62, 0.62, 0.6198, 0.6197, 0.6197, 0.6196, 0.6193, 0.6191, 0.619, 0.619, 0.6189, 0.6189, 0.6188, 0.6187, 0.6186, 0.6186, 0.6186, 0.6186, 0.6185, 0.6185, 0.6185, 0.6183, 0.6182, 0.6181, 0.6181, 0.618, 0.618, 0.5913, 0.6168, 0.6174, 0.6172, 0.6085, 0.6147, 0.6111, 0.6123, 0.6156, 0.6155, 0.5935, 0.591, 0.6114, 0.6075, 0.6106, 0.6153, 0.5723, 0.5715, 0.5833, 0.6037, 0.6035, 0.5656, 0.5318, 0.5993, 0.5406, 0.5794, 0.5444, 0.5624, 0.5545, 0.5593, 0.5657, 0.4344, 0.5512, 0.4847, 0.5198, 0.3728, 0.4816, 0.4364, 0.4786, 0.1751, 0.304, 0.3978, 0.4849, 0.332, 0.2735, 0.3026, 0.1781, -0.0808, 2.6133, 2.6091, 2.6086, 2.6081, 2.6074, 2.6068, 2.6068, 2.6044, 2.6044, 2.6044, 2.6034, 2.6034, 2.6034, 2.6034, 2.6024, 2.6024, 2.6012, 2.6012, 2.5998, 2.5998, 2.5998, 2.5998, 2.5998, 2.5998, 2.5998, 2.5983, 2.5983, 2.5983, 2.5983, 2.5983, 2.5983, 2.5983, 2.5983, 2.5983, 2.5785, 2.5423, 2.5759, 2.547, 2.5303, 2.5315, 2.5703, 2.4752, 2.5677, 2.5073, 2.4082, 2.4102, 2.4153, 2.5078, 2.5057, 2.5203, 2.3028, 2.3173, 2.4425, 2.5148, 2.0824, 2.4475, 2.5142, 2.164, 2.3079, 1.942, 1.7332, 2.1154, 2.251, 2.2638, 2.029, 2.2789, 2.2322, 2.0041, 1.976, 1.3906, 2.2297, 2.2654, 1.9701, 2.2406, 1.5416, 1.4227, 1.4912, 1.1331, 1.5782, 1.4273, 0.5421, 1.7916, 1.4979, 1.6855, 1.7344, 0.5159, 1.0105, 1.5616, 0.7976, 1.245, -0.1664, 2.9402, 2.9339, 2.9213, 2.9175, 2.9152, 2.9152, 2.9135, 2.9125, 2.9125, 2.9125, 2.9092, 2.9092, 2.9092, 2.9052, 2.9052, 2.9052, 2.9052, 2.9052, 2.9019, 2.9003, 2.9003, 2.9003, 2.9003, 2.9003, 2.9003, 2.9003, 2.9003, 2.8939, 2.8939, 2.8939, 2.8939, 2.8939, 2.8671, 2.8723, 2.8422, 2.8556, 2.8247, 2.8236, 2.8258, 2.8114, 2.8536, 2.8533, 2.7544, 2.2379, 2.7355, 2.7668, 2.4422, 2.3989, 2.5495, 2.4955, 2.4546, 2.6801, 1.7689, 2.1274, 2.7818, 2.4848, 2.061, 2.4972, 2.4517, 2.1779, 2.6281, 2.0813, 1.6445, 1.7495, 1.9254, 2.0342, 1.4622, 1.235, 2.0733, 1.995, 2.2262, 2.1333, 2.0761, 1.8348, 1.4945, 1.3487, 1.5269, 1.5462, 0.9653, 1.0869, 1.8231, 0.9978, 0.4693, 1.2627, 0.7684, 0.8184, 0.6268, 0.9677, 1.2767, 0.263, 3.3503, 3.349, 3.3485, 3.3461, 3.3417, 3.3391, 3.3376, 3.3376, 3.3358, 3.3358, 3.3358, 3.3358, 3.3315, 3.3315, 3.3315, 3.3315, 3.3287, 3.3287, 3.3287, 3.3287, 3.3287, 3.3287, 3.3255, 3.3255, 3.3255, 3.3255, 3.3255, 3.3255, 3.3255, 3.3255, 3.3047, 3.297, 3.2994, 3.299, 3.281, 3.293, 3.2541, 3.261, 3.1551, 3.2055, 3.2314, 3.2508, 3.1242, 3.2274, 3.1573, 3.1185, 3.2192, 2.6205, 2.7643, 2.8477, 2.9506, 2.7534, 2.6237, 2.99, 2.9509, 2.8356, 2.5574, 2.6369, 3.0071, 2.7649, 2.409, 2.0933, 2.4513, 2.7735, 2.1059, 1.6548, 2.5366, 2.2691, 1.9611, 2.4052, 2.0181, 1.7119, 1.4687, 2.1631, 2.0407, 1.8555, 0.897, 1.2256, 1.2647, 1.8106, 1.1544, 0.2269, 1.6818, 3.4777, 3.4755, 3.4742, 3.473, 3.4725, 3.4715, 3.4696, 3.4689, 3.4672, 3.4662, 3.4662, 3.4652, 3.4626, 3.4626, 3.4611, 3.4593, 3.4573, 3.4573, 3.4573, 3.4573, 3.4573, 3.4573, 3.4573, 3.4573, 3.455, 3.455, 3.455, 3.455, 3.455, 3.455, 3.4451, 3.4333, 3.3834, 3.386, 3.2903, 3.4202, 3.3309, 3.2614, 3.3482, 3.229, 3.3667, 3.2575, 3.3518, 3.2369, 3.1304, 3.3128, 3.2692, 3.3277, 3.155, 3.0228, 3.2574, 2.8559, 2.983, 2.7774, 2.9944, 3.0956, 2.7411, 2.8154, 2.9639, 2.8903, 2.0453, 2.5555, 2.5048, 2.6603, 2.434, 2.7835, 2.413, 2.5089, 2.1975, 2.0739, 1.9718, 1.9142, 2.0015, 0.4244, 0.8775, 3.6697, 3.6696, 3.6628, 3.6612, 3.6593, 3.6566, 3.656, 3.6552, 3.6544, 3.6544, 3.6515, 3.6503, 3.6499, 3.6456, 3.6443, 3.6436, 3.6436, 3.6413, 3.6413, 3.6385, 3.6385, 3.6352, 3.6352, 3.6352, 3.6352, 3.6352, 3.6312, 3.6312, 3.6312, 3.6312, 3.6312, 3.6312, 3.5975, 3.6042, 3.5745, 3.5776, 3.5384, 3.591, 3.5987, 3.6088, 3.5464, 3.5145, 3.4732, 3.4979, 3.3097, 3.462, 3.2197, 3.3643, 3.4662, 3.2861, 3.0597, 3.0819, 2.9799, 3.4335, 3.2496, 2.4696, 2.8317, 2.295, 2.2504, 2.9243, 2.2471, 2.1036, 2.5809, 1.2777, 2.2968, 1.064, -0.9762, 0.2061, 3.6885, 3.6801, 3.6772, 3.6765, 3.6743, 3.6725, 3.6714, 3.6714, 3.6702, 3.6702, 3.6702, 3.6702, 3.6688, 3.6688, 3.6673, 3.6673, 3.6655, 3.6655, 3.6635, 3.6635, 3.6635, 3.6612, 3.6612, 3.6612, 3.6584, 3.6584, 3.6584, 3.6584, 3.6584, 3.6584, 3.636, 3.639, 3.5038, 3.6184, 3.4646, 3.4016, 3.5941, 3.5027, 3.3141, 3.5017, 3.1906, 3.3128, 3.453, 2.7665, 2.7064, 3.0779, 3.4225, 2.7441, 2.9228, 2.8853, 3.1002, 3.2564, 3.4299, 3.249, 2.6112, 2.1071, 2.8975, 2.5629, 3.1896, 2.948, 2.7232, 1.9979, 3.0209, 2.2606, 0.1331, 1.1416, 1.7778, 1.9348, 2.5794, 2.2276, 0.9734, 2.2254, 1.862, 1.3382, 3.7078, 3.7073, 3.7068, 3.7033, 3.7015, 3.7015, 3.7004, 3.7004, 3.7004, 3.6992, 3.6992, 3.6992, 3.6978, 3.6978, 3.6963, 3.6963, 3.6946, 3.6946, 3.6946, 3.6925, 3.6925, 3.6925, 3.6925, 3.6925, 3.6902, 3.6902, 3.6874, 3.6874, 3.6874, 3.6874, 3.6488, 3.6691, 3.6283, 3.5106, 3.6368, 3.5338, 3.5653, 3.6117, 3.5932, 3.608, 3.6221, 3.563, 3.4967, 3.5555, 3.303, 3.44, 3.1718, 3.4604, 3.2172, 2.9601, 3.5324, 2.6684, 3.4118, 3.2575, 3.1131, 3.4168, 2.9362, 2.7805, 2.3463, 3.1196, 3.2665, 2.8955, 2.6152, 2.9322, 2.9459, 1.9589, 2.8337, 3.2031, 3.2555, 2.5098, 2.8547, 2.5571, 2.421, 0.8725, 1.7662, 1.7226, 1.9561, 3.8248, 3.8227, 3.8201, 3.8197, 3.8192, 3.8183, 3.8177, 3.8165, 3.8146, 3.8146, 3.8127, 3.812, 3.8119, 3.8112, 3.8112, 3.8103, 3.8103, 3.8103, 3.8083, 3.8083, 3.807, 3.807, 3.8057, 3.8057, 3.8057, 3.8024, 3.8004, 3.8004, 3.8004, 3.8004, 3.7812, 3.7749, 3.7713, 3.7776, 3.7704, 3.7588, 3.772, 3.7089, 3.7021, 3.7277, 3.6496, 3.7741, 3.7502, 3.5388, 3.7292, 3.6233, 3.585, 3.5715, 3.4749, 3.4184, 3.4137, 2.9769, 3.5176, 3.2398, 3.4949, 1.9622, 3.2301, 0.9949, 2.5361, 2.3484, 2.1598, 1.6495, 2.2585, 1.6895, 1.4265, 1.5404, 1.4512, 1.8361, 3.8608, 3.86, 3.8592, 3.8565, 3.8565, 3.8558, 3.8534, 3.8524, 3.8524, 3.8514, 3.8514, 3.8501, 3.8501, 3.8488, 3.8488, 3.8472, 3.8472, 3.8472, 3.8455, 3.8455, 3.8455, 3.8455, 3.8435, 3.8435, 3.8411, 3.8389, 3.8383, 3.8383, 3.8383, 3.835, 3.835, 3.8146, 3.8183, 3.8166, 3.7963, 3.7733, 3.7444, 3.8091, 3.7335, 3.7811, 3.8054, 3.802, 3.3894, 3.6547, 3.6607, 3.6919, 3.3887, 3.6072, 3.3457, 3.7653, 2.7939, 3.2771, 3.2423, 2.6917, 3.1501, 2.7433, 3.2135, 1.8699, 2.7105, 2.7682, 2.9446, 1.5688, 2.376, 2.7167, 1.3663, 1.8543, 2.2549, 2.0762, 2.2519, 1.7581, 2.3315, 1.4634, 1.6836, 1.9141, 0.8438, 3.9442, 3.938, 3.9355, 3.9338, 3.9322, 3.9316, 3.9293, 3.9287, 3.9284, 3.9264, 3.9264, 3.9238, 3.9223, 3.9223, 3.9205, 3.9205, 3.9185, 3.9185, 3.9185, 3.9161, 3.9161, 3.9133, 3.91, 3.91, 3.91, 3.906, 3.906, 3.906, 3.9009, 3.9009, 3.9009, 3.8835, 3.8508, 3.8685, 3.812, 3.725, 3.7012, 3.8345, 3.756, 3.7298, 3.6963, 3.7065, 3.8039, 3.629, 3.4784, 3.5504, 3.022, 3.7196, 3.4944, 3.3489, 3.5064, 3.1204, 3.4623, 2.8447, 2.5839, 2.5406, 2.5333, 3.1019, 2.12, 2.0497, 2.1392, 2.7147, -0.0138, 1.9967, 0.3979, 2.3746, 1.7153, 1.0568, 1.9652, 4.0025, 4.0017, 3.996, 3.996, 3.991, 3.9819, 3.9791, 3.9791, 3.9786, 3.9758, 3.9758, 3.9717, 3.9717, 3.9717, 3.9717, 3.9717, 3.9717, 3.9717, 3.9667, 3.9667, 3.9667, 3.9603, 3.9603, 3.9603, 3.9603, 3.9603, 3.9603, 3.9603, 3.9603, 3.9603, 3.9546, 3.9256, 3.925, 3.9302, 3.8951, 3.8327, 3.8669, 3.8763, 3.6934, 3.8244, 3.8506, 3.679, 3.7851, 3.6956, 3.8084, 3.4637, 3.6847, 3.6777, 3.5993, 3.3928, 3.5394, 3.4703, 3.5283, 3.3977, 3.4156, 3.0012, 3.1513, 2.6951, 3.2277, 3.1275, 3.3026, 2.8557, 2.9723, 2.5378, 2.5642, 2.1156, 2.7768, 1.3206, 3.0336, 2.311, 2.3201, 2.7768, 1.0681, 2.208, 1.6743, 4.0302, 4.0286, 4.0248, 4.023, 4.023, 4.0181, 4.0161, 4.0161, 4.0135, 4.0135, 4.0135, 4.0119, 4.0119, 4.0102, 4.0102, 4.0081, 4.0081, 4.0058, 4.0058, 4.003, 4.003, 4.003, 4.003, 3.9996, 3.9996, 3.9956, 3.9956, 3.9956, 3.9956, 3.9905, 3.9868, 3.9828, 3.9398, 3.9453, 3.9553, 3.8137, 3.9486, 3.7519, 3.7051, 3.7923, 3.948, 3.6664, 3.7068, 3.8412, 3.5909, 3.8555, 3.4027, 3.7993, 3.7765, 3.38, 3.2179, 3.044, 2.5807, 3.5063, 3.5172, 2.6707, 3.35, 2.4872, 2.9864, 2.8124, 1.772, 3.1635, 2.9993, 2.3563, 3.1267, 1.588, 1.729, 2.1357, 0.9822, 0.6574, 0.6319, 1.5714, 4.0783, 4.0764, 4.0752, 4.0748, 4.0701, 4.0691, 4.0687, 4.0666, 4.0608, 4.0608, 4.0596, 4.0582, 4.0582, 4.0582, 4.0567, 4.0567, 4.0529, 4.0529, 4.0529, 4.0529, 4.0529, 4.0505, 4.0505, 4.0505, 4.0477, 4.0477, 4.0477, 4.0477, 4.0477, 4.0477, 4.0193, 4.0315, 4.0011, 3.9939, 4.0277, 3.9484, 3.8641, 4.0081, 3.9122, 3.9577, 3.6269, 3.9417, 3.8664, 3.7365, 3.5014, 3.8038, 3.7289, 3.2113, 2.611, 3.0268, 3.6131, 3.2939, 3.5852, 3.4768, 2.6259, 2.4281, 3.1313, 1.0632, 0.7193, 1.0329, 2.3234, 2.0564, 1.5429, 1.8788, 0.5041, 4.0904, 4.0897, 4.089, 4.089, 4.0836, 4.0777, 4.0777, 4.0765, 4.0751, 4.0751, 4.0736, 4.0698, 4.0674, 4.0674, 4.0674, 4.0674, 4.0646, 4.0613, 4.0613, 4.0613, 4.0613, 4.0613, 4.0572, 4.0572, 4.0572, 4.0572, 4.0572, 4.0537, 4.0522, 4.0522, 4.0522, 4.0522, 4.0522, 3.9801, 4.0104, 3.9654, 4.0251, 3.9993, 3.9453, 3.8402, 3.8239, 3.5859, 3.6996, 3.9505, 3.3184, 3.6874, 3.1203, 3.4976, 3.6732, 3.4689, 3.0219, 3.2447, 3.055, 3.5016, 3.524, 3.0537, 2.8894, 2.7598, 3.0846, 2.5808, 3.2332, 3.1205, 2.7168, 2.4702, 1.9959, 0.9012, -0.3395, 0.9151, 1.8969, 1.5223, 4.207, 4.2039, 4.2003, 4.1978, 4.1958, 4.1908, 4.1908, 4.1894, 4.1894, 4.1878, 4.1878, 4.1878, 4.184, 4.1816, 4.1816, 4.1788, 4.1788, 4.1788, 4.1788, 4.1755, 4.1755, 4.1755, 4.1714, 4.1714, 4.1663, 4.1663, 4.1663, 4.1663, 4.1663, 4.1663, 4.1663, 4.1347, 4.0908, 4.0839, 4.1005, 4.099, 4.0482, 4.0545, 3.9157, 3.7657, 4.0458, 4.0885, 4.0419, 3.7819, 3.7134, 4.0822, 3.8504, 4.0219, 3.6363, 3.7624, 3.5382, 3.3038, 3.4595, 3.7562, 3.5706, 3.8207, 2.8084, 3.5321, 3.2728, 3.5315, 3.2581, 3.5516, 3.3922, 1.8122, 3.4575, 2.5321, 3.4091, 0.8212, 3.1097, 2.91, 2.5019, 1.4189, 0.8992, 0.5314, 1.0868, 1.3274, 4.2555, 4.2552, 4.2533, 4.25, 4.245, 4.245, 4.245, 4.242, 4.242, 4.2379, 4.2361, 4.234, 4.234, 4.2317, 4.2317, 4.2317, 4.2317, 4.2317, 4.2289, 4.2289, 4.2255, 4.2255, 4.2255, 4.2255, 4.2255, 4.2255, 4.2255, 4.2214, 4.2214, 4.2214, 4.2204, 4.2214, 4.2214, 4.1813, 4.1548, 4.0006, 4.0153, 3.8676, 4.1686, 3.955, 3.9601, 4.0223, 4.1232, 3.9847, 3.8385, 3.8804, 3.6132, 3.6543, 3.846, 3.4879, 3.7407, 4.0771, 3.9448, 3.999, 2.7406, 2.6183, 3.6937, 2.8755, 1.8701, 1.7175, 1.4785, 1.4464, 1.3982, 1.7051, 2.0004, 1.9342, 1.9579, 1.2379, 4.2845, 4.2836, 4.2836, 4.2821, 4.2809, 4.2795, 4.2778, 4.2757, 4.2757, 4.2745, 4.2731, 4.2731, 4.2731, 4.2731, 4.2715, 4.2677, 4.2653, 4.2653, 4.2625, 4.2625, 4.2625, 4.2593, 4.2591, 4.2591, 4.2591, 4.2591, 4.2591, 4.2591, 4.2551, 4.2551, 4.2551, 4.2426, 4.2158, 4.1546, 4.1891, 4.2168, 4.1684, 4.1454, 4.2082, 4.0871, 4.0239, 4.2077, 3.8275, 4.2066, 3.8688, 3.8328, 4.0291, 3.6355, 3.4161, 3.7506, 3.6798, 3.1031, 3.7203, 3.7672, 3.5351, 3.5233, 2.4938, 2.4678, 2.7876, 3.0971, 1.0438, 2.1708, 3.3601, 2.8239, 0.8756, 1.8272, 1.0517, 1.5542, 1.1526, 2.0785, 2.2168, 0.7853, 4.2998, 4.2995, 4.2987, 4.2949, 4.294, 4.2935, 4.2924, 4.2865, 4.2865, 4.2853, 4.2853, 4.2823, 4.2805, 4.2785, 4.2761, 4.2761, 4.2733, 4.2699, 4.2699, 4.2659, 4.2659, 4.2659, 4.2608, 4.2608, 4.2608, 4.2608, 4.2608, 4.2608, 4.2608, 4.2606, 4.2545, 4.1983, 4.2396, 4.2228, 4.2213, 4.2165, 4.1743, 4.0887, 4.1681, 4.1296, 4.0861, 4.003, 3.9603, 4.151, 3.8489, 3.6876, 3.6259, 3.997, 3.8101, 3.6927, 4.0034, 3.7498, 3.9755, 2.8457, 2.5864, 1.8578, 1.0959, 1.7375, 1.038, 1.0954, 1.8425, 0.654, 1.5709, 1.7442, 2.061, 1.8958, 2.0645, 4.5574, 4.5565, 4.5521, 4.5458, 4.5458, 4.5439, 4.5415, 4.5402, 4.5402, 4.5386, 4.5368, 4.5347, 4.5347, 4.5347, 4.5295, 4.5261, 4.5261, 4.5261, 4.5261, 4.5219, 4.5219, 4.5168, 4.5102, 4.5102, 4.5102, 4.5102, 4.5102, 4.5102, 4.5088, 4.5051, 4.499, 4.4926, 4.4888, 4.4339, 4.4593, 4.429, 4.412, 4.2705, 4.4529, 4.2281, 4.1433, 4.2283, 3.9777, 4.3124, 4.28, 3.9137, 3.8105, 3.3602, 4.002, 3.0572, 3.7784, 2.9361, 2.3117, 2.5637, 2.7162, 1.9936, 0.0325, 1.6397, 2.4894, 2.7766, 2.9326, 2.9934, 3.2049, 2.3335, 0.9257]}, \"token.table\": {\"Topic\": [1, 3, 4, 16, 17, 1, 6, 7, 11, 12, 14, 15, 16, 1, 6, 15, 16, 18, 1, 3, 10, 13, 16, 13, 8, 1, 16, 19, 1, 6, 7, 12, 16, 17, 1, 16, 19, 19, 1, 11, 16, 4, 6, 7, 15, 20, 1, 3, 1, 3, 5, 6, 8, 9, 12, 14, 19, 1, 1, 7, 12, 17, 18, 1, 4, 9, 10, 15, 1, 5, 6, 9, 12, 14, 19, 18, 2, 4, 12, 13, 15, 18, 8, 1, 5, 13, 14, 19, 4, 5, 11, 13, 18, 15, 19, 2, 6, 12, 3, 6, 11, 12, 15, 17, 1, 7, 7, 2, 16, 12, 17, 19, 17, 8, 1, 3, 8, 1, 2, 4, 8, 10, 14, 9, 2, 8, 12, 1, 7, 1, 10, 15, 10, 12, 15, 9, 9, 1, 6, 10, 14, 17, 20, 4, 6, 2, 7, 11, 14, 15, 6, 7, 9, 16, 1, 9, 9, 2, 4, 12, 16, 20, 9, 9, 12, 9, 12, 9, 8, 5, 11, 11, 12, 9, 1, 12, 8, 5, 8, 9, 11, 12, 3, 9, 19, 6, 2, 3, 4, 5, 9, 11, 15, 6, 9, 14, 1, 3, 5, 12, 17, 1, 14, 1, 2, 18, 20, 11, 1, 10, 14, 18, 5, 1, 3, 5, 7, 9, 3, 1, 3, 9, 15, 17, 10, 12, 15, 20, 10, 1, 3, 9, 14, 15, 18, 15, 5, 6, 4, 1, 6, 11, 16, 8, 13, 16, 14, 1, 4, 10, 13, 15, 13, 19, 3, 9, 11, 19, 1, 3, 1, 6, 8, 9, 11, 13, 1, 2, 3, 3, 4, 17, 8, 1, 2, 4, 7, 10, 1, 1, 9, 20, 4, 11, 3, 11, 1, 20, 10, 1, 3, 7, 12, 13, 19, 20, 7, 1, 10, 7, 2, 6, 7, 10, 12, 13, 17, 18, 20, 4, 7, 14, 1, 3, 5, 8, 9, 10, 11, 17, 18, 20, 5, 6, 11, 14, 9, 10, 11, 14, 3, 1, 2, 5, 10, 13, 2, 5, 6, 8, 11, 12, 15, 19, 2, 3, 12, 2, 3, 7, 13, 15, 18, 20, 5, 8, 10, 17, 2, 1, 13, 14, 13, 16, 17, 1, 2, 5, 11, 14, 16, 18, 11, 6, 2, 4, 11, 16, 19, 6, 17, 16, 1, 3, 4, 9, 13, 16, 20, 3, 13, 20, 3, 11, 4, 5, 5, 6, 7, 8, 9, 17, 5, 7, 20, 8, 10, 12, 7, 16, 17, 4, 5, 7, 8, 10, 14, 16, 19, 1, 4, 5, 7, 8, 9, 10, 13, 16, 17, 1, 5, 8, 11, 12, 15, 19, 20, 4, 4, 6, 9, 18, 17, 17, 1, 3, 7, 9, 10, 20, 1, 5, 14, 19, 16, 3, 1, 2, 12, 14, 6, 9, 10, 13, 16, 17, 19, 1, 5, 8, 17, 19, 8, 5, 1, 8, 9, 1, 5, 14, 2, 7, 12, 17, 18, 13, 20, 20, 4, 10, 14, 17, 2, 11, 15, 2, 11, 12, 7, 3, 7, 19, 1, 7, 2, 5, 11, 12, 15, 20, 1, 5, 7, 18, 1, 2, 6, 7, 11, 17, 18, 2, 9, 19, 7, 13, 17, 10, 15, 4, 14, 1, 14, 1, 5, 9, 17, 18, 19, 1, 2, 9, 14, 15, 16, 11, 18, 10, 3, 9, 14, 17, 9, 1, 4, 8, 9, 16, 18, 20, 1, 4, 8, 9, 2, 9, 11, 14, 4, 1, 14, 3, 5, 6, 7, 10, 11, 14, 15, 16, 17, 19, 20, 2, 15, 3, 4, 7, 9, 12, 13, 18, 20, 7, 15, 3, 17, 17, 1, 2, 3, 4, 7, 9, 12, 3, 8, 17, 19, 18, 4, 4, 8, 14, 3, 15, 13, 18, 5, 8, 12, 19, 1, 3, 7, 10, 20, 3, 19, 19, 1, 6, 8, 7, 17, 20, 2, 7, 10, 12, 15, 18, 19, 1, 8, 1, 7, 10, 17, 20, 1, 4, 7, 10, 13, 14, 17, 12, 19, 1, 7, 9, 11, 14, 19, 20, 2, 19, 2, 1, 3, 17, 1, 2, 3, 6, 9, 11, 12, 14, 20, 14, 7, 19, 3, 1, 1, 6, 2, 2, 5, 2, 3, 5, 10, 14, 16, 17, 3, 4, 5, 13, 19, 7, 18, 11, 8, 6, 10, 1, 4, 8, 16, 17, 18, 4, 8, 10, 18, 8, 15, 18, 2, 15, 1, 3, 5, 15, 3, 14, 1, 2, 6, 6, 9, 11, 12, 20, 1, 6, 11, 12, 1, 5, 7, 19, 1, 2, 5, 19, 1, 3, 16, 20, 14, 2, 6, 11, 14, 2, 3, 6, 15, 20, 13, 7, 8, 17, 20, 20, 10, 17, 5, 14, 17, 8, 9, 14, 14, 8, 15, 18, 20, 1, 2, 4, 7, 13, 16, 11, 12, 11, 1, 2, 6, 9, 11, 13, 19, 10, 6, 7, 14, 9, 3, 6, 1, 3, 4, 5, 12, 18, 19, 20, 1, 3, 4, 1, 11, 13, 19, 2, 3, 4, 5, 11, 12, 1, 2, 3, 5, 14, 15, 18, 19, 17, 1, 12, 17, 7, 11, 2, 16, 1, 7, 10, 12, 1, 10, 4, 8, 9, 15, 8, 2, 17, 1, 6, 15, 7, 3, 18, 19, 11, 18, 19, 20, 12, 15, 8, 15, 16, 16, 1, 3, 11, 3, 6, 10, 5, 6, 12, 1, 1, 11, 13, 17, 1, 12, 16, 11, 13, 16, 17, 3, 7, 9, 4, 9, 11, 1, 3, 13, 2, 3, 4, 7, 9, 12, 17, 19, 20, 9, 1, 3, 6, 1, 5, 15, 17, 1, 3, 6, 12, 13, 14, 18, 7, 11, 12, 1, 5, 7, 13, 5, 10, 13, 1, 14, 16, 7, 20, 3, 16, 19, 1, 3, 6, 7, 10, 1, 10, 11, 2, 2, 3, 6, 11, 12, 14, 1, 5, 8, 1, 7, 9, 13, 17, 9, 11, 1, 2, 1, 6, 9, 11, 12, 1, 4, 10, 13, 18, 20, 6, 13, 17, 5, 16, 16, 2, 4, 11, 17, 1, 2, 8, 1, 2, 1, 3, 18, 1, 4, 12, 2, 1, 2, 11, 10, 20, 1, 2, 6, 8, 9, 12, 4, 12, 13, 2, 14, 16, 2, 3, 5, 6, 7, 8, 9, 10, 11, 12, 14, 18, 19, 16, 6, 8, 6, 11, 1, 2, 12, 18, 2, 9, 1, 3, 14, 15, 2, 4, 9, 13, 15, 1, 4, 1, 4, 7, 8, 9, 14, 4, 5, 1, 6, 7, 9, 11, 14, 15, 20, 16, 9, 10, 10, 7, 2, 5, 7, 8, 9, 10, 17, 1, 4, 7, 9, 14, 15, 19, 5, 7, 20, 13, 14, 10, 6, 1, 5, 6, 17, 1, 3, 8, 9, 10, 14, 3, 6, 10, 12, 19, 20, 1, 1, 6, 11, 19, 1, 2, 6, 9, 10, 11, 14, 15, 16, 1, 2, 15, 16, 18, 1, 1, 2, 4, 8, 18, 7, 4, 19, 4, 4, 1, 3, 15, 7, 18, 16, 16, 1, 1, 8, 9, 11, 12, 19, 10, 14, 1, 6, 8, 10, 18, 1, 18, 16, 1, 4, 20, 19, 5, 12, 18, 17, 15, 15, 1, 5, 6, 19, 8, 18, 1, 4, 5, 10, 13, 15, 18, 9, 11, 14, 8, 5, 7, 8, 1, 3, 7, 9, 10, 14, 15, 17, 3, 7, 10, 17, 1, 3, 7, 10, 13, 15, 17, 16, 1, 5, 6, 12, 17, 6, 11, 4, 5, 13, 19, 2, 3, 3, 7, 15, 17, 15, 5, 14, 17, 19, 13, 7, 7, 8, 16, 1, 17, 4, 1, 8, 10, 13, 17, 18, 6, 6, 1, 5, 6, 14, 15, 19, 1, 2, 9, 19, 8, 2, 11, 15, 20, 11, 20, 2, 3, 6, 10, 11, 12, 5, 8, 9, 17, 20, 1, 3, 4, 8, 10, 11, 16, 19, 1, 10, 11, 1, 2, 7, 10, 17, 16, 19, 10, 20, 20, 1, 10, 15, 16, 18, 1, 2, 3, 11, 16, 12, 16, 12, 9, 13, 1, 3, 18, 14, 9, 12, 14, 19, 2, 5, 6, 8, 11, 12, 18, 20, 7, 3, 4, 17, 17, 14, 16, 18, 1, 16, 5, 7, 13, 17, 20, 5, 15, 20, 2, 3, 1, 3, 18, 4, 1, 3, 5, 10, 14, 18, 1, 3, 5, 7, 8, 10, 14, 4, 5, 20, 4, 5, 11, 15, 4, 16, 18, 7, 8, 18, 20, 3, 1, 12, 16, 2, 7, 12, 19, 12, 19, 7, 2, 11, 1, 2, 11, 7, 2, 7, 1, 2, 15, 16, 18, 10, 3, 5, 13, 16, 5, 3, 4, 11, 12, 15, 6, 1, 3, 11, 9, 1, 3, 5, 8, 9, 13, 14, 19, 20, 1, 3, 7, 13, 17, 18, 19, 13, 15, 16, 1, 10, 14, 15, 3, 11, 1, 5, 7, 12, 17, 4, 2, 8, 9, 18, 1, 8, 9, 20, 16, 12, 1, 11, 14, 1, 8, 10, 13, 14, 17, 8, 1, 3, 4, 7, 8, 9, 10, 11, 20, 16, 18, 14, 1, 14, 18, 19, 20, 3, 4, 6, 8, 19, 9, 2, 3, 6, 8, 11, 12, 15, 20, 2, 4, 7, 8, 12, 14, 15, 16, 11, 1, 2, 13, 1, 3, 7, 14, 1, 3, 4, 11, 20, 13, 8, 3, 4, 7, 1, 2, 6, 8, 9, 12, 18, 2, 6, 9, 11, 12, 1, 18, 1, 4, 5, 6, 7, 9, 13, 15, 1, 11, 18, 1, 4, 5, 18, 19, 4, 11, 3, 1, 3, 20, 1, 2, 3, 10, 11, 1, 3, 18, 1, 3, 4, 10, 18, 2, 11, 12, 1, 6, 12, 18, 3, 11, 16, 1, 10, 2, 2, 6, 1, 1, 3, 6, 2, 10, 16, 6, 4, 15, 2, 3, 7, 9, 12, 14, 15, 19, 1, 3, 10, 15, 3, 19, 3, 5, 7, 8, 11, 16, 17, 20, 5, 1, 5, 14, 19, 2, 4, 5, 11, 12, 13, 15, 18, 1, 6, 7, 14, 15, 17, 6, 9, 20, 11, 10, 3, 6, 12, 13, 15, 17, 15, 14, 6, 9, 1, 15, 16, 5, 19, 16, 18, 12, 14, 1, 7, 10, 10, 15, 19, 3, 16, 1, 4, 5, 12, 13, 18, 3, 12, 15, 19, 20, 1, 5, 8, 11, 16, 17, 19, 1, 7, 1, 7, 15, 2, 8, 10, 6, 1, 2, 7, 12, 11, 16, 4, 5, 6, 5, 7, 9, 10, 13, 3, 4, 13, 15, 1, 3, 6, 8, 12, 17, 10, 1, 5, 15, 2, 4, 13, 16, 20, 10, 13, 14, 20, 4, 7, 8, 15, 9, 13, 5, 1, 8, 10, 15, 18, 19, 1, 3, 4, 7, 9, 10, 1, 3, 5, 19, 1, 5, 13, 15, 3, 9, 16, 17, 1, 3, 4, 8, 9, 10, 14, 17, 1, 3, 8, 9, 14, 17, 14, 10, 19, 1, 12, 14, 15, 9, 12, 14, 7, 7, 15, 14, 8, 8, 8, 18, 2, 3, 1, 3, 10, 2, 13, 17, 19, 15, 19, 1, 13, 16, 17, 7, 13, 14, 19, 1, 1, 3, 7, 1, 3, 6, 7, 19, 1, 7, 9, 15, 17, 6, 1, 10, 17, 18, 18, 6, 1, 19, 1, 6, 8, 9, 10, 12, 1, 7, 11, 15, 19, 19, 19, 12, 1, 3, 5, 10, 11, 13, 14, 15, 7, 18, 19, 8, 9, 11, 14, 15, 18, 17, 20, 20, 7, 12, 18, 12, 13, 11, 1, 13, 12, 10, 14, 16, 5, 17, 1, 2, 4, 9, 18, 5, 14, 9, 12, 18, 10, 2, 1, 14, 20, 2, 7, 10, 14, 1, 2, 4, 10, 16, 18, 15, 5, 6, 9, 17, 20, 13, 5, 13, 8, 5, 13, 15, 7, 16, 13, 19, 20, 1, 2, 3, 8, 11, 17, 1, 1, 3, 8, 9, 20, 1, 1, 7, 20, 1, 7, 20, 3, 8, 2, 11, 17, 20, 5, 5, 1, 2, 4, 5, 18, 8, 6, 4, 15, 17, 16, 1, 4, 2, 4, 4, 7, 10, 11, 12, 13, 16, 17, 4, 9, 16, 6, 9, 5, 8, 14, 6, 5, 15, 2, 7, 10, 13, 18, 2, 4, 5, 6, 9, 11, 14, 17, 18, 20, 6, 9, 11, 14, 1, 10, 18, 8, 20, 9, 3, 5, 10, 11, 16, 19, 19, 13, 7, 10, 6, 8, 9, 11, 12, 18, 2, 13, 18, 20, 17, 17, 8, 14, 1, 8, 12, 2, 6, 9, 18, 2, 9, 13, 4, 2, 3, 8, 9, 17, 15, 6, 7, 9, 10, 11, 13, 18, 20, 4, 6, 8, 12, 11, 4, 16, 18, 1, 3, 13, 15, 20, 12, 11, 1, 5, 6, 7, 8, 11, 12, 14, 17, 7, 3, 5, 8, 8, 13, 18, 20, 20, 17, 1, 2, 3, 4, 5, 7, 12, 13, 19, 2, 3, 4, 7, 11, 12, 16, 14, 15, 3, 20, 5, 9, 20, 1, 4, 9, 10, 12, 16, 20, 17, 5, 16, 1, 1, 3, 7, 15, 16, 20, 1, 3, 7, 8, 9, 14, 15, 6, 10, 1, 2, 3, 7, 9, 10, 13, 14, 19, 6, 9, 15, 9, 20, 12, 14, 2, 5, 6, 11, 15, 16, 18, 19, 20, 10, 6, 7, 9, 13, 14, 17, 20, 6, 10, 16, 9, 1, 2, 16, 1, 2, 9, 12, 16, 9, 16, 19, 14, 14, 17, 9, 13, 15, 18, 9, 17, 3, 8, 8, 20, 13, 5, 4, 11, 19, 2, 13, 15, 16, 17, 11, 17, 4, 5, 17, 2, 3, 19, 13, 13, 20, 8, 12, 17, 20, 9, 2, 5, 12, 15, 8, 15, 16, 18, 19, 13, 4, 3, 16, 5, 5, 1, 3, 5, 6, 7, 9, 11, 15, 16, 1, 5, 10, 17, 18, 20, 20, 10, 12, 10, 20, 1, 2, 16, 19, 5, 4, 5, 1, 4, 9, 10, 16, 1, 7, 9, 12, 5, 20, 4, 1, 7, 16, 5, 11, 13, 14, 17, 18, 19, 1, 4, 10, 11, 13, 17, 20, 12, 17, 20, 2, 3, 16, 2, 6, 18, 18, 3, 10, 11, 18, 12, 4, 7, 1, 5, 8, 1, 3, 8, 12, 16, 1, 2, 8, 10, 4, 9, 4, 13, 2, 4, 18, 19, 3, 6, 9, 10, 20, 1, 5, 9, 11, 13, 13, 15, 3, 12, 5, 16, 18, 1, 2, 3, 5, 6, 8, 20, 3, 6, 9, 12, 17, 1, 8, 9, 19, 1, 5, 10, 1, 3, 5, 6, 14, 19, 12, 4, 19, 9, 1, 16, 20, 1, 3, 5, 11, 19, 4, 2, 8, 17, 18, 3, 10, 13, 19, 12, 8, 3, 18, 1, 2, 3, 8, 1, 18, 10, 15, 7, 8, 10, 12, 14, 15, 17, 1, 3, 10, 16, 4, 8, 9, 10, 14, 15, 1, 5, 6, 8, 14, 18, 19, 1, 8, 17, 19, 1, 10, 19, 1, 8, 9, 11, 14, 16, 19, 6, 6, 1, 5, 13, 8, 10, 3, 5, 13, 15, 9, 4, 2, 5, 8, 15, 17, 10, 4, 17, 12, 1, 3, 16, 17, 18, 2, 1, 2, 4, 6, 13, 16, 18, 10, 17, 5, 19, 1, 2, 4, 5, 10, 13, 18, 20, 1, 9, 11, 14, 2, 10, 11, 2, 11, 1, 3, 13, 5, 19, 2, 1, 6, 16, 1, 2, 1, 3, 9, 13, 17, 18, 5, 19, 13, 3, 6, 10, 14, 20, 7, 9, 12, 17, 4, 12, 13, 18, 2, 5, 6, 1, 5, 12, 5, 13, 1, 4, 5, 8, 12, 17, 4, 5, 13, 3, 7, 9, 18, 19, 2, 6, 19, 1, 12, 15, 16, 1, 5, 10, 19, 1, 4, 9, 10, 14, 16, 1, 4, 13, 19, 10, 5, 13, 14, 17, 17, 2, 13, 14, 15, 16, 20, 14, 4, 13, 18, 18, 3, 14, 2, 1, 3, 4, 7, 11, 14, 20, 3, 3, 2, 8, 10, 13, 20, 15, 1, 3, 5, 10, 16, 20, 10, 7, 13, 7, 18, 1, 3, 8, 10, 11, 15, 1, 3, 11, 12, 15, 5, 16, 1, 11, 15, 20, 1, 2, 3, 13, 18, 1, 3, 14, 7, 8, 9, 1, 4, 10, 12, 18, 6, 10, 19, 19, 19, 19, 3, 19, 6, 3, 4, 6, 8, 10, 11, 12, 3, 7, 10, 11, 15, 1, 6, 9, 14, 20, 20, 3, 3, 7, 1, 2, 14, 18, 19, 3, 1, 2, 20, 3, 5, 6, 7, 9, 11, 12, 14, 15, 1, 5, 6, 12, 14, 19, 1, 6, 7, 9, 14, 15, 19, 20, 1, 16, 19, 20, 20, 2, 1, 3, 4, 7, 10, 13, 17, 18, 12, 2, 4, 14, 16, 4, 7, 8, 10, 13, 14, 3, 10, 12, 1, 3, 4, 10, 13, 6, 8, 9, 12, 19, 3, 10, 17, 2, 1, 3, 7, 16, 20, 1, 1, 9, 20, 5, 8, 15, 18, 15, 2, 8, 6, 1, 11, 15, 16, 19, 1, 4, 5, 13, 15, 4, 7, 1, 13, 16, 1, 4, 20, 18, 18, 8, 1, 3, 4, 11, 8, 9, 16, 3, 3, 10, 15, 8, 9, 12, 20, 7, 8, 11, 10, 11, 16, 4, 9, 1, 6, 15, 18, 13, 15, 2, 5, 12, 19, 20, 9, 19, 2, 3, 7, 10, 2, 3, 6, 7, 8, 9, 10, 18, 3, 6, 7, 8, 5, 6, 8, 1, 4, 5, 18, 1, 7, 9, 13, 15, 16, 5, 9, 12, 13, 14, 16, 1, 2, 8, 1, 6, 7, 12, 7, 7, 11, 1, 6, 9, 11, 12, 3, 6, 10, 8, 12, 1, 7, 11, 13, 7, 8, 9, 12, 16, 8, 12, 3, 7, 15, 1, 14, 12, 5, 15, 15, 1, 3, 6, 9, 10, 13, 15, 16, 18, 20, 6, 10, 1, 8, 16, 18, 16, 4, 16, 19, 10, 7, 13, 1, 2, 4, 8, 9, 16, 13, 1, 6, 8, 10, 12, 14, 15, 18, 20, 1, 9, 11, 13, 1, 3, 10, 12, 14, 1, 3, 7, 11, 12, 13, 3, 2, 3, 2, 3, 3, 15, 1, 2, 12, 15, 17, 11, 11, 6, 1, 3, 12, 1, 11, 12, 17, 18, 18, 10, 1, 4, 8, 10, 8, 13, 13, 13, 2, 2, 2, 5, 17, 1, 2, 9, 1, 1, 12, 9, 5, 13, 5, 9, 18, 9, 12, 1, 4, 10, 15, 18, 1, 6, 7, 9, 10, 11, 12, 14, 17, 2, 6, 8, 12, 19, 1, 4, 10, 14, 15, 1, 7, 20, 2, 11, 6, 8, 3, 8, 13, 18, 2, 11, 18, 2, 1, 2, 7, 14, 18, 1, 3, 14, 18, 1, 3, 1, 2, 3, 10, 13, 13, 3, 5, 20, 1, 5, 6, 12, 15, 19, 5, 12, 1, 3, 4, 1, 15, 1, 12, 16, 14, 17, 1, 2, 4, 7, 13, 16, 18, 19, 20, 15, 1, 8, 13, 12, 1, 3, 4, 5, 8, 1, 3, 4, 10, 11, 2, 7, 9, 1, 7, 9, 3, 13, 2, 2, 2, 6, 15, 12, 7, 8, 12, 6, 10, 12, 1, 2, 15, 16, 18, 20, 7, 18, 20, 7, 14, 18, 19, 1, 3, 1, 3, 6, 7, 12, 13, 15, 19, 11, 12, 17, 3, 7, 9, 13, 1, 5, 8, 12, 14, 2, 15, 9, 11, 19, 11, 11, 3, 11, 1, 5, 6, 8, 10, 14, 18, 10, 7, 13, 19, 7, 6, 13, 1, 4, 9, 11, 1, 3, 9, 11, 14, 1, 2, 20, 2, 4, 5, 11, 16, 20, 5, 1, 5, 6, 8, 11, 19, 16, 2, 6, 6, 14, 2, 6, 7, 9, 11, 12, 1, 2, 1, 2, 9, 12, 1, 2, 7, 8, 9, 3, 9, 10, 14, 20, 12, 6, 9, 11, 14, 1, 8, 17, 8, 9, 14, 6, 8, 9, 15, 1, 3, 19, 1, 3, 8, 17, 1, 4, 7, 12, 19, 8, 7, 19, 14, 15, 3, 20, 4, 7, 13, 16, 19, 13, 6, 6, 16, 19, 9, 11, 1, 4, 7, 8, 10, 11, 12, 15, 1, 5, 8, 10, 15, 19, 12, 18, 3, 16, 3, 4, 16, 1, 2, 3, 5, 8, 10, 15, 1, 2, 4, 5, 7, 17, 18, 19, 1, 10, 11, 13, 15, 19, 1, 7, 9, 12, 18, 6, 15, 15, 5, 12, 13, 15, 17, 20, 10, 2, 16, 3, 5, 3, 9, 11, 13, 15, 1, 3, 4, 5, 13, 14, 17, 9, 14, 15, 3, 10, 14, 16, 5, 6, 9, 11, 17, 2, 7, 10, 16, 19, 7, 1, 5, 7, 1, 15, 1, 2, 6, 7, 8, 11, 12, 14, 16, 19, 1, 3, 9, 15, 3, 9, 13, 18, 14, 1, 14, 1, 2, 10, 13, 15, 17, 20, 4, 1, 3, 4, 6, 15, 20, 1, 4, 6, 11, 14, 1, 4, 5, 12, 13, 1, 2, 4, 9, 10, 16, 18, 20, 1, 3, 7, 12, 13, 14, 14, 17, 16, 11, 10, 6, 18, 16, 8], \"Freq\": [0.17814356790047062, 0.11419459480799397, 0.029690594650078436, 0.6394897309247662, 0.03654227033855807, 0.3335918866190627, 0.044635534125085856, 0.14800203420423205, 0.07282639778303482, 0.056381727315897925, 0.07987411369752206, 0.21847919334910446, 0.044635534125085856, 0.5997282617344784, 0.11533235802586121, 0.24911789333586024, 0.023066471605172244, 0.013839882963103347, 0.396381704279364, 0.12764834544589687, 0.04031000382502006, 0.047028337795856745, 0.3896633703085273, 1.0020782383507403, 0.9900508538986256, 0.5263016396875403, 0.4709014670888519, 0.9910341012850034, 0.09807165866230418, 0.04457802666468371, 0.008915605332936742, 0.017831210665873485, 0.7399952426337496, 0.08915605332936742, 0.27588565070763904, 0.6039658839815881, 0.11184553407066447, 1.0020745258253823, 0.30219831292894095, 0.19230801731841696, 0.5082426171986734, 0.9761192822880894, 0.05617513926724173, 0.8145395193750051, 0.028087569633620864, 0.0842627089008626, 0.8141432526010447, 0.18621361628640917, 0.17377338619879681, 0.06255841903156685, 0.23720067216135765, 0.09123102775436832, 0.05821408437659693, 0.039967878825723266, 0.06777162061753075, 0.2293808697824118, 0.039967878825723266, 0.9990240508714016, 0.01405166846687295, 0.1405166846687295, 0.1405166846687295, 0.0562066738674918, 0.6463767494761558, 1.0001114389974985, 0.3344701117999439, 0.549486612242765, 0.10750825022141054, 0.011945361135712283, 0.06422751159300158, 0.13763038198500338, 0.12845502318600316, 0.2202086111760054, 0.3761897107590092, 0.06422751159300158, 0.009175358799000225, 0.9857517376051652, 0.9872075494799831, 0.03577682518563836, 0.166958517532979, 0.166958517532979, 0.2385121679042557, 0.3935450770420219, 1.0014018699917269, 0.39697209005278616, 0.43907519051293015, 0.01804418591149028, 0.14435348729192224, 0.9857331117580547, 0.9795152449384719, 0.2818309513631851, 0.035228868920398136, 0.12330104122139349, 0.5636619027263702, 0.19514354383924654, 0.8049671183368919, 0.016205884632472235, 0.972353077948334, 0.010803923088314822, 0.013513375348086335, 0.927918440568595, 0.004504458449362111, 0.040540126044259, 0.009008916898724222, 0.004504458449362111, 0.2011394738019421, 0.7968217616000015, 0.984413268032184, 0.988210583979659, 0.998890021262966, 0.03400794404028964, 0.9182144890878202, 0.03400794404028964, 1.000488279744276, 0.9939943216089411, 0.6918250375994631, 0.03547820705638272, 0.27199958743226754, 0.33016187933694585, 0.16057053148080974, 0.08659983720313334, 0.2525828585091389, 0.09020816375326389, 0.07938318410287222, 0.997527294130512, 0.9926326729133066, 0.8823864438641194, 0.09454140469972708, 0.6701604003731624, 0.3276339735157683, 0.17171064198836578, 0.5151319259650974, 0.30049362347964015, 0.05082748160384271, 0.9148946688691688, 0.025413740801921356, 0.9820117108330733, 1.0033462874865084, 0.15745330461821833, 0.06747998769352213, 0.04498665846234809, 0.11246664615587024, 0.5398399015481771, 0.07872665230910916, 0.9761192822880894, 0.9804078118037541, 0.7141568523962961, 0.022671646107818924, 0.05667911526954731, 0.13602987664691354, 0.07935076137736623, 0.022805882050205326, 0.03420882307530799, 0.8894293999580076, 0.05701470512551331, 0.050210672151625065, 0.9468298177163583, 1.0033462874865084, 0.29481839574969254, 0.693690342940453, 0.11436609582852612, 0.6433092890354595, 0.24302795363561802, 0.9870142834915883, 0.3861899777495383, 0.61439314641972, 0.16436764674132656, 0.8335787799024419, 0.9940681836152226, 0.9994418318632755, 0.9839379724234514, 1.0060620908364124, 0.9985856944274192, 0.9830277020763076, 0.991951398958735, 0.27925011861196175, 0.7201713585255857, 0.98472355229478, 0.007379263406601819, 0.6567544431875618, 0.25827421923106364, 0.05903410725281455, 0.014758526813203637, 0.07827953531901498, 0.022365581519718566, 0.8946232607887427, 0.9762528401749448, 0.5379409522754668, 0.10853194651171698, 0.15571974934289828, 0.09909438594548071, 0.004718780283118129, 0.09909438594548071, 0.9799314716292431, 0.011502016252441297, 0.04600806500976519, 0.9431653327001863, 0.3577630756248475, 0.6062096559198805, 0.02981358963540396, 0.9626185289464658, 0.9897416362037724, 0.9933196589647603, 0.003805822448140844, 0.9433235933348142, 0.05108250505423182, 0.003405500336948788, 0.0022703335579658587, 1.0051214246707574, 0.09974132676488986, 0.014248760966412838, 0.014248760966412838, 0.8691744189511831, 0.9839379724234514, 0.024732920633706353, 0.23496274602021033, 0.012366460316853177, 0.024732920633706353, 0.7048882380606311, 0.9628129988326269, 0.8677065689211478, 0.06536217604318689, 0.02273466992806501, 0.041680228201452514, 0.0018945558273387507, 0.8052626333246985, 0.0178947251849933, 0.0178947251849933, 0.1610525266649397, 0.9842626598448504, 0.4709942443540117, 0.4926325710471516, 0.007212775564379965, 0.027408547144643865, 0.001442555112875993, 0.0007212775564379965, 0.9851700798685578, 0.9956895552110571, 1.0021036494228852, 0.9868724738345176, 0.4687571576190843, 0.05113714446753647, 0.008522857411256078, 0.4687571576190843, 0.18918966612573287, 0.780407372768648, 0.02364870826571661, 0.9953513104445095, 0.020354572604565198, 0.040709145209130396, 0.22390029865021716, 0.5902826055323908, 0.12212743562739119, 0.9968271766923417, 1.0043288509983188, 0.04708868812757479, 0.015696229375858264, 0.13080191146548553, 0.8057397746273909, 0.023277797107549805, 0.9776674785170919, 0.23388232057242203, 0.07501885754209763, 0.46776464114484406, 0.1721020849495181, 0.0529544876767748, 0.9879479866493149, 0.09015348214283347, 0.04507674107141674, 0.8564580803569181, 0.9628129988326269, 0.990281601161287, 0.9973257168915212, 0.98472355229478, 0.5177816566396266, 0.21713424310694018, 0.26724214536238794, 0.9991222043919933, 0.9951970239771958, 1.000251638134453, 0.4105506721817083, 0.13137621509814665, 0.4598167528435133, 0.9976236482510468, 0.9809341060831726, 0.05567380007623552, 0.9464546012960038, 0.42177639358935265, 0.5706386501503007, 0.9930754341799239, 0.6384752127725217, 0.14209389008290543, 0.06631048203868921, 0.053048385630951364, 0.033155241019344604, 0.04073358182376623, 0.026524192815475682, 0.984413268032184, 0.9996967173969015, 0.9648963353640302, 0.9952881645612477, 0.04151150617669203, 0.04151150617669203, 0.03558129100859317, 0.31430140390923966, 0.1838366702110647, 0.023720860672395448, 0.05337193651288975, 0.2312783915558556, 0.07709279718528521, 0.8895106268160938, 0.11118882835201173, 0.9978387564422794, 0.3638431985517313, 0.09728427768762869, 0.12257818988641216, 0.1712203287302265, 0.05642488105882464, 0.042805082182556624, 0.038913711075051476, 0.03502233996754633, 0.062261937720082365, 0.009728427768762869, 0.019434074639949117, 0.2332088956793894, 0.6218903884783717, 0.12632148515966926, 0.09470049159847205, 0.09470049159847205, 0.7996930401648751, 0.010522276844274672, 0.9628129988326269, 0.2143258865915367, 0.01948417150832152, 0.01948417150832152, 0.15587337206657215, 0.5845251452496455, 0.09788261263419738, 0.1648549265418061, 0.1390963442696489, 0.10303432908862882, 0.29364783790259213, 0.025758582272157205, 0.08242746327090306, 0.09273089617976595, 0.1925003417161557, 0.2566671222882076, 0.5518343129196464, 0.054275310009527664, 0.1025200300179967, 0.13870357002434847, 0.1447341600254071, 0.34977422006140046, 0.0422141300074104, 0.1688565200296416, 0.0694081210406023, 0.0694081210406023, 0.12146421182105402, 0.7461373011864747, 0.9914003499574303, 0.3859876972945855, 0.05417371190099445, 0.5620522609728175, 0.20538243550669308, 0.014670173964763793, 0.777519220132481, 0.7070248594518521, 0.0058918738287654345, 0.026513432229444456, 0.2562965115512964, 0.0029459369143827172, 1.0054297487879846, 0.9465687743006072, 0.9946057848601153, 0.9762528401749448, 0.35212381292172173, 0.13693703835844734, 0.07824973620482706, 0.33256137887051496, 0.1075933872816372, 0.03094621190795106, 0.9593325691464829, 0.9829069463163937, 0.4904992352044995, 0.09232926780319992, 0.17023208751214983, 0.05193521313929995, 0.008655868856549991, 0.05193521313929995, 0.13560861208594988, 0.07784529614054334, 0.817375609475705, 0.07784529614054334, 0.9628129988326269, 0.9763650896242448, 0.9761192822880894, 0.9863686305178031, 0.07051339120279551, 0.11752231867132586, 0.04700892746853034, 0.7286383757622202, 0.02350446373426517, 0.9940124699177849, 1.0027692553152963, 0.07783171633535522, 0.8561488796889075, 0.019955121005453665, 0.31928193608725863, 0.658518993179971, 0.2180165030644445, 0.01282450018026144, 0.7694700108156864, 0.14393663300348092, 0.051074289130267424, 0.3250182035562473, 0.07893299229223148, 0.06500364071124945, 0.16250910177812364, 0.07893299229223148, 0.09750546106687417, 0.9998302662338734, 0.0327775976747752, 0.6063855569833412, 0.1720823877925698, 0.040971997093469, 0.0163887988373876, 0.0163887988373876, 0.0081943994186938, 0.0655551953495504, 0.0491663965121628, 0.31241142182340054, 0.37616885484858437, 0.04463020311762865, 0.038254459815110275, 0.10201189284029406, 0.006375743302518379, 0.09563614953777569, 0.025502973210073516, 0.9823633165425406, 0.03389249543857777, 0.30503245894719994, 0.6665524102920295, 1.001443214252897, 0.9828119191472858, 1.000488279744276, 0.3869646212828, 0.6122126844175642, 0.996713088214163, 0.042758348663601266, 0.042758348663601266, 0.8979253219356265, 0.2577817585657918, 0.089232147195851, 0.019829366043522444, 0.6345397133927182, 1.0054297487879846, 0.9753204657744812, 0.6924138828354423, 0.2509622370102258, 0.018141848458570538, 0.036283696917141076, 0.2065242988580549, 0.047659453582628054, 0.17475132980296953, 0.055602695846399396, 0.38127562866102443, 0.10326214942902745, 0.03971621131885671, 0.325650579214037, 0.01915591642435512, 0.03831183284871024, 0.5938334091550087, 0.01915591642435512, 0.992159526329702, 0.9902827614933424, 0.3836750495027573, 0.5914990346500842, 0.015986460395948223, 0.7560544947596016, 0.20791498605889044, 0.03465249767648174, 0.845121997600087, 0.1556803679789634, 0.9830277020763076, 1.0030014996344758, 0.9465687743006072, 0.9879479866493149, 0.9878992742571302, 1.004515563743779, 0.33046225734752166, 0.0508403472842341, 0.0508403472842341, 0.5592438201265751, 0.09587399593918304, 0.8053415658891375, 0.09587399593918304, 0.04034057628661336, 0.8471521020188805, 0.08068115257322672, 0.9964168974173113, 0.04017132772232382, 0.9239405376134479, 0.04017132772232382, 0.6190945521870056, 0.3791954132145409, 0.09448354471155415, 0.6323129530696316, 0.07994761475593043, 0.06541168480030672, 0.02907185991124743, 0.101751509689366, 0.6822438060137272, 0.1489405492001799, 0.002402266922583547, 0.16575641765826474, 0.853545708717478, 0.0013091191851495063, 0.026182383702990124, 0.0209459069623921, 0.0418918139247842, 0.05760124414657827, 0.998483601892047, 0.047085461174396874, 0.9417092234879375, 0.9988472116694417, 0.7524688798553468, 0.1556832165217959, 0.07784160826089795, 0.9271053435074421, 0.04030892797858444, 0.008542814061792118, 0.9909664311678856, 1.0004405984211349, 0.9812525074921935, 0.9529865739497793, 0.010403783558403703, 0.002080756711680741, 0.0015605675337605554, 0.03277191820897166, 0.0005201891779201852, 0.9521724657013797, 0.006172917119619966, 0.026234897758384855, 0.0005144097599683305, 0.014403473279113253, 0.0005144097599683305, 0.03919096533962386, 0.9405831681509726, 0.9930754341799239, 0.9678697064636674, 0.8134052375854783, 0.07394593068958893, 0.1109188960343834, 0.997527294130512, 0.33844460823482625, 0.3017457952937005, 0.02854352117643113, 0.093785855293988, 0.0856305635292934, 0.06931997999990418, 0.08155291764694608, 0.4463019663419517, 0.3364975143054397, 0.010626237293855992, 0.20898266677916785, 0.11678744697933861, 0.06812601073794752, 0.009732287248278218, 0.807779841607092, 0.9868724738345176, 0.11653959971429914, 0.8546237312381937, 0.004660779507399559, 0.06525091310359384, 0.037286236059196474, 0.05592935408879471, 0.3215937860105696, 0.03262545655179692, 0.09787636965539075, 0.06525091310359384, 0.1817704007885828, 0.037286236059196474, 0.06991169261099339, 0.037286236059196474, 0.9038467743223699, 0.09350139044714172, 0.09837497537863411, 0.2186110563969647, 0.03279165845954471, 0.04372221127939294, 0.010930552819848236, 0.03279165845954471, 0.09837497537863411, 0.4700137712534741, 0.9979831165994079, 0.9723782107888423, 0.9661452383682732, 0.032204841278942443, 1.0070490203173457, 0.2291731005490419, 0.5055288982699454, 0.06965064820608137, 0.0022467951034219795, 0.04268910696501761, 0.08313141882661325, 0.06740385310265938, 0.047062590814805, 0.8471266346664901, 0.0705938862222075, 0.0235312954074025, 0.9906761566448412, 0.9795152449384719, 0.0802088770545428, 0.10694516940605706, 0.8020887705454279, 0.9198819291820378, 0.06570585208443128, 0.06307621055546797, 0.9461431583320197, 0.2674824821582701, 0.06293705462547532, 0.06293705462547532, 0.6136362825983843, 0.02071119348361341, 0.02071119348361341, 0.06213358045084023, 0.8698701263117632, 0.02071119348361341, 0.07031744331263387, 0.9141267630642403, 0.9825085959420787, 0.04014582909648752, 0.04014582909648752, 0.9233540692192129, 0.16845960715793207, 0.08422980357896603, 0.7370107813159529, 0.16245870831425757, 0.1469864503795664, 0.16245870831425757, 0.023208386902036797, 0.37907031939993435, 0.12377806347752959, 0.0077361289673455996, 0.2209690677553406, 0.761115677823951, 0.2191390523077607, 0.47287900761148366, 0.1845381493117985, 0.03460090299596222, 0.09226907465589924, 0.16000699138626953, 0.15030959796891985, 0.3733496465679622, 0.13455133366572664, 0.10424697923650894, 0.018182612657530628, 0.05939653468126672, 0.9660200815689595, 0.025421581093919985, 0.5126430140586005, 0.1847596649652824, 0.0728629664651818, 0.14312368412803567, 0.02342023922095129, 0.04423822963957466, 0.02081799041862337, 0.9818922355006178, 0.9565529185323551, 0.9834642359071779, 0.9788313246629202, 0.020487167260386702, 1.000488279744276, 0.015000896901517914, 0.007500448450758957, 0.018751121126897394, 0.49877982197547066, 0.2287636777481482, 0.033752018028415307, 0.13875829633904072, 0.04875291492993322, 0.011250672676138437, 0.9978387564422794, 0.15465470582001767, 0.8351354114280954, 0.9563886394832866, 0.9995675522501516, 0.3174909246731582, 0.6830865349028555, 0.9834642359071779, 0.8409852494620572, 0.16018766656420136, 0.9834642359071779, 0.17176253068794917, 0.7022056401654393, 0.010103678275761717, 0.030311034827285147, 0.0050518391378808584, 0.08082942620609374, 0.04136918413847972, 0.09308066431157937, 0.7756722025964947, 0.02068459206923986, 0.0723960722423395, 0.9872899359910409, 0.9949550766977242, 0.9857659491340066, 0.98472355229478, 0.047824019353248585, 0.9564803870649716, 0.3513831823049494, 0.20844765051988526, 0.29778235788555035, 0.05360082441939907, 0.0774234130502431, 0.017866941473133023, 0.15180478866482858, 0.30360957732965715, 0.08280261199899741, 0.469214801327652, 0.0158226900503234, 0.0158226900503234, 0.9651840930697273, 0.8972932867272433, 0.10433642868921435, 0.31304087793807317, 0.6260817558761463, 0.053972565161736756, 0.9925624284406934, 0.9976165238364418, 1.00492972035122, 0.272644055423306, 0.6718728508645755, 0.0486864384684475, 0.15247022857682183, 0.2697550197897617, 0.04691391648517595, 0.4925961230943474, 0.03518543736388196, 0.2199846787864011, 0.337309840805815, 0.12710225885436507, 0.3128670987184371, 0.034216071877908726, 0.8211857250698095, 0.004888010268272676, 0.1368642875116349, 0.04592755280595797, 0.1492645466193634, 0.7807683977012855, 0.022963776402978985, 0.050101612788068364, 0.2505080639403418, 0.7014225790329571, 0.9947554583309294, 0.9924275433834885, 0.01917907472271759, 0.15343259778174073, 0.7863420636314212, 0.03835814944543518, 0.8047159277843687, 0.02908611787172417, 0.009695372623908056, 0.08725835361517251, 0.06786760836735639, 0.9837289961971565, 0.24770746927245138, 0.016513831284830093, 0.726608576532524, 1.004515563743779, 1.004515563743779, 0.08829801547536877, 0.8829801547536876, 0.13220874431047455, 0.0881391628736497, 0.7491828844260224, 0.9983020155625864, 1.002410690646894, 0.9940835425244434, 1.001844633600357, 0.13221924645898406, 0.1469102738433156, 0.5435680132202677, 0.17629232861197872, 0.037320677956590304, 0.25191457620698454, 0.055981016934885455, 0.13995254233721363, 0.35454644058760787, 0.1586128813155088, 0.10131412310726882, 0.8780557335963297, 0.9815655350821584, 0.10699358131824417, 0.5836013526449683, 0.04539121631683086, 0.0972668921074947, 0.05187567579066384, 0.04539121631683086, 0.07132905421216278, 1.0025241519892096, 0.05258372456193856, 0.946507042114894, 0.9924275433834885, 0.9851695870123843, 0.055988937353968225, 0.9238174663404757, 0.23218632430398825, 0.016584737450284878, 0.401350646296894, 0.13931179458239296, 0.033169474900569755, 0.04975421235085463, 0.10614231968182321, 0.019901684940341852, 0.8213627318083195, 0.05633895994353095, 0.12305614935034391, 0.8292795586011772, 0.005799157752455785, 0.07248947190569731, 0.08988694516306467, 0.2672087092373481, 0.012525408245500691, 0.08350272163667127, 0.392462791692355, 0.15865517110967542, 0.08350272163667127, 0.3379079439063739, 0.32274540796185713, 0.07148052659557909, 0.010830382817511983, 0.017328612508019176, 0.12130028755613421, 0.11913421099263181, 0.9953161206418449, 0.9940124699177849, 0.5367229815346727, 0.3625545967982557, 0.09952479127795255, 0.9897372038470075, 0.996733925533264, 0.9553240760287982, 0.03821296304115193, 0.21955718527953952, 0.784132804569784, 0.9416838711299821, 0.04829148057076831, 0.9995867765162304, 0.9986640088214767, 0.05432201025172945, 0.7967228170253652, 0.01810733675057648, 0.12675135725403539, 0.9900508538986256, 0.9607230259898526, 0.034311536642494735, 0.3116357568291999, 0.019477234801824995, 0.6622259832620498, 1.003417041966271, 0.11104174263952071, 0.15268239612934098, 0.7356515449868247, 0.06594994265887096, 0.7584243405770159, 0.06594994265887096, 0.09892491398830643, 0.9711864044886842, 0.9851700798685578, 0.11816613719483368, 0.8862460289612526, 0.9829069463163937, 0.9982974107787516, 0.7437493819285247, 0.24267878893911957, 0.01396712454325868, 0.9753204657744812, 0.0661653351846818, 0.9263146925855452, 0.03613292060939971, 0.03613292060939971, 0.9033230152349928, 0.9974021960310973, 0.9729463369783842, 0.011027290654506533, 0.016116809418124933, 1.000488279744276, 0.3777998513597639, 0.5778115373737566, 0.04444704133644281, 0.9905683454933654, 0.9556138871044685, 0.02123586415787708, 0.02123586415787708, 0.022876173024986905, 0.022876173024986905, 0.9516487978394552, 0.015169284988688454, 0.9556649542873726, 0.030338569977376908, 0.8725207369961854, 0.1187641656528383, 0.007917611043522553, 0.1353280887333998, 0.20094170751323, 0.11482383286470287, 0.08201702347478776, 0.07791617230104837, 0.045109362911133266, 0.21734511220818756, 0.008201702347478777, 0.12712638638592103, 1.0041983468891447, 0.7275904678616223, 0.27243113408517367, 0.9804078118037541, 1.0000733744651615, 0.05612501601920333, 0.05612501601920333, 0.8418752402880499, 0.28790831783415904, 0.05156566886581953, 0.18477698010251997, 0.1418055893810037, 0.025782834432909765, 0.004297139072151627, 0.30509687412276554, 0.091496647391864, 0.91496647391864, 0.9830277020763076, 0.2264481983656319, 0.2670927467902325, 0.0638700046672295, 0.44128366860994933, 0.1741772342508718, 0.13685354119711357, 0.6842677059855679, 0.2370281287868775, 0.7110843863606325, 0.05079174188290232, 0.11778062762122686, 0.8833547071592015, 0.2381694616291917, 0.21435251546627251, 0.5358812886656813, 0.18858355631500331, 0.6372823627196663, 0.006502881252241493, 0.16257203130603734, 0.006502881252241493, 0.06288493065599408, 0.02515397226239763, 0.9055430014463147, 0.9975927536759296, 0.22506653115262282, 0.05456158330972675, 0.5422057341404095, 0.06820197913715843, 0.10230296870573764, 0.010230296870573766, 1.0004495937779954, 0.945766974804131, 0.029555217962629093, 0.07817879950334071, 0.24164356210123492, 0.10660745386819187, 0.11371461745940466, 0.46196563342883146, 0.1958013446098788, 0.7832053784395152, 0.4786408184430252, 0.5193762072466869, 0.16959564666922813, 0.29993304179465347, 0.1020714540138873, 0.16017366629871546, 0.2669561104978591, 0.14331005938990576, 0.5527673719324936, 0.04094573125425879, 0.17401935783059985, 0.08189146250851757, 0.010236432813564697, 0.7813574051087518, 0.06335330311692583, 0.1478243739394936, 0.9863686305178031, 0.9492112840844472, 1.0013952078844917, 0.9818922355006178, 0.826145463821765, 0.12908522872215078, 0.05163409148886031, 0.5834611668047274, 0.3903732986535226, 0.025185374106678877, 0.3075809459546139, 0.6846156538989793, 0.9467562511287493, 0.0500279973178701, 0.002831773433086987, 0.9966913255677371, 0.0023674378279518694, 0.9711864044886842, 0.9818922355006178, 0.9867011022683807, 0.012272401769507222, 0.9921344113104618, 0.05381133369705941, 0.91479267285001, 0.1327561338903841, 0.24508824718224753, 0.06127206179556188, 0.4595404634667141, 0.10212010299260314, 0.9907145911796634, 0.9458825651592215, 0.04978329290311692, 0.9750541067896924, 0.9834642359071779, 0.05609087481219879, 0.8974539969951807, 0.017107121490773074, 0.21017320688664062, 0.07087236046177416, 0.06109686246704669, 0.02932649398418241, 0.07331623496045603, 0.1368569719261846, 0.017107121490773074, 0.10753047794200217, 0.0024438744986818675, 0.03177036848286428, 0.16129571691300326, 0.08553560745386536, 0.9959454586215066, 0.9558538762037414, 0.04551685124779721, 0.9780162582335831, 0.9664039157720197, 0.6249060254471898, 0.34433597320559434, 0.02550636838559958, 0.00425106139759993, 0.9033047122162603, 0.09344531505685451, 0.9401577103893052, 0.05354540602217235, 0.00622621000257818, 1.0066968522078508, 0.07503680310653428, 0.15007360621306856, 0.7128496295120756, 0.05627760232990071, 0.9799314716292431, 0.20915021470489803, 0.7738557944081227, 0.32591411056044484, 0.4768300041204538, 0.03692622927532134, 0.04655915865149212, 0.11238417605532582, 0.0016054882293617973, 0.9516143931755511, 0.04531497110359767, 0.26612393089350406, 0.145536524707385, 0.11642921976590802, 0.07068916914358701, 0.08732191482443101, 0.12058740618611902, 0.07900554198400901, 0.10811284692548602, 1.0070780824672587, 1.0002344021277554, 0.9748844277267701, 0.9807217753321216, 0.9979831165994079, 0.808033671575998, 0.010493943786701274, 0.010493943786701274, 0.031481831360103824, 0.010493943786701274, 0.010493943786701274, 0.115433381653714, 0.5267537484420922, 0.38432676924959513, 0.009042982805872827, 0.04521491402936414, 0.00678223710440462, 0.009042982805872827, 0.018085965611745653, 0.7192059685151853, 0.021468834881050308, 0.2576260185726037, 0.9837289961971565, 0.9719155465679205, 0.9877156214204472, 0.9956303634959799, 0.10269677490675941, 0.3436392083418488, 0.5529826341133199, 0.9663363484507709, 0.30471657761333293, 0.18848448099793788, 0.13508054471518882, 0.018848448099793788, 0.003141408016632298, 0.3486962898461851, 0.03989845635944923, 0.013299485453149745, 0.013299485453149745, 0.02659897090629949, 0.02659897090629949, 0.8777660399078832, 1.0001361080630295, 0.9711375756830298, 0.009536355583763577, 0.019072711167527154, 0.00022438483726502538, 0.8300667612688412, 0.03325968705713731, 0.03135913351101518, 0.02090608900734345, 0.0023756919326526653, 0.02850830319183198, 0.03468510221672891, 0.017580120301629722, 0.000950276773061066, 0.6905799626117183, 0.19050481727219815, 0.11112781007544892, 0.002645900239891641, 0.002645900239891641, 0.9983433457421229, 0.701609209837097, 0.0029855711056897744, 0.211975548503974, 0.023884568845518196, 0.05672585100810571, 0.984413268032184, 0.9101161350877802, 0.09414994500908071, 0.9761192822880894, 0.9886877486911531, 0.47485265199443105, 0.41807679142987947, 0.1032288373900937, 0.9443238759756646, 0.04496780361788879, 0.9933310249995069, 0.9492112840844472, 1.0002069217084988, 0.19556500614503952, 0.10756075337977174, 0.039113001229007904, 0.43024301351908695, 0.18578675583778753, 0.039113001229007904, 0.9615484928174737, 0.028280838024043343, 0.5185661605649569, 0.03988970465884284, 0.4188418989178498, 0.00997242616471071, 0.00997242616471071, 0.05614699866877561, 0.8983519787004097, 0.9881775015431871, 0.9963378417651275, 0.0025160046509220394, 1.0001541968665557, 0.9953161206418449, 0.9863686305178031, 0.8718822253575135, 0.1376656145301337, 1.0030014996344758, 0.9925624284406934, 0.9983069202652008, 0.11310066606517123, 0.08482549954887843, 0.056550333032585616, 0.735154329423613, 0.10916751924961167, 0.8733401539968934, 0.591562936514389, 0.1187877382559014, 0.007127264295354084, 0.12116349302101943, 0.09978170013495719, 0.057018114362832675, 0.0023757547651180283, 0.04576339980452435, 0.9610313958950114, 0.9863807849530084, 0.9970311759059556, 0.9014904670317377, 0.054089428021904265, 0.03605961868126951, 0.5034569378526944, 0.18858009012351784, 0.04671249938839433, 0.07612407307738335, 0.05190277709821592, 0.05536296223809698, 0.02768148111904849, 0.048442591958334856, 0.24679928518664376, 0.5073096417725454, 0.09597749979480591, 0.15082178539183785, 0.1706372503073358, 0.2021022751867027, 0.3957331975212682, 0.08108294872759929, 0.04719753731905033, 0.02299367202722965, 0.07866256219841722, 0.9829069463163937, 0.7113795515462039, 0.024530329363662205, 0.2534800700911761, 0.004088388227277034, 0.008176776454554068, 0.916037017231983, 0.061069134482132206, 0.15694093618074384, 0.07847046809037192, 0.02615682269679064, 0.7323910355101378, 0.06435154975310627, 0.9330974714200408, 0.010177068033276953, 0.8243425106954332, 0.09159361229949257, 0.07123947623293868, 1.0066968522078508, 0.8559880215903599, 0.07133233513253, 0.057065868106023994, 0.014266467026505998, 0.9750541067896924, 0.9897372038470075, 0.1215356860709203, 0.024307137214184062, 0.8507498024964422, 0.15134732368175086, 0.8071857263026713, 0.9761192822880894, 0.12524370254716058, 0.009634130965166198, 0.39499936957181414, 0.15414609544265917, 0.12524370254716058, 0.19268261930332395, 0.9891513845432824, 1.0028149216516808, 0.6208738458539671, 0.06475371398476958, 0.09141700797849824, 0.019045209995520465, 0.19807018395341283, 0.01142712599731228, 0.316915229919185, 0.21731330051601258, 0.2354227422256803, 0.23089538179826338, 0.992159526329702, 0.28566597671790916, 0.1558178054824959, 0.03895445137062398, 0.519392684941653, 0.8246241799521906, 0.17360509051625067, 0.25437230983991793, 0.06937426631997762, 0.06359307745997948, 0.17921685465994217, 0.01156237771999627, 0.4220267867798638, 0.6753024971350093, 0.23760643417713292, 0.08753921259157528, 0.9663363484507709, 0.9433423520524984, 0.34943388176094203, 0.16885395628716662, 0.15478279326323607, 0.01876155069857407, 0.13367604872734024, 0.03517790755982638, 0.06332023360768749, 0.07739139663161804, 0.7671885852048684, 0.2144315921380067, 0.019060585967822816, 0.2923835280039352, 0.2517747046700553, 0.23959205766989136, 0.19898323433601145, 0.020304411666939946, 0.07042258766841998, 0.9154936396894597, 0.1281690396724635, 0.8544602644830899, 1.004515563743779, 0.024890069193306896, 0.14934041515984137, 0.04978013838661379, 0.6720318682192862, 0.09956027677322758, 0.14069224631457758, 0.5231992909823354, 0.29457439072114683, 0.013189898091991649, 0.026379796183983298, 0.9922316902741065, 0.00787485468471513, 0.9711864044886842, 0.9753635259622674, 0.994344765264714, 0.7806441216460752, 0.1808860377973287, 0.03876129381371329, 1.006220788146668, 0.19604370924961126, 0.784174836998445, 1.003481223565395, 1.0018089831764232, 0.1453673717651139, 0.18690090655514643, 0.11767834857175888, 0.3115015109252441, 0.013844511596677515, 0.1315228601684364, 0.06922255798338757, 0.02768902319335503, 0.9872899359910409, 0.11981429191001795, 0.878638140673465, 0.9552780342823609, 0.9552780342823609, 0.03511582376245875, 0.8778955940614689, 0.0702316475249175, 0.962920214084015, 0.03666604622985369, 0.018839023190546905, 0.6405267884785948, 0.13187316233382834, 0.11303413914328142, 0.09419511595273453, 0.8672382301894827, 0.13987713390152948, 1.0081123482433594, 0.9872075494799831, 0.9844142104742971, 0.5775597682221818, 0.4176201400991161, 0.004442767447862937, 1.0020057139987804, 0.4357983311631565, 0.41228403271910136, 0.06270479585081389, 0.04546097699184007, 0.03919049740675868, 0.0015676198962703473, 0.21345329037230218, 0.40241194086581555, 0.14346860500433425, 0.006998468536796793, 0.0874808567099599, 0.0874808567099599, 0.05598774829437434, 0.9349135238599185, 0.06677953741856561, 0.9558001809168922, 0.05011724889300245, 0.016705749631000816, 0.6348184859780311, 0.3007034933580147, 0.8859632294981931, 0.11556042123889473, 0.9906761566448412, 0.15358609784110897, 0.20843827564150502, 0.08776348448063369, 0.5594922135640398, 0.971953477307373, 0.9999535515240529, 0.9778117927908153, 0.9881775015431871, 0.040279930718292056, 0.10069982679573014, 0.3558060546782465, 0.5034991339786506, 0.27837358132651985, 0.7113991522788841, 0.984413268032184, 0.267565427098982, 0.7262490164115226, 0.13512618692592052, 0.18917666169628872, 0.6756309346296026, 0.9936781683835864, 0.9528158677582419, 0.03970066115659341, 0.06455066663978457, 0.3066156665389767, 0.01613766665994614, 0.5164053331182765, 0.09682599995967685, 1.0013772983994522, 0.818011282971675, 0.15148357092068057, 0.03029671418413611, 0.9848105220694586, 1.0040409041377756, 0.014266883100127425, 0.6848103888061164, 0.07133441550063713, 0.02853376620025485, 0.19973636340178394, 0.9867070092977837, 0.5854400939920229, 0.3866795682539904, 0.028910621925531996, 0.997527294130512, 0.21518424002379136, 0.17458344001930243, 0.16240320001795575, 0.17052336001885354, 0.08120160000897787, 0.004060080000448893, 0.10556208001167124, 0.07308144000808009, 0.012180240001346682, 0.5885809127311012, 0.15567221763170286, 0.07783610881585143, 0.03410795779571017, 0.062093974448600577, 0.04285358799973842, 0.037606209877321474, 0.0327728148480552, 0.9504116305936008, 0.9829069463163937, 0.5991844942170823, 0.34007768590699267, 0.05182136166201794, 0.008097087759690303, 0.919656687015451, 0.0656897633582465, 0.434896619042594, 0.030341624584367025, 0.4450104939040497, 0.015170812292183512, 0.07585406146091755, 0.9868724738345176, 0.21575366735821383, 0.6306645661240097, 0.06638574380252733, 0.08298217975315916, 0.6000857631791608, 0.3328600717634408, 0.06563438034772072, 0.004688170024837194, 0.9829069463163937, 0.9872406664090382, 0.20297007723876515, 0.782884583635237, 0.014497862659911797, 0.7985383926981224, 0.07551190474686738, 0.0018877976186716843, 0.08683869045889747, 0.028316964280075265, 0.009438988093358422, 0.9701562046645001, 0.5289974604693635, 0.03465845430661347, 0.24625743849435885, 0.06384452109113008, 0.03283432513258118, 0.03465845430661347, 0.0036482583480645756, 0.05289974604693635, 0.0018241291740322878, 0.8363644418597467, 0.14545468554082552, 0.9972745439388345, 0.17539213040338011, 0.11692808693558673, 0.5846404346779337, 0.10231207606863839, 0.029232021733896683, 0.07781084487339775, 0.019452711218349437, 0.8364665823890258, 0.019452711218349437, 0.038905422436698874, 0.991951398958735, 0.026077613672216476, 0.008692537890738825, 0.08475224443470354, 0.032597017090270596, 0.39551047402861655, 0.02390447919953177, 0.3759522637744542, 0.05215522734443295, 0.09818615484221606, 0.22091884839498613, 0.18409904032915508, 0.012273269355277007, 0.012273269355277007, 0.024546538710554015, 0.012273269355277007, 0.44183769678997226, 0.996733925533264, 0.3768157544780402, 0.21879624453563626, 0.4011264483153331, 0.7553447489970814, 0.1277838861085288, 0.005679283827045725, 0.11074603462739163, 0.44006613207158346, 0.06749480553245145, 0.186285663269566, 0.24568109213812328, 0.06209522108985534, 0.9914268998427633, 0.9900508538986256, 0.9223003104494172, 0.07378402483595337, 0.984413268032184, 0.16968398619218475, 0.3393679723843695, 0.24038564710559507, 0.018853776243576086, 0.08484199309609237, 0.09662560324832743, 0.04949116263938722, 0.15584394579922572, 0.47495297767383077, 0.1484228055230721, 0.04452684165692163, 0.17810736662768653, 0.0629786786862074, 0.9446801802931111, 0.3877924588431854, 0.04446028190558814, 0.01482009396852938, 0.02964018793705876, 0.3877924588431854, 0.05434034455127439, 0.06916043851980377, 0.01482009396852938, 0.3253205140800038, 0.04243311053217441, 0.6223522878052247, 0.22597805152801187, 0.5432164700192593, 0.13037195280462224, 0.08256890344292742, 0.017382927040616298, 0.9929494724067995, 1.0002116456163836, 0.9628129988326269, 0.5446065033279693, 0.44249278395397507, 0.011345968819332695, 0.9987142362431202, 0.9834642359071779, 0.8438634684934145, 0.07671486077212859, 0.07671486077212859, 0.06827308271200452, 0.9103077694933936, 0.02275769423733484, 0.5331190283779277, 0.4408178234647343, 0.003182800169420464, 0.019096801016522783, 0.003182800169420464, 0.804711549532965, 0.12192599235347953, 0.07315559541208773, 0.5057590691009098, 0.01509728564480328, 0.4529185693440984, 0.02264592846720492, 0.040574194615091715, 0.12172258384527514, 0.8114838923018343, 0.9891880511666665, 0.009102957526073619, 0.9834642359071779, 0.9872075494799831, 0.9709680234359278, 0.9963220378910999, 0.9471557903793364, 0.05340513577594931, 0.9762528401749448, 0.9931813559214943, 0.8274736462449154, 0.1601561895957901, 0.9762528401749448, 0.9161827837449364, 0.08328934397681241, 0.17247406981299393, 0.04703838267627107, 0.13327541758276804, 0.023519191338135535, 0.41550571364039446, 0.09407676535254214, 0.11759595669067767, 0.007839730446045178, 0.8440509647949688, 0.13855829791435875, 0.006927914895717938, 0.010391872343576906, 0.048325039284650706, 0.9181757464083634, 0.1367410766366617, 0.24391651508161277, 0.08130550502720425, 0.02956563819171064, 0.055435571609457446, 0.1847852386981915, 0.19217664824611916, 0.07760980025324042, 0.9858921890788966, 0.0038166960375714903, 0.35113603545657707, 0.6335715422368674, 0.01145008811271447, 0.1461773769367156, 0.01827217211708945, 0.5938455938054071, 0.0365443442341789, 0.1096330327025367, 0.0730886884683578, 0.027408258175634175, 0.9801340223652357, 0.633400869168146, 0.06593020199519735, 0.0824127524939967, 0.0682848520664544, 0.0682848520664544, 0.0777034523514826, 0.05163083679582379, 0.9465653412567695, 0.9878992742571302, 0.9857659491340066, 0.9779890047398643, 0.054819433292672325, 0.10963886658534465, 0.8222914993900848, 0.280419880811015, 0.6686935619339588, 0.043141520124771536, 0.9799314716292431, 0.9953513104445095, 0.06437349234635636, 0.9269782897875316, 0.5676005247724348, 0.42329530660995135, 0.009620347877498894, 1.0022856645506095, 0.9520119419607059, 0.8516028305888526, 0.10645035382360657, 0.15186962051713984, 0.8461307428812076, 0.3431054151385453, 0.4612236728091921, 0.1912390838477138, 1.0000986220199954, 0.9799314716292431, 1.0018089831764232, 0.1087986094186797, 0.8703888753494377, 0.16768595328299427, 0.14672520912261997, 0.06986914720124761, 0.23406164312417949, 0.2550223872845538, 0.1257644649622457, 0.014927904096266438, 0.08956742457759863, 0.014927904096266438, 0.7016114925245226, 0.16420694505893083, 0.7323062602903401, 0.005175309260002404, 0.03881481945001802, 0.055634574545025836, 0.04399012871002043, 0.09186173936504266, 0.03234568287501502, 0.4575461330617138, 0.5382895683078986, 0.1897638853365744, 0.7478929598559109, 0.0632546284455248, 0.9633123082746375, 0.032110410275821254, 1.0025241519892096, 0.9804078118037541, 0.2266194672275516, 0.6798584016826548, 0.06474841920787189, 0.032374209603935944, 1.0029333627789105, 0.9924348180978266, 0.08763877832835762, 0.8325683941193974, 0.06572908374626822, 0.06391434572896636, 0.009130620818423765, 0.04565310409211882, 0.08217558736581389, 0.8034946320212912, 0.08938258270299802, 0.029794194234332674, 0.10924537885921981, 0.7746490500926495, 0.13409648394309398, 0.01915664056329914, 0.05746992168989742, 0.01915664056329914, 0.7279523414053672, 0.03831328112659828, 0.9842626598448504, 0.19663890440754242, 0.7865556176301697, 1.002316564794916, 0.024446553254254575, 0.6600569378648735, 0.18334914940690933, 0.12223276627127287, 0.012223276627127288, 0.32158266589648526, 0.41686641875470315, 0.10719422196549509, 0.1429256292873268, 0.23799718572048179, 0.6346591619212848, 0.059499296430120446, 0.059499296430120446, 1.0049775790286761, 1.0024581769980485, 0.9863686305178031, 0.4495197946438452, 0.003329776256621076, 0.1664888128310538, 0.263052324273065, 0.07325507764566368, 0.046616867592695066, 0.18366700870516425, 0.24291443086812045, 0.1747798953807208, 0.1125701021096168, 0.18959175092145986, 0.09479587546072993, 0.400379934886798, 0.26573889483637037, 0.22676385692703604, 0.10629555793454815, 0.16221532093228072, 0.37347248307664627, 0.003772449324006528, 0.4564663682047899, 0.8934818780401143, 0.02707520842545801, 0.02707520842545801, 0.05415041685091602, 0.1945562890717583, 0.009049129724267828, 0.06334390806987479, 0.14931064045041917, 0.27599845659016875, 0.013573694586401742, 0.23527737283096353, 0.06334390806987479, 0.053344459513610436, 0.10668891902722087, 0.6223520276587884, 0.03556297300907362, 0.03556297300907362, 0.14225189203629449, 0.9924275433834885, 0.9601476442293359, 0.045721316391873136, 0.22012758821178724, 0.08466445700453355, 0.6265169818335483, 0.06773156560362684, 0.010780769237164907, 0.06468461542298945, 0.927146154396182, 0.996713088214163, 1.0010809878285778, 0.9894014669209507, 0.9840898686130011, 0.9983020155625864, 0.9900508538986256, 0.9983020155625864, 0.9756215713514983, 0.05208539114840365, 0.9375370406712658, 0.25368045935535394, 0.6704412140105783, 0.07248013124438683, 0.9907051721184108, 0.06801547279979873, 0.7481702007977861, 0.17003868199949684, 0.9551151770513546, 0.05306195428063081, 0.2363007642837075, 0.14924258796865736, 0.5099121755595794, 0.11193194097649302, 0.1256695110180346, 0.7225996883536991, 0.07854344438627164, 0.07854344438627164, 0.9964731030945705, 0.4001820800840736, 0.25845092672096415, 0.33765363007093707, 0.28345836946211533, 0.1860195549595132, 0.07086459236552883, 0.45176177633024633, 0.008858074045691104, 0.28852411129853084, 0.6040973580312989, 0.013524567717118633, 0.031557324673276814, 0.06311464934655363, 1.0004816670045198, 0.3008596816304784, 0.04558480024704217, 0.027350880148225305, 0.629070243409182, 0.956199835535677, 0.9804078118037541, 0.9929154327476983, 0.0039876121797096315, 0.26323328465942947, 0.1036979606234116, 0.4387221410990491, 0.09572119442161071, 0.05583736341260625, 0.04786059721080536, 0.23312008803746154, 0.09990860915891209, 0.03330286971963736, 0.5494973503740165, 0.0832571742990934, 0.9830565900044114, 0.9910341012850034, 0.9626185289464658, 0.07416813145694919, 0.18954078038998123, 0.2760702670897553, 0.024722710485649727, 0.09889084194259891, 0.08652948669977405, 0.1730589733995481, 0.07416813145694919, 0.06192528374632438, 0.8979166143217034, 0.03096264187316219, 0.1475490885524379, 0.09485298549799578, 0.18970597099599157, 0.04215688244355368, 0.5375002511553094, 0.9857517376051652, 0.21369594076773965, 0.7693053867638627, 0.9878992742571302, 0.026078294152277942, 0.8605837070251721, 0.10431317660911177, 1.0031733764174866, 0.9837289961971565, 0.9892294849137768, 0.9935490467632089, 0.003707272562549287, 0.9907145911796634, 1.0000986220199954, 0.9565316718125655, 0.042512518747225135, 0.8883231392179014, 0.11844308522905353, 0.4957201420939628, 0.2919382795579137, 0.1814233509725328, 0.011498663089808415, 0.019803253099114494, 0.9863686305178031, 1.006220788146668, 0.05899555685585566, 0.9439289096936906, 1.008016525984902, 0.9951970239771958, 0.9848554810854669, 0.9878548735429199, 0.003609701121350499, 0.008422635949817832, 0.09571987809159022, 0.05743192685495413, 0.7657590247327217, 0.07657590247327217, 0.5023545218813998, 0.06722284741270088, 0.2807008087908726, 0.0281609225647801, 0.09084168569283903, 0.02997775627863688, 0.9958171425228417, 0.029680642786427704, 0.019787095190951804, 0.8805257359973553, 0.06925483316833131, 0.9357197879849206, 0.9958916604620234, 0.0749443709558796, 0.8993324514705552, 0.9970311759059556, 0.2281943444852071, 0.7547966779126081, 0.0175534111142467, 0.996713088214163, 0.9924348180978266, 0.9989648443436138, 0.9857331117580547, 0.9878992742571302, 0.8703396301192643, 0.0009258932235311323, 0.07592324432955284, 0.023147330588278305, 0.029628583152996234, 0.9897416362037724, 0.9988317371782013, 0.923364529799229, 0.06844263887327177, 0.003055474949699633, 0.004888759919519412, 0.0006110949899399265, 0.9999110390778193, 0.9967780409686644, 0.0016640701852565349, 0.0016640701852565349, 0.22126022165560488, 0.05531505541390122, 0.7190957203807159, 0.9678697064636674, 0.9970311759059556, 0.0786091529706855, 0.052406101980457004, 0.786091529706855, 0.0786091529706855, 0.9992476469281109, 0.9839379724234514, 0.7495297312615742, 0.12177021870142628, 0.08470971735751394, 0.040842185154515646, 0.0030253470484826405, 0.9956053432676748, 0.9838337323415963, 0.22544706147801108, 0.03757451024633518, 0.7139156946803684, 0.9829069463163937, 0.1354582262558899, 0.8669326480376954, 0.33604537838453263, 0.66125058327279, 0.6003241729225307, 0.03675454119933861, 0.18377270599669307, 0.0061257568665564355, 0.0061257568665564355, 0.09801210986490297, 0.042880298065895044, 0.030628784332782176, 0.7831010643682518, 0.048943816523015736, 0.16314605507671912, 0.9888491810370093, 0.006963726627021192, 0.9839379724234514, 0.08140315289559792, 0.9186927255360336, 0.9912562231494283, 0.08095198952544831, 0.8904718847799314, 0.1648425030778773, 0.2772351188127936, 0.31469932405776574, 0.10489977468592192, 0.1348711388818996, 0.20367725414201765, 0.16595924411571808, 0.015087204010519826, 0.015087204010519826, 0.04526161203155948, 0.08297962205785904, 0.4526161203155948, 0.02263080601577974, 0.04281793053525712, 0.9419944717756566, 0.7378272987585579, 0.011179201496341787, 0.011179201496341787, 0.2347632314231775, 0.2761024335369099, 0.4859402830249614, 0.2319260441710043, 0.0466073860587723, 0.932147721175446, 0.991951398958735, 0.06279949443961298, 0.1412988624891292, 0.5887452603713718, 0.03924968402475811, 0.07849936804951622, 0.09419924165941948, 0.9783299662219471, 0.9785056619466088, 0.9897372038470075, 0.997043081361403, 0.1572073061324922, 0.11790547959936915, 0.019650913266561525, 0.03930182653312305, 0.0786036530662461, 0.5895273979968457, 0.18054183314229943, 0.09027091657114972, 0.07221673325691977, 0.6499505993122779, 0.9848499969052334, 0.9940124699177849, 0.03895067055093568, 0.9348160932224562, 0.6254883130925042, 0.34834887590690233, 0.025019532523700167, 0.07678241124970779, 0.07678241124970779, 0.8350087223405722, 0.009597801406213474, 0.9818922355006178, 0.8957463356362989, 0.0866851292551257, 0.9823633165425406, 0.6008413139655963, 0.16438111419813484, 0.17004942848082913, 0.06235145710963735, 0.9847934675190947, 0.9851700798685578, 1.0004816670045198, 0.1921333588643926, 0.025060872895355555, 0.008353624298451852, 0.05847537008916297, 0.3508522205349778, 0.1587188616705852, 0.20884060746129632, 0.020541630652553027, 0.2464995678306363, 0.6059781042503143, 0.13352059924159468, 0.9857659491340066, 0.9795152449384719, 0.9829069463163937, 0.97030348553603, 0.7519020402382747, 0.23350995038455735, 0.0015567330025637158, 0.0031134660051274315, 0.009340398015382294, 0.9711864044886842, 0.9946057848601153, 0.08604581799152329, 0.05258355543926423, 0.43022908995761644, 0.03346226255225906, 0.12906872698728494, 0.04780323221751294, 0.08604581799152329, 0.13384905020903623, 0.9940124699177849, 0.9936781683835864, 0.10782409879186297, 0.7952027285899894, 0.09434608644288009, 0.06262669451825106, 0.939400417773766, 1.0039612400481717, 0.9357197879849206, 0.9357197879849206, 1.005165759366906, 0.48122447867067364, 0.005941042946551526, 0.14852607366378817, 0.059410429465515266, 0.11882085893103053, 0.061390777114365774, 0.03762660532815967, 0.009901738244252544, 0.07723355830516984, 0.15525860974743763, 0.12075669647022926, 0.02587643495790627, 0.01725095663860418, 0.14663313142813553, 0.5347796557967296, 0.9959454586215066, 1.001844633600357, 0.9851700798685578, 0.971953477307373, 0.9878992742571302, 0.988461630277014, 0.9266504660753567, 0.04028915069892856, 0.4400300734682753, 0.47732075766050197, 0.007458136838445343, 0.042262775417856946, 0.022374410515336028, 0.004972091225630229, 0.007458136838445343, 0.9975343006937182, 0.9863686305178031, 0.9924348180978266, 1.0000472621012662, 0.6405513199320653, 0.3081178870381436, 0.028489109696695252, 0.011794854333026697, 0.00018145929743117994, 0.010706098548439617, 0.642517699704164, 0.22701824940474277, 0.006306062483465077, 0.027326270761682, 0.028026944370955896, 0.028026944370955896, 0.04063906933788605, 0.050167872367016794, 0.9531895749733191, 0.1789718562107483, 0.3240007741746305, 0.015428608294030024, 0.16045752625791226, 0.04320010322328407, 0.003085721658806005, 0.00617144331761201, 0.08948592810537415, 0.1789718562107483, 0.9762528401749448, 0.9792812605177802, 0.01271793844828286, 0.9989586409923183, 1.0001091957177228, 0.855841765949489, 0.1167056953567485, 0.1906134875080195, 0.4745059157114528, 0.016222424468767618, 0.052722879523494755, 0.13383500186733285, 0.008111212234383809, 0.03650045505472714, 0.08516772846102999, 0.004055606117191904, 0.9877156214204472, 0.10608704959421696, 0.00663044059963856, 0.165761014990964, 0.0331522029981928, 0.00663044059963856, 0.6763049411631331, 0.00663044059963856, 0.11292027020345527, 0.8092619364580961, 0.07528018013563685, 0.991951398958735, 0.6756880037364573, 0.07812642543202787, 0.24493690135446577, 0.1314137568546203, 0.2628275137092406, 0.09198962979823422, 0.006570687842731016, 0.5125136517330192, 0.050585913965483474, 0.859960537413219, 0.050585913965483474, 1.003481223565395, 0.954619922835103, 0.05303444015750572, 0.14039590556671566, 0.30887099224677445, 0.08423754334002939, 0.4633064883701617, 1.002410690646894, 1.000488279744276, 0.07966033741550148, 0.9028171573756834, 0.9663486849340839, 0.9845352270511171, 0.9817491607633659, 0.9918817648748506, 0.9519765986006703, 0.0453322189809843, 0.9877457846216675, 0.07963471363295455, 0.20351093483977273, 0.1327245227215909, 0.06193811060340909, 0.522049789371591, 0.9763650896242448, 0.9940124699177849, 0.17406862410492466, 0.8007156708826535, 0.017406862410492465, 0.3038742588329315, 0.12154970353317261, 0.5773610917825699, 1.0051921508590038, 0.945782961017958, 0.059111435063622375, 0.6275678229034224, 0.30681093564167317, 0.013945951620076053, 0.04183785486022815, 0.9886849497945158, 0.19662961856818348, 0.08192900773674311, 0.6226604587992477, 0.09831480928409174, 0.26546180541787295, 0.06126041663489376, 0.6330243052272355, 0.04084027775659584, 0.9857331117580547, 0.9914268998427633, 0.9823633165425406, 0.9628129988326269, 0.9959454586215066, 0.9774822813472819, 0.9863686305178031, 0.44957723956976847, 0.06750840338587578, 0.035908725205253074, 0.06032665834482517, 0.05458126231198467, 0.093362685533658, 0.1493802968538528, 0.05314491330377455, 0.035908725205253074, 0.5994299733986799, 0.11264455875948347, 0.004023019955695838, 0.02413811973417503, 0.0643683192911334, 0.19712797782909605, 0.9767613183482388, 0.997043081361403, 0.9711864044886842, 0.051177385267899105, 0.9211929348221839, 0.24505743790853324, 0.7351723137255997, 0.022277948900775748, 0.9843772442853725, 0.9863686305178031, 0.9335942640422885, 0.047876628925245565, 0.1591826527131644, 0.48209603393129785, 0.1455384253377503, 0.18192303167218787, 0.02728845475082818, 0.4228941965227187, 0.12478845143293338, 0.15945191016430377, 0.29117305334351123, 0.9637148212448698, 0.03854859284979479, 0.9761192822880894, 0.95900538594162, 0.036506793608319356, 0.004212322339421464, 0.6130244054455927, 0.060439025889002095, 0.03453658622228691, 0.08634146555571727, 0.094975612111289, 0.017268293111143456, 0.10360975866686073, 0.21827188613814344, 0.061563865321014814, 0.17349816590467812, 0.1287244456712128, 0.36938319192608887, 0.02238686011673266, 0.02238686011673266, 0.8358926840394415, 0.04399435179154955, 0.13198305537464866, 0.9181950239695498, 0.06677781992505817, 0.016694454981264543, 0.029365007774360862, 0.04404751166154129, 0.9249977448923672, 1.001443214252897, 0.026214880245173825, 0.026214880245173825, 0.13107440122586914, 0.8126612876003886, 0.9936282591599718, 0.9500501923821555, 0.054288582421837456, 0.1001822481528215, 0.9016402333753935, 0.9994418318632755, 0.8315653498021289, 0.11307603151870164, 0.015451383188890909, 0.014046711989900826, 0.025284081581821487, 0.9829110356309706, 0.01626566725630448, 0.07470026285026958, 0.896403154203235, 0.9868724738345176, 0.9946796752944386, 0.03890396086006647, 0.9336950606415954, 0.9087941961057919, 0.08794782542959277, 0.07557550187712583, 0.90690602252551, 0.9628129988326269, 1.001328865925845, 0.10005148034546277, 0.8837880763849212, 0.016675246724243795, 0.13072080129228547, 0.04902030048460705, 0.7843248077537128, 0.03268020032307137, 0.9989648443436138, 1.0008249196149974, 0.9958171425228417, 0.9781441606881256, 0.9711864044886842, 0.17719926387706084, 0.059066421292353614, 0.767863476800597, 0.6484771712219833, 0.19928013825965232, 0.08330563156755957, 0.01796788131849324, 0.0016334437562266584, 0.04736986893057309, 0.9558001809168922, 0.03869248132844264, 0.6964646639119676, 0.09888078561713119, 0.16336825449786893, 0.9975343006937182, 0.9905694678838199, 0.0044320781560797315, 0.0022160390780398657, 0.0022160390780398657, 0.999295100606421, 0.03876353214488676, 0.9303247714772822, 0.7069988339133468, 0.13804906140867246, 0.04690987523595666, 0.033507053739969046, 0.048920298460354804, 0.026135501917175855, 0.9778117927908153, 0.11738690266105248, 0.8608372861810515, 1.002410690646894, 0.0514937695550738, 0.2317219629978321, 0.7209127737710332, 0.33989369803463987, 0.029373529459783693, 0.5329197487703613, 0.041962184942548136, 0.058747058919567385, 0.9795152449384719, 0.172044421393602, 0.5756871023555143, 0.2514495389598798, 0.9465687743006072, 0.9563886394832866, 0.05459769536122203, 0.7234194635361919, 0.21839078144488813, 0.9872406664090382, 0.9876020366258493, 0.9563886394832866, 0.9516609888016483, 0.24207101694872285, 0.5520917930409469, 0.08069033898290762, 0.12315893844759584, 0.4816567270234114, 0.5166863071705685, 0.9951970239771958, 0.9894014669209507, 0.045516254515067085, 0.546195054180805, 0.07282600722410734, 0.22758127257533542, 0.045516254515067085, 0.02730975270904025, 0.03641300361205367, 0.7284667483260971, 0.24726025400102516, 0.0019020019538540398, 0.022824023446248475, 0.08004672396947184, 0.1257877090948843, 0.6632442843184809, 0.02287049256270624, 0.11435246281353119, 0.9980871948199348, 0.11299797309385537, 0.5141407775770419, 0.022599594618771073, 0.14689736502201198, 0.016949695964078304, 0.18079675695016859, 0.005649898654692768, 0.41498402464221873, 0.4589974818012419, 0.03143818368501657, 0.09431455105504971, 0.991403872434698, 0.0050581830226260095, 0.0025290915113130048, 0.6891503132746583, 0.04034050614290682, 0.030255379607180118, 0.13783006265493164, 0.053787341523875765, 0.023531961916695647, 0.030255379607180118, 0.9961189843216824, 0.9973874981605954, 0.1888193786354449, 0.8024823592006408, 0.009440968931772245, 0.9876020366258493, 0.997043081361403, 0.9781441606881256, 0.8606704015855884, 0.024590582902445382, 0.09836233160978153, 0.9795912976708179, 0.9795152449384719, 0.03246960049977547, 0.1298784019991019, 0.8117400124943869, 1.003954698255209, 0.9897416362037724, 0.9951970239771958, 0.9761192822880894, 0.9663363484507709, 0.9711864044886842, 0.9039525998531956, 0.0719672757422327, 0.020717852107612445, 0.0010904132688217077, 0.0010904132688217077, 0.9834642359071779, 0.30412196117190704, 0.4337477151140314, 0.00997121184170187, 0.24928029604254676, 0.04608106230510658, 0.875540183797025, 0.04608106230510658, 0.340498184069019, 0.6582964892001034, 0.9509475063729186, 0.047547375318645925, 0.4953018119411989, 0.07035537101437483, 0.2617219801734744, 0.011256859362299974, 0.011256859362299974, 0.022513718724599948, 0.10975437878242475, 0.022513718724599948, 0.6749106197747272, 0.101698860514, 0.2080203965059091, 0.018490701911636362, 0.9192479895306704, 0.040855466201363135, 0.040855466201363135, 0.9293619762051368, 0.07375888700040768, 0.34628921730040707, 0.6328733971352267, 0.011941007493117486, 0.9984772717172394, 0.9857331117580547, 0.988210583979659, 0.9831228720381312, 0.013945005277136612, 0.0023241675461894355, 0.09973160068822261, 0.8975844061940035, 0.5546039320109573, 0.3252307008706231, 0.06162265911232859, 0.030811329556164294, 0.030811329556164294, 0.9465687743006072, 0.9967099086422911, 0.9910341012850034, 0.9837289961971565, 0.02206504603785689, 0.02206504603785689, 0.9046668875521324, 0.02206504603785689, 0.02206504603785689, 0.019314666780563962, 0.019314666780563962, 0.3090346684890234, 0.6566986705391747, 0.15825983581195954, 0.06330393432478382, 0.7596472118974058, 0.9949550766977242, 0.9920407757869979, 0.016337143408135982, 0.980228604488159, 0.17701734472913416, 0.28322775156661467, 0.5428531905026781, 0.20237182813557805, 0.7757586745197158, 0.5412332714494972, 0.07285832500281693, 0.2081666428651912, 0.055511104764050995, 0.020816664286519123, 0.1040833214325956, 0.9761192822880894, 0.08938205907739981, 0.9065894563564838, 0.04475816640203523, 0.1541670176070102, 0.03978503680180909, 0.21881770240995, 0.5370979968244227, 0.0469729679187011, 0.9159728744146713, 0.02348648395935055, 0.48598309858817396, 0.0647977464784232, 0.0485983098588174, 0.40498591549014495, 0.87282612541051, 0.07369508182885572, 0.04836239745018656, 0.004605942614303482, 0.44992124448196547, 0.38407911114314125, 0.016460533334706054, 0.005486844444902018, 0.043894755559216146, 0.09876320000823632, 0.26304967486689473, 0.5500129565398708, 0.1873232533143038, 0.9857331117580547, 0.9906116505201449, 0.9956895552110571, 0.994344765264714, 0.06711335863730493, 0.9395870209222691, 0.9897416362037724, 0.15148524667574528, 0.012623770556312107, 0.11361393500680897, 0.2019803289009937, 0.5301983633651085, 0.9767613183482388, 0.9924275433834885, 0.9823633165425406, 1.0008249196149974, 0.96394286517488, 0.9949550766977242, 0.10476698965666502, 0.8730582471388751, 0.9818922355006178, 0.05095658483672217, 0.010191316967344434, 0.18344370541219981, 0.07133921877141104, 0.28535687508564417, 0.3872700447590885, 0.010191316967344434, 0.971953477307373, 0.9678697064636674, 0.11946323283979916, 0.3882555067293473, 0.10950796343648256, 0.08461978992819107, 0.2986580820994979, 0.9799314716292431, 0.15620899879065997, 0.018745079854879197, 0.0874770393227696, 0.6185876352110136, 0.0874770393227696, 0.03749015970975839, 0.9986640088214767, 0.48533005266365964, 0.5009858608141002, 0.06304763207187668, 0.9457144810781501, 0.30849381306156, 0.09426199843547667, 0.41132508408207996, 0.12853908877564998, 0.05998490809530333, 0.9851700798685578, 0.10692174598516423, 0.035640581995054745, 0.6415304759109853, 0.08910145498763686, 0.1247420369826916, 0.9839379724234514, 1.0070780824672587, 0.2736675140098013, 0.4367034798028745, 0.21544038336941806, 0.06987255676845991, 0.7999635855872549, 0.06120333463088809, 0.09864537464037257, 0.0007200392309516246, 0.03888211847138773, 0.9264020474985709, 0.02595184004028255, 0.047185163709604634, 0.02803865600823961, 0.869198336255428, 0.08411596802471884, 0.20967108727437087, 0.11762036603196414, 0.6162284394283339, 0.007670893436867227, 0.04602536062120336, 0.04375879256572933, 0.918934643880316, 0.04375879256572933, 1.0064988489904636, 0.9851831213908678, 0.9857331117580547, 0.11966238816636017, 0.8718259709263384, 0.995465353801944, 0.07791259677655846, 0.004328477598697692, 0.8743524749369338, 0.012985432796093077, 0.004328477598697692, 0.02164238799348846, 0.004328477598697692, 0.023334910118021, 0.0038891516863368333, 0.05444812360871566, 0.031113213490694666, 0.886726584484798, 0.9322531317652443, 0.03842875504986503, 0.0028465744481381504, 0.008539723344414451, 0.015656159464759827, 0.9696728611193544, 0.9563886394832866, 0.9887714449640734, 0.984413268032184, 0.46360163782729785, 0.007993131686677549, 0.21581455554029383, 0.3037390040937469, 0.007993131686677549, 0.9678697064636674, 0.6213566955298379, 0.30159418554957046, 0.07630696260892746, 0.13084246277130485, 0.030194414485685734, 0.07548603621421433, 0.13084246277130485, 0.02516201207140478, 0.1358748651855858, 0.06038882897137147, 0.06542123138565242, 0.3522681689996669, 0.5799457435451071, 0.024164405981046126, 0.0863014499323076, 0.04142469596750765, 0.18986318985107672, 0.07939733393772298, 0.39300962326694, 0.20861174315591127, 0.09499284732992389, 0.022351258195276207, 0.035389492142520663, 0.07636679883386038, 0.06519116973622227, 0.10430587157795564, 0.9298397938924302, 0.05595496104839403, 0.008228670742410887, 0.006582936593928709, 0.9609556686130309, 0.9818922355006178, 0.15823333527568584, 0.19672252493733916, 0.051318919548871085, 0.004276576629072591, 0.3079135172932265, 0.23307342628445618, 0.006414864943608886, 0.042765766290725905, 0.9711864044886842, 0.11373940809631251, 0.8103932826862267, 0.042652278036117194, 0.02843485202407813, 1.0001345809307587, 0.9918445390046791, 0.1013077034825514, 0.0675384689883676, 0.8104616278604112, 0.9953513104445095, 0.19154977212399144, 0.08209275948171062, 0.7114705821748253, 0.42129800911820675, 0.22934566176849125, 0.15206614530302137, 0.11217994325632724, 0.08475817934922503, 0.1988719946782021, 0.04143166555795877, 0.029002165890571138, 0.7250541472642785, 0.004143166555795877, 0.8823550975891026, 0.038363265112569676, 0.07672653022513935, 0.9860954521030909, 0.6186645788690799, 0.06172617113432996, 0.20481865876391306, 0.06172617113432996, 0.053308965979648605, 0.9996610649834132, 0.9990982771449165, 0.9983432724628221, 0.9499755184693867, 0.3508636480704399, 0.05262954721056598, 0.5613818369127038, 0.03508636480704399, 0.9958171425228417, 0.03722595994801319, 0.9306489987003298, 0.9762528401749448, 0.2764745623758184, 0.06635389497019642, 0.5529491247516368, 0.11058982495032736, 1.008387113252088, 1.0002182807443327, 0.5903032674560474, 0.2995568819926211, 0.0704839722335579, 0.03524198611677895, 1.0006517840328553, 0.996713088214163, 0.26158589536422816, 0.5138294373225911, 0.21487412833490172, 0.4480705224844686, 0.5509063801038548, 0.996565336861315, 0.998483601892047, 0.998483601892047, 0.9939943216089411, 0.13359460575484416, 0.734770331651643, 0.044531535251614726, 0.08906307050322945, 0.06511596321897345, 0.9116234850656282, 0.998890021262966, 0.9753204657744812, 0.10951940611723475, 0.012168822901914973, 0.876155248937878, 0.7524313912586297, 0.08749202223937554, 0.13998723558300086, 0.017498404447875107, 0.06941743571946762, 0.9024266643530792, 0.9763650896242448, 0.04838060836970402, 0.8708509506546723, 0.07257091255455603, 0.9068353097696942, 0.09068353097696942, 0.2924298628979341, 0.10443923674926217, 0.6005256113082575, 0.005221961837463109, 1.0024581769980485, 0.9951535476962847, 0.10844544301921427, 0.28466928792543744, 0.5828942562282767, 0.027111360754803568, 1.0001541968665557, 0.03404579240347245, 0.9532821872972286, 0.7329900374014213, 0.009162375467517766, 0.06413662827262435, 0.19240988481787308, 0.7247271332465445, 0.006773150778005089, 0.1219167140040916, 0.04741205544603562, 0.013546301556010177, 0.013546301556010177, 0.013546301556010177, 0.0609583570020458, 0.10472956207631377, 0.01745492701271896, 0.01745492701271896, 0.8552914236232291, 0.011163375080378016, 0.05581687540189008, 0.9265601316713753, 0.4249370820469114, 0.44730219162832774, 0.06709532874424916, 0.06070529743527305, 0.36373223437085084, 0.0378887744136303, 0.21975489159905573, 0.01515550976545212, 0.09093305859271271, 0.27279917577813817, 0.0252092479754509, 0.2941078930469272, 0.03361233063393453, 0.04201541329241817, 0.04201541329241817, 0.5630065381184034, 0.2984315729586421, 0.7034458505453706, 0.9956053432676748, 0.15344143764434162, 0.6367819662240177, 0.046032431293302485, 0.16494954546766724, 0.9872899359910409, 0.013596493321102358, 0.9789475191193698, 0.3273164252269019, 0.2406218044911279, 0.11854162427136448, 0.1645428516005507, 0.15038862780695494, 0.1491572436360697, 0.815392931877181, 0.02983144872721394, 0.04207099499657222, 0.9255618899245889, 0.27671738237198024, 0.6857778606609946, 0.012031190537912184, 0.02406238107582437, 0.02141386407789987, 0.824433766999145, 0.02141386407789987, 0.0963623883505494, 0.0321207961168498, 0.8779878763672367, 0.09755420848524853, 0.10355667547129997, 0.7766750660347498, 0.10355667547129997, 0.23356484777652203, 0.7525978428354599, 0.9830277020763076, 0.07634994495456143, 0.9161993394547371, 0.9894014669209507, 0.44598516925511533, 0.038839549274469504, 0.2517874228827678, 0.1540189022953101, 0.004017884407703742, 0.040178844077037416, 0.018750127235950792, 0.04285743368217324, 0.0026785896051358276, 0.9878992742571302, 0.9145948828402287, 0.08770087917646029, 0.4906567625031359, 0.4543118171325332, 0.05451741805590399, 0.956199835535677, 1.0054297487879846, 0.9886877486911531, 0.1326900565764219, 0.8403703583173389, 1.0013772983994522, 0.5985822541744885, 0.38091597992922, 0.7283730447208202, 0.12483713266477975, 0.043646065179791416, 0.010794188162744113, 0.05866406610187019, 0.03379050207467722, 0.9914268998427633, 0.1183267912563946, 0.018204121731753016, 0.03640824346350603, 0.555225712818467, 0.027306182597629524, 0.03640824346350603, 0.12742885212227112, 0.07281648692701206, 0.018204121731753016, 0.5446378043566096, 0.11811422263155388, 0.045933308801159846, 0.2952855565788847, 0.16911197881827586, 0.1352895830546207, 0.05073359364548276, 0.03382239576365517, 0.608803123745793, 0.21145439465477686, 0.6024455394881378, 0.10373234454762639, 0.007979411119048183, 0.06383528895238547, 0.011969116678572277, 0.9563886394832866, 0.1052271511162191, 0.8944307844878623, 0.988210583979659, 0.9628129988326269, 0.8953149237060554, 0.10330556811992946, 0.3634095927413534, 0.0643202819011245, 0.22833700074899196, 0.3408974940759598, 0.0032160140950562247, 1.0029333627789105, 0.9921344113104618, 0.9804078118037541, 0.6681726532184578, 0.32942465693561174, 0.0031077797824114314, 1.0004585036242497, 0.1818969982714893, 0.04547424956787233, 0.6821137435180848, 0.09094849913574465, 0.9949550766977242, 0.9648963353640302, 0.31647505509480217, 0.4381962301312646, 0.10346299878099302, 0.13997935129193173, 0.9683219284500114, 0.9914268998427633, 0.9570205859507864, 1.0024581769980485, 0.9860954521030909, 0.9872075494799831, 0.9335621976167243, 0.022227671371826768, 0.044455342743653536, 0.44228936132539387, 0.4096996189119438, 0.14432600211670749, 1.0005670726598117, 0.9997818072961919, 0.9778117927908153, 0.9682317998148415, 0.906640164661838, 0.09599719390537108, 1.0012085641443742, 0.9466500545441766, 0.054614426223702495, 0.9989586409923183, 0.9830277020763076, 0.1879369390594832, 0.1879369390594832, 0.5356202763195271, 0.07517477562379328, 0.01879369390594832, 0.36035873264800883, 0.07622973190630956, 0.09008968316200221, 0.031184890325308457, 0.10394963441769486, 0.031184890325308457, 0.1836443541379276, 0.12127457348731066, 0.006929975627846324, 0.10273632685601553, 0.6549440837070989, 0.07705224514201164, 0.1541044902840233, 0.01284204085700194, 0.22390284784176834, 0.061064413047755006, 0.33246180437111056, 0.020354804349251666, 0.35960154350344614, 0.6115337446877741, 0.23050118069000713, 0.15523548903612727, 0.9818922355006178, 0.9815655350821584, 0.9891513845432824, 0.992159526329702, 0.11519797075170125, 0.8351852879498342, 0.028799492687925313, 0.9949550766977242, 0.34868054315653335, 0.6143419093710349, 0.0332076707768127, 0.9848554810854669, 0.022574525521313473, 0.8578319698099119, 0.10158536484591063, 0.011287262760656737, 0.9889006051600204, 0.6141005593207508, 0.3592366908279491, 0.021845474442240147, 0.002427274938026683, 0.6976404185319209, 0.3028901461241792, 0.788647508322795, 0.002350663214076885, 0.10577984463345982, 0.09990318659826761, 0.002350663214076885, 0.9968271766923417, 0.11792428478922293, 0.11792428478922293, 0.7468538036650786, 0.35416456213739234, 0.4927506951476763, 0.003849614805841221, 0.015398459223364884, 0.038496148058412206, 0.09624037014603051, 0.9918817648748506, 0.9830277020763076, 0.9150424176481662, 0.08405573822870831, 0.000832235031967409, 0.999874447120734, 0.9894014669209507, 0.06312545078534829, 0.2840645285340673, 0.6470358705498199, 0.9978387564422794, 0.9940124699177849, 0.4985442230443677, 0.011776635190024434, 0.07851090126682955, 0.06280872101346364, 0.003925545063341478, 0.003925545063341478, 0.039255450633414776, 0.08243644633017104, 0.21983052354712276, 1.0054045632456423, 0.9937459961371754, 0.0025612010209721016, 0.0025612010209721016, 0.9711864044886842, 0.4483808075164663, 0.03146531982571694, 0.007866329956429234, 0.49557878725504173, 0.01573265991285847, 0.6562400520224242, 0.005229004398585054, 0.22223268693986478, 0.09935108357311602, 0.01568701319575516, 0.06842803023477578, 0.3714664498459257, 0.5571996747688885, 0.22452605978211804, 0.03742100996368634, 0.7297096942918836, 0.06258831835593907, 0.9388247753390861, 0.9818922355006178, 0.9907051721184108, 0.07211656844608885, 0.9047351314145692, 0.019668155030751505, 0.9830277020763076, 0.822460032986484, 0.08435487517810092, 0.08435487517810092, 0.8870104538783715, 0.08169833127827106, 0.035013570547830455, 0.5432227852435005, 0.30233666328031933, 0.04424438974833941, 0.05161845470639598, 0.04178636809565389, 0.014748129916113137, 0.9487496866055708, 0.015426824172448304, 0.038567060431120764, 0.9746437094422251, 1.003481223565395, 0.9906761566448412, 0.9520119419607059, 0.22470117306636686, 0.773970707228597, 0.5804596490801912, 0.12899103312893137, 0.03224775828223284, 0.1729652489683398, 0.008794843167881684, 0.020521300725057263, 0.0029316143892938952, 0.05570067339658401, 0.19752048277032813, 0.7054302956083147, 0.08465163547299777, 0.3223418188614027, 0.552585975190976, 0.046048831265914664, 0.08058545471535067, 0.18629480915965202, 0.12807768129726077, 0.5472410019064778, 0.034930276717434754, 0.10479083015230427, 0.23789480547710043, 0.7589977127126538, 0.9682317998148415, 0.9985856944274192, 0.9565529185323551, 0.9946057848601153, 0.9969992122160352, 0.010975201303715142, 0.9877681173343628, 0.1894978519638041, 0.004306769362813729, 0.008613538725627458, 0.0904421566190883, 0.19811139068943154, 0.41775662819293174, 0.0904421566190883, 0.9623865054722744, 0.29338157955416283, 0.63734619006594, 0.06069963714913714, 1.0040730921324228, 0.8070237143283646, 0.18767993356473597, 0.5660597807161594, 0.0069455187817933665, 0.09376450355421045, 0.3333849015260816, 0.3943792302172405, 0.16406175977037205, 0.0662557106764964, 0.24293760581382012, 0.1325114213529928, 1.0002295185470313, 0.8957298523280579, 0.10537998262683033, 0.9818922355006178, 0.05598025910708388, 0.26590623075864844, 0.15394571254448067, 0.44784207285667105, 0.08397038866062582, 0.9945582765898414, 0.4571695320464071, 0.2202422563143275, 0.056729066020357086, 0.1368171592255671, 0.07341408543810916, 0.05339206213680667, 0.9677925653988533, 0.1792770388839709, 0.8067466749778691, 0.8572455494744494, 0.14507232375721452, 0.63111514638794, 0.09494652644774318, 0.05585089791043717, 0.08936143665669946, 0.08936143665669946, 0.04468071832834973, 0.2966567834216616, 0.7045598606264463, 0.07363908369990524, 0.6872981145324489, 0.14727816739981048, 0.09818544493320698, 0.2179949016496667, 0.26972250543094356, 0.0738965768303955, 0.011084486524559324, 0.4249053167747741, 0.017553706335766688, 0.7723630787737342, 0.07021482534306675, 0.017553706335766688, 0.1228759443503668, 0.9837710420891496, 0.04504456221300262, 0.9008912442600523, 0.02252228110650131, 0.02252228110650131, 0.18399119120015905, 0.8101104687171182, 0.0054922743641838525, 0.7264015149425989, 0.19810950407525424, 0.06603650135841808, 0.19259559998050615, 0.03965203529010421, 0.747724094041965, 0.01699372941004466, 0.575459015074862, 0.42200327772156543, 0.0034876303943931026, 0.45665668113956753, 0.4847586307481563, 0.04215292441288316, 0.014050974804294385, 0.5520731136995558, 0.09937316046592004, 0.011041462273991116, 0.2925987502607646, 0.04968658023296002, 0.98472355229478, 0.9952881645612477, 0.9857331117580547, 0.9796391657963051, 1.003954698255209, 0.03953919917462409, 0.9489407801909782, 0.361113276135443, 0.08235916824141681, 0.5321669332522317, 0.012670641267910279, 0.012670641267910279, 1.0051921508590038, 0.9838337323415963, 0.022307410109313607, 0.022307410109313607, 0.9592186347004851, 1.0002344021277554, 0.9746922434359696, 0.020365754639364016, 0.06109726391809205, 0.06109726391809205, 0.020365754639364016, 0.04073150927872803, 0.020365754639364016, 0.1221945278361841, 0.6517041484596485, 0.34064820232383897, 0.14599208671021668, 0.06256803716152144, 0.006952004129057938, 0.4240722518725342, 0.020856012387173814, 0.13171701555557513, 0.8561606011112385, 0.1354452826014219, 0.8465330162588869, 0.9678697064636674, 0.09202786113207974, 0.8742646807547575, 0.16408520714252822, 0.35114234328501037, 0.0918877159998158, 0.10829623671406863, 0.14111327814257427, 0.14111327814257427, 0.9928906421535906, 0.39133842103341954, 0.07862507089255917, 0.1912018769432689, 0.08934667146881724, 0.04646026916378496, 0.030377868299397863, 0.0839858711806882, 0.08577280461006455, 0.37187164718528565, 0.22485262387947502, 0.004324088920759135, 0.0864817784151827, 0.29836213553238033, 0.012972266762277406, 0.13671675126917165, 0.23100416593756587, 0.10843052686865337, 0.10371615613523366, 0.41486462454093465, 0.13842803058471276, 0.8651751911544547, 0.9958171425228417, 0.5525977897555945, 0.17410615293669415, 0.030279330945512026, 0.037849163681890036, 0.007569832736378007, 0.19681565114582816, 0.9877156214204472, 0.1448983916292724, 0.8331657518683163, 0.9805462427879743, 0.9839379724234514, 0.019081067437354417, 0.15264853949883533, 0.7823237649315311, 0.047702668593386045, 0.9894014669209507, 0.6140394374757331, 0.08416739952938397, 0.2850214211335957, 0.003825790887699271, 0.011477372663097814, 0.0019128954438496356, 0.9940124699177849, 0.06374196079781774, 0.7011615687759952, 0.23372052292533174, 0.38770346475966366, 0.05347633996685016, 0.5481324846602141, 0.01336908499171254, 0.27086151286283916, 0.043337842058054264, 0.09751014463062209, 0.5525574862401919, 0.043337842058054264, 0.15528958198789625, 0.6832741607467435, 0.007764479099394813, 0.09317374919273776, 0.062115832795158504, 0.9918445390046791, 0.9711089535418274, 0.004894702386803565, 0.024473511934017825, 0.9902919424133609, 0.00836866430208474, 0.3520274258466227, 0.41086774486421385, 0.07405764290145089, 0.030434647767719546, 0.018260788660631726, 0.011159370848163833, 0.034492600803415485, 0.020289765178479698, 0.02536220647309962, 0.022318741696327665, 0.4115070794968991, 0.5780694688170724, 0.0032659292023563416, 0.006531858404712683, 0.8335648351255979, 0.033342593405023914, 0.06668518681004783, 0.06668518681004783, 0.9924275433834885, 0.11885273669293053, 0.8829060440046268, 0.4194077916079764, 0.1845394283075096, 0.036907885661501924, 0.21138152697042012, 0.010065786998591434, 0.09730260765305053, 0.040263147994365735, 0.9795152449384719, 0.72788904248097, 0.06653464739314167, 0.11843167235979218, 0.05322771791451334, 0.013306929478628335, 0.02129108716580534, 0.9361171768639647, 0.023634132895577593, 0.039047697827476024, 0.0010275709954598953, 0.9978387564422794, 0.5232103272161662, 0.05114085905120422, 0.09441389363299241, 0.18489387503127677, 0.14948866491890464, 0.4814585430034316, 0.2257686953066939, 0.1101642428906157, 0.09112350955149694, 0.001360052381365626, 0.023120890483215643, 0.06392246192418442, 0.002720104762731252, 0.43841586135442834, 0.4626043226705347, 0.06349471095477928, 0.0030235576645132986, 0.033259134309646284, 0.9924275433834885, 0.9978387564422794, 0.9897416362037724, 0.9754303786325936, 0.9815655350821584, 1.0035585685611181, 0.9867070092977837, 0.9949550766977242, 0.9959454586215066, 0.9900508538986256], \"Term\": [\"10\", \"10\", \"10\", \"10\", \"10\", \"2\", \"2\", \"2\", \"2\", \"2\", \"2\", \"2\", \"2\", \"3\", \"3\", \"3\", \"3\", \"3\", \"5\", \"5\", \"5\", \"5\", \"5\", \"54\", \"571\", \"6\", \"6\", \"666\", \"7\", \"7\", \"7\", \"7\", \"7\", \"7\", \"8\", \"8\", \"8\", \"8mm\", \"9\", \"9\", \"9\", \"aberdeen\", \"ace\", \"ace\", \"ace\", \"ace\", \"acting\", \"acting\", \"action\", \"action\", \"action\", \"action\", \"action\", \"action\", \"action\", \"action\", \"action\", \"actors\", \"adams\", \"adams\", \"adams\", \"adams\", \"adams\", \"add\", \"adults\", \"adults\", \"adults\", \"adults\", \"adventure\", \"adventure\", \"adventure\", \"adventure\", \"adventure\", \"adventure\", \"adventure\", \"advocate\", \"affecting\", \"affleck\", \"affleck\", \"affleck\", \"affleck\", \"affleck\", \"africans\", \"agent\", \"agent\", \"agent\", \"agent\", \"akiva\", \"alessa\", \"alice\", \"alice\", \"alice\", \"alice\", \"alicia\", \"alicia\", \"alien\", \"alien\", \"alien\", \"aliens\", \"aliens\", \"aliens\", \"aliens\", \"aliens\", \"aliens\", \"allen\", \"allen\", \"als\", \"alternative\", \"althea\", \"altman\", \"altman\", \"altman\", \"altmans\", \"ambassador\", \"america\", \"america\", \"america\", \"american\", \"american\", \"american\", \"american\", \"american\", \"american\", \"amidala\", \"amidst\", \"amistad\", \"amistad\", \"amusing\", \"amusing\", \"amy\", \"amy\", \"amy\", \"anaconda\", \"anaconda\", \"anaconda\", \"anakin\", \"anastasia\", \"anderson\", \"anderson\", \"anderson\", \"anderson\", \"anderson\", \"anderson\", \"andreas\", \"andromeda\", \"angels\", \"angels\", \"angels\", \"angels\", \"angels\", \"animated\", \"animated\", \"animated\", \"animated\", \"animation\", \"animation\", \"animators\", \"anna\", \"anna\", \"annie\", \"annie\", \"annie\", \"antz\", \"ape\", \"ape\", \"apes\", \"apes\", \"apprentice\", \"arab\", \"archer\", \"argento\", \"argentos\", \"ari\", \"ariel\", \"armageddon\", \"armageddon\", \"armies\", \"army\", \"army\", \"army\", \"army\", \"army\", \"arnold\", \"arnold\", \"arnold\", \"arroway\", \"art\", \"art\", \"art\", \"art\", \"art\", \"art\", \"artemus\", \"arts\", \"arts\", \"arts\", \"ass\", \"ass\", \"ass\", \"asteroid\", \"atlantis\", \"attempt\", \"attempt\", \"audience\", \"audience\", \"audience\", \"audience\", \"audio\", \"austin\", \"austin\", \"austin\", \"austin\", \"autistic\", \"babe\", \"babe\", \"babe\", \"babe\", \"babe\", \"babes\", \"back\", \"back\", \"back\", \"back\", \"back\", \"bacon\", \"bacon\", \"bacon\", \"bacon\", \"bacons\", \"bad\", \"bad\", \"bad\", \"bad\", \"bad\", \"bad\", \"bahamas\", \"bail\", \"baku\", \"bancroft\", \"band\", \"band\", \"band\", \"band\", \"banderas\", \"banderas\", \"banderas\", \"barb\", \"barrymore\", \"barrymore\", \"barrymore\", \"barrymore\", \"barrymore\", \"bateman\", \"batgirl\", \"batman\", \"batman\", \"batman\", \"batman\", \"bats\", \"bats\", \"battle\", \"battle\", \"battle\", \"battle\", \"battle\", \"beals\", \"bean\", \"bean\", \"bean\", \"beans\", \"beatrice\", \"beatty\", \"beaumarchais\", \"beautiful\", \"beautiful\", \"beautiful\", \"beavis\", \"beek\", \"begin\", \"beloved\", \"beloved\", \"beloved\", \"benigni\", \"besson\", \"bessons\", \"bessons\", \"betty\", \"betty\", \"bianca\", \"big\", \"big\", \"big\", \"big\", \"big\", \"big\", \"big\", \"bigalow\", \"biggest\", \"biggs\", \"bilko\", \"bill\", \"bill\", \"bill\", \"bill\", \"bill\", \"bill\", \"bill\", \"bill\", \"bill\", \"birch\", \"birch\", \"bischoff\", \"black\", \"black\", \"black\", \"black\", \"black\", \"black\", \"black\", \"black\", \"black\", \"black\", \"blade\", \"blade\", \"blade\", \"blade\", \"blair\", \"blair\", \"blair\", \"blair\", \"blissfully\", \"blonde\", \"blonde\", \"blonde\", \"blonde\", \"blonde\", \"blood\", \"blood\", \"blood\", \"blood\", \"blood\", \"blood\", \"blood\", \"blood\", \"boat\", \"boat\", \"boat\", \"bob\", \"bob\", \"bob\", \"bob\", \"bob\", \"bob\", \"bob\", \"bobby\", \"bobby\", \"bobby\", \"bobby\", \"bold\", \"bond\", \"bond\", \"bond\", \"boogie\", \"boogie\", \"boogie\", \"book\", \"book\", \"book\", \"book\", \"book\", \"booker\", \"boone\", \"boorman\", \"borg\", \"born\", \"born\", \"born\", \"born\", \"born\", \"bowfinger\", \"bowfinger\", \"bowie\", \"boy\", \"boy\", \"boy\", \"boy\", \"boy\", \"boy\", \"boy\", \"boyle\", \"boyle\", \"boyle\", \"bra\", \"bram\", \"branaghs\", \"brasco\", \"braveheart\", \"braveheart\", \"braveheart\", \"braveheart\", \"braveheart\", \"brean\", \"brenner\", \"briggs\", \"briggs\", \"broderick\", \"broderick\", \"broderick\", \"brooks\", \"brooks\", \"brooks\", \"brothers\", \"brothers\", \"brothers\", \"brothers\", \"brothers\", \"brothers\", \"brothers\", \"brothers\", \"brought\", \"brown\", \"brown\", \"brown\", \"brown\", \"brown\", \"brown\", \"brown\", \"brown\", \"brown\", \"bruce\", \"bruce\", \"bruce\", \"bruce\", \"bruce\", \"bruce\", \"bruce\", \"bruce\", \"bubby\", \"bugs\", \"bugs\", \"bugs\", \"bulow\", \"bulworth\", \"bulworths\", \"bunch\", \"bunch\", \"burbank\", \"butcher\", \"butcher\", \"butcher\", \"cage\", \"cage\", \"cage\", \"cage\", \"cal\", \"caligula\", \"camera\", \"camera\", \"camera\", \"camera\", \"cameron\", \"cameron\", \"cameron\", \"cameron\", \"cameron\", \"cameron\", \"cameron\", \"campaign\", \"campaign\", \"campaign\", \"campaign\", \"campaign\", \"camps\", \"capone\", \"captured\", \"captured\", \"captured\", \"car\", \"car\", \"car\", \"carefully\", \"carefully\", \"cargo\", \"carla\", \"carlito\", \"carlos\", \"carls\", \"carly\", \"carol\", \"carol\", \"carol\", \"carol\", \"carpenter\", \"carpenter\", \"carpenter\", \"carpenters\", \"carpenters\", \"carpenters\", \"carrey\", \"carreys\", \"carreys\", \"carreys\", \"carry\", \"carry\", \"carter\", \"carter\", \"carter\", \"carter\", \"carter\", \"carter\", \"case\", \"case\", \"case\", \"case\", \"cast\", \"cast\", \"cast\", \"cast\", \"cast\", \"cast\", \"caulder\", \"cauldron\", \"cauldron\", \"cavemans\", \"celebrity\", \"celebrity\", \"celebrity\", \"chad\", \"chad\", \"chan\", \"chan\", \"change\", \"chans\", \"character\", \"character\", \"character\", \"character\", \"character\", \"character\", \"characters\", \"characters\", \"characters\", \"characters\", \"characters\", \"characters\", \"charlize\", \"charlize\", \"cheerleader\", \"cheezy\", \"chicken\", \"chicken\", \"chicken\", \"chickens\", \"child\", \"child\", \"child\", \"child\", \"child\", \"child\", \"child\", \"children\", \"children\", \"children\", \"children\", \"chinese\", \"chinese\", \"chinese\", \"chinese\", \"chocolat\", \"chow\", \"chow\", \"chris\", \"chris\", \"chris\", \"chris\", \"chris\", \"chris\", \"chris\", \"chris\", \"chris\", \"chris\", \"chris\", \"chris\", \"christ\", \"christ\", \"christmas\", \"christmas\", \"christmas\", \"christmas\", \"christmas\", \"christmas\", \"christmas\", \"christmas\", \"christof\", \"chucky\", \"cindy\", \"cindy\", \"cisco\", \"city\", \"city\", \"city\", \"city\", \"city\", \"city\", \"city\", \"civil\", \"civil\", \"civil\", \"civil\", \"claiborne\", \"claires\", \"claude\", \"claude\", \"claude\", \"claw\", \"claw\", \"clinic\", \"clinic\", \"clooney\", \"clooney\", \"clooney\", \"clooney\", \"coach\", \"coach\", \"coach\", \"coach\", \"coach\", \"coen\", \"coen\", \"coens\", \"col\", \"col\", \"col\", \"cole\", \"cole\", \"cole\", \"college\", \"college\", \"college\", \"college\", \"college\", \"college\", \"college\", \"colonel\", \"colonel\", \"comedies\", \"comedies\", \"comedies\", \"comedies\", \"comedies\", \"comedy\", \"comedy\", \"comedy\", \"comedy\", \"comedy\", \"comedy\", \"comedy\", \"comet\", \"comet\", \"comic\", \"comic\", \"comic\", \"comic\", \"comic\", \"comic\", \"comic\", \"commands\", \"commodus\", \"compassion\", \"completely\", \"completely\", \"compulsive\", \"computer\", \"computer\", \"computer\", \"computer\", \"computer\", \"computer\", \"computer\", \"computer\", \"computer\", \"condor\", \"connor\", \"connor\", \"consecutive\", \"constantly\", \"contact\", \"contact\", \"controversy\", \"conventional\", \"conventional\", \"conveys\", \"cop\", \"cop\", \"cop\", \"cop\", \"cop\", \"cop\", \"cops\", \"cops\", \"cops\", \"cops\", \"cops\", \"corky\", \"corleone\", \"cosette\", \"costners\", \"counselor\", \"counselor\", \"country\", \"country\", \"country\", \"country\", \"country\", \"country\", \"court\", \"court\", \"court\", \"court\", \"courtroom\", \"courtroom\", \"courtroom\", \"crafted\", \"crafted\", \"crap\", \"crap\", \"crap\", \"craven\", \"crawford\", \"creaky\", \"creates\", \"creates\", \"creates\", \"creature\", \"creature\", \"creature\", \"creature\", \"creature\", \"crew\", \"crew\", \"crew\", \"crew\", \"crime\", \"crime\", \"crime\", \"crime\", \"criminal\", \"criminal\", \"criminal\", \"criminal\", \"critique\", \"critique\", \"critique\", \"croc\", \"crouching\", \"crow\", \"crow\", \"crow\", \"crow\", \"culture\", \"culture\", \"culture\", \"culture\", \"culture\", \"curdled\", \"cusack\", \"cusack\", \"cusack\", \"cy\", \"cyborsuit\", \"cynthia\", \"cynthia\", \"daisy\", \"daisy\", \"daisy\", \"dalai\", \"dalmatians\", \"damme\", \"dammes\", \"damon\", \"damon\", \"damon\", \"damon\", \"dance\", \"dance\", \"dance\", \"dance\", \"dance\", \"dance\", \"dantes\", \"dantes\", \"danvers\", \"dark\", \"dark\", \"dark\", \"dark\", \"dark\", \"dark\", \"dark\", \"darren\", \"darryl\", \"darryl\", \"dartagnan\", \"darth\", \"data\", \"data\", \"daughter\", \"daughter\", \"daughter\", \"daughter\", \"daughter\", \"daughter\", \"daughter\", \"daughter\", \"day\", \"day\", \"day\", \"days\", \"days\", \"days\", \"days\", \"de\", \"de\", \"de\", \"de\", \"de\", \"de\", \"death\", \"death\", \"death\", \"death\", \"death\", \"death\", \"death\", \"deceiver\", \"deedles\", \"deep\", \"deep\", \"deep\", \"degeneres\", \"deliverance\", \"demeanor\", \"demeanor\", \"deniro\", \"deniro\", \"denise\", \"denise\", \"depth\", \"der\", \"derek\", \"derek\", \"derek\", \"derek\", \"dereks\", \"describes\", \"describes\", \"destination\", \"destination\", \"destination\", \"deuce\", \"devil\", \"devil\", \"devil\", \"devils\", \"devils\", \"devils\", \"devils\", \"devlin\", \"devon\", \"dewey\", \"dewey\", \"dewitt\", \"dicaprio\", \"didnt\", \"didnt\", \"didnt\", \"diedre\", \"dillon\", \"dillon\", \"dinosaurs\", \"dinosaurs\", \"dinosaurs\", \"direction\", \"director\", \"director\", \"director\", \"dirk\", \"disaster\", \"disaster\", \"disaster\", \"disc\", \"disco\", \"disco\", \"disco\", \"disney\", \"disney\", \"disney\", \"disneys\", \"disneys\", \"disneys\", \"doesnt\", \"doesnt\", \"doesnt\", \"dog\", \"dog\", \"dog\", \"dog\", \"dog\", \"dog\", \"dog\", \"dog\", \"dog\", \"donkey\", \"dont\", \"dont\", \"doogie\", \"doubt\", \"downey\", \"downey\", \"downey\", \"dr\", \"dr\", \"dr\", \"dr\", \"dr\", \"dr\", \"dr\", \"dracula\", \"dracula\", \"driller\", \"drug\", \"drug\", \"drug\", \"drug\", \"drugs\", \"drugs\", \"drugs\", \"drunken\", \"drunken\", \"drunken\", \"duchovny\", \"duchovny\", \"dude\", \"dude\", \"dude\", \"dumb\", \"dumb\", \"dumb\", \"dumb\", \"dumb\", \"dvd\", \"dvd\", \"dvd\", \"eager\", \"earth\", \"earth\", \"earth\", \"earth\", \"earth\", \"earth\", \"easily\", \"eastwood\", \"eastwood\", \"eddie\", \"eddie\", \"eddie\", \"eddie\", \"eddie\", \"edition\", \"edition\", \"effective\", \"effective\", \"effects\", \"effects\", \"effects\", \"effects\", \"effects\", \"elizabeth\", \"elizabeth\", \"elizabeth\", \"elizabeth\", \"elizabeth\", \"elizabeth\", \"ellie\", \"ellie\", \"ellie\", \"elmore\", \"elvis\", \"elwood\", \"embodies\", \"emily\", \"emily\", \"emily\", \"emotional\", \"emotional\", \"emotional\", \"emotions\", \"emotions\", \"end\", \"end\", \"end\", \"ending\", \"ending\", \"enola\", \"ensure\", \"entire\", \"entire\", \"entrapment\", \"ephron\", \"ephron\", \"epic\", \"epic\", \"epic\", \"epic\", \"epic\", \"eruption\", \"estella\", \"estella\", \"eszterhas\", \"eternity\", \"eva\", \"eva\", \"evil\", \"evil\", \"evil\", \"evil\", \"evil\", \"evil\", \"evil\", \"evil\", \"evil\", \"evil\", \"evil\", \"evil\", \"evil\", \"evita\", \"evolution\", \"evolution\", \"existenz\", \"exorcist\", \"experience\", \"experience\", \"experience\", \"experience\", \"fable\", \"fable\", \"fact\", \"fact\", \"fact\", \"faculty\", \"fairy\", \"fairy\", \"fairy\", \"fairy\", \"falk\", \"families\", \"families\", \"family\", \"family\", \"family\", \"family\", \"family\", \"family\", \"familys\", \"familys\", \"fans\", \"fans\", \"fans\", \"fans\", \"fans\", \"fans\", \"fans\", \"fans\", \"fantasia\", \"farquaad\", \"farrelly\", \"farrellys\", \"fart\", \"fascinating\", \"fascinating\", \"fascinating\", \"fascinating\", \"fascinating\", \"fascinating\", \"fascinating\", \"father\", \"father\", \"father\", \"father\", \"father\", \"father\", \"father\", \"fbi\", \"fbi\", \"fbi\", \"featherstone\", \"fei\", \"fern\", \"fi\", \"fiction\", \"fiction\", \"fiction\", \"fidelity\", \"fight\", \"fight\", \"fight\", \"fight\", \"fight\", \"fight\", \"files\", \"files\", \"files\", \"files\", \"files\", \"files\", \"filled\", \"film\", \"film\", \"film\", \"film\", \"films\", \"films\", \"films\", \"films\", \"films\", \"films\", \"films\", \"films\", \"films\", \"final\", \"final\", \"final\", \"final\", \"final\", \"finally\", \"finds\", \"finds\", \"finds\", \"finds\", \"finds\", \"fingernail\", \"finn\", \"finn\", \"finns\", \"flanders\", \"flick\", \"flick\", \"flick\", \"flubber\", \"flubber\", \"flynt\", \"flynts\", \"follow\", \"footage\", \"footage\", \"footage\", \"footage\", \"footage\", \"footage\", \"football\", \"football\", \"forces\", \"forces\", \"forces\", \"forces\", \"forces\", \"forlani\", \"forlani\", \"forman\", \"found\", \"found\", \"francie\", \"franciss\", \"frankenheimer\", \"fraser\", \"fraser\", \"frears\", \"freddie\", \"freddy\", \"freeze\", \"freeze\", \"freeze\", \"freeze\", \"frequency\", \"frequency\", \"friends\", \"friends\", \"friends\", \"friends\", \"friends\", \"friends\", \"friends\", \"fright\", \"fright\", \"fu\", \"fuentes\", \"fugitive\", \"fugitive\", \"fugitive\", \"fun\", \"fun\", \"fun\", \"fun\", \"fun\", \"fun\", \"fun\", \"fun\", \"funniest\", \"funniest\", \"funniest\", \"funniest\", \"funny\", \"funny\", \"funny\", \"funny\", \"funny\", \"funny\", \"funny\", \"furtwangler\", \"future\", \"future\", \"future\", \"future\", \"future\", \"futuristic\", \"futuristic\", \"gabriel\", \"gabriel\", \"gabriel\", \"gabriel\", \"gadget\", \"gadget\", \"gags\", \"gags\", \"gags\", \"gags\", \"gale\", \"gangster\", \"gangster\", \"gangster\", \"gangster\", \"garofalo\", \"garth\", \"gattaca\", \"gattaca\", \"gattaca\", \"gauge\", \"gauge\", \"gavins\", \"gay\", \"gay\", \"gay\", \"gay\", \"gay\", \"gay\", \"genetic\", \"genetically\", \"genre\", \"genre\", \"genre\", \"genre\", \"genre\", \"genre\", \"george\", \"george\", \"george\", \"george\", \"geronimo\", \"ghost\", \"ghost\", \"ghost\", \"ghost\", \"ghosts\", \"ghosts\", \"giant\", \"giant\", \"giant\", \"giant\", \"giant\", \"giant\", \"gibson\", \"gibson\", \"gibson\", \"giles\", \"gillian\", \"girl\", \"girl\", \"girl\", \"girl\", \"girl\", \"girl\", \"girl\", \"girl\", \"girlfriend\", \"girlfriend\", \"girlfriend\", \"girls\", \"girls\", \"girls\", \"girls\", \"girls\", \"gladiator\", \"gladiator\", \"glen\", \"glen\", \"glenda\", \"gloria\", \"gloria\", \"gloria\", \"gloria\", \"gloria\", \"god\", \"god\", \"god\", \"god\", \"god\", \"godzilla\", \"godzilla\", \"godzillas\", \"gon\", \"gonzo\", \"good\", \"good\", \"good\", \"gordie\", \"gorilla\", \"gorilla\", \"gotcha\", \"gotham\", \"government\", \"government\", \"government\", \"government\", \"government\", \"government\", \"government\", \"government\", \"grammer\", \"grandfather\", \"grandfather\", \"granger\", \"grangers\", \"grease\", \"grease\", \"grease\", \"great\", \"great\", \"greg\", \"greg\", \"greg\", \"greg\", \"greg\", \"grier\", \"grier\", \"grinch\", \"grip\", \"groan\", \"guess\", \"guess\", \"guess\", \"guido\", \"guy\", \"guy\", \"guy\", \"guy\", \"guy\", \"guy\", \"guys\", \"guys\", \"guys\", \"guys\", \"guys\", \"guys\", \"guys\", \"gwyneth\", \"gwyneth\", \"haley\", \"halloween\", \"halloween\", \"halloween\", \"halloween\", \"hamlet\", \"hamlet\", \"hammers\", \"hanks\", \"hanks\", \"hanks\", \"hanks\", \"har\", \"hard\", \"harlin\", \"harmon\", \"harry\", \"harry\", \"harry\", \"harry\", \"harrys\", \"harrys\", \"hattie\", \"haunted\", \"haunted\", \"haunting\", \"haunting\", \"haunting\", \"hawtrey\", \"heartfelt\", \"heartfelt\", \"heaven\", \"heaven\", \"heaven\", \"heaven\", \"heaven\", \"heckerling\", \"hed\", \"hed\", \"hed\", \"hedwig\", \"heist\", \"helen\", \"helen\", \"helen\", \"helen\", \"helen\", \"helgenberger\", \"hell\", \"hell\", \"hell\", \"hercules\", \"hero\", \"hero\", \"hero\", \"hero\", \"hero\", \"hero\", \"hero\", \"hero\", \"hero\", \"hes\", \"hes\", \"hes\", \"hes\", \"hes\", \"hes\", \"hes\", \"hewitt\", \"hewitt\", \"heyst\", \"high\", \"high\", \"high\", \"high\", \"highlander\", \"highlander\", \"hilarious\", \"hilarious\", \"hilarious\", \"hilarious\", \"hilarious\", \"hilary\", \"historical\", \"historical\", \"historical\", \"historical\", \"history\", \"history\", \"history\", \"history\", \"hockley\", \"hogarth\", \"hollow\", \"hollow\", \"hollow\", \"hollywood\", \"hollywood\", \"hollywood\", \"hollywood\", \"hollywood\", \"hollywood\", \"holocaust\", \"home\", \"home\", \"home\", \"home\", \"home\", \"home\", \"home\", \"home\", \"home\", \"homer\", \"homer\", \"hong\", \"hopkins\", \"hopkins\", \"hopkins\", \"hopkins\", \"hopkins\", \"horizon\", \"horizon\", \"horizon\", \"horizon\", \"horizon\", \"horned\", \"horror\", \"horror\", \"horror\", \"horror\", \"horror\", \"horror\", \"horror\", \"horror\", \"horse\", \"horse\", \"horse\", \"horse\", \"horse\", \"horse\", \"horse\", \"horse\", \"horseman\", \"hotel\", \"hotel\", \"hotel\", \"hour\", \"hour\", \"hour\", \"hour\", \"house\", \"house\", \"house\", \"house\", \"house\", \"hrundi\", \"hubbard\", \"huh\", \"huh\", \"hulot\", \"human\", \"human\", \"human\", \"human\", \"human\", \"human\", \"human\", \"humans\", \"humans\", \"humans\", \"humans\", \"humans\", \"humbert\", \"humbert\", \"humor\", \"humor\", \"humor\", \"humor\", \"humor\", \"humor\", \"humor\", \"humor\", \"hunting\", \"hunting\", \"hunting\", \"husband\", \"husband\", \"husband\", \"husband\", \"husband\", \"hush\", \"ichabod\", \"icky\", \"id\", \"id\", \"id\", \"idea\", \"ideals\", \"idiot\", \"idiot\", \"idiot\", \"idiotic\", \"idiotic\", \"idiotic\", \"im\", \"im\", \"im\", \"im\", \"im\", \"images\", \"images\", \"images\", \"impact\", \"impact\", \"impact\", \"impact\", \"inch\", \"inch\", \"inch\", \"including\", \"including\", \"inherently\", \"insanity\", \"insurrection\", \"interest\", \"interesting\", \"interesting\", \"intergalactic\", \"involvement\", \"irene\", \"irene\", \"ironside\", \"irresistible\", \"irresistible\", \"island\", \"island\", \"island\", \"island\", \"island\", \"island\", \"island\", \"island\", \"isnt\", \"isnt\", \"isnt\", \"isnt\", \"ivy\", \"ivy\", \"jack\", \"jack\", \"jack\", \"jack\", \"jack\", \"jack\", \"jack\", \"jack\", \"jackal\", \"jackie\", \"jackie\", \"jackie\", \"jackie\", \"jackson\", \"jackson\", \"jackson\", \"jackson\", \"jackson\", \"jackson\", \"jackson\", \"jakob\", \"james\", \"james\", \"james\", \"james\", \"james\", \"james\", \"jar\", \"jar\", \"jarmusch\", \"javert\", \"jawbreaker\", \"jaws\", \"jaws\", \"jaws\", \"jay\", \"jay\", \"jay\", \"jb\", \"jeans\", \"jedi\", \"jedi\", \"jennifer\", \"jennifer\", \"jennifer\", \"jeopardy\", \"jericho\", \"jerome\", \"jerome\", \"jet\", \"jet\", \"jim\", \"jim\", \"jim\", \"jimmie\", \"jjaks\", \"joaquin\", \"joblo\", \"joblo\", \"joe\", \"joe\", \"joe\", \"joe\", \"joe\", \"joe\", \"joel\", \"joel\", \"joel\", \"joel\", \"joel\", \"john\", \"john\", \"john\", \"john\", \"john\", \"john\", \"john\", \"joke\", \"joke\", \"jokes\", \"jokes\", \"jokes\", \"jordan\", \"jordan\", \"josie\", \"joss\", \"journey\", \"journey\", \"journey\", \"journey\", \"jovovich\", \"juan\", \"judd\", \"judd\", \"judd\", \"julia\", \"julia\", \"julia\", \"julia\", \"julia\", \"julie\", \"julie\", \"julie\", \"julie\", \"jurassic\", \"jurassic\", \"jurassic\", \"jurassic\", \"jurassic\", \"jurassic\", \"kaplan\", \"karen\", \"karen\", \"karla\", \"kate\", \"kate\", \"kate\", \"kate\", \"kate\", \"kelly\", \"kelly\", \"kelly\", \"kelly\", \"kenneth\", \"kenneth\", \"kenneth\", \"kenneth\", \"kenobi\", \"kermit\", \"kersey\", \"kevin\", \"kevin\", \"kevin\", \"kevin\", \"kevin\", \"kevin\", \"kids\", \"kids\", \"kids\", \"kids\", \"kids\", \"kids\", \"kill\", \"kill\", \"kill\", \"kill\", \"killer\", \"killer\", \"killer\", \"killer\", \"kinda\", \"kinda\", \"kinda\", \"kinda\", \"king\", \"king\", \"king\", \"king\", \"king\", \"king\", \"king\", \"king\", \"kings\", \"kings\", \"kings\", \"kings\", \"kings\", \"kings\", \"kip\", \"kissed\", \"kissed\", \"knock\", \"knock\", \"knock\", \"knock\", \"kong\", \"kong\", \"kong\", \"krippendorf\", \"krippendorfs\", \"kruger\", \"kung\", \"kurtz\", \"kwai\", \"lama\", \"lambeau\", \"lambert\", \"lambert\", \"lame\", \"lame\", \"lame\", \"landscape\", \"lane\", \"lane\", \"lane\", \"lara\", \"lara\", \"larry\", \"larry\", \"larry\", \"larry\", \"las\", \"las\", \"las\", \"las\", \"late\", \"laugh\", \"laugh\", \"laugh\", \"laughing\", \"laughing\", \"laughing\", \"laughing\", \"laughing\", \"laughs\", \"laughs\", \"laughs\", \"laughs\", \"laughs\", \"laurence\", \"lawyer\", \"lawyer\", \"lawyer\", \"lawyer\", \"lawyers\", \"lazard\", \"lead\", \"lead\", \"leader\", \"leader\", \"leader\", \"leader\", \"leader\", \"leader\", \"league\", \"league\", \"league\", \"league\", \"league\", \"lebowski\", \"lebowskis\", \"leder\", \"lee\", \"lee\", \"lee\", \"lee\", \"lee\", \"lee\", \"lee\", \"lee\", \"legal\", \"legal\", \"legal\", \"legend\", \"legend\", \"legend\", \"legend\", \"legend\", \"leila\", \"lemmon\", \"lemmon\", \"lemmons\", \"leo\", \"leo\", \"leo\", \"leoni\", \"lesbianism\", \"lestat\", \"level\", \"level\", \"levinson\", \"levy\", \"li\", \"li\", \"libby\", \"libby\", \"life\", \"life\", \"life\", \"life\", \"life\", \"liotta\", \"liu\", \"lizard\", \"lizard\", \"lomax\", \"lombardo\", \"loneliness\", \"long\", \"long\", \"long\", \"loser\", \"loser\", \"loser\", \"loser\", \"love\", \"love\", \"love\", \"love\", \"love\", \"love\", \"loveless\", \"lucas\", \"lucas\", \"lucas\", \"lucas\", \"lucinda\", \"lucy\", \"luis\", \"luis\", \"lumumba\", \"lynch\", \"lynch\", \"lynch\", \"macdonald\", \"mack\", \"maclachlan\", \"macpherson\", \"maddy\", \"made\", \"made\", \"made\", \"made\", \"made\", \"magruder\", \"main\", \"make\", \"make\", \"make\", \"make\", \"make\", \"makes\", \"making\", \"making\", \"making\", \"malcolm\", \"malcolm\", \"malcolm\", \"malicious\", \"malick\", \"malkovich\", \"malkovich\", \"malkovich\", \"malkovich\", \"mamet\", \"mamets\", \"man\", \"man\", \"man\", \"man\", \"man\", \"mandingo\", \"marg\", \"margaret\", \"margaret\", \"margaret\", \"mariah\", \"marie\", \"marie\", \"marriage\", \"marriage\", \"married\", \"married\", \"married\", \"married\", \"married\", \"married\", \"married\", \"married\", \"marry\", \"marry\", \"marry\", \"mars\", \"mars\", \"marshals\", \"martial\", \"martial\", \"martians\", \"marty\", \"marty\", \"mary\", \"mary\", \"mary\", \"mary\", \"mary\", \"master\", \"master\", \"master\", \"master\", \"master\", \"master\", \"master\", \"master\", \"matilda\", \"matilda\", \"matrix\", \"matrix\", \"matrix\", \"matrix\", \"matt\", \"matt\", \"matt\", \"matthau\", \"matthau\", \"maul\", \"max\", \"max\", \"max\", \"max\", \"max\", \"max\", \"maximus\", \"maxwell\", \"mcdonald\", \"mcnaughton\", \"medical\", \"medical\", \"medical\", \"medical\", \"medical\", \"medical\", \"meg\", \"meg\", \"meg\", \"meg\", \"melvin\", \"melvins\", \"memphis\", \"memphis\", \"men\", \"men\", \"men\", \"menace\", \"menace\", \"menace\", \"menace\", \"mentality\", \"mermaid\", \"mermaid\", \"merton\", \"message\", \"message\", \"message\", \"message\", \"metro\", \"mewes\", \"mib\", \"mike\", \"mike\", \"mike\", \"mike\", \"mike\", \"mike\", \"mike\", \"military\", \"military\", \"military\", \"military\", \"milla\", \"millie\", \"milos\", \"milton\", \"minutes\", \"minutes\", \"minutes\", \"minutes\", \"minutes\", \"mir\", \"miserables\", \"mission\", \"mission\", \"mission\", \"mission\", \"mission\", \"mission\", \"mission\", \"mission\", \"mississippi\", \"mitch\", \"mob\", \"mob\", \"mob\", \"modine\", \"modine\", \"mojo\", \"momma\", \"mommas\", \"mona\", \"money\", \"money\", \"money\", \"money\", \"money\", \"money\", \"money\", \"money\", \"money\", \"monster\", \"monster\", \"monster\", \"monster\", \"monster\", \"monster\", \"montreal\", \"moreau\", \"morgue\", \"moron\", \"morrisons\", \"mortensen\", \"moses\", \"moses\", \"mother\", \"mother\", \"mother\", \"mother\", \"mother\", \"mother\", \"mother\", \"motss\", \"motta\", \"moulin\", \"move\", \"movie\", \"movie\", \"movie\", \"movie\", \"movie\", \"movie\", \"movies\", \"movies\", \"movies\", \"movies\", \"movies\", \"movies\", \"movies\", \"mpaa\", \"mpaa\", \"mr\", \"mr\", \"mr\", \"mr\", \"mr\", \"mr\", \"mr\", \"mr\", \"mr\", \"mst3k\", \"mulan\", \"mulan\", \"mulans\", \"mulder\", \"mummy\", \"mummy\", \"murder\", \"murder\", \"murder\", \"murder\", \"murder\", \"murder\", \"murder\", \"murder\", \"murder\", \"muresan\", \"murphy\", \"murphy\", \"murphy\", \"murphy\", \"murphy\", \"murphy\", \"murphy\", \"murray\", \"murray\", \"murray\", \"mushu\", \"music\", \"music\", \"music\", \"musical\", \"musical\", \"musical\", \"musical\", \"musical\", \"musicals\", \"musicals\", \"musicals\", \"musketeer\", \"musketeers\", \"musketeers\", \"myers\", \"myers\", \"myers\", \"myers\", \"naboo\", \"nathan\", \"nazi\", \"nazi\", \"nazis\", \"nbsp\", \"ned\", \"negotiator\", \"nello\", \"nello\", \"nicolas\", \"nights\", \"nights\", \"nights\", \"nights\", \"nights\", \"nikita\", \"nikki\", \"niro\", \"niro\", \"niro\", \"noir\", \"noir\", \"noir\", \"nomi\", \"notting\", \"notting\", \"nuclear\", \"nuclear\", \"nuclear\", \"nuclear\", \"obi\", \"ocean\", \"ocean\", \"ocean\", \"ocean\", \"october\", \"october\", \"october\", \"october\", \"odette\", \"officially\", \"onegin\", \"oops\", \"orchestra\", \"ordell\", \"ordells\", \"original\", \"original\", \"original\", \"original\", \"original\", \"original\", \"original\", \"original\", \"original\", \"oscar\", \"oscar\", \"oscar\", \"oscar\", \"oscar\", \"oscar\", \"osment\", \"osmosis\", \"osnard\", \"owens\", \"owens\", \"pain\", \"pain\", \"pain\", \"palmetto\", \"palminteri\", \"paltrow\", \"paltrow\", \"parents\", \"parents\", \"parents\", \"parents\", \"parents\", \"park\", \"park\", \"park\", \"park\", \"parole\", \"parole\", \"parrot\", \"part\", \"part\", \"part\", \"partner\", \"partner\", \"partner\", \"partner\", \"partner\", \"partner\", \"partner\", \"party\", \"party\", \"party\", \"party\", \"party\", \"party\", \"party\", \"passengers\", \"passengers\", \"passengers\", \"passion\", \"passion\", \"passion\", \"patch\", \"patch\", \"patch\", \"patchs\", \"patients\", \"patients\", \"patients\", \"patients\", \"patlabor\", \"paulie\", \"paulie\", \"payback\", \"payback\", \"peebles\", \"people\", \"people\", \"people\", \"people\", \"people\", \"performances\", \"performances\", \"perry\", \"perry\", \"pfeiffer\", \"phantom\", \"phillippe\", \"phillippe\", \"philosophy\", \"philosophy\", \"phoenix\", \"phoenix\", \"pic\", \"picard\", \"pie\", \"pie\", \"pie\", \"pig\", \"pig\", \"pig\", \"pig\", \"pimp\", \"pimps\", \"pinkett\", \"pissed\", \"pitillo\", \"pitt\", \"pitt\", \"pitt\", \"place\", \"place\", \"place\", \"place\", \"place\", \"place\", \"placid\", \"planet\", \"planet\", \"planet\", \"planet\", \"plates\", \"play\", \"play\", \"play\", \"play\", \"played\", \"pleasantville\", \"pleasantville\", \"plot\", \"plot\", \"plot\", \"plot\", \"plot\", \"plot\", \"poachers\", \"poison\", \"poison\", \"pokemon\", \"poker\", \"poker\", \"poker\", \"police\", \"police\", \"police\", \"police\", \"police\", \"polish\", \"political\", \"political\", \"political\", \"pollock\", \"popped\", \"porn\", \"porn\", \"porn\", \"poseidon\", \"postal\", \"posturing\", \"powell\", \"power\", \"power\", \"power\", \"power\", \"powers\", \"powers\", \"prank\", \"prescott\", \"president\", \"president\", \"president\", \"president\", \"president\", \"president\", \"president\", \"pretty\", \"pretty\", \"pretty\", \"pretty\", \"princess\", \"princess\", \"princess\", \"princess\", \"princess\", \"prinze\", \"prison\", \"prison\", \"prison\", \"prison\", \"prison\", \"prison\", \"prison\", \"private\", \"private\", \"private\", \"private\", \"problem\", \"problem\", \"problem\", \"production\", \"production\", \"production\", \"production\", \"production\", \"production\", \"production\", \"psychlo\", \"psychlos\", \"pulp\", \"pulp\", \"pulp\", \"pupil\", \"quarterback\", \"quasi\", \"quentin\", \"quentin\", \"quentin\", \"qui\", \"quilt\", \"racism\", \"racism\", \"racism\", \"raider\", \"rains\", \"ramis\", \"rampling\", \"ramsey\", \"raptors\", \"real\", \"real\", \"real\", \"real\", \"real\", \"realities\", \"reality\", \"reality\", \"reality\", \"reality\", \"redford\", \"redford\", \"redford\", \"reese\", \"reese\", \"reindeer\", \"reindeer\", \"relationship\", \"relationship\", \"relationship\", \"relationship\", \"relationship\", \"relationship\", \"relationship\", \"relationship\", \"release\", \"release\", \"release\", \"release\", \"religion\", \"religion\", \"religion\", \"religious\", \"religious\", \"rent\", \"rent\", \"rent\", \"reservoir\", \"respectability\", \"respects\", \"rest\", \"rest\", \"rest\", \"revelation\", \"revelation\", \"review\", \"review\", \"review\", \"review\", \"review\", \"reza\", \"rhames\", \"rhea\", \"rhys\", \"richards\", \"richards\", \"richards\", \"richards\", \"richards\", \"rick\", \"rick\", \"rick\", \"rick\", \"ricky\", \"ricky\", \"ricky\", \"rimbaud\", \"rings\", \"ripley\", \"ripley\", \"rising\", \"rising\", \"rising\", \"robbie\", \"robbie\", \"robert\", \"robert\", \"robert\", \"robert\", \"robert\", \"robert\", \"roberto\", \"roberts\", \"roberts\", \"robin\", \"robin\", \"robin\", \"robin\", \"robin\", \"robocop\", \"robocop\", \"robocop\", \"rock\", \"rock\", \"rock\", \"rock\", \"role\", \"role\", \"role\", \"role\", \"romance\", \"romance\", \"romance\", \"romance\", \"romance\", \"romance\", \"romantic\", \"romantic\", \"romantic\", \"romulus\", \"romy\", \"ronin\", \"ronna\", \"roper\", \"roper\", \"rosalba\", \"rose\", \"rose\", \"rose\", \"rose\", \"rose\", \"rounders\", \"rourke\", \"rowlands\", \"rubell\", \"rudy\", \"rudys\", \"rumble\", \"rumble\", \"rural\", \"rush\", \"rush\", \"rush\", \"rush\", \"rush\", \"rush\", \"rush\", \"russ\", \"russells\", \"ryan\", \"ryan\", \"ryan\", \"ryan\", \"ryan\", \"sagemiller\", \"sam\", \"sam\", \"sam\", \"sam\", \"sam\", \"sam\", \"sams\", \"sandler\", \"sandler\", \"sant\", \"sant\", \"saving\", \"saving\", \"saving\", \"saving\", \"saving\", \"sawa\", \"scare\", \"scare\", \"scare\", \"scare\", \"scare\", \"scarface\", \"scarlett\", \"scary\", \"scary\", \"scary\", \"scary\", \"scene\", \"scene\", \"scene\", \"scene\", \"scene\", \"scenes\", \"scenes\", \"scenes\", \"schindlers\", \"schindlers\", \"schindlers\", \"school\", \"school\", \"school\", \"school\", \"school\", \"schools\", \"schools\", \"schools\", \"schrader\", \"schumacher\", \"schumachers\", \"schwarzenegger\", \"schwarzenegger\", \"sci\", \"science\", \"science\", \"science\", \"science\", \"science\", \"science\", \"science\", \"scream\", \"scream\", \"scream\", \"scream\", \"scream\", \"screen\", \"screen\", \"screen\", \"screen\", \"screen\", \"scully\", \"scummy\", \"seagal\", \"seahaven\", \"sean\", \"sean\", \"sean\", \"sean\", \"sean\", \"segal\", \"sense\", \"sense\", \"sense\", \"sequel\", \"sequel\", \"sequel\", \"sequel\", \"sequel\", \"sequel\", \"sequel\", \"sequel\", \"sequel\", \"sequences\", \"sequences\", \"sequences\", \"sequences\", \"sequences\", \"sequences\", \"series\", \"series\", \"series\", \"series\", \"series\", \"series\", \"series\", \"series\", \"set\", \"set\", \"set\", \"set\", \"sethe\", \"sewell\", \"sex\", \"sex\", \"sex\", \"sex\", \"sex\", \"sex\", \"sex\", \"sex\", \"shackleton\", \"shakespeare\", \"shakespeare\", \"shakespeare\", \"shakespeare\", \"shakespeares\", \"shandling\", \"shane\", \"shane\", \"shane\", \"shanghai\", \"shark\", \"shark\", \"shark\", \"shes\", \"shes\", \"shes\", \"shes\", \"shes\", \"ship\", \"ship\", \"ship\", \"ship\", \"ship\", \"shit\", \"shit\", \"shit\", \"shortcomings\", \"show\", \"show\", \"show\", \"show\", \"show\", \"showing\", \"shows\", \"shrek\", \"shyamalan\", \"sidney\", \"sidney\", \"sidney\", \"sidney\", \"sidneys\", \"siege\", \"siege\", \"sil\", \"silent\", \"silent\", \"silent\", \"silent\", \"silverstone\", \"similar\", \"simon\", \"simon\", \"simon\", \"simon\", \"simons\", \"sims\", \"singer\", \"singer\", \"singer\", \"sister\", \"sister\", \"sixth\", \"skarsg\", \"skarsgard\", \"skinhead\", \"skip\", \"skip\", \"skip\", \"skip\", \"skywalker\", \"skywalker\", \"slade\", \"slam\", \"slasher\", \"slasher\", \"slasher\", \"slave\", \"slave\", \"slave\", \"slave\", \"slavery\", \"slavery\", \"slayer\", \"sleepy\", \"sleepy\", \"sleepy\", \"sliding\", \"sliding\", \"smith\", \"smith\", \"smith\", \"smith\", \"smithee\", \"smiths\", \"snake\", \"snake\", \"snake\", \"snake\", \"snowman\", \"snuff\", \"snuff\", \"social\", \"social\", \"social\", \"social\", \"society\", \"society\", \"society\", \"society\", \"society\", \"society\", \"society\", \"society\", \"soldier\", \"soldier\", \"soldier\", \"soldier\", \"soldiers\", \"soldiers\", \"soldiers\", \"son\", \"son\", \"son\", \"son\", \"song\", \"song\", \"song\", \"song\", \"song\", \"song\", \"songs\", \"songs\", \"songs\", \"songs\", \"songs\", \"songs\", \"soul\", \"soul\", \"soviet\", \"space\", \"space\", \"space\", \"space\", \"spade\", \"spawn\", \"spawn\", \"special\", \"special\", \"special\", \"special\", \"special\", \"species\", \"species\", \"species\", \"sphere\", \"sphere\", \"spice\", \"spice\", \"spice\", \"spice\", \"spielberg\", \"spielberg\", \"spielberg\", \"spielberg\", \"spielberg\", \"spielbergs\", \"spielbergs\", \"spoof\", \"spoof\", \"spoof\", \"squad\", \"squad\", \"squid\", \"stab\", \"stab\", \"stalker\", \"star\", \"star\", \"star\", \"star\", \"star\", \"star\", \"star\", \"star\", \"star\", \"stargher\", \"starship\", \"starship\", \"states\", \"states\", \"states\", \"stellan\", \"stephane\", \"stephens\", \"stigmata\", \"stigmata\", \"stiles\", \"stiller\", \"stiller\", \"story\", \"story\", \"story\", \"story\", \"story\", \"story\", \"strawberry\", \"student\", \"student\", \"student\", \"student\", \"student\", \"student\", \"student\", \"student\", \"student\", \"studio\", \"studio\", \"studio\", \"studio\", \"stunts\", \"stunts\", \"stunts\", \"stunts\", \"stunts\", \"stupid\", \"stupid\", \"stupid\", \"stupid\", \"stupid\", \"stupid\", \"stupidest\", \"stupidity\", \"stupidity\", \"subtitles\", \"succession\", \"sucks\", \"sucks\", \"summer\", \"summer\", \"summer\", \"summer\", \"summer\", \"supergirl\", \"superheroes\", \"supernova\", \"supposed\", \"supposed\", \"supposed\", \"surprise\", \"susan\", \"susan\", \"susan\", \"susan\", \"suzanne\", \"suzie\", \"sweet\", \"sweet\", \"sweet\", \"sweet\", \"sweetback\", \"sweethearts\", \"swingers\", \"syd\", \"symbolic\", \"symbolism\", \"sympathy\", \"sympathy\", \"sympathy\", \"tale\", \"tale\", \"tale\", \"talent\", \"talented\", \"tanker\", \"taran\", \"tarantino\", \"tarantino\", \"tarantinos\", \"tarzan\", \"tarzan\", \"tatooine\", \"tatopoulos\", \"teacher\", \"teacher\", \"teacher\", \"teacher\", \"teacher\", \"team\", \"team\", \"team\", \"team\", \"team\", \"team\", \"team\", \"team\", \"team\", \"technology\", \"technology\", \"technology\", \"technology\", \"technology\", \"teen\", \"teen\", \"teen\", \"teen\", \"teen\", \"television\", \"television\", \"television\", \"temper\", \"tenebrae\", \"terl\", \"terrorism\", \"terrorists\", \"terrorists\", \"terrorists\", \"thai\", \"theatrical\", \"theatrical\", \"theatrical\", \"thematic\", \"themes\", \"themes\", \"themes\", \"themes\", \"theron\", \"theyre\", \"theyre\", \"theyre\", \"theyre\", \"thing\", \"thing\", \"things\", \"things\", \"things\", \"things\", \"things\", \"thompsons\", \"thornton\", \"thornton\", \"thornton\", \"thriller\", \"thriller\", \"thriller\", \"thriller\", \"thriller\", \"thriller\", \"tibbs\", \"tidal\", \"time\", \"time\", \"time\", \"times\", \"tingle\", \"titanic\", \"titanic\", \"titanic\", \"titus\", \"toback\", \"tom\", \"tom\", \"tom\", \"tom\", \"tom\", \"tom\", \"tom\", \"tom\", \"tom\", \"tomb\", \"top\", \"top\", \"top\", \"tornadoes\", \"tough\", \"tough\", \"tough\", \"tough\", \"tough\", \"town\", \"town\", \"town\", \"town\", \"town\", \"toy\", \"toy\", \"toy\", \"toys\", \"toys\", \"toys\", \"trainspotting\", \"trainspotting\", \"transforms\", \"treasure\", \"trek\", \"trek\", \"trek\", \"tremors\", \"tribe\", \"tribe\", \"tribe\", \"troopers\", \"troopers\", \"troopers\", \"true\", \"true\", \"true\", \"true\", \"true\", \"true\", \"truman\", \"truman\", \"truman\", \"trumans\", \"tsui\", \"tswsm\", \"tunney\", \"turkey\", \"turkey\", \"tv\", \"tv\", \"tv\", \"tv\", \"tv\", \"tv\", \"tv\", \"tv\", \"twister\", \"twister\", \"twister\", \"unfunny\", \"unfunny\", \"unfunny\", \"unfunny\", \"united\", \"united\", \"united\", \"united\", \"united\", \"urban\", \"urban\", \"vader\", \"valek\", \"valentine\", \"valjean\", \"vampire\", \"vampires\", \"vampires\", \"van\", \"van\", \"van\", \"van\", \"van\", \"van\", \"van\", \"varsity\", \"vegas\", \"vegas\", \"vegas\", \"ventura\", \"verhoeven\", \"verhoeven\", \"version\", \"version\", \"version\", \"version\", \"video\", \"video\", \"video\", \"video\", \"video\", \"viewers\", \"views\", \"views\", \"vignettes\", \"vincent\", \"vincent\", \"vincent\", \"vincent\", \"vincent\", \"ving\", \"violence\", \"violence\", \"violence\", \"violence\", \"violence\", \"violence\", \"violin\", \"virtual\", \"virtual\", \"virus\", \"virus\", \"visual\", \"visual\", \"visual\", \"visual\", \"visual\", \"visual\", \"visually\", \"visually\", \"visuals\", \"visuals\", \"visuals\", \"visuals\", \"voice\", \"voice\", \"voice\", \"voice\", \"voice\", \"voiced\", \"voiced\", \"voiced\", \"voiced\", \"voiced\", \"volcano\", \"wan\", \"wan\", \"wan\", \"wan\", \"war\", \"war\", \"war\", \"warrior\", \"warrior\", \"warrior\", \"wars\", \"wars\", \"wars\", \"wars\", \"wasnt\", \"wasnt\", \"wasnt\", \"waste\", \"waste\", \"waste\", \"waste\", \"water\", \"water\", \"water\", \"water\", \"water\", \"waterworld\", \"wayans\", \"wayland\", \"wcw\", \"weathers\", \"webb\", \"webb\", \"wedding\", \"wedding\", \"wedding\", \"wedding\", \"wedding\", \"weddings\", \"weller\", \"welles\", \"welles\", \"welles\", \"wen\", \"werewolf\", \"wes\", \"wes\", \"wes\", \"wes\", \"wes\", \"wes\", \"wes\", \"wes\", \"west\", \"west\", \"west\", \"west\", \"west\", \"west\", \"whale\", \"whale\", \"wheres\", \"wheres\", \"whip\", \"whisperer\", \"whisperer\", \"white\", \"white\", \"white\", \"white\", \"white\", \"white\", \"whodunit\", \"wife\", \"wife\", \"wife\", \"wife\", \"wife\", \"wife\", \"wife\", \"wife\", \"wild\", \"wild\", \"wild\", \"wild\", \"wild\", \"wild\", \"williams\", \"williams\", \"williams\", \"williams\", \"williams\", \"williamson\", \"williamson\", \"williamsons\", \"willis\", \"willis\", \"willis\", \"willis\", \"willis\", \"willis\", \"winkler\", \"winslet\", \"winslet\", \"wisecracks\", \"wiseguy\", \"witch\", \"witch\", \"witch\", \"witch\", \"witt\", \"woman\", \"woman\", \"woman\", \"woman\", \"woman\", \"woman\", \"wonderland\", \"wong\", \"wong\", \"wong\", \"woo\", \"woo\", \"woo\", \"woo\", \"woods\", \"woods\", \"woods\", \"woods\", \"woods\", \"woody\", \"woody\", \"woody\", \"woody\", \"woody\", \"woodys\", \"work\", \"work\", \"work\", \"works\", \"works\", \"world\", \"world\", \"world\", \"world\", \"world\", \"world\", \"world\", \"world\", \"world\", \"world\", \"worst\", \"worst\", \"worst\", \"worst\", \"wow\", \"wow\", \"wow\", \"wow\", \"wrestler\", \"wrestling\", \"wrestling\", \"writer\", \"writer\", \"writer\", \"writer\", \"writer\", \"writer\", \"writer\", \"yang\", \"year\", \"year\", \"year\", \"year\", \"year\", \"year\", \"years\", \"years\", \"years\", \"years\", \"yeoh\", \"york\", \"york\", \"york\", \"york\", \"york\", \"young\", \"young\", \"young\", \"young\", \"young\", \"young\", \"young\", \"young\", \"youre\", \"youre\", \"youre\", \"youre\", \"youre\", \"yuen\", \"yun\", \"zach\", \"zane\", \"zardoz\", \"zellweger\", \"zemeckis\", \"zeros\", \"zoolander\", \"zwick\"]}, \"R\": 30, \"lambda.step\": 0.01, \"plot.opts\": {\"xlab\": \"PC1\", \"ylab\": \"PC2\"}, \"topic.order\": [19, 1, 11, 17, 14, 15, 13, 10, 5, 7, 20, 16, 18, 9, 3, 8, 2, 12, 4, 6]};\n",
       "\n",
       "function LDAvis_load_lib(url, callback){\n",
       "  var s = document.createElement('script');\n",
       "  s.src = url;\n",
       "  s.async = true;\n",
       "  s.onreadystatechange = s.onload = callback;\n",
       "  s.onerror = function(){console.warn(\"failed to load library \" + url);};\n",
       "  document.getElementsByTagName(\"head\")[0].appendChild(s);\n",
       "}\n",
       "\n",
       "if(typeof(LDAvis) !== \"undefined\"){\n",
       "   // already loaded: just create the visualization\n",
       "   !function(LDAvis){\n",
       "       new LDAvis(\"#\" + \"ldavis_el517622470062544082976420566\", ldavis_el517622470062544082976420566_data);\n",
       "   }(LDAvis);\n",
       "}else if(typeof define === \"function\" && define.amd){\n",
       "   // require.js is available: use it to load d3/LDAvis\n",
       "   require.config({paths: {d3: \"https://cdnjs.cloudflare.com/ajax/libs/d3/3.5.5/d3.min\"}});\n",
       "   require([\"d3\"], function(d3){\n",
       "      window.d3 = d3;\n",
       "      LDAvis_load_lib(\"https://cdn.rawgit.com/bmabey/pyLDAvis/files/ldavis.v1.0.0.js\", function(){\n",
       "        new LDAvis(\"#\" + \"ldavis_el517622470062544082976420566\", ldavis_el517622470062544082976420566_data);\n",
       "      });\n",
       "    });\n",
       "}else{\n",
       "    // require.js not available: dynamically load d3 & LDAvis\n",
       "    LDAvis_load_lib(\"https://cdnjs.cloudflare.com/ajax/libs/d3/3.5.5/d3.min.js\", function(){\n",
       "         LDAvis_load_lib(\"https://cdn.rawgit.com/bmabey/pyLDAvis/files/ldavis.v1.0.0.js\", function(){\n",
       "                 new LDAvis(\"#\" + \"ldavis_el517622470062544082976420566\", ldavis_el517622470062544082976420566_data);\n",
       "            })\n",
       "         });\n",
       "}\n",
       "</script>"
      ],
      "text/plain": [
       "<IPython.core.display.HTML object>"
      ]
     },
     "metadata": {},
     "output_type": "display_data"
    }
   ],
   "source": [
    "import matplotlib.pyplot as plt\n",
    "import json\n",
    "import numpy as np\n",
    "import pyLDAvis\n",
    "from bokeh.io import  show, output_notebook, output_file\n",
    "from IPython.display import display\n",
    "\n",
    "def load_R_model(filename):\n",
    "    with open(filename, 'r') as j:\n",
    "        data_input = json.load(j)\n",
    "    data = {'topic_term_dists': data_input['phi'], \n",
    "            'doc_topic_dists': data_input['theta'],\n",
    "            'doc_lengths': data_input['doc.length'],\n",
    "            'vocab': data_input['vocab'],\n",
    "            'term_frequency': data_input['term.frequency']}\n",
    "    return data\n",
    "\n",
    "output_notebook() # TODO for use in notebook\n",
    "pyLDAvis.enable_notebook(True)\n",
    "movies_model_data = load_R_model('topicmaps/data/movie_reviews_input.json')\n",
    "\n",
    "movies_vis_data = pyLDAvis.prepare(**movies_model_data)\n",
    "viz=pyLDAvis.display(movies_vis_data) #, template_type='general')\n",
    "display(viz)"
   ]
  },
  {
   "cell_type": "code",
   "execution_count": 1,
   "metadata": {},
   "outputs": [
    {
     "data": {
      "application/vnd.jupyter.widget-view+json": {
       "model_id": "4df9f2be497944d6bebabd8bb693b7f5",
       "version_major": 2,
       "version_minor": 0
      },
      "text/plain": [
       "HBox(children=(Dropdown(description='Letter:', index=1, options=('a', 'b', 'c'), value='b'), Dropdown(descript…"
      ]
     },
     "metadata": {},
     "output_type": "display_data"
    },
    {
     "data": {
      "text/plain": [
       "'b'"
      ]
     },
     "metadata": {},
     "output_type": "display_data"
    },
    {
     "data": {
      "text/plain": [
       "2"
      ]
     },
     "metadata": {},
     "output_type": "display_data"
    }
   ],
   "source": [
    "# Common Imports for Widgets\n",
    "from __future__ import print_function\n",
    "from ipywidgets import interact, interactive, fixed, interact_manual\n",
    "import ipywidgets as widgets\n",
    "\n",
    "'''\n",
    "    Precusor:\n",
    "\n",
    "    <class 'traitlets.utils.bunch.Bunch'>  It is a dictionary-like object containing:\n",
    "\n",
    "    {'name': 'value', 'old': 'what_ever_the_old_value_was', 'new': 'what_ever_the_new_value_is', \n",
    "    'owner': Dropdown(description='the_user_defined_label:', index=1, # I'm not sure what this is\n",
    "    options=()#list of options passed, \n",
    "    value='value_kwarg_value'), 'type': 'change'} # type: action_or_event type\n",
    "\n",
    "    For more information see:\n",
    "\n",
    "    https://traitlets.readthedocs.io/en/stable/using_traitlets.html#default-values-and-checking-type-and-value\n",
    "\n",
    "    or\n",
    "\n",
    "    https://github.com/jupyter-widgets/tutorial/blob/master/notebooks/08.00-Widget_Events.ipynb\n",
    "\n",
    "    or a long but well done SciPy talk on the use of widgets @\n",
    "\n",
    "    https://www.youtube.com/watch?v=HaSpqsKaRbo\n",
    "'''\n",
    "\n",
    "foo = ['a','b','c'] # List to use\n",
    "\n",
    "# Function to apply to drop box object\n",
    "def bar(x):\n",
    "    '''\n",
    "        I am intentionally passing what it is made of so you can see the output.\n",
    "    '''\n",
    "    print(x,'\\n') # Whole object\n",
    "    print(x.new,'\\n') # New value\n",
    "\n",
    "\n",
    "# Function for the button to select user input and do work\n",
    "def get_user_selection(a): # A default arg is needed here, I am guessing to pass self\n",
    "    # Displays the current value of dropbox1 and dropbox two\n",
    "    display(dropbox1.value,dropbox2.value)\n",
    "\n",
    "\n",
    "# creation of a widget dropdown object called dropbox1\n",
    "dropbox1 = widgets.Dropdown(\n",
    "    options=foo, # Object to iterate over\n",
    "    description='Letter:', # User defined \n",
    "    value=foo[1], # Default value selection\n",
    "    rows=len(foo), # The number of rows to display when showing the box\n",
    "    interactive=True, # This makes the box interactive, I believe this is true by default\n",
    ");\n",
    "\n",
    "# Drop box of k,v like pairs \n",
    "dropbox2 = widgets.Dropdown(\n",
    "    options=[('One', 1), ('Two', 2), ('Three', 3)],\n",
    "    value=2,\n",
    "    description='Number:',\n",
    ")\n",
    "\n",
    "# Button to click\n",
    "select_button = widgets.Button(\n",
    "    description='Click', # User defined\n",
    "    disabled=False\n",
    ")\n",
    "\n",
    "# Event Handlers\n",
    "dropbox1.observe(bar,names='value')\n",
    "dropbox2.observe(bar,names='value')\n",
    "select_button.on_click(get_user_selection)\n",
    "\n",
    "\n",
    "# I you need more help with commands try things like:\n",
    "# interact_manual?\n",
    "# display(arg.keys,arg.traits)\n",
    "# print(widgets.widget_type_here.widget_function_or_attr.__doc__)\n",
    "\n",
    "# Create a UI object to display things.  There are other ways of organizing them.\n",
    "ui = widgets.HBox([dropbox1,dropbox2,select_button]) # pass an array of widgets to the ui\n",
    "\n",
    "# display the UI\n",
    "display(ui)"
   ]
  },
  {
   "cell_type": "code",
   "execution_count": 19,
   "metadata": {},
   "outputs": [
    {
     "data": {
      "application/vnd.jupyter.widget-view+json": {
       "model_id": "2b59acb1062e4ccb869050da4e942847",
       "version_major": 2,
       "version_minor": 0
      },
      "text/plain": [
       "interactive(children=(Dropdown(description='country', options=('USA', 'Russia'), value='USA'), Dropdown(descri…"
      ]
     },
     "metadata": {},
     "output_type": "display_data"
    },
    {
     "data": {
      "application/vnd.jupyter.widget-view+json": {
       "model_id": "afc5d16ac44b4128806398a98633ab10",
       "version_major": 2,
       "version_minor": 0
      },
      "text/plain": [
       "Textarea(value='')"
      ]
     },
     "metadata": {},
     "output_type": "display_data"
    }
   ],
   "source": [
    "from ipywidgets import interact, Dropdown\n",
    "from ipywidgets import Textarea\n",
    "\n",
    "geo = {'USA':['CHI','NYC'],'Russia':['MOW','LED']}\n",
    "geo2={'CHI':['1','2'],'NYC':['3','4'],'MOW':['5','6'],'LED':['7','8']}\n",
    "\n",
    "countryW = Dropdown(options = geo.keys())\n",
    "cityW = Dropdown()\n",
    "districtW = Dropdown()\n",
    "textW=Textarea()\n",
    "\n",
    "def update_cityW_options(*args): # *args represent zero (case here) or more arguments.\n",
    "    cityW.options = geo[countryW.value]\n",
    "cityW.observe(update_cityW_options) # Here is the trick, i.e. update cityW.options based on countryW.value.\n",
    "\n",
    "def update_districtW_options(*args):\n",
    "    districtW.options = geo2[cityW.value]\n",
    "districtW.observe(update_districtW_options)\n",
    "\n",
    "def update_textW_options(*args):\n",
    "    textW.value = geo2[cityW.value]\n",
    "textW.observe(update_districtW_options)\n",
    "\n",
    "@interact(country = countryW, city = cityW, district = districtW, textpane=textW)\n",
    "def print_city(country, city, district):\n",
    "    print(country, city, district)\n",
    "    \n",
    "display(textW)\n"
   ]
  },
  {
   "cell_type": "code",
   "execution_count": 45,
   "metadata": {},
   "outputs": [
    {
     "data": {
      "application/vnd.jupyter.widget-view+json": {
       "model_id": "cf08db98c3e6487480289412fb0254c2",
       "version_major": 2,
       "version_minor": 0
      },
      "text/plain": [
       "VBox(children=(Box(children=(Button(button_style='danger', description='weight=1; auto', layout=Layout(flex='1…"
      ]
     },
     "metadata": {},
     "output_type": "display_data"
    }
   ],
   "source": [
    "from ipywidgets import Layout, Button, Box, VBox, HBox\n",
    "\n",
    "# Items flex proportionally to the weight and the left over space around the text\n",
    "b1=Button(description='weight=1; auto', layout=Layout(flex='1 1 auto', width='auto'), button_style='danger')\n",
    "b2=Button(description='weight=3; auto', layout=Layout(flex='3 1 auto', width='auto'), button_style='danger')\n",
    "b3=Button(description='weight=1; auto', layout=Layout(flex='1 1 auto', width='auto'), button_style='danger')\n",
    "items_auto = [b1,b2,b3 ]\n",
    "\n",
    "# Items flex proportionally to the weight\n",
    "items_0 = [\n",
    "    Textarea(description='weight=1; 0%', layout=Layout(flex='1 1 80%', width='auto')),\n",
    " ]\n",
    "box_layout = Layout(display='flex',\n",
    "                    flex_flow='row',\n",
    "                    align_items='stretch',\n",
    "                    width='50%')\n",
    "box_auto = Box(children=items_auto, layout=box_layout)\n",
    "box_0 = Box(children=items_0, layout=box_layout)\n",
    "VBox([box_auto, box_0])"
   ]
  },
  {
   "cell_type": "code",
   "execution_count": 26,
   "metadata": {},
   "outputs": [
    {
     "data": {
      "application/vnd.jupyter.widget-view+json": {
       "model_id": "57f075ada9894fea90d85aa7cc8165d5",
       "version_major": 2,
       "version_minor": 0
      },
      "text/plain": [
       "Box(children=(Box(children=(Label(value='Age of the captain'), IntSlider(value=40, max=60, min=40)), layout=La…"
      ]
     },
     "metadata": {},
     "output_type": "display_data"
    }
   ],
   "source": [
    "from ipywidgets import Layout, Button, Box, FloatText, Textarea, Dropdown, Label, IntSlider\n",
    "\n",
    "form_item_layout = Layout(\n",
    "    display='flex',\n",
    "    flex_flow='row',\n",
    "    justify_content='space-between'\n",
    ")\n",
    "\n",
    "form_items = [\n",
    "    Box([Label(value='Age of the captain'), IntSlider(min=40, max=60)], layout=form_item_layout),\n",
    "    Box([Label(value='Egg style'),\n",
    "         Dropdown(options=['Scrambled', 'Sunny side up', 'Over easy'])], layout=form_item_layout),\n",
    "    Box([Label(value='Ship size'),\n",
    "         FloatText()], layout=form_item_layout),\n",
    "    Box([Label(value='Information'),\n",
    "         Textarea()], layout=form_item_layout)\n",
    "]\n",
    "\n",
    "form = Box(form_items, layout=Layout(\n",
    "    display='flex',\n",
    "    flex_flow='column',\n",
    "    border='solid 2px',\n",
    "    align_items='stretch',\n",
    "    width='50%'\n",
    "))\n",
    "form"
   ]
  },
  {
   "cell_type": "code",
   "execution_count": 37,
   "metadata": {},
   "outputs": [
    {
     "data": {
      "application/vnd.jupyter.widget-view+json": {
       "model_id": "fe58cd3cb05b400e9f95e3b44c7bbafd",
       "version_major": 2,
       "version_minor": 0
      },
      "text/plain": [
       "HBox(children=(Checkbox(value=False, description='Checkbox [0]'), Checkbox(value=False, description='Checkbox …"
      ]
     },
     "metadata": {},
     "output_type": "display_data"
    }
   ],
   "source": [
    "import ipywidgets as widgets\n",
    "from ipywidgets import *\n",
    "from IPython.display import display\n",
    "\n",
    "num_checks = 40\n",
    "\n",
    "cb_cont = HBox(layout=Layout(width='100%',display='inline-flex',flex_flow='row wrap'))\n",
    "#cb_cont.overflow_x = 'scroll'\n",
    "\n",
    "checkboxes = []\n",
    "for f in range(num_checks):\n",
    "    checkboxes.append(\\\n",
    "        widgets.Checkbox(description = 'Checkbox [%d]'%(f), \\\n",
    "                     value=False, width=50))\n",
    "\n",
    "cb_cont.children=[i for i in checkboxes]\n",
    "display(cb_cont)"
   ]
  },
  {
   "cell_type": "code",
   "execution_count": null,
   "metadata": {},
   "outputs": [],
   "source": []
  }
 ],
 "metadata": {
  "kernelspec": {
   "display_name": "Python 3",
   "language": "python",
   "name": "python3"
  },
  "language_info": {
   "codemirror_mode": {
    "name": "ipython",
    "version": 3
   },
   "file_extension": ".py",
   "mimetype": "text/x-python",
   "name": "python",
   "nbconvert_exporter": "python",
   "pygments_lexer": "ipython3",
   "version": "3.7.6"
  },
  "toc": {
   "base_numbering": 1,
   "nav_menu": {},
   "number_sections": true,
   "sideBar": true,
   "skip_h1_title": false,
   "title_cell": "Table of Contents",
   "title_sidebar": "Contents",
   "toc_cell": true,
   "toc_position": {},
   "toc_section_display": true,
   "toc_window_display": true
  },
  "widgets": {
   "application/vnd.jupyter.widget-state+json": {
    "state": {
     "01095e869db74daf91dc8ce167967ed2": {
      "model_module": "@jupyter-widgets/controls",
      "model_module_version": "1.5.0",
      "model_name": "FloatProgressModel",
      "state": {
       "bar_style": "success",
       "description": "Deleting bad entries: 100%",
       "layout": "IPY_MODEL_3bbae640d4f74ca780c18d4ccd62b073",
       "max": 2,
       "style": "IPY_MODEL_5548eff779fa4318ac011d3692c28a2f",
       "value": 2
      }
     },
     "0caba678d05942a69a906809fb23dc80": {
      "model_module": "@jupyter-widgets/base",
      "model_module_version": "1.2.0",
      "model_name": "LayoutModel",
      "state": {}
     },
     "0ebec33b24b8489a8d3511cafe22ec35": {
      "model_module": "@jupyter-widgets/controls",
      "model_module_version": "1.5.0",
      "model_name": "HBoxModel",
      "state": {
       "children": [
        "IPY_MODEL_8dd702b067134309ae1a474e199aede9",
        "IPY_MODEL_e3c9504f14e04776abf5c78e0dd6d692"
       ],
       "layout": "IPY_MODEL_6a23c00068544fc9870646b7fcab03d5"
      }
     },
     "0ff5d867fd1e463fbf37948cdb7181b1": {
      "model_module": "@jupyter-widgets/base",
      "model_module_version": "1.2.0",
      "model_name": "LayoutModel",
      "state": {}
     },
     "112f6d13862a4bfbbd0d9a2aeabcf9f6": {
      "model_module": "@jupyter-widgets/controls",
      "model_module_version": "1.5.0",
      "model_name": "DescriptionStyleModel",
      "state": {
       "description_width": ""
      }
     },
     "1164b73fafde42a3a0cf3219f47158e6": {
      "model_module": "@jupyter-widgets/base",
      "model_module_version": "1.2.0",
      "model_name": "LayoutModel",
      "state": {}
     },
     "16c81e656ead4b038ca0d0f83e669193": {
      "model_module": "@jupyter-widgets/controls",
      "model_module_version": "1.5.0",
      "model_name": "DescriptionStyleModel",
      "state": {
       "description_width": ""
      }
     },
     "1818c41a21bb4a78bb1c5bf6203f065b": {
      "model_module": "@jupyter-widgets/controls",
      "model_module_version": "1.5.0",
      "model_name": "FloatProgressModel",
      "state": {
       "bar_style": "success",
       "description": "Deleting bad entries: 100%",
       "layout": "IPY_MODEL_1164b73fafde42a3a0cf3219f47158e6",
       "max": 2,
       "style": "IPY_MODEL_d17ba1eeb286421bb9f6a15fe006a13d",
       "value": 2
      }
     },
     "188a8fc424d64223b1d6e791be93459e": {
      "model_module": "@jupyter-widgets/controls",
      "model_module_version": "1.5.0",
      "model_name": "FloatProgressModel",
      "state": {
       "bar_style": "success",
       "description": "Deleting bad entries: 100%",
       "layout": "IPY_MODEL_c3cb3b3b140a49e18ca169e3a801823f",
       "max": 2,
       "style": "IPY_MODEL_dc77c89a21ff40b386bfd8c88b704c9b",
       "value": 2
      }
     },
     "197feccd4cdc40b4afcfbb83b37ad4f2": {
      "model_module": "@jupyter-widgets/base",
      "model_module_version": "1.2.0",
      "model_name": "LayoutModel",
      "state": {}
     },
     "1e6b4701ecaa40858231eddd19a43783": {
      "model_module": "@jupyter-widgets/controls",
      "model_module_version": "1.5.0",
      "model_name": "DescriptionStyleModel",
      "state": {
       "description_width": ""
      }
     },
     "22349deae2444cf89ea75aea82ef19e9": {
      "model_module": "@jupyter-widgets/controls",
      "model_module_version": "1.5.0",
      "model_name": "HBoxModel",
      "state": {
       "children": [
        "IPY_MODEL_188a8fc424d64223b1d6e791be93459e",
        "IPY_MODEL_d63f2b31498e41f7954a3fb3c586ec26"
       ],
       "layout": "IPY_MODEL_41f5db11cf9e4495851d8a1157b84474"
      }
     },
     "27d48b011a10482b82d2d67ffe5c11d2": {
      "model_module": "@jupyter-widgets/base",
      "model_module_version": "1.2.0",
      "model_name": "LayoutModel",
      "state": {}
     },
     "28711f44e24f4cf88cf1a6abe2b286c2": {
      "model_module": "@jupyter-widgets/controls",
      "model_module_version": "1.5.0",
      "model_name": "FloatProgressModel",
      "state": {
       "bar_style": "success",
       "description": "Removing Stop Words: 100%",
       "layout": "IPY_MODEL_a19af42868bc4dc8961c7744aa338332",
       "max": 10,
       "style": "IPY_MODEL_6b0db597699341cb93e57c186bf1f568",
       "value": 10
      }
     },
     "2d7d0418d28b4b60a1277174f3b7a8f6": {
      "model_module": "@jupyter-widgets/controls",
      "model_module_version": "1.5.0",
      "model_name": "HTMLModel",
      "state": {
       "layout": "IPY_MODEL_0ff5d867fd1e463fbf37948cdb7181b1",
       "style": "IPY_MODEL_7fc346362934430798914e6d1afa8fdf",
       "value": " 3014/3014 [11:48&lt;00:00,  4.25it/s]"
      }
     },
     "305427a7120640e483f8dc13ddb51445": {
      "model_module": "@jupyter-widgets/controls",
      "model_module_version": "1.5.0",
      "model_name": "DescriptionStyleModel",
      "state": {
       "description_width": ""
      }
     },
     "354dd9da01874b27aae3d90b3edebab9": {
      "model_module": "@jupyter-widgets/controls",
      "model_module_version": "1.5.0",
      "model_name": "DescriptionStyleModel",
      "state": {
       "description_width": ""
      }
     },
     "395780cfe989435a9d45b62021430476": {
      "model_module": "@jupyter-widgets/controls",
      "model_module_version": "1.5.0",
      "model_name": "HBoxModel",
      "state": {
       "children": [
        "IPY_MODEL_ca2ea6060e224180944d52713705e76f",
        "IPY_MODEL_ce8f6e9a38a14086a156885aef8df6e3"
       ],
       "layout": "IPY_MODEL_cb0991dcd99440438e19d69034428320"
      }
     },
     "3a162cc1b66b4aa89f02d42c000cdaf9": {
      "model_module": "@jupyter-widgets/controls",
      "model_module_version": "1.5.0",
      "model_name": "ProgressStyleModel",
      "state": {
       "description_width": "initial"
      }
     },
     "3bbae640d4f74ca780c18d4ccd62b073": {
      "model_module": "@jupyter-widgets/base",
      "model_module_version": "1.2.0",
      "model_name": "LayoutModel",
      "state": {}
     },
     "3e793eca5fa040bc8599ccca5429a6da": {
      "model_module": "@jupyter-widgets/controls",
      "model_module_version": "1.5.0",
      "model_name": "HBoxModel",
      "state": {
       "children": [
        "IPY_MODEL_60d192a3e32c498d94db6190a1d2fdcd",
        "IPY_MODEL_b0c204439d634100877b024e42810ed0"
       ],
       "layout": "IPY_MODEL_6cbb18745a1843059aa378a697cbacd3"
      }
     },
     "41f5db11cf9e4495851d8a1157b84474": {
      "model_module": "@jupyter-widgets/base",
      "model_module_version": "1.2.0",
      "model_name": "LayoutModel",
      "state": {}
     },
     "443c227006e74e90b63e77e9a34e4ef4": {
      "model_module": "@jupyter-widgets/base",
      "model_module_version": "1.2.0",
      "model_name": "LayoutModel",
      "state": {}
     },
     "44a99821e2304fcc899e553f53f4a440": {
      "model_module": "@jupyter-widgets/base",
      "model_module_version": "1.2.0",
      "model_name": "LayoutModel",
      "state": {}
     },
     "4dea5fcfebec4094ac785233e61e422d": {
      "model_module": "@jupyter-widgets/base",
      "model_module_version": "1.2.0",
      "model_name": "LayoutModel",
      "state": {}
     },
     "5548eff779fa4318ac011d3692c28a2f": {
      "model_module": "@jupyter-widgets/controls",
      "model_module_version": "1.5.0",
      "model_name": "ProgressStyleModel",
      "state": {
       "description_width": "initial"
      }
     },
     "5725ca4de10e4dd3abc9199499914443": {
      "model_module": "@jupyter-widgets/controls",
      "model_module_version": "1.5.0",
      "model_name": "FloatProgressModel",
      "state": {
       "bar_style": "success",
       "description": "Removing Stop Words: 100%",
       "layout": "IPY_MODEL_d220f59a284648609d622551ec2dd4e2",
       "max": 10,
       "style": "IPY_MODEL_65f54bb65543465aadcc9a8132889e5e",
       "value": 10
      }
     },
     "5abf8f992cad487e9122803a93189d7a": {
      "model_module": "@jupyter-widgets/base",
      "model_module_version": "1.2.0",
      "model_name": "LayoutModel",
      "state": {}
     },
     "5ddbd1d4268046408fa4a9755619aacf": {
      "model_module": "@jupyter-widgets/base",
      "model_module_version": "1.2.0",
      "model_name": "LayoutModel",
      "state": {}
     },
     "60d192a3e32c498d94db6190a1d2fdcd": {
      "model_module": "@jupyter-widgets/controls",
      "model_module_version": "1.5.0",
      "model_name": "FloatProgressModel",
      "state": {
       "bar_style": "success",
       "description": "Deleting bad entries: 100%",
       "layout": "IPY_MODEL_ad884b30c40540b5ad223304e76bc2de",
       "max": 2,
       "style": "IPY_MODEL_a48cdc3fdda646b48a7d9404f5d7a48d",
       "value": 2
      }
     },
     "6151578132274da1862bc8d26335e73d": {
      "model_module": "@jupyter-widgets/base",
      "model_module_version": "1.2.0",
      "model_name": "LayoutModel",
      "state": {}
     },
     "6541359dc5fc4ce893492054b98dcc9a": {
      "model_module": "@jupyter-widgets/controls",
      "model_module_version": "1.5.0",
      "model_name": "HTMLModel",
      "state": {
       "layout": "IPY_MODEL_ff5ba60b14254960890a665fd0a91d47",
       "style": "IPY_MODEL_354dd9da01874b27aae3d90b3edebab9",
       "value": " 2/2 [00:00&lt;00:00,  5.27it/s]"
      }
     },
     "65f54bb65543465aadcc9a8132889e5e": {
      "model_module": "@jupyter-widgets/controls",
      "model_module_version": "1.5.0",
      "model_name": "ProgressStyleModel",
      "state": {
       "description_width": "initial"
      }
     },
     "67b202fb3bf44e82a0d021aeb9b64bcd": {
      "model_module": "@jupyter-widgets/controls",
      "model_module_version": "1.5.0",
      "model_name": "HBoxModel",
      "state": {
       "children": [
        "IPY_MODEL_1818c41a21bb4a78bb1c5bf6203f065b",
        "IPY_MODEL_6541359dc5fc4ce893492054b98dcc9a"
       ],
       "layout": "IPY_MODEL_faee024b0f6542d9b99d5735a478755e"
      }
     },
     "6a23c00068544fc9870646b7fcab03d5": {
      "model_module": "@jupyter-widgets/base",
      "model_module_version": "1.2.0",
      "model_name": "LayoutModel",
      "state": {}
     },
     "6b0db597699341cb93e57c186bf1f568": {
      "model_module": "@jupyter-widgets/controls",
      "model_module_version": "1.5.0",
      "model_name": "ProgressStyleModel",
      "state": {
       "description_width": "initial"
      }
     },
     "6cbb18745a1843059aa378a697cbacd3": {
      "model_module": "@jupyter-widgets/base",
      "model_module_version": "1.2.0",
      "model_name": "LayoutModel",
      "state": {}
     },
     "6d04c5ca0e0645f5b3d6e7ea2909b7db": {
      "model_module": "@jupyter-widgets/controls",
      "model_module_version": "1.5.0",
      "model_name": "DescriptionStyleModel",
      "state": {
       "description_width": ""
      }
     },
     "6e1d4104677f4d70834805b2c7f6c7b2": {
      "model_module": "@jupyter-widgets/base",
      "model_module_version": "1.2.0",
      "model_name": "LayoutModel",
      "state": {}
     },
     "7fc346362934430798914e6d1afa8fdf": {
      "model_module": "@jupyter-widgets/controls",
      "model_module_version": "1.5.0",
      "model_name": "DescriptionStyleModel",
      "state": {
       "description_width": ""
      }
     },
     "819520210846444e93aa45a4d031951e": {
      "model_module": "@jupyter-widgets/controls",
      "model_module_version": "1.5.0",
      "model_name": "ProgressStyleModel",
      "state": {
       "description_width": "initial"
      }
     },
     "878e3e4cb3e4465aa6f9ab8f69e456f8": {
      "model_module": "@jupyter-widgets/base",
      "model_module_version": "1.2.0",
      "model_name": "LayoutModel",
      "state": {}
     },
     "8a58522929b04bae9326f1885bdd91fe": {
      "model_module": "@jupyter-widgets/base",
      "model_module_version": "1.2.0",
      "model_name": "LayoutModel",
      "state": {}
     },
     "8c1a6cb878864d5ebd37f9e427619e4a": {
      "model_module": "@jupyter-widgets/controls",
      "model_module_version": "1.5.0",
      "model_name": "HTMLModel",
      "state": {
       "layout": "IPY_MODEL_878e3e4cb3e4465aa6f9ab8f69e456f8",
       "style": "IPY_MODEL_1e6b4701ecaa40858231eddd19a43783",
       "value": " 10/10 [00:00&lt;00:00, 35.90it/s]"
      }
     },
     "8cb269a2cd9349529c9be8d286280258": {
      "model_module": "@jupyter-widgets/base",
      "model_module_version": "1.2.0",
      "model_name": "LayoutModel",
      "state": {}
     },
     "8dd702b067134309ae1a474e199aede9": {
      "model_module": "@jupyter-widgets/controls",
      "model_module_version": "1.5.0",
      "model_name": "FloatProgressModel",
      "state": {
       "bar_style": "success",
       "description": "Collating Contents: 100%",
       "layout": "IPY_MODEL_6151578132274da1862bc8d26335e73d",
       "max": 3014,
       "style": "IPY_MODEL_a6c533202ae34a71a43e1fec99365591",
       "value": 3014
      }
     },
     "91cd36cfa7624f7187b5a950124b8a86": {
      "model_module": "@jupyter-widgets/controls",
      "model_module_version": "1.5.0",
      "model_name": "HTMLModel",
      "state": {
       "layout": "IPY_MODEL_5abf8f992cad487e9122803a93189d7a",
       "style": "IPY_MODEL_dc7558db1ffe41af9f2ffcfb2e277a16",
       "value": " 2/2 [00:00&lt;00:00, 29.87it/s]"
      }
     },
     "9ba23dfd3a9f4ca2ad85682fc525a8c5": {
      "model_module": "@jupyter-widgets/controls",
      "model_module_version": "1.5.0",
      "model_name": "HBoxModel",
      "state": {
       "children": [
        "IPY_MODEL_dcf8b065f852433d951f9cfdc82ae804",
        "IPY_MODEL_2d7d0418d28b4b60a1277174f3b7a8f6"
       ],
       "layout": "IPY_MODEL_4dea5fcfebec4094ac785233e61e422d"
      }
     },
     "9c8b93d6339143669b65bd5f0d1b9e69": {
      "model_module": "@jupyter-widgets/base",
      "model_module_version": "1.2.0",
      "model_name": "LayoutModel",
      "state": {}
     },
     "a161a5bbc3024db480ce42a02053004b": {
      "model_module": "@jupyter-widgets/controls",
      "model_module_version": "1.5.0",
      "model_name": "HBoxModel",
      "state": {
       "children": [
        "IPY_MODEL_5725ca4de10e4dd3abc9199499914443",
        "IPY_MODEL_8c1a6cb878864d5ebd37f9e427619e4a"
       ],
       "layout": "IPY_MODEL_a98ac307c74a4a3888fa6388ac54316c"
      }
     },
     "a19af42868bc4dc8961c7744aa338332": {
      "model_module": "@jupyter-widgets/base",
      "model_module_version": "1.2.0",
      "model_name": "LayoutModel",
      "state": {}
     },
     "a48cdc3fdda646b48a7d9404f5d7a48d": {
      "model_module": "@jupyter-widgets/controls",
      "model_module_version": "1.5.0",
      "model_name": "ProgressStyleModel",
      "state": {
       "description_width": "initial"
      }
     },
     "a6c533202ae34a71a43e1fec99365591": {
      "model_module": "@jupyter-widgets/controls",
      "model_module_version": "1.5.0",
      "model_name": "ProgressStyleModel",
      "state": {
       "description_width": "initial"
      }
     },
     "a7fb228b90704d52aa6fa314b5974b57": {
      "model_module": "@jupyter-widgets/controls",
      "model_module_version": "1.5.0",
      "model_name": "FloatProgressModel",
      "state": {
       "bar_style": "success",
       "description": "Collating Contents: 100%",
       "layout": "IPY_MODEL_ac3cb9bd36e241c6b38a854a72095f9d",
       "max": 3014,
       "style": "IPY_MODEL_3a162cc1b66b4aa89f02d42c000cdaf9",
       "value": 3014
      }
     },
     "a98ac307c74a4a3888fa6388ac54316c": {
      "model_module": "@jupyter-widgets/base",
      "model_module_version": "1.2.0",
      "model_name": "LayoutModel",
      "state": {}
     },
     "ac3cb9bd36e241c6b38a854a72095f9d": {
      "model_module": "@jupyter-widgets/base",
      "model_module_version": "1.2.0",
      "model_name": "LayoutModel",
      "state": {}
     },
     "ad884b30c40540b5ad223304e76bc2de": {
      "model_module": "@jupyter-widgets/base",
      "model_module_version": "1.2.0",
      "model_name": "LayoutModel",
      "state": {}
     },
     "b0c204439d634100877b024e42810ed0": {
      "model_module": "@jupyter-widgets/controls",
      "model_module_version": "1.5.0",
      "model_name": "HTMLModel",
      "state": {
       "layout": "IPY_MODEL_443c227006e74e90b63e77e9a34e4ef4",
       "style": "IPY_MODEL_16c81e656ead4b038ca0d0f83e669193",
       "value": " 2/2 [00:00&lt;00:00,  6.81it/s]"
      }
     },
     "ba804d57a0bb4c0dad7ff8cd98316581": {
      "model_module": "@jupyter-widgets/controls",
      "model_module_version": "1.5.0",
      "model_name": "HTMLModel",
      "state": {
       "layout": "IPY_MODEL_44a99821e2304fcc899e553f53f4a440",
       "style": "IPY_MODEL_112f6d13862a4bfbbd0d9a2aeabcf9f6",
       "value": " 3014/3014 [00:14&lt;00:00, 203.48it/s]"
      }
     },
     "c3cb3b3b140a49e18ca169e3a801823f": {
      "model_module": "@jupyter-widgets/base",
      "model_module_version": "1.2.0",
      "model_name": "LayoutModel",
      "state": {}
     },
     "c8ac08933efc47c7bfa166fde72a1725": {
      "model_module": "@jupyter-widgets/controls",
      "model_module_version": "1.5.0",
      "model_name": "HBoxModel",
      "state": {
       "children": [
        "IPY_MODEL_01095e869db74daf91dc8ce167967ed2",
        "IPY_MODEL_91cd36cfa7624f7187b5a950124b8a86"
       ],
       "layout": "IPY_MODEL_27d48b011a10482b82d2d67ffe5c11d2"
      }
     },
     "ca0c2282b2e844e0a5cdf36d797fdeea": {
      "model_module": "@jupyter-widgets/controls",
      "model_module_version": "1.5.0",
      "model_name": "HBoxModel",
      "state": {
       "children": [
        "IPY_MODEL_a7fb228b90704d52aa6fa314b5974b57",
        "IPY_MODEL_ba804d57a0bb4c0dad7ff8cd98316581"
       ],
       "layout": "IPY_MODEL_9c8b93d6339143669b65bd5f0d1b9e69"
      }
     },
     "ca2ea6060e224180944d52713705e76f": {
      "model_module": "@jupyter-widgets/controls",
      "model_module_version": "1.5.0",
      "model_name": "FloatProgressModel",
      "state": {
       "bar_style": "success",
       "description": "Collating Contents: 100%",
       "layout": "IPY_MODEL_5ddbd1d4268046408fa4a9755619aacf",
       "max": 3014,
       "style": "IPY_MODEL_819520210846444e93aa45a4d031951e",
       "value": 3014
      }
     },
     "cb0991dcd99440438e19d69034428320": {
      "model_module": "@jupyter-widgets/base",
      "model_module_version": "1.2.0",
      "model_name": "LayoutModel",
      "state": {}
     },
     "ce8f6e9a38a14086a156885aef8df6e3": {
      "model_module": "@jupyter-widgets/controls",
      "model_module_version": "1.5.0",
      "model_name": "HTMLModel",
      "state": {
       "layout": "IPY_MODEL_fde78523d9d841c2b4b5be8a77092ceb",
       "style": "IPY_MODEL_305427a7120640e483f8dc13ddb51445",
       "value": " 3014/3014 [00:20&lt;00:00, 147.06it/s]"
      }
     },
     "d17ba1eeb286421bb9f6a15fe006a13d": {
      "model_module": "@jupyter-widgets/controls",
      "model_module_version": "1.5.0",
      "model_name": "ProgressStyleModel",
      "state": {
       "description_width": "initial"
      }
     },
     "d220f59a284648609d622551ec2dd4e2": {
      "model_module": "@jupyter-widgets/base",
      "model_module_version": "1.2.0",
      "model_name": "LayoutModel",
      "state": {}
     },
     "d63f2b31498e41f7954a3fb3c586ec26": {
      "model_module": "@jupyter-widgets/controls",
      "model_module_version": "1.5.0",
      "model_name": "HTMLModel",
      "state": {
       "layout": "IPY_MODEL_0caba678d05942a69a906809fb23dc80",
       "style": "IPY_MODEL_f20ea1dbd4bb41649669ec59b6e640e7",
       "value": " 2/2 [00:00&lt;00:00,  3.66it/s]"
      }
     },
     "dc7558db1ffe41af9f2ffcfb2e277a16": {
      "model_module": "@jupyter-widgets/controls",
      "model_module_version": "1.5.0",
      "model_name": "DescriptionStyleModel",
      "state": {
       "description_width": ""
      }
     },
     "dc77c89a21ff40b386bfd8c88b704c9b": {
      "model_module": "@jupyter-widgets/controls",
      "model_module_version": "1.5.0",
      "model_name": "ProgressStyleModel",
      "state": {
       "description_width": "initial"
      }
     },
     "dcf8b065f852433d951f9cfdc82ae804": {
      "model_module": "@jupyter-widgets/controls",
      "model_module_version": "1.5.0",
      "model_name": "FloatProgressModel",
      "state": {
       "bar_style": "success",
       "description": "Collating Contents: 100%",
       "layout": "IPY_MODEL_6e1d4104677f4d70834805b2c7f6c7b2",
       "max": 3014,
       "style": "IPY_MODEL_fc90d6766e94440a925b59e9bbe73898",
       "value": 3014
      }
     },
     "dfe936e1f1974b44a40618d1d3009137": {
      "model_module": "@jupyter-widgets/controls",
      "model_module_version": "1.5.0",
      "model_name": "HBoxModel",
      "state": {
       "children": [
        "IPY_MODEL_28711f44e24f4cf88cf1a6abe2b286c2",
        "IPY_MODEL_f4f86cc632204ec49c0fd9d3d444373e"
       ],
       "layout": "IPY_MODEL_197feccd4cdc40b4afcfbb83b37ad4f2"
      }
     },
     "e3c9504f14e04776abf5c78e0dd6d692": {
      "model_module": "@jupyter-widgets/controls",
      "model_module_version": "1.5.0",
      "model_name": "HTMLModel",
      "state": {
       "layout": "IPY_MODEL_8a58522929b04bae9326f1885bdd91fe",
       "style": "IPY_MODEL_6d04c5ca0e0645f5b3d6e7ea2909b7db",
       "value": " 3014/3014 [02:33&lt;00:00, 19.63it/s]"
      }
     },
     "e6654488e7e2479685a77c6a0ba12032": {
      "model_module": "@jupyter-widgets/controls",
      "model_module_version": "1.5.0",
      "model_name": "DescriptionStyleModel",
      "state": {
       "description_width": ""
      }
     },
     "f20ea1dbd4bb41649669ec59b6e640e7": {
      "model_module": "@jupyter-widgets/controls",
      "model_module_version": "1.5.0",
      "model_name": "DescriptionStyleModel",
      "state": {
       "description_width": ""
      }
     },
     "f4f86cc632204ec49c0fd9d3d444373e": {
      "model_module": "@jupyter-widgets/controls",
      "model_module_version": "1.5.0",
      "model_name": "HTMLModel",
      "state": {
       "layout": "IPY_MODEL_8cb269a2cd9349529c9be8d286280258",
       "style": "IPY_MODEL_e6654488e7e2479685a77c6a0ba12032",
       "value": " 10/10 [00:00&lt;00:00, 22.79it/s]"
      }
     },
     "faee024b0f6542d9b99d5735a478755e": {
      "model_module": "@jupyter-widgets/base",
      "model_module_version": "1.2.0",
      "model_name": "LayoutModel",
      "state": {}
     },
     "fc90d6766e94440a925b59e9bbe73898": {
      "model_module": "@jupyter-widgets/controls",
      "model_module_version": "1.5.0",
      "model_name": "ProgressStyleModel",
      "state": {
       "description_width": "initial"
      }
     },
     "fde78523d9d841c2b4b5be8a77092ceb": {
      "model_module": "@jupyter-widgets/base",
      "model_module_version": "1.2.0",
      "model_name": "LayoutModel",
      "state": {}
     },
     "ff5ba60b14254960890a665fd0a91d47": {
      "model_module": "@jupyter-widgets/base",
      "model_module_version": "1.2.0",
      "model_name": "LayoutModel",
      "state": {}
     }
    },
    "version_major": 2,
    "version_minor": 0
   }
  }
 },
 "nbformat": 4,
 "nbformat_minor": 4
}
