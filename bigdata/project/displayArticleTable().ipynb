{
 "cells": [
  {
   "cell_type": "code",
   "execution_count": 21,
   "metadata": {},
   "outputs": [
    {
     "name": "stdout",
     "output_type": "stream",
     "text": [
      "D:\\Janice\\github\\UvA-Papers\\bigdata\\project\\rssreader\n"
     ]
    }
   ],
   "source": [
    "cd D:\\\\Janice\\\\github\\\\UvA-Papers\\\\bigdata\\\\project\\\\rssreader"
   ]
  },
  {
   "cell_type": "code",
   "execution_count": 31,
   "metadata": {},
   "outputs": [],
   "source": [
    "import importlib\n",
    "#importlib.import_module(\"rssreader.reader\")\n",
    "importlib.import_module(\"reader\")\n",
    "from reader import *\n",
    "from tqdm import tqdm"
   ]
  },
  {
   "cell_type": "code",
   "execution_count": 32,
   "metadata": {},
   "outputs": [
    {
     "name": "stdout",
     "output_type": "stream",
     "text": [
      "loading file:  ../rssreader/data\\feed15052020_144203.pickle\n",
      "loading file:  ../rssreader/data\\feed16052020_010028.pickle\n",
      "loading file:  ../rssreader/data\\feed16052020_124115.pickle\n",
      "loading file:  ../rssreader/data\\feed16052020_205529.pickle\n"
     ]
    }
   ],
   "source": [
    "a=loadAllFeedsFromFile()"
   ]
  },
  {
   "cell_type": "code",
   "execution_count": 33,
   "metadata": {},
   "outputs": [
    {
     "data": {
      "application/vnd.jupyter.widget-view+json": {
       "model_id": "283ab100d6e64cf98fe3844210c2a982",
       "version_major": 2,
       "version_minor": 0
      },
      "text/plain": [
       "HBox(children=(Output(),))"
      ]
     },
     "metadata": {},
     "output_type": "display_data"
    }
   ],
   "source": [
    "summarizeItems(a)"
   ]
  },
  {
   "cell_type": "code",
   "execution_count": 37,
   "metadata": {},
   "outputs": [
    {
     "ename": "SyntaxError",
     "evalue": "invalid syntax (<ipython-input-37-537f5db8fdf5>, line 6)",
     "output_type": "error",
     "traceback": [
      "\u001b[1;36m  File \u001b[1;32m\"<ipython-input-37-537f5db8fdf5>\"\u001b[1;36m, line \u001b[1;32m6\u001b[0m\n\u001b[1;33m    tqdm for uid, val  in dict1.items():\u001b[0m\n\u001b[1;37m           ^\u001b[0m\n\u001b[1;31mSyntaxError\u001b[0m\u001b[1;31m:\u001b[0m invalid syntax\n"
     ]
    }
   ],
   "source": [
    "dict1 =a\n",
    "storyTitle=[]\n",
    "feedNames=[]\n",
    "contentType=[]\n",
    "\n",
    "for uid, val  in dict1.items():\n",
    "    # print(\"processing\", uid)\n",
    "    if hasattr(val , \"content\"):\n",
    "        contentType.append(\"Content\")\n",
    "        storyTitle.append(val.title)\n",
    "        feedNames.append(val.feed_name)\n",
    "    elif hasattr(val , \"summary_detail\"):\n",
    "        contentType.append(\"Summary\")\n",
    "        storyTitle.append(val.title)\n",
    "        feedNames.append(val.feed_name)\n",
    "\n",
    "# print(len(feedNames), len(storyTitle), len(contentType))\n",
    "outDict={\"Source\":feedNames, \"Title\":storyTitle, \"Content\":contentType}"
   ]
  },
  {
   "cell_type": "code",
   "execution_count": 26,
   "metadata": {},
   "outputs": [
    {
     "data": {
      "application/vnd.jupyter.widget-view+json": {
       "model_id": "1fdd66cd244f4c5c839bed7182a85df5",
       "version_major": 2,
       "version_minor": 0
      },
      "text/plain": [
       "HBox(children=(Output(),))"
      ]
     },
     "metadata": {},
     "output_type": "display_data"
    }
   ],
   "source": [
    "# table=outputSummary(outDict)\n",
    "pd.set_option('display.max_rows', None)\n",
    "pd.set_option('display.max_columns', 40)\n",
    "pd.set_option('display.width', None)\n",
    "pd.set_option('display.max_colwidth', 80)\n",
    "# sample data\n",
    "df1 = pd.DataFrame(outDict)\n",
    "\n",
    "# create output widgets\n",
    "widget1 = widgets.Output()\n",
    "\n",
    "# render in output widgets\n",
    "with widget1:\n",
    "    display.display(df1)\n",
    "\n",
    "# create HBox\n",
    "hbox = widgets.HBox([widget1])\n",
    "hbox"
   ]
  },
  {
   "cell_type": "code",
   "execution_count": 28,
   "metadata": {},
   "outputs": [
    {
     "ename": "TqdmKeyError",
     "evalue": "\"Unknown argument(s): {'table': HBox(children=(Output(),))}\"",
     "output_type": "error",
     "traceback": [
      "\u001b[1;31m---------------------------------------------------------------------------\u001b[0m",
      "\u001b[1;31mTqdmKeyError\u001b[0m                              Traceback (most recent call last)",
      "\u001b[1;32m<ipython-input-28-b4f88a9b8985>\u001b[0m in \u001b[0;36m<module>\u001b[1;34m\u001b[0m\n\u001b[1;32m----> 1\u001b[1;33m \u001b[0mtqdm\u001b[0m\u001b[1;33m(\u001b[0m\u001b[0mtable\u001b[0m\u001b[1;33m=\u001b[0m\u001b[0moutputSummary\u001b[0m\u001b[1;33m(\u001b[0m\u001b[0moutDict\u001b[0m\u001b[1;33m)\u001b[0m\u001b[1;33m)\u001b[0m\u001b[1;33m\u001b[0m\u001b[1;33m\u001b[0m\u001b[0m\n\u001b[0m",
      "\u001b[1;32mD:\\Janice\\anaconda3\\lib\\site-packages\\tqdm\\std.py\u001b[0m in \u001b[0;36m__init__\u001b[1;34m(self, iterable, desc, total, leave, file, ncols, mininterval, maxinterval, miniters, ascii, disable, unit, unit_scale, dynamic_ncols, smoothing, bar_format, initial, position, postfix, unit_divisor, write_bytes, lock_args, nrows, gui, **kwargs)\u001b[0m\n\u001b[0;32m    961\u001b[0m                     fp_write=getattr(file, 'write', sys.stderr.write))\n\u001b[0;32m    962\u001b[0m                 \u001b[1;32mif\u001b[0m \u001b[1;34m\"nested\"\u001b[0m \u001b[1;32min\u001b[0m \u001b[0mkwargs\u001b[0m \u001b[1;32melse\u001b[0m\u001b[1;33m\u001b[0m\u001b[1;33m\u001b[0m\u001b[0m\n\u001b[1;32m--> 963\u001b[1;33m                 TqdmKeyError(\"Unknown argument(s): \" + str(kwargs)))\n\u001b[0m\u001b[0;32m    964\u001b[0m \u001b[1;33m\u001b[0m\u001b[0m\n\u001b[0;32m    965\u001b[0m         \u001b[1;31m# Preprocess the arguments\u001b[0m\u001b[1;33m\u001b[0m\u001b[1;33m\u001b[0m\u001b[1;33m\u001b[0m\u001b[0m\n",
      "\u001b[1;31mTqdmKeyError\u001b[0m: \"Unknown argument(s): {'table': HBox(children=(Output(),))}\""
     ]
    }
   ],
   "source": [
    "tqdm(table=outputSummary(outDict))"
   ]
  },
  {
   "cell_type": "code",
   "execution_count": 30,
   "metadata": {},
   "outputs": [
    {
     "name": "stderr",
     "output_type": "stream",
     "text": [
      "\r",
      "0it [00:00, ?it/s]"
     ]
    },
    {
     "name": "stdout",
     "output_type": "stream",
     "text": [
      "x\n"
     ]
    },
    {
     "data": {
      "text/plain": [
       "0it [00:00, ?it/s]"
      ]
     },
     "execution_count": 30,
     "metadata": {},
     "output_type": "execute_result"
    }
   ],
   "source": [
    "tqdm(print (\"x\"))\n"
   ]
  },
  {
   "cell_type": "code",
   "execution_count": null,
   "metadata": {},
   "outputs": [],
   "source": []
  }
 ],
 "metadata": {
  "kernelspec": {
   "display_name": "Python 3",
   "language": "python",
   "name": "python3"
  },
  "language_info": {
   "codemirror_mode": {
    "name": "ipython",
    "version": 3
   },
   "file_extension": ".py",
   "mimetype": "text/x-python",
   "name": "python",
   "nbconvert_exporter": "python",
   "pygments_lexer": "ipython3",
   "version": "3.7.6"
  }
 },
 "nbformat": 4,
 "nbformat_minor": 4
}
