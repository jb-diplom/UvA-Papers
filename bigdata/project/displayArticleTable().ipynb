{
 "cells": [
  {
   "cell_type": "code",
   "execution_count": 1,
   "metadata": {},
   "outputs": [
    {
     "name": "stdout",
     "output_type": "stream",
     "text": [
      "D:\\Janice\\github\\UvA-Papers\\bigdata\\project\\rssreader\n"
     ]
    }
   ],
   "source": [
    "cd D:\\\\Janice\\\\github\\\\UvA-Papers\\\\bigdata\\\\project\\\\rssreader"
   ]
  },
  {
   "cell_type": "code",
   "execution_count": 7,
   "metadata": {},
   "outputs": [],
   "source": [
    "import importlib\n",
    "#importlib.import_module(\"rssreader.reader\")\n",
    "importlib.import_module(\"reader\")\n",
    "from reader import *"
   ]
  },
  {
   "cell_type": "code",
   "execution_count": null,
   "metadata": {},
   "outputs": [
    {
     "name": "stdout",
     "output_type": "stream",
     "text": [
      "loading file:  ../rssreader/data\\feed15052020_144203.pickle\n",
      "loading file:  ../rssreader/data\\feed16052020_010028.pickle\n",
      "loading file:  ../rssreader/data\\feed16052020_124115.pickle\n"
     ]
    }
   ],
   "source": [
    "a=loadAllFeedsFromFile()"
   ]
  },
  {
   "cell_type": "code",
   "execution_count": 4,
   "metadata": {},
   "outputs": [
    {
     "data": {
      "application/vnd.jupyter.widget-view+json": {
       "model_id": "3685fa89bbf042289d1b852a3840d69c",
       "version_major": 2,
       "version_minor": 0
      },
      "text/plain": [
       "HBox(children=(Output(),))"
      ]
     },
     "metadata": {},
     "output_type": "display_data"
    }
   ],
   "source": [
    "summarizeItems(a)"
   ]
  },
  {
   "cell_type": "code",
   "execution_count": 5,
   "metadata": {},
   "outputs": [],
   "source": [
    "dict1 =a\n",
    "storyTitle=[]\n",
    "feedNames=[]\n",
    "contentType=[]\n",
    "\n",
    "for uid, val  in dict1.items():\n",
    "    # print(\"processing\", uid)\n",
    "    if hasattr(val , \"content\"):\n",
    "        contentType.append(\"Content\")\n",
    "        storyTitle.append(val.title)\n",
    "        feedNames.append(val.feed_name)\n",
    "    elif hasattr(val , \"summary_detail\"):\n",
    "        contentType.append(\"Summary\")\n",
    "        storyTitle.append(val.title)\n",
    "        feedNames.append(val.feed_name)\n",
    "\n",
    "# print(len(feedNames), len(storyTitle), len(contentType))\n",
    "outDict={\"Source\":feedNames, \"Title\":storyTitle, \"Content\":contentType}"
   ]
  },
  {
   "cell_type": "code",
   "execution_count": 6,
   "metadata": {},
   "outputs": [
    {
     "data": {
      "application/vnd.jupyter.widget-view+json": {
       "model_id": "9bdacacb884847d3a834c47117f9fc07",
       "version_major": 2,
       "version_minor": 0
      },
      "text/plain": [
       "HBox(children=(Output(),))"
      ]
     },
     "metadata": {},
     "output_type": "display_data"
    }
   ],
   "source": [
    "# table=outputSummary(outDict)\n",
    "pd.set_option('display.max_rows', None)\n",
    "pd.set_option('display.max_columns', 40)\n",
    "pd.set_option('display.width', None)\n",
    "pd.set_option('display.max_colwidth', 80)\n",
    "# sample data\n",
    "df1 = pd.DataFrame(outDict)\n",
    "\n",
    "# create output widgets\n",
    "widget1 = widgets.Output()\n",
    "\n",
    "# render in output widgets\n",
    "with widget1:\n",
    "    display.display(df1)\n",
    "\n",
    "# create HBox\n",
    "hbox = widgets.HBox([widget1])\n",
    "hbox"
   ]
  },
  {
   "cell_type": "code",
   "execution_count": 9,
   "metadata": {},
   "outputs": [],
   "source": [
    "table=outputSummary(outDict)"
   ]
  },
  {
   "cell_type": "code",
   "execution_count": 10,
   "metadata": {},
   "outputs": [
    {
     "data": {
      "application/vnd.jupyter.widget-view+json": {
       "model_id": "3e1ca6c2d0214ef5af0defac99f35407",
       "version_major": 2,
       "version_minor": 0
      },
      "text/plain": [
       "HBox(children=(Output(outputs=({'output_type': 'display_data', 'data': {'text/plain': '                Source …"
      ]
     },
     "metadata": {},
     "output_type": "display_data"
    }
   ],
   "source": [
    "table"
   ]
  },
  {
   "cell_type": "code",
   "execution_count": null,
   "metadata": {},
   "outputs": [],
   "source": []
  }
 ],
 "metadata": {
  "kernelspec": {
   "display_name": "Python 3",
   "language": "python",
   "name": "python3"
  },
  "language_info": {
   "codemirror_mode": {
    "name": "ipython",
    "version": 3
   },
   "file_extension": ".py",
   "mimetype": "text/x-python",
   "name": "python",
   "nbconvert_exporter": "python",
   "pygments_lexer": "ipython3",
   "version": "3.7.6"
  }
 },
 "nbformat": 4,
 "nbformat_minor": 4
}
