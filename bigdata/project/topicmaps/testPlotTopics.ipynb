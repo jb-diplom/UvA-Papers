{
 "cells": [
  {
   "cell_type": "code",
   "execution_count": 9,
   "metadata": {},
   "outputs": [
    {
     "data": {
      "text/plain": [
       "'D:\\\\Janice\\\\github\\\\UvA-Papers\\\\bigdata\\\\project\\\\rssreader'"
      ]
     },
     "execution_count": 9,
     "metadata": {},
     "output_type": "execute_result"
    }
   ],
   "source": [
    "pwd"
   ]
  },
  {
   "cell_type": "code",
   "execution_count": 10,
   "metadata": {},
   "outputs": [],
   "source": [
    "import importlib\n",
    "importlib.import_module(\"topicmap\")\n",
    "from topicmap import *"
   ]
  },
  {
   "cell_type": "code",
   "execution_count": 1,
   "metadata": {},
   "outputs": [
    {
     "name": "stdout",
     "output_type": "stream",
     "text": [
      "D:\\Janice\\github\\UvA-Papers\\bigdata\\project\\rssreader\n"
     ]
    }
   ],
   "source": [
    "cd D:\\\\Janice\\\\github\\\\UvA-Papers\\\\bigdata\\\\project\\\\rssreader"
   ]
  },
  {
   "cell_type": "code",
   "execution_count": 2,
   "metadata": {},
   "outputs": [],
   "source": [
    "import importlib\n",
    "#importlib.import_module(\"rssreader.reader\")\n",
    "importlib.import_module(\"reader\")\n",
    "from reader import *\n"
   ]
  },
  {
   "cell_type": "code",
   "execution_count": 3,
   "metadata": {},
   "outputs": [
    {
     "name": "stdout",
     "output_type": "stream",
     "text": [
      "loading file:  ../rssreader/data\\feed03052020_224618.pickle\n",
      "loading file:  ../rssreader/data\\feed04052020_141400.pickle\n",
      "loading file:  ../rssreader/data\\feed04052020_172110.pickle\n",
      "loading file:  ../rssreader/data\\feed04052020_212701.pickle\n",
      "loading file:  ../rssreader/data\\feed04052020_223016.pickle\n",
      "loading file:  ../rssreader/data\\feed05052020_143611.pickle\n",
      "loading file:  ../rssreader/data\\feed05052020_215721.pickle\n",
      "loading file:  ../rssreader/data\\feed06052020_073453.pickle\n",
      "loading file:  ../rssreader/data\\feed06052020_205928.pickle\n",
      "loading file:  ../rssreader/data\\feed08052020_203416.pickle\n",
      "loading file:  ../rssreader/data\\feed09052020_142041.pickle\n"
     ]
    }
   ],
   "source": [
    "a=loadAllFeedsFromFile()"
   ]
  },
  {
   "cell_type": "code",
   "execution_count": 4,
   "metadata": {},
   "outputs": [],
   "source": [
    "summarizeItems(a)"
   ]
  },
  {
   "cell_type": "code",
   "execution_count": 5,
   "metadata": {},
   "outputs": [],
   "source": [
    "dict1 =a\n",
    "storyTitle=[]\n",
    "feedNames=[]\n",
    "contentType=[]\n",
    "\n",
    "for uid, val  in dict1.items():\n",
    "    # print(\"processing\", uid)\n",
    "    if hasattr(val , \"content\"):\n",
    "        contentType.append(\"Content\")\n",
    "        storyTitle.append(val.title)\n",
    "        feedNames.append(val.feed_name)\n",
    "    elif hasattr(val , \"summary_detail\"):\n",
    "        contentType.append(\"Summary\")\n",
    "        storyTitle.append(val.title)\n",
    "        feedNames.append(val.feed_name)\n",
    "\n",
    "# print(len(feedNames), len(storyTitle), len(contentType))\n",
    "outDict={\"Source\":feedNames, \"Title\":storyTitle, \"Content\":contentType}"
   ]
  },
  {
   "cell_type": "code",
   "execution_count": 18,
   "metadata": {},
   "outputs": [
    {
     "data": {
      "application/vnd.jupyter.widget-view+json": {
       "model_id": "cbc0e6d523884cc99ba7c73a77bc0ba6",
       "version_major": 2,
       "version_minor": 0
      },
      "text/plain": [
       "HBox(children=(Output(),))"
      ]
     },
     "metadata": {},
     "output_type": "display_data"
    }
   ],
   "source": [
    "# table=outputSummary(outDict)\n",
    "pd.set_option('display.max_rows', None)\n",
    "pd.set_option('display.max_columns', 40)\n",
    "pd.set_option('display.width', None)\n",
    "pd.set_option('display.max_colwidth', 80)\n",
    "# sample data\n",
    "df1 = pd.DataFrame(outDict)\n",
    "\n",
    "# create output widgets\n",
    "widget1 = widgets.Output()\n",
    "\n",
    "# render in output widgets\n",
    "with widget1:\n",
    "    display.display(df1)\n",
    "\n",
    "# create HBox\n",
    "hbox = widgets.HBox([widget1])\n",
    "hbox"
   ]
  },
  {
   "cell_type": "code",
   "execution_count": 9,
   "metadata": {},
   "outputs": [],
   "source": [
    "table=outputSummary(outDict)"
   ]
  },
  {
   "cell_type": "code",
   "execution_count": 10,
   "metadata": {},
   "outputs": [
    {
     "data": {
      "application/vnd.jupyter.widget-view+json": {
       "model_id": "3e1ca6c2d0214ef5af0defac99f35407",
       "version_major": 2,
       "version_minor": 0
      },
      "text/plain": [
       "HBox(children=(Output(outputs=({'output_type': 'display_data', 'data': {'text/plain': '                Source …"
      ]
     },
     "metadata": {},
     "output_type": "display_data"
    }
   ],
   "source": [
    "table"
   ]
  },
  {
   "cell_type": "code",
   "execution_count": null,
   "metadata": {},
   "outputs": [],
   "source": []
  }
 ],
 "metadata": {
  "kernelspec": {
   "display_name": "Python 3",
   "language": "python",
   "name": "python3"
  },
  "language_info": {
   "codemirror_mode": {
    "name": "ipython",
    "version": 3
   },
   "file_extension": ".py",
   "mimetype": "text/x-python",
   "name": "python",
   "nbconvert_exporter": "python",
   "pygments_lexer": "ipython3",
   "version": "3.7.6"
  }
 },
 "nbformat": 4,
 "nbformat_minor": 4
}
