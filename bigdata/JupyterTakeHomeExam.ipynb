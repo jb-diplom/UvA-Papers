{
 "cells": [
  {
   "cell_type": "markdown",
   "metadata": {},
   "source": [
    "# Introduction"
   ]
  },
  {
   "cell_type": "markdown",
   "metadata": {},
   "source": [
    "The data file is an RSS feed from the BBC Northern Ireland website.\n",
    "Articles were taken from two main topics, sports and news. The file is in a JSON format. \n",
    "\n",
    "The data contains a list containing complex collections of data (See: Analysis of data types below) : \n",
    "- the “_id” in the form of a string, \n",
    "- the “_index”\n",
    "- the “_score”\n",
    "- ”_source” and \n",
    "- “sort”.\n",
    "\n",
    "The “_source”, in the form of a dictionary, contains several further lists, among them the “titles_rss” and “teasers_rss” from these the Titles and the Teasers of the corresponding articles could be extracted. The titles and teasers were used to display  two histograms of the ten most frequent used words and a sample of the titles and teasers are displayed as well, since there were 60 in total, which would have been too many to print in total. \n",
    "\n",
    "In the “_source” the dictionary “metadata” can also be found, which in turn contains the “htmlsource” code. In the htmlsource code part of the code named _byline_ was used to find the author of the articles and the most prolific of them are listed below together with the number of articles they wrote. Though not all of the articles had authors listed.\n",
    "\n",
    "The dates were extracted from the dictionary “_source” under the list “publication_dates”. In order to facilitate a comparison of the articles only the year, month and day were extracted not using the time the article was published. Some of the data was present in multiple dictionaries such as the title being in dictionary “_source” but also in its subset “htmlsource”. Due to this occurrence it was attempted to always use the higher level of a dictionary and not delve deeper into lists of dictionaries. Other lists were on the same level but provided similar information such as url compared to Some lists were not at all used as they contained little value of information such as the list “sort”. "
   ]
  },
  {
   "cell_type": "markdown",
   "metadata": {},
   "source": [
    "## Reading the data and summary of titles and teasers"
   ]
  },
  {
   "cell_type": "code",
   "execution_count": 2,
   "metadata": {},
   "outputs": [
    {
     "name": "stdout",
     "output_type": "stream",
     "text": [
      "\n",
      "------------------------------------------------------------------------------------------------ \n",
      "A sample of the titles\n",
      " \n",
      "------------------------------------------------------------------------------------------------\n",
      "Year in pictures: Part 2\n",
      "77 'paedophile hunter' cases investigated by PSNI\n",
      "Irish Hockey League: Glenanne beat Lisnagarvey to clinch title\n",
      "Game of Thrones lands special Bafta award\n",
      "Holywood crash: Police want help to identify injured teen\n",
      "New Year Honours 2018: Beckett and Moss awarded MBEs\n",
      "Irish horse Tiger Roll wins Grand National\n",
      "Northern Ireland forecast\n",
      "Ulster University withdraws status from Prof Richard Lynn\n",
      "Inzamam's nephew Imam-ul-Haq named in Pakistan Test squad\n",
      "\n",
      " \n",
      "------------------------------------------------------------------------------------------------ \n",
      "A sample of the teasers\n",
      " \n",
      "------------------------------------------------------------------------------------------------\n",
      "A selection of BBC News NI's year in pictures from April to June 2017\n",
      "A team of detectives is looking into cases brought to their attention by so-called paedophile hunters.\n",
      "Glenanne are crowned Irish Hockey League champions for the first time after a 4-2 win over Lisnagarvey on Saturday.\n",
      "The show will be honoured at this year's Bafta Craft awards, which honour behind the scenes crew.\n",
      "The teenager is seriously injured after being struck by a car near a train station on Monday night.\n",
      "Northern Ireland pair Liam Beckett and Michael Moss become MBEs in the New Year Honours.\n",
      "Tiger Roll wins the Grand National in a photo finish from fellow Irish challenger Pleasant Company after a dramatic late rally from the runner-up.\n",
      "Northern Ireland weather forecast\n",
      "Prof Richard Lynn has argued that men have a higher average IQ than women.\n",
      "Pakistan name four uncapped batsmen, including Inzamam-ul-Haq's nephew Imam, in their Test squad to tour Ireland and England.\n"
     ]
    }
   ],
   "source": [
    "#%% open and read in data and take a look at the first 10 lines\n",
    "import json\n",
    "with open (\"takehome60.json\", mode=\"r\", encoding= \"utf-8\") as file:\n",
    "    data = json.load(file)\n",
    " \n",
    "data_short= data[:10]\n",
    "\n",
    "separator=\"\\n------------------------------------------------------------------------------------------------\"\n",
    "#%% print titles and teasers \n",
    "titles = []\n",
    "teasers = []\n",
    "for element in data:\n",
    "    titles.append(element[\"_source\"][\"title_rss\"])\n",
    "    teasers.append (element[\"_source\"][\"teaser_rss\"])\n",
    "\n",
    "print(separator, \"\\nA sample of the titles\\n\", separator)\n",
    "for each_title in  titles[:10]:\n",
    "        print (each_title)\n",
    "\n",
    "print(\"\\n\",separator, \"\\nA sample of the teasers\\n\", separator)\n",
    "for each_teaser in  teasers[:10]:\n",
    "        print (each_teaser)"
   ]
  },
  {
   "cell_type": "markdown",
   "metadata": {},
   "source": [
    "## Analysis of data types"
   ]
  },
  {
   "cell_type": "code",
   "execution_count": 3,
   "metadata": {},
   "outputs": [
    {
     "data": {
      "application/vnd.jupyter.widget-view+json": {
       "model_id": "e209f1288f69440e80ec1c1ed4a55221",
       "version_major": 2,
       "version_minor": 0
      },
      "text/plain": [
       "HBox(children=(Output(),))"
      ]
     },
     "metadata": {},
     "output_type": "display_data"
    }
   ],
   "source": [
    "#%% type of data\n",
    "data_type = {}\n",
    "keys=[]\n",
    "types=[]\n",
    "\n",
    "for element in data:\n",
    "    for key,value in element.items():\n",
    "            if not(key in keys):\n",
    "                keys.append(key)\n",
    "                types.append(type(value).__name__)        \n",
    "                if isinstance(value,dict):\n",
    "                    for key1, val1 in value.items():\n",
    "                        if not(key1 in keys):\n",
    "                            keys.append(str(key)+\".\"+ str(key1))\n",
    "                            types.append(type(val1).__name__)        \n",
    "                        if isinstance(val1,dict):\n",
    "                            for key2, val2 in val1.items():\n",
    "                                if not(key2 in keys):\n",
    "                                    keys.append(str(key)+\".\"+ str(key1)+\".\"+ str(key2))\n",
    "                                    types.append (type(val2).__name__)\n",
    "                            \n",
    "import ipywidgets as widgets\n",
    "from IPython import display\n",
    "import pandas as pd\n",
    "\n",
    "# sample data\n",
    "df1 = pd.DataFrame({\"Item\": keys, \"Type\":types  })\n",
    "widget1 = widgets.Output()\n",
    "\n",
    "# render in output widgets\n",
    "with widget1:\n",
    "    display.display(df1)\n",
    "\n",
    "# create HBox\n",
    "hbox = widgets.HBox([widget1])\n",
    "\n",
    "# render hbox\n",
    "hbox"
   ]
  },
  {
   "cell_type": "markdown",
   "metadata": {},
   "source": [
    "## frequency of words (excluding stop words) in titles and teasers"
   ]
  },
  {
   "cell_type": "code",
   "execution_count": 4,
   "metadata": {},
   "outputs": [
    {
     "name": "stdout",
     "output_type": "stream",
     "text": [
      "\n",
      "------------------------------------------------------------------------------------------------ \n",
      "These are the 10 most frequent words used in titles:\n",
      " \n",
      "------------------------------------------------------------------------------------------------ \n",
      " [('ni', 10), ('man', 6), ('ireland', 4), ('ulster', 4), ('paper', 4), ('review:', 4), ('belfast', 4), ('league:', 3), ('injured', 3), ('wins', 3)]\n",
      "\n",
      "------------------------------------------------------------------------------------------------ \n",
      "These are the most frequent words used in teasers: \n",
      "------------------------------------------------------------------------------------------------ [('ireland', 9), ('northern', 8), ('says', 6), ('saturday', 6), ('league', 4), ('belfast', 4), ('victory', 4), ('win', 3), ('public', 3), ('game', 3)]\n"
     ]
    }
   ],
   "source": [
    "#%% frequency of words (excluding stop words) in titles and teasers\n",
    "\n",
    "import spacy\n",
    "sp = spacy.load('en_core_web_sm')\n",
    "all_stopwords = sp.Defaults.stop_words\n",
    "\n",
    "from collections import Counter\n",
    "\n",
    "allwords_titles=[]\n",
    "\n",
    "#TODO: Should really remove superfluous punctuation marks from values\n",
    "for value in titles:\n",
    "    tokenized=[val.lower() for val in value.split()]\n",
    "    allwords_titles.extend([word for word in tokenized if not word in all_stopwords])\n",
    "    \n",
    "c_titles=Counter(allwords_titles)\n",
    "print(separator,\"\\nThese are the 10 most frequent words used in titles:\\n\", \n",
    "      separator,\"\\n\",c_titles.most_common(10))\n",
    "\n",
    "allwords_teasers = []\n",
    "for value in teasers:\n",
    "    tokenized=[val.lower() for val in value.split()]\n",
    "    allwords_teasers.extend([word for word in tokenized if not word in all_stopwords])\n",
    "    \n",
    "c_teaser=Counter(allwords_teasers)\n",
    "print(separator,\"\\nThese are the most frequent words used in teasers:\", \n",
    "      separator, c_teaser.most_common(10))\n"
   ]
  },
  {
   "cell_type": "markdown",
   "metadata": {},
   "source": [
    "## Visualization of Frequent Words in Titles in a Histogram"
   ]
  },
  {
   "cell_type": "code",
   "execution_count": 5,
   "metadata": {},
   "outputs": [
    {
     "data": {
      "image/png": "[encoded data removed]",
      "text/plain": [
       "<Figure size 1440x504 with 2 Axes>"
      ]
     },
     "metadata": {
      "needs_background": "light"
     },
     "output_type": "display_data"
    }
   ],
   "source": [
    "#%% Visualization of Frequent Words in Titles in a Histogram\n",
    "import pandas as pd\n",
    "import pandas as pd2\n",
    "import matplotlib.pyplot as plt\n",
    "\n",
    "fig = plt.figure(figsize=(20,7))\n",
    "\n",
    "# Divide the figure into a 2x1 grid, and give me the first section\n",
    "ax1 = fig.add_subplot(211)\n",
    "\n",
    "\n",
    "top10_titles = c_titles.most_common(10)\n",
    "x_titles=[]\n",
    "y_titles=[]\n",
    "for bars in top10_titles:\n",
    "    x_titles.append(bars[0])\n",
    "    y_titles.append(bars[1])\n",
    "\n",
    "pd.Series(y_titles,x_titles).plot(kind=\"barh\", \n",
    "                                  ylim=tuple([0,max(y_titles)*1.1]), \n",
    "                                  title = \"Frequency Counter of Words in Titles\")\n",
    "\n",
    "top10_teasers = c_teaser.most_common(10)\n",
    "# Divide the figure into a 2x1 grid, and give me the second section\n",
    "\n",
    "ax2 = fig.add_subplot(212)\n",
    "x_teaser=[]\n",
    "y_teaser=[]\n",
    "for bars_teaser in top10_teasers:\n",
    "    x_teaser.append(bars_teaser[0])\n",
    "    y_teaser.append(bars_teaser[1])\n",
    "\n",
    "pd2.Series(y_teaser,x_teaser).plot(kind=\"barh\",\n",
    "                                   ylim=tuple([0,max(y_teaser)*1.1]),\n",
    "                                   title = \"Frequency Counter of Words in Teasers\")\n",
    "\n",
    "fig.subplots_adjust(hspace=0.5, left=0.5) # do NOT ask how I chose these spacings :-)\n"
   ]
  },
  {
   "cell_type": "markdown",
   "metadata": {},
   "source": [
    "## Average lengths of the titles and teasers"
   ]
  },
  {
   "cell_type": "code",
   "execution_count": 6,
   "metadata": {},
   "outputs": [
    {
     "name": "stdout",
     "output_type": "stream",
     "text": [
      "\n",
      "------------------------------------------------------------------------------------------------ \n",
      "Some Statistics on the titles and teasers \n",
      "------------------------------------------------------------------------------------------------\n",
      "The number of titles is\t\t 60\n",
      "Average length of titles is\t 50.25\n",
      "The number of teasers is\t 60\n",
      "Average length of teasers is\t 102.83333333333333\n"
     ]
    }
   ],
   "source": [
    "#%% Average lengths of the titles and teasers\n",
    "\n",
    "#Titles\n",
    "print(separator, \"\\nSome Statistics on the titles and teasers\", separator)\n",
    "\n",
    "length_title=[]\n",
    "for characters in titles:\n",
    "    length_title.append(len(characters))\n",
    "\n",
    "print(\"The number of titles is\\t\\t\", len (length_title))\n",
    "print (\"Average length of titles is\\t\", sum(length_title)/len(length_title))\n",
    "\n",
    "#Teasers\n",
    "length_teaser=[]\n",
    "for words in teasers:\n",
    "    length_teaser.append(len(words))\n",
    "print(\"The number of teasers is\\t\", len (length_teaser))\n",
    "print (\"Average length of teasers is\\t\", sum(length_teaser)/len(length_teaser))"
   ]
  },
  {
   "cell_type": "markdown",
   "metadata": {},
   "source": [
    "## publication dates (by month and year)"
   ]
  },
  {
   "cell_type": "code",
   "execution_count": 7,
   "metadata": {},
   "outputs": [
    {
     "name": "stdout",
     "output_type": "stream",
     "text": [
      "\n",
      "------------------------------------------------------------------------------------------------ \n",
      "These are the publication dates of the articles: \n",
      "------------------------------------------------------------------------------------------------\n",
      "\t 1 \t 2018-04-14 Number of Dates:\t 8\n",
      "\t 2 \t 2017-12-29 Number of Dates:\t 4\n",
      "\t 3 \t 2018-01-10 Number of Dates:\t 4\n",
      "\t 4 \t 2017-12-19 Number of Dates:\t 4\n",
      "\t 5 \t 2017-12-21 Number of Dates:\t 4\n",
      "\t 6 \t 2018-04-16 Number of Dates:\t 3\n",
      "\t 7 \t 2018-04-15 Number of Dates:\t 3\n",
      "\t 8 \t 2017-12-27 Number of Dates:\t 3\n",
      "\t 9 \t 2017-12-22 Number of Dates:\t 3\n",
      "\t 10 \t 2018-01-06 Number of Dates:\t 3\n"
     ]
    }
   ],
   "source": [
    "   \n",
    "dates = []\n",
    "for publicationdate in data:\n",
    "    dates.append((publicationdate[\"_source\"][\"publication_date\"])[:10])\n",
    "    \n",
    "dates_short = dates[:10]\n",
    "print (separator, \"\\nThese are the publication dates of the articles:\", separator)\n",
    "dateCounter = Counter(dates)\n",
    "topDates = dateCounter.most_common(10)\n",
    "\n",
    "for dates in range(10):\n",
    "    print ( \"\\t\", \n",
    "           dates+1,\"\\t\",  \n",
    "           topDates[dates][0], \n",
    "           \"Number of Dates:\\t\",  \n",
    "           topDates[dates][1])\n"
   ]
  },
  {
   "cell_type": "markdown",
   "metadata": {},
   "source": [
    "## Analysis of Topics and Subtopics"
   ]
  },
  {
   "cell_type": "code",
   "execution_count": 8,
   "metadata": {},
   "outputs": [
    {
     "name": "stdout",
     "output_type": "stream",
     "text": [
      "\n",
      "------------------------------------------------------------------------------------------------ \n",
      "These are the most common topics: \n",
      "------------------------------------------------------------------------------------------------\n",
      "\t 1 news Number of different Topics:\t\t 41\n",
      "\t 2 sport Number of different Topics:\t\t 19\n",
      "\n",
      "------------------------------------------------------------------------------------------------ \n",
      "These are the most common subtopics: \n",
      "------------------------------------------------------------------------------------------------\n",
      "\t 1 football :\t\t 4\n",
      "\t 2 rugby-union :\t\t 3\n",
      "\t 3 northern-ireland :\t\t 2\n",
      "\t 4 horse-racing :\t\t 2\n",
      "\t 5 gaelic-games :\t\t 2\n"
     ]
    }
   ],
   "source": [
    "#%% URL's taken apart to get main and sub-subject e.g sport, news and hockey.\n",
    "    \n",
    "\n",
    "url_total = []\n",
    "main_topics = []\n",
    "sub_topics = []\n",
    "for url in data:\n",
    "    thisURL=url[\"_id\"]\n",
    "    url_total.append(url[\"_id\"])\n",
    "    sections=thisURL.split(\"/\")\n",
    "    main_topics.append(sections[3])\n",
    "    sub_topics.extend(sections[4:])\n",
    "    \n",
    "topicCounter=Counter(main_topics)\n",
    "topTopics=topicCounter.most_common(10)\n",
    "print ( separator,\"\\nThese are the most common topics:\",separator)\n",
    "for main_topics in range(2):\n",
    "    print ( \"\\t\", \n",
    "           main_topics+1,  \n",
    "           topTopics[main_topics][0], \n",
    "           \"Number of different Topics:\\t\\t\",  \n",
    "           topTopics[main_topics][1])\n",
    "\n",
    "print ( separator,\"\\nThese are the most common subtopics:\",separator)\n",
    "subtopicCounter=Counter(sub_topics)\n",
    "topSubtopics=subtopicCounter.most_common(5)\n",
    "for sub_topics in range(5):\n",
    "    print ( \"\\t\", \n",
    "           sub_topics+1,  \n",
    "           topSubtopics[sub_topics][0], \n",
    "           \":\\t\\t\",  \n",
    "           topSubtopics[sub_topics][1])    \n",
    "    "
   ]
  },
  {
   "cell_type": "markdown",
   "metadata": {},
   "source": [
    "## Authors of Articles"
   ]
  },
  {
   "cell_type": "code",
   "execution_count": 9,
   "metadata": {},
   "outputs": [
    {
     "name": "stdout",
     "output_type": "stream",
     "text": [
      "\n",
      "------------------------------------------------------------------------------------------------ \n",
      "These are the most prolific authors: \n",
      "------------------------------------------------------------------------------------------------\n",
      "\t 1 Robbie Meredith Number of Articles:\t 3\n",
      "\t 2 Niall Glynn Number of Articles:\t 3\n",
      "\t 3 John Campbell Number of Articles:\t 3\n",
      "\t 4 Rick Faragher Number of Articles:\t 1\n",
      "\t 5 Stephen Walker Number of Articles:\t 1\n",
      "\t 6 Vincent Kearney Number of Articles:\t 1\n",
      "\t 7 Tori Watson Number of Articles:\t 1\n",
      "\t 8 Julian O'Neill Number of Articles:\t 1\n",
      "\t 9 Conor Macauley Number of Articles:\t 1\n",
      "\t 10 Éamon Phoenix Number of Articles:\t 1\n"
     ]
    }
   ],
   "source": [
    "#%% Authors and the Frequency of them\n",
    "author = []\n",
    "authorDict={}\n",
    "\n",
    "for element in data:\n",
    "    try:        #since not all elements have a byline, try for a byline and if not there then jump over\n",
    "        bline=element[\"_source\"][\"byline\"]\n",
    "        auth=bline[3:]           \n",
    "        authorDict[element[\"_id\"]]=auth\n",
    "    except:\n",
    "        pass\n",
    "\n",
    "authCounter=Counter(authorDict.values())\n",
    "topAuthors=authCounter.most_common(10)\n",
    "\n",
    "print ( separator,\"\\nThese are the most prolific authors:\",separator)\n",
    "for journalist in range(10):\n",
    "    print ( \"\\t\", \n",
    "           journalist+1,  \n",
    "           topAuthors[journalist][0], \n",
    "           \"Number of Articles:\\t\",  \n",
    "           topAuthors[journalist][1])"
   ]
  }
 ],
 "metadata": {
  "kernelspec": {
   "display_name": "Python 3",
   "language": "python",
   "name": "python3"
  },
  "language_info": {
   "codemirror_mode": {
    "name": "ipython",
    "version": 3
   },
   "file_extension": ".py",
   "mimetype": "text/x-python",
   "name": "python",
   "nbconvert_exporter": "python",
   "pygments_lexer": "ipython3",
   "version": "3.7.6"
  }
 },
 "nbformat": 4,
 "nbformat_minor": 4
}
